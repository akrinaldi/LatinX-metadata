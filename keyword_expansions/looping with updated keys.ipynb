{
 "cells": [
  {
   "cell_type": "code",
   "execution_count": 10,
   "metadata": {},
   "outputs": [],
   "source": [
    "import json\n",
    "import glob\n",
    "import pandas as pd"
   ]
  },
  {
   "cell_type": "code",
   "execution_count": 2,
   "metadata": {},
   "outputs": [],
   "source": [
    "file_path = \"D:/LatinX-metadata/limitedyears/*/*\""
   ]
  },
  {
   "cell_type": "code",
   "execution_count": 3,
   "metadata": {},
   "outputs": [],
   "source": [
    "raw_outputs = glob.glob(file_path)\n",
    "\n",
    "empty = []"
   ]
  },
  {
   "cell_type": "code",
   "execution_count": 4,
   "metadata": {},
   "outputs": [],
   "source": [
    "for i in raw_outputs:\n",
    "    with open(i, \"rb\") as globd:\n",
    "        empty.append(json.load(globd))"
   ]
  },
  {
   "cell_type": "code",
   "execution_count": 5,
   "metadata": {},
   "outputs": [
    {
     "name": "stdout",
     "output_type": "stream",
     "text": [
      "12322\n"
     ]
    }
   ],
   "source": [
    "print(len(empty))"
   ]
  },
  {
   "cell_type": "code",
   "execution_count": 6,
   "metadata": {},
   "outputs": [],
   "source": [
    "for i in empty:\n",
    "    for key, value in i.items():\n",
    "        if key == \"search-results\" and \"Result set was empty\" in str(value):\n",
    "            empty.remove(i)"
   ]
  },
  {
   "cell_type": "code",
   "execution_count": 7,
   "metadata": {},
   "outputs": [
    {
     "name": "stdout",
     "output_type": "stream",
     "text": [
      "8528\n"
     ]
    }
   ],
   "source": [
    "print(len(empty))"
   ]
  },
  {
   "cell_type": "code",
   "execution_count": 13,
   "metadata": {},
   "outputs": [],
   "source": [
    "master_list = []\n",
    "lens = 0\n",
    "\n",
    "i=0\n",
    "while i<len(empty):\n",
    "    for key, value in empty[i].items():\n",
    "        for key2, value2 in value.items():\n",
    "            if key2 == \"entry\":\n",
    "                for val in value2:\n",
    "                    master_list.append(val)\n",
    "                    lens+=1\n",
    "                i+=1"
   ]
  },
  {
   "cell_type": "code",
   "execution_count": 55,
   "metadata": {},
   "outputs": [],
   "source": [
    "new_title_list = []\n",
    "new_dois_list = []\n",
    "a_dict = {}"
   ]
  },
  {
   "cell_type": "code",
   "execution_count": 56,
   "metadata": {},
   "outputs": [],
   "source": [
    "i=0\n",
    "while i<len(master_list):\n",
    "    for key, value in master_list[i].items():\n",
    "        if key == \"dc:title\" and value not in new_title_list:\n",
    "            new_title_list.append(value)\n",
    "            new_dois_list.append(master_list[i].get(\"prism:doi\"))\n",
    "            a_dict[master_list[i].get(\"prism:doi\")] = master_list[i].get(\"dc:title\")\n",
    "        else:\n",
    "            pass\n",
    "    i+=1    "
   ]
  },
  {
   "cell_type": "code",
   "execution_count": 54,
   "metadata": {},
   "outputs": [
    {
     "name": "stdout",
     "output_type": "stream",
     "text": [
      "151125\n"
     ]
    }
   ],
   "source": [
    "print(len(new_title_list))"
   ]
  },
  {
   "cell_type": "code",
   "execution_count": 53,
   "metadata": {},
   "outputs": [
    {
     "name": "stdout",
     "output_type": "stream",
     "text": [
      "151120\n"
     ]
    }
   ],
   "source": [
    "print(len(new_dois_list))"
   ]
  },
  {
   "cell_type": "code",
   "execution_count": 57,
   "metadata": {},
   "outputs": [],
   "source": [
    "kw_list = ['Argentinian American', 'Belizean American', 'Chicano American', 'Latino American', 'Latine', 'Bolivian American', 'Boricuas', 'Brazilian American', 'Chilean Americans', 'Colombian American', 'Costa Rican American', 'Costarisences', 'Cuban American', 'Dominican American', 'Ecuadorian American', 'Afro-Hispanic', 'Afro-Latino', 'Guatemalan American', 'Hispanic American', 'Hispanos', 'Honduran American', 'Mejicano', 'Mexican American', 'Nicaraguan American', 'Panamanean American', 'Paraguayan American', 'Peruvian American', 'Puerto Rican American', 'Salvadoran American', 'Tejano', 'Uruguayan American', 'Venezuelan American', 'Argentinian', 'Belizean', 'Chicanos', 'Latin American', 'Chicanas', 'Bolivians', 'Chicanx', 'Brazilians', 'Chileans', 'Colombian', 'Costa Rican', 'Latino', 'Cuban', 'Dominican', 'Ecuadorian', 'Latina', 'Afro-Latina', 'Guatemalan', 'Hispanic', 'Latinx', 'Honduran', 'Mexicano', 'Mexicans', 'Nicaraguan', 'Panamanean', 'Paraguayan', 'Peruvian', 'Puerto Rican', 'Salvadoran', 'Texano', 'Uruguayan', 'Venezuelan', 'Argentinos', 'Belizeanos', 'Bolivianos', 'Brasileños', 'Chilenos', 'Colombianos', 'Costarricences', 'Cubanos', 'Dominicanos', 'Ecuatorianos', 'Guatemaltecos', 'Mexican Americans', 'Hondureños', 'Nicaraguenses', 'Panameños', 'Paraguayos', 'Peruanos', 'Puertorriqueños', 'Salvadoreños', 'Uruguayos', 'Venezolanos', 'latinx', 'latina', 'latino', 'latine', 'hispanic', 'hispanos', 'Argentinian', 'Belizean', 'Chicano', 'Latino', 'Mexican', 'Nicaraguan', 'Panamanean', 'Paraguayan', 'Peruvian', 'Puerto Rican', 'Salvadoran', 'Uruguayan', 'Venezuelan', 'Honduran', 'Belize', 'Costa Rica', 'El Salvador', 'Guatemala', 'Honduras', 'Mexico', 'Nicaragua', 'Panama', 'Argentina', 'Bolivia', 'Brazil', 'Chile', 'Columbia', 'Ecuador', 'French Guiana', 'Guyana', 'Paraguay', 'Peru', 'Suriname', 'Uruguay', 'Venezuela', 'Cuba', 'Dominican Republic', 'Haiti', 'Guadeloupe', 'Martinique', 'Puerto Rico', 'Saint-Barthélemy', 'Saint-Martin', 'Saint Barthélemy', 'Saint Martin', 'Saint-Barthelemy', 'Saint Barthelemy', 'Brasilenos', 'Hondurenos', 'Panamenos', 'Puertorriquenos', 'Salvadorenos', 'Dominica', 'Latin', 'latin', 'South America', 'libro', 'información', 'bibliotecari', 'biblioteca', 'en linea', 'diario', 'periódico', 'publicación', 'obra de consulta', 'investigación', 'computerizdo', 'revista', 'diccionário', 'diccionario', 'circulación', 'circulacion', 'bibliográfia', 'bibliografia', 'biografía', 'biografia', 'catálogo', 'catalogo', 'enciclopedía', 'enciclopedia', 'computora', 'novela', 'impresión', 'impresion', 'catálogo', 'catalogo', 'latin-x', 'Latin-x', 'Latin-X', 'ARGENTINIAN AMERICAN', 'BELIZEAN AMERICAN', 'CHICANO AMERICAN', 'LATINO AMERICAN', 'LATINE', 'BOLIVIAN AMERICAN', 'BORICUAS', 'BRAZILIAN AMERICAN', 'CHILEAN AMERICANS', 'COLOMBIAN AMERICAN', 'COSTA RICAN AMERICAN', 'COSTARISENCES', 'CUBAN AMERICAN', 'DOMINICAN AMERICAN', 'ECUADORIAN AMERICAN', 'AFRO-HISPANIC', 'AFRO-LATINO', 'GUATEMALAN AMERICAN', 'HISPANIC AMERICAN', 'HISPANOS', 'HONDURAN AMERICAN', 'MEJICANO', 'MEXICAN AMERICAN', 'NICARAGUAN AMERICAN', 'PANAMANEAN AMERICAN', 'PARAGUAYAN AMERICAN', 'PERUVIAN AMERICAN', 'PUERTO RICAN AMERICAN', 'SALVADORAN AMERICAN', 'TEJANO', 'URUGUAYAN AMERICAN', 'VENEZUELAN AMERICAN', 'ARGENTINIAN', 'BELIZEAN', 'CHICANOS', 'LATIN AMERICAN', 'CHICANAS', 'BOLIVIANS', 'CHICANX', 'BRAZILIANS', 'CHILEANS', 'COLOMBIAN', 'COSTA RICAN', 'LATINO', 'CUBAN', 'DOMINICAN', 'ECUADORIAN', 'LATINA', 'AFRO-LATINA', 'GUATEMALAN', 'HISPANIC', 'LATINX', 'HONDURAN', 'MEXICANO', 'MEXICANS', 'NICARAGUAN', 'PANAMANEAN', 'PARAGUAYAN', 'PERUVIAN', 'PUERTO RICAN', 'SALVADORAN', 'TEXANO', 'URUGUAYAN', 'VENEZUELAN', 'ARGENTINOS', 'BELIZEANOS', 'BOLIVIANOS', 'BRASILEÑOS', 'CHILENOS', 'COLOMBIANOS', 'COSTARRICENCES', 'CUBANOS', 'DOMINICANOS', 'ECUATORIANOS', 'GUATEMALTECOS', 'MEXICAN AMERICANS', 'HONDUREÑOS', 'NICARAGUENSES', 'PANAMEÑOS', 'PARAGUAYOS', 'PERUANOS', 'PUERTORRIQUEÑOS', 'SALVADOREÑOS', 'URUGUAYOS', 'VENEZOLANOS', 'CHICANO', 'MEXICAN', 'BELIZE', 'COSTA RICA', 'EL SALVADOR', 'GUATEMALA', 'HONDURAS', 'MEXICO', 'NICARAGUA', 'PANAMA', 'ARGENTINA', 'BOLIVIA', 'BRAZIL', 'CHILE', 'COLUMBIA', 'ECUADOR', 'FRENCH GUIANA', 'GUYANA', 'PARAGUAY', 'PERU', 'SURINAME', 'URUGUAY', 'VENEZUELA', 'CUBA', 'DOMINICAN REPUBLIC', 'HAITI', 'GUADELOUPE', 'MARTINIQUE', 'PUERTO RICO', 'SAINT-BARTHÉLEMY', 'SAINT-MARTIN', 'SAINT BARTHÉLEMY', 'SAINT MARTIN', 'SAINT-BARTHELEMY', 'SAINT BARTHELEMY', 'BRASILENOS', 'HONDURENOS', 'PANAMENOS', 'PUERTORRIQUENOS', 'SALVADORENOS', 'DOMINICA', 'LATIN', 'SOUTH AMERICA', 'LIBRO', 'INFORMACIÓN', 'BIBLIOTECARI', 'BIBLIOTECA', 'EN LINEA', 'DIARIO', 'PERIÓDICO', 'PUBLICACIÓN', 'OBRA DE CONSULTA', 'INVESTIGACIÓN', 'COMPUTERIZDO', 'REVISTA', 'DICCIONÁRIO', 'DICCIONARIO', 'CIRCULACIÓN', 'CIRCULACION', 'BIBLIOGRÁFIA', 'BIBLIOGRAFIA', 'BIOGRAFÍA', 'BIOGRAFIA', 'CATÁLOGO', 'CATALOGO', 'ENCICLOPEDÍA', 'ENCICLOPEDIA', 'COMPUTORA', 'NOVELA', 'IMPRESIÓN', 'IMPRESION', 'LATIN-X', 'argentinian american', 'belizean american', 'chicano american', 'latino american', 'bolivian american', 'boricuas', 'brazilian american', 'chilean americans', 'colombian american', 'costa rican american', 'costarisences', 'cuban american', 'dominican american', 'ecuadorian american', 'afro-hispanic', 'afro-latino', 'guatemalan american', 'hispanic american', 'honduran american', 'mejicano', 'mexican american', 'nicaraguan american', 'panamanean american', 'paraguayan american', 'peruvian american', 'puerto rican american', 'salvadoran american', 'tejano', 'uruguayan american', 'venezuelan american', 'argentinian', 'belizean', 'chicanos', 'latin american', 'chicanas', 'bolivians', 'chicanx', 'brazilians', 'chileans', 'colombian', 'costa rican', 'cuban', 'dominican', 'ecuadorian', 'afro-latina', 'guatemalan', 'honduran', 'mexicano', 'mexicans', 'nicaraguan', 'panamanean', 'paraguayan', 'peruvian', 'puerto rican', 'salvadoran', 'texano', 'uruguayan', 'venezuelan', 'argentinos', 'belizeanos', 'bolivianos', 'brasileños', 'chilenos', 'colombianos', 'costarricences', 'cubanos', 'dominicanos', 'ecuatorianos', 'guatemaltecos', 'mexican americans', 'hondureños', 'nicaraguenses', 'panameños', 'paraguayos', 'peruanos', 'puertorriqueños', 'salvadoreños', 'uruguayos', 'venezolanos', 'chicano', 'mexican', 'belize', 'costa rica', 'el salvador', 'guatemala', 'honduras', 'mexico', 'nicaragua', 'panama', 'argentina', 'bolivia', 'brazil', 'chile', 'columbia', 'ecuador', 'french guiana', 'guyana', 'paraguay', 'peru', 'suriname', 'uruguay', 'venezuela', 'cuba', 'dominican republic', 'haiti', 'guadeloupe', 'martinique', 'puerto rico', 'saint-barthélemy', 'saint-martin', 'saint barthélemy', 'saint martin', 'saint-barthelemy', 'saint barthelemy', 'brasilenos', 'hondurenos', 'panamenos', 'puertorriquenos', 'salvadorenos', 'dominica', 'south america']"
   ]
  },
  {
   "cell_type": "code",
   "execution_count": 144,
   "metadata": {},
   "outputs": [],
   "source": [
    "handful_of_keys = ['Spanish', 'Espanol', 'Español', 'spanish', 'espanol', 'español', 'SPANISH', 'ESPANOL', 'ESPAÑOL','Português','Portuguese','PORTUGUESE','PORTUGUÊS','português','portuguese']"
   ]
  },
  {
   "cell_type": "code",
   "execution_count": 143,
   "metadata": {},
   "outputs": [
    {
     "name": "stdout",
     "output_type": "stream",
     "text": [
      "portuguese\n"
     ]
    }
   ],
   "source": [
    "print('Portuguese'.lower())"
   ]
  },
  {
   "cell_type": "code",
   "execution_count": 147,
   "metadata": {},
   "outputs": [],
   "source": [
    "spanish_kw = []\n",
    "spanish_titles = []\n",
    "\n",
    "i=0\n",
    "while i<len(handful_of_keys):\n",
    "    for kw in handful_of_keys:\n",
    "        for key,value in a_dict.items():\n",
    "            if kw in value and key not in spanish_kw:\n",
    "                spanish_titles.append(value)\n",
    "                spanish_kw.append(key)\n",
    "    i+=1"
   ]
  },
  {
   "cell_type": "code",
   "execution_count": 152,
   "metadata": {},
   "outputs": [],
   "source": [
    "holding = []\n",
    "\n",
    "for i in spanishport_dois:\n",
    "    holding.append(\"$DOI(\"+i+\") OR$\")"
   ]
  },
  {
   "cell_type": "code",
   "execution_count": 153,
   "metadata": {},
   "outputs": [
    {
     "name": "stdout",
     "output_type": "stream",
     "text": [
      "['$DOI(10.17660/ActaHortic.2011.925.42) OR$', '$DOI(10.1080/23311983.2016.1260825) OR$', '$DOI(10.7410/1436) OR$', '$DOI(10.1108/JD-10-2013-0129) OR$', '$DOI(10.1108/JD-06-2019-0112) OR$', '$DOI(10.1108/JD-08-2021-0157) OR$', '$DOI(10.1515/libri-2019-0051) OR$', '$DOI(10.1016/j.serrev.2011.06.003) OR$', '$DOI(10.1016/j.acalib.2021.102461) OR$', '$DOI(10.1007/s11192-009-0043-9) OR$', '$DOI(10.1007/s11192-011-0398-6) OR$', '$DOI(10.1007/s11192-012-0740-7) OR$', '$DOI(10.1007/s11192-012-0749-y) OR$', '$DOI(10.1007/s11192-013-1062-0) OR$', '$DOI(10.1007/s11192-015-1631-5) OR$', '$DOI(10.1007/s11192-016-2032-0) OR$', '$DOI(10.1007/s11192-020-03665-5) OR$', '$DOI(10.1300/J105v31n01_03) OR$', '$DOI(10.1080/01616846.2018.1561169) OR$', '$DOI(10.1177/0165551505052470) OR$', '$DOI(10.1177/0165551514535710) OR$', '$DOI(10.1177/0165551514566564) OR$', '$DOI(10.3233/ISU-2009-0592) OR$', '$DOI(10.3233/efi-180203) OR$', '$DOI(10.1016/j.wpi.2008.09.011) OR$', '$DOI(10.1016/j.wpi.2018.09.003) OR$', '$DOI(10.3989/redc.2009.3.683) OR$', '$DOI(10.3989/redc.2009.2.686) OR$', '$DOI(10.3989/redc.2010.2.740) OR$', '$DOI(10.3989/redc.2010.3.729) OR$', '$DOI(10.3989/redc.2011.4.828) OR$', '$DOI(10.3989/redc.2012.1.851) OR$', '$DOI(10.3989/redc.2013.3.987) OR$', '$DOI(10.3989/redc.2014.4.1155) OR$', '$DOI(10.3989/redc.2014.4.1151) OR$', '$DOI(10.3989/redc.2015.3.1207) OR$', '$DOI(10.3989/redc.2015.1.1178) OR$', '$DOI(10.3989/redc.2016.3.1328) OR$', '$DOI(10.3989/redc.2016.3.1346) OR$', '$DOI(10.3989/redc.2016.3.1287a) OR$', '$DOI(10.3989/redc.2018.1.1456) OR$', '$DOI(10.3989/redc.2019.1.1581) OR$', '$DOI(10.3989/REDC.2020.1.1658) OR$', '$DOI(10.1108/EL-02-2017-0026) OR$', '$DOI(10.1300/J115v25n02_07) OR$', '$DOI(10.1300/J120v41n85_09) OR$', '$DOI(10.1080/02763877.2016.1145614) OR$', '$DOI(10.1080/02763877.2021.1892009) OR$', '$DOI(10.1016/j.ipm.2014.10.002) OR$', '$DOI(10.1016/j.ipm.2017.11.007) OR$', '$DOI(10.1177/0340035219870201) OR$', '$DOI(10.1300/J123v53n04_11) OR$', '$DOI(10.1177/0539018409106199) OR$', '$DOI(10.7764/cdi.36.636) OR$', '$DOI(10.7764/cdi.43.1466) OR$', '$DOI(10.7764/cdi.46.1459) OR$', '$DOI(10.7764/cdi.50.27871) OR$', '$DOI(10.1016/j.giq.2008.07.002) OR$', '$DOI(10.1177/0894439314558559) OR$', '$DOI(10.1177/0894439315625475) OR$', '$DOI(10.1177/0894439319864898) OR$', '$DOI(10.1093/reseval/rvx022) OR$', '$DOI(10.1093/reseval/rvy024) OR$', '$DOI(10.1177/09610006211016533) OR$', '$DOI(10.1093/ijlit/eas005) OR$', '$DOI(10.5209/rev_RGID.2011.v21.37834) OR$', '$DOI(10.5209/rev_RGID.2012.v22.39655) OR$', '$DOI(10.5209/rev_RGID.2014.v24.n2.47404) OR$', '$DOI(10.5209/rev_RGID.2014.v24.n2.47237) OR$', '$DOI(10.5209/rev_RGID.2014.v24.n1.45387) OR$', '$DOI(10.5209/rev_RGID.2015.v25.n2.51244) OR$', '$DOI(10.5209/rev_RGID.2015.v25.n1.48985) OR$', '$DOI(10.5209/rev_RGID.2016.v26.n1.53040) OR$', '$DOI(10.5209/RGID.62830) OR$', '$DOI(10.5209/RGID.60804) OR$', '$DOI(10.5209/RGID.60814) OR$', '$DOI(10.5209/RGID.60815) OR$', '$DOI(10.5209/rgid.66977) OR$', '$DOI(10.5209/rgid.64548) OR$', '$DOI(10.5209/rgid.72814) OR$', '$DOI(10.5209/rgid.69678) OR$', '$DOI(10.5209/RGID.70067) OR$', '$DOI(10.5209/RGID.79467) OR$', '$DOI(10.5209/rgid.77086) OR$', '$DOI(10.3145/epi.2006.may.04) OR$', '$DOI(10.3145/epi.2007.nov.07) OR$', '$DOI(10.3145/epi.2007.sep.03) OR$', '$DOI(10.3145/epi.2007.jul.11) OR$', '$DOI(10.3145/epi.2007.jan.02) OR$', '$DOI(10.3145/epi.2008.sep.13) OR$', '$DOI(10.3145/epi.2008.mar.12) OR$', '$DOI(10.3145/epi.2008.mar.11) OR$', '$DOI(10.3145/epi.2009.nov.07) OR$', '$DOI(10.3145/epi.2009.sep.02) OR$', '$DOI(10.3145/epi.2009.mar.08) OR$', '$DOI(10.3145/epi.2009.mar.11) OR$', '$DOI(10.3145/epi.2010.sep.05) OR$', '$DOI(10.3145/epi.2010.ene.03) OR$', '$DOI(10.3145/epi.2012.nov.04) OR$', '$DOI(10.3145/epi.2012.sep.01) OR$', '$DOI(10.3145/epi.2013.nov.02) OR$', '$DOI(10.3145/epi.2015.sep.12) OR$', '$DOI(10.3145/epi.2015.sep.01) OR$', '$DOI(10.3145/epi.2015.sep.04) OR$', '$DOI(10.3145/epi.2015.mar.11) OR$', '$DOI(10.3145/epi.2016.sep.02) OR$', '$DOI(10.3145/epi.2016.ene.08) OR$', '$DOI(10.3145/epi.2016.nov.04) OR$', '$DOI(10.3145/epi.2017.jul.07) OR$', '$DOI(10.3145/epi.2017.jul.17) OR$', '$DOI(10.3145/epi.2017.jul.13) OR$', '$DOI(10.3145/epi.2017.ene.01) OR$', '$DOI(10.3145/epi.2018.jul.03) OR$', '$DOI(10.3145/epi.2018.jul.19) OR$', '$DOI(10.3145/epi.2018.may.21) OR$', '$DOI(10.3145/epi.2018.may.03) OR$', '$DOI(10.3145/epi.2018.mar.08) OR$', '$DOI(10.3145/epi.2018.ene.08) OR$', '$DOI(10.3145/epi.2018.ene.12) OR$', '$DOI(10.3145/epi.2020.nov.33) OR$', '$DOI(10.3145/epi.2020.jul.12) OR$', '$DOI(10.3145/epi.2020.jul.23) OR$', '$DOI(10.3145/epi.2020.jul.22) OR$', '$DOI(10.3145/epi.2020.jul.40) OR$', '$DOI(10.3145/epi.2020.may.11) OR$', '$DOI(10.3145/epi.2020.ene.19) OR$', '$DOI(10.3145/epi.2021.nov.09) OR$', '$DOI(10.3145/epi.2021.mar.10) OR$', '$DOI(10.1007/s10502-007-9040-z) OR$', '$DOI(10.1007/s10502-008-9061-2) OR$', '$DOI(10.1007/s10502-010-9124-z) OR$', '$DOI(10.1007/s10502-017-9278-z) OR$', '$DOI(10.1007/s10502-020-09347-8) OR$', '$DOI(10.1016/j.lcats.2006.03.002) OR$', '$DOI(10.1108/OIR-03-2015-0093) OR$', '$DOI(10.1108/OIR-03-2018-0102) OR$', '$DOI(10.1080/15323260903235628) OR$', '$DOI(10.1007/s10579-009-9109-9) OR$', '$DOI(10.1007/s10579-013-9239-y) OR$', '$DOI(10.1007/s10579-012-9213-0) OR$', '$DOI(10.1007/s10579-012-9199-7) OR$', '$DOI(10.1007/s10579-014-9280-5) OR$', '$DOI(10.1007/s10579-015-9329-0) OR$', '$DOI(10.1007/s10579-017-9394-7) OR$', '$DOI(10.1007/s10579-019-09447-7) OR$', '$DOI(10.1007/s10579-020-09516-2) OR$', '$DOI(10.1007/s10579-021-09557-1) OR$', '$DOI(10.11645/8.1.1865) OR$', '$DOI(10.4403/jlis.it-12453) OR$', '$DOI(10.3390/PUBLICATIONS8030041) OR$', '$DOI(10.3390/publications9030028) OR$', '$DOI(10.1002/pra2.565) OR$', '$DOI(10.1080/23801883.2018.1559704) OR$', '$DOI(10.1108/DTA-09-2020-0200) OR$', '$DOI(10.1108/CC-07-2019-0020) OR$', '$DOI(10.3989/redc.2019.1.1594) OR$', '$DOI(10.3989/redc.2021.4.1822) OR$', '$DOI(10.3145/epi.2013.ene.09) OR$', '$DOI(10.5209/rev_RGID.2016.v26.n1.53044) OR$', '$DOI(10.3989/redc.2013.3.990) OR$', '$DOI(10.3233/EFI-190297) OR$', '$DOI(10.5771/0943-7444-2017-3-163) OR$', '$DOI(10.1177/0961000616632055) OR$', '$DOI(10.1007/s10579-020-09525-1) OR$', '$DOI(10.1007/s10579-021-09565-1) OR$', '$DOI(10.3390/publications4020012) OR$', '$DOI(10.3390/publications6020025) OR$', '$DOI(10.3989/redc.2016.1.1243) OR$']\n"
     ]
    }
   ],
   "source": [
    "print(holding)"
   ]
  },
  {
   "cell_type": "code",
   "execution_count": 58,
   "metadata": {},
   "outputs": [],
   "source": [
    "kw_match = []\n",
    "kw_doi = []\n",
    "\n",
    "i=0\n",
    "while i<len(kw_list):\n",
    "    for kw in kw_list:\n",
    "        for key,value in a_dict.items():\n",
    "            if kw in value and value not in kw_match:\n",
    "                kw_match.append(value)\n",
    "                kw_doi.append(key)\n",
    "    i+=1"
   ]
  },
  {
   "cell_type": "code",
   "execution_count": 59,
   "metadata": {},
   "outputs": [
    {
     "name": "stdout",
     "output_type": "stream",
     "text": [
      "1583\n"
     ]
    }
   ],
   "source": [
    "print(len(kw_doi))"
   ]
  },
  {
   "cell_type": "code",
   "execution_count": 63,
   "metadata": {},
   "outputs": [],
   "source": [
    "keywords = []\n",
    "more_kw_dois = []\n",
    "b_dict = {}\n",
    "\n",
    "i=0\n",
    "while i<len(master_list):\n",
    "    for key, value in master_list[i].items():\n",
    "        if key == \"authkeywords\" and value not in keywords:\n",
    "            keywords.append(value)\n",
    "            more_kw_dois.append(master_list[i].get(\"prism:doi\"))\n",
    "            b_dict[master_list[i].get(\"prism:doi\")] = master_list[i].get(\"authkeywords\")\n",
    "        else:\n",
    "            pass\n",
    "    i+=1    "
   ]
  },
  {
   "cell_type": "code",
   "execution_count": 127,
   "metadata": {},
   "outputs": [],
   "source": [
    "handful_matchTI = []\n",
    "handful_doisTI = []\n",
    "\n",
    "i=0\n",
    "while i<len(handful_of_keys):\n",
    "    for kw in handful_of_keys:\n",
    "        for key,value in b_dict.items():\n",
    "            if kw in value and value not in handful_matchTI:\n",
    "                handful_matchTI .append(value)\n",
    "                handful_doisTI.append(key)\n",
    "    i+=1"
   ]
  },
  {
   "cell_type": "code",
   "execution_count": 151,
   "metadata": {},
   "outputs": [],
   "source": [
    "spanish_keys = []\n",
    "spanishport_dois = []\n",
    "\n",
    "i=0\n",
    "while i<len(handful_of_keys):\n",
    "    for kw in handful_of_keys:\n",
    "        for key,value in b_dict.items():\n",
    "            if kw in value and key not in spanishport_dois:\n",
    "                spanish_keys.append(value)\n",
    "                spanishport_dois.append(key)\n",
    "    i+=1"
   ]
  },
  {
   "cell_type": "code",
   "execution_count": 128,
   "metadata": {},
   "outputs": [],
   "source": [
    "handful_matchKW = []\n",
    "handful_doisKW = []\n",
    "\n",
    "i=0\n",
    "while i<len(handful_of_keys):\n",
    "    for kw in handful_of_keys:\n",
    "        for key,value in a_dict.items():\n",
    "            if kw in value and value not in handful_matchKW:\n",
    "                handful_matchKW.append(value)\n",
    "                handful_doisKW.append(key)\n",
    "    i+=1"
   ]
  },
  {
   "cell_type": "code",
   "execution_count": 129,
   "metadata": {},
   "outputs": [],
   "source": [
    "handful_main = handful_doisTI + handful_doisKW"
   ]
  },
  {
   "cell_type": "code",
   "execution_count": 131,
   "metadata": {},
   "outputs": [
    {
     "name": "stdout",
     "output_type": "stream",
     "text": [
      "792\n"
     ]
    }
   ],
   "source": [
    "print(len(handful_main))"
   ]
  },
  {
   "cell_type": "code",
   "execution_count": null,
   "metadata": {},
   "outputs": [],
   "source": [
    "key_kw_match = []\n",
    "even_more_kw_doi = []\n",
    "\n",
    "i=0\n",
    "while i<len(kw_list):\n",
    "    for kw in kw_list:\n",
    "        for key,value in b_dict.items():\n",
    "            if kw in value and value not in key_kw_match:\n",
    "                key_kw_match.append(value)\n",
    "                even_more_kw_doi.append(key)\n",
    "    i+=1"
   ]
  },
  {
   "cell_type": "code",
   "execution_count": 65,
   "metadata": {},
   "outputs": [
    {
     "name": "stdout",
     "output_type": "stream",
     "text": [
      "538\n"
     ]
    }
   ],
   "source": [
    "print(len(even_more_kw_doi))"
   ]
  },
  {
   "cell_type": "code",
   "execution_count": 66,
   "metadata": {},
   "outputs": [],
   "source": [
    "combined_doi = even_more_kw_doi + kw_doi"
   ]
  },
  {
   "cell_type": "code",
   "execution_count": 67,
   "metadata": {},
   "outputs": [],
   "source": [
    "def give_unique(list1):\n",
    "    list2 = []\n",
    "    for i in list1:\n",
    "        if i not in list2:\n",
    "            list2.append(i)\n",
    "    return list2"
   ]
  },
  {
   "cell_type": "code",
   "execution_count": 70,
   "metadata": {},
   "outputs": [],
   "source": [
    "dois_for_csv = give_unique(combined_doi)"
   ]
  },
  {
   "cell_type": "code",
   "execution_count": 71,
   "metadata": {},
   "outputs": [],
   "source": [
    "dois_df = pd.DataFrame()"
   ]
  },
  {
   "cell_type": "code",
   "execution_count": 72,
   "metadata": {},
   "outputs": [],
   "source": [
    "dois_df['DOI'] = dois_for_csv"
   ]
  },
  {
   "cell_type": "code",
   "execution_count": 73,
   "metadata": {},
   "outputs": [],
   "source": [
    "dois_df.to_csv('thousand_plus_list.csv', index=False)"
   ]
  },
  {
   "cell_type": "code",
   "execution_count": 77,
   "metadata": {},
   "outputs": [],
   "source": [
    "second_file_path = \"D:/pulls/outputs/boop/*/*\""
   ]
  },
  {
   "cell_type": "code",
   "execution_count": 78,
   "metadata": {},
   "outputs": [],
   "source": [
    "raw_outputs2 = glob.glob(second_file_path)\n",
    "\n",
    "empty2 = []"
   ]
  },
  {
   "cell_type": "code",
   "execution_count": 79,
   "metadata": {},
   "outputs": [],
   "source": [
    "for i in raw_outputs2:\n",
    "    with open(i, \"rb\") as globd:\n",
    "        empty2.append(json.load(globd))"
   ]
  },
  {
   "cell_type": "code",
   "execution_count": 80,
   "metadata": {},
   "outputs": [],
   "source": [
    "for i in empty2:\n",
    "    for key, value in i.items():\n",
    "        if key == \"search-results\" and \"Result set was empty\" in str(value):\n",
    "            empty2.remove(i)"
   ]
  },
  {
   "cell_type": "code",
   "execution_count": 81,
   "metadata": {},
   "outputs": [
    {
     "name": "stdout",
     "output_type": "stream",
     "text": [
      "367\n"
     ]
    }
   ],
   "source": [
    "print(len(empty2))"
   ]
  },
  {
   "cell_type": "code",
   "execution_count": 82,
   "metadata": {},
   "outputs": [],
   "source": [
    "second_master_list = []\n",
    "\n",
    "lens = 0\n",
    "\n",
    "i=0\n",
    "while i<len(empty2):\n",
    "    for key, value in empty2[i].items():\n",
    "        for key2, value2 in value.items():\n",
    "            if key2 == \"entry\":\n",
    "                for val in value2:\n",
    "                    second_master_list.append(val)\n",
    "                    lens+=1\n",
    "                i+=1"
   ]
  },
  {
   "cell_type": "code",
   "execution_count": 87,
   "metadata": {},
   "outputs": [],
   "source": [
    "second_new_title_list = []\n",
    "second_doi_list = []\n",
    "c_dict = {}\n",
    "\n",
    "\n",
    "i=0\n",
    "while i<len(second_master_list):\n",
    "    for key, value in second_master_list[i].items():\n",
    "        if key == \"dc:title\" and value not in second_new_title_list:\n",
    "            second_new_title_list.append(value)\n",
    "            second_doi_list.append(second_master_list[i].get(\"prism:doi\"))\n",
    "            c_dict[second_master_list[i].get(\"prism:doi\")] = second_master_list[i].get(\"dc:title\")\n",
    "        else:\n",
    "            pass\n",
    "    i+=1    "
   ]
  },
  {
   "cell_type": "code",
   "execution_count": 88,
   "metadata": {},
   "outputs": [],
   "source": [
    "two_kw_match = []\n",
    "two_kw_doi = []\n",
    "\n",
    "i=0\n",
    "while i<len(kw_list):\n",
    "    for kw in kw_list:\n",
    "        for key,value in c_dict.items():\n",
    "            if kw in value and value not in two_kw_match:\n",
    "                two_kw_match.append(value)\n",
    "                two_kw_doi.append(key)\n",
    "    i+=1"
   ]
  },
  {
   "cell_type": "code",
   "execution_count": 91,
   "metadata": {},
   "outputs": [],
   "source": [
    "second_keywords = []\n",
    "second_more_kw_dois = []\n",
    "d_dict = {}\n",
    "\n",
    "i=0\n",
    "while i<len(second_master_list):\n",
    "    for key, value in second_master_list[i].items():\n",
    "        if key == \"authkeywords\" and value not in second_keywords:\n",
    "            second_keywords.append(value)\n",
    "            second_more_kw_dois.append(second_master_list[i].get(\"prism:doi\"))\n",
    "            d_dict[second_master_list[i].get(\"prism:doi\")] = second_master_list[i].get(\"authkeywords\")\n",
    "        else:\n",
    "            pass\n",
    "    i+=1  "
   ]
  },
  {
   "cell_type": "code",
   "execution_count": 92,
   "metadata": {},
   "outputs": [],
   "source": [
    "twotwo_kw_matches=[]\n",
    "twotwo_kw_doi = []\n",
    "\n",
    "i=0\n",
    "while i<len(kw_list):\n",
    "    for kw in kw_list:\n",
    "        for key,value in d_dict.items():\n",
    "            if kw in value and value not in twotwo_kw_matches:\n",
    "                twotwo_kw_matches.append(value)\n",
    "                twotwo_kw_doi.append(key)\n",
    "    i+=1"
   ]
  },
  {
   "cell_type": "code",
   "execution_count": 107,
   "metadata": {},
   "outputs": [
    {
     "name": "stdout",
     "output_type": "stream",
     "text": [
      "41\n"
     ]
    }
   ],
   "source": [
    "print(len(two_kw_match))"
   ]
  },
  {
   "cell_type": "code",
   "execution_count": 94,
   "metadata": {},
   "outputs": [
    {
     "name": "stdout",
     "output_type": "stream",
     "text": [
      "15\n"
     ]
    }
   ],
   "source": [
    "print(len(twotwo_kw_doi))"
   ]
  },
  {
   "cell_type": "code",
   "execution_count": 95,
   "metadata": {},
   "outputs": [],
   "source": [
    "the_67 = ['The trial of Francisco Bilbao and its role in the foundation of Latin American journalism', 'Racial and ethnic diversity in academic library collections: Ownership and access of African American and U.S. Latino periodical literature', '(Generation 1.5) Latino Students and the Library: A Case Study', \"Latino Students' Perceptions of the Academic Library\", 'Latino students and the academic library: A primer for action', 'Information behaviors of Latinos attending high school in East Los Angeles', 'LatinoTwitter: Discourses of Latino civic engagement in social media', 'A content analysis of Latina Web content', 'Latinas cross the IT border: Understanding gender as a boundary object between information worlds', 'Accidental open access and the hazards involved: Preliminary experiences on Internet-based publishing in a Peruvian university', 'Online information literacy instruction in Mexican university libraries: The librarians’ point of view', 'Media use during conflicts: Information seeking and political efficacy during the 2012 Mexican elections', \"A qualitative approach to the study of information needs of policy makers in Costa Rica. Venegas, Flor de M.A. Cubero Ph.D. dissertation, University of Toronto, 1991. 251 p. (UMI Order Number AAC NN66017) Reviewed by Keith Swigger, School of Library and Information Studies, Texas Woman's University, Denton, Texas 76204-0905\", 'Collaborative digital government in Mexico: Some lessons from federal Web-based interorganizational information integration initiatives', 'Factors for a successful adoption of budgetary transparency innovations: A questionnaire report of an open government initiative in Mexico', 'Cultivating open government data platform ecosystems through governance: Lessons from Buenos Aires, Mexico City and Montevideo', 'Digital divide or digital development? The Internet in Mexico', 'Digital divide or digital development?: The Internet in Mexico (originally published in March 2006)', 'Towards an understanding of Twitter networks: The case of the state of Mexico', 'Accessing information use by humanists and social scientists: A study at the Universidad de Buenos Aires, Argentina', 'Prospect for Development of Open Access in Argentina', 'Towards open science in Argentina: From experiences to public policies', 'Erratum: The internet in Argentina and Brazil: The origins of networking experiences (Information and Culture 52:2 DOI: 10.7560/IC52206)', 'The internet in Argentina and Brazil: The origins of networking experiences', '\"Cameroon is just like Bolivia!\": Southern expertise and the construction of equivalency in South-South scientific collaborations', 'Antecedents and consequences of library service innovation: An investigation into Brazilian academic libraries', 'Subject-access metadata on ETD supplied by authors: A case study about keywords, titles and abstracts in a Brazilian academic repository', 'Government publishing in Brazil', 'Prodasen: The congressional information system of the Federal Senate of Brazil', 'Organizational structure and ICT strategies in the Brazilian Judiciary System', 'Linking theoretical perspectives to analyze health information and communication technologies in Brazil', 'Effects of investment in information and communication technologies on productivity of courts in Brazil', 'Free software: Some Brazilian translations', 'Taking tweets to the streets: A spatial analysis of the vinegar protests in Brazil', 'Congressmen in the age of social network sites: Brazilian representatives and Twitter use', 'Prelingual bilingual deaf: Multimedia content perception of a Brazilian health campaign', 'Profiles of mapping of content creators in a geo-social network: The case of 21 Brazilian cities', \"Online self-representation in Brazil's favelas: Personalising the periphery\", 'Accessibility and communicability on Facebook: A case study with Brazilian elderly', 'Computer technology in Brazil: From protectionism and national sovereignty to globalization and market competitiveness', 'Ideology beyond partisanship: The behavior of judges on freedom of information cases in Chile', 'Can Web 2.0 enhance community participation in an institutional repository? The case of pocketknowledge at teachers college, Columbia University', 'The Library Association of the City Colleges of New York 1939-1965. Segal, Judith. D.L.S. Dissertation, Columbia University, 1991. (UMI Order Number 92-02747).', 'Ex-sample<sup>TM</sup>: Expert system to assist in determining sample size, version 3.0. Brent, Edward E., Mirielli, Edward J. &amp; Thompson, Alan Columbia, MO: The Idea Works, Inc., 1993. $249.95 (MSWindows<sup>TM</sup> 3.X) Reviewed by William E. McGrath, Professor, School of Information and Library Studies, 381 Baldy Hall, State University of New York at Buffalo, Buffalo, New York 14260', 'Providing content and facilitating social change: Electronic media in rural development based on case material from Peru', 'The impact of the internet on the politics of Cuba', 'The Internet and state control in authoritarian regimes: China, Cuba and the counterrevolution', 'First- and second-level digital divides in Cuba: Differences in Internet motivation, access, skills and usage', 'Haitian resiliency: A case study in intermittent infrastructure', 'Information Competence of Doctoral Students in Information Science in Spain and Latin America: A Self-assessment', 'Legislating personal privacy protection: The federal response', \"Other People's Letters: Simulating Archival Intimacy Through Theater\", 'The Out Loud Assignment: Articulating Library Contributions to First-year Student Success', 'Contemplating library instruction: Integrating contemplative practices in a mid-sized academic library', 'Articulating a compelling reason to take action', 'Formulating an integrated library government documents collection policy', 'Opinion mining in social media: Modeling, simulating, and forecasting political opinions in the web', 'Defining Information Policy: Relating Issues to the Information Cycle', 'Circulating libraries and video rental stores', 'On the economy of Web links: Simulating the exchange process', 'Translating diversity to internet governance', \"Boots book-lovers' library and the novel: The impact of a circulating library market on twentieth-century fiction\", 'Digital divide or digital development?: The internet in mexico', 'Libraries as transitory workspaces and spatial incubators', 'The urban incubater: (De)constructive (re)presentation of heterotopian spatiality and virtual image(ries)', 'The urban incubator: (De)constructive (re)presentation of heterotopian spatiality and virtual image(ries)', 'The internet and state control in authoritarian regimes: China, cuba and the counterrevolution']"
   ]
  },
  {
   "cell_type": "code",
   "execution_count": 125,
   "metadata": {},
   "outputs": [],
   "source": [
    "#for i in two_kw_doi:\n",
    "    #print(i)"
   ]
  },
  {
   "cell_type": "code",
   "execution_count": 119,
   "metadata": {},
   "outputs": [],
   "source": [
    "plus_dois = twotwo_kw_doi + two_kw_doi"
   ]
  },
  {
   "cell_type": "code",
   "execution_count": 120,
   "metadata": {},
   "outputs": [],
   "source": [
    "plusplus = give_unique(plus_dois)"
   ]
  },
  {
   "cell_type": "code",
   "execution_count": 121,
   "metadata": {},
   "outputs": [
    {
     "name": "stdout",
     "output_type": "stream",
     "text": [
      "49\n"
     ]
    }
   ],
   "source": [
    "print(len(plusplus))"
   ]
  },
  {
   "cell_type": "code",
   "execution_count": 124,
   "metadata": {},
   "outputs": [],
   "source": [
    "#for i in plusplus:\n",
    "   # print(i)"
   ]
  },
  {
   "cell_type": "code",
   "execution_count": 132,
   "metadata": {},
   "outputs": [],
   "source": [
    "handful_matchTI2 = []\n",
    "handful_doisTI2 = []\n",
    "\n",
    "i=0\n",
    "while i<len(handful_of_keys):\n",
    "    for kw in handful_of_keys:\n",
    "        for key,value in c_dict.items():\n",
    "            if kw in value and value not in handful_matchTI2:\n",
    "                handful_matchTI2 .append(value)\n",
    "                handful_doisTI2.append(key)\n",
    "    i+=1"
   ]
  },
  {
   "cell_type": "code",
   "execution_count": 133,
   "metadata": {},
   "outputs": [],
   "source": [
    "handful_matchKW2 = []\n",
    "handful_doisKW2 = []\n",
    "\n",
    "i=0\n",
    "while i<len(handful_of_keys):\n",
    "    for kw in handful_of_keys:\n",
    "        for key,value in d_dict.items():\n",
    "            if kw in value and value not in handful_matchKW2:\n",
    "                handful_matchKW2.append(value)\n",
    "                handful_doisKW2.append(key)\n",
    "    i+=1"
   ]
  },
  {
   "cell_type": "code",
   "execution_count": 134,
   "metadata": {},
   "outputs": [],
   "source": [
    "handful_on_sub = handful_doisTI2 + handful_doisKW2"
   ]
  },
  {
   "cell_type": "code",
   "execution_count": 135,
   "metadata": {},
   "outputs": [
    {
     "name": "stdout",
     "output_type": "stream",
     "text": [
      "10\n"
     ]
    }
   ],
   "source": [
    "print(len(handful_on_sub))"
   ]
  },
  {
   "cell_type": "code",
   "execution_count": 137,
   "metadata": {},
   "outputs": [
    {
     "name": "stdout",
     "output_type": "stream",
     "text": [
      "['10.1016/j.acalib.2014.10.007', '10.1016/j.acalib.2017.12.005', '10.1016/j.acalib.2021.102461', '10.1016/j.giq.2010.05.009', '10.1016/j.giq.2015.12.004', '10.1016/j.giq.2018.10.010', '10.1016/S0099-1333(02)00417-2', '10.1016/j.acalib.2011.11.007', '10.1016/j.acalib.2021.102461', '10.1016/j.giq.2008.07.002']\n"
     ]
    }
   ],
   "source": [
    "print(handful_on_sub)"
   ]
  },
  {
   "cell_type": "code",
   "execution_count": null,
   "metadata": {},
   "outputs": [],
   "source": []
  }
 ],
 "metadata": {
  "kernelspec": {
   "display_name": "Python 3",
   "language": "python",
   "name": "python3"
  },
  "language_info": {
   "codemirror_mode": {
    "name": "ipython",
    "version": 3
   },
   "file_extension": ".py",
   "mimetype": "text/x-python",
   "name": "python",
   "nbconvert_exporter": "python",
   "pygments_lexer": "ipython3",
   "version": "3.7.4"
  }
 },
 "nbformat": 4,
 "nbformat_minor": 2
}
