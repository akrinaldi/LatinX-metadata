{
 "cells": [
  {
   "cell_type": "code",
   "execution_count": 1,
   "metadata": {},
   "outputs": [],
   "source": [
    "import json\n",
    "import glob"
   ]
  },
  {
   "cell_type": "code",
   "execution_count": null,
   "metadata": {},
   "outputs": [],
   "source": [
    "##!jupyter notebook --\n",
    "#NotebookApp.iopub_data_rate_limit=1.0e10"
   ]
  },
  {
   "cell_type": "code",
   "execution_count": 2,
   "metadata": {},
   "outputs": [],
   "source": [
    "file_path = \"D:/LatinX-metadata/limitedyears/*/*\""
   ]
  },
  {
   "cell_type": "code",
   "execution_count": 3,
   "metadata": {},
   "outputs": [],
   "source": [
    "raw_outputs = glob.glob(file_path)\n",
    "\n",
    "empty = []"
   ]
  },
  {
   "cell_type": "code",
   "execution_count": 5,
   "metadata": {},
   "outputs": [
    {
     "data": {
      "text/plain": [
       "'D:/LatinX-metadata/limitedyears\\\\25149350\\\\25149350_2021.json'"
      ]
     },
     "execution_count": 5,
     "metadata": {},
     "output_type": "execute_result"
    }
   ],
   "source": [
    "raw_outputs[12321]"
   ]
  },
  {
   "cell_type": "code",
   "execution_count": 4,
   "metadata": {},
   "outputs": [],
   "source": [
    "for i in raw_outputs:\n",
    "    with open(i, \"rb\") as globd:\n",
    "        empty.append(json.load(globd))"
   ]
  },
  {
   "cell_type": "code",
   "execution_count": 5,
   "metadata": {
    "scrolled": true
   },
   "outputs": [
    {
     "name": "stdout",
     "output_type": "stream",
     "text": [
      "12322\n"
     ]
    }
   ],
   "source": [
    "print(len(empty))"
   ]
  },
  {
   "cell_type": "code",
   "execution_count": 6,
   "metadata": {},
   "outputs": [],
   "source": [
    "for i in empty:\n",
    "    for key, value in i.items():\n",
    "        if key == \"search-results\" and \"Result set was empty\" in str(value):\n",
    "            empty.remove(i)"
   ]
  },
  {
   "cell_type": "code",
   "execution_count": 9,
   "metadata": {},
   "outputs": [],
   "source": [
    "#for i in empty:\n",
    "    #print(type(i))"
   ]
  },
  {
   "cell_type": "code",
   "execution_count": 10,
   "metadata": {},
   "outputs": [
    {
     "name": "stdout",
     "output_type": "stream",
     "text": [
      "8528\n"
     ]
    }
   ],
   "source": [
    "print(len(empty))"
   ]
  },
  {
   "cell_type": "code",
   "execution_count": 11,
   "metadata": {},
   "outputs": [],
   "source": [
    "master_list = []\n",
    "lens = 0\n",
    "\n",
    "i=0\n",
    "while i<len(empty):\n",
    "    for key, value in empty[i].items():\n",
    "        for key2, value2 in value.items():\n",
    "            if key2 == \"entry\":\n",
    "                for val in value2:\n",
    "                    master_list.append(val)\n",
    "                    lens+=1\n",
    "                i+=1"
   ]
  },
  {
   "cell_type": "code",
   "execution_count": 10,
   "metadata": {},
   "outputs": [
    {
     "name": "stdout",
     "output_type": "stream",
     "text": [
      "215329\n",
      "8528\n"
     ]
    }
   ],
   "source": [
    "print(lens)\n",
    "print(i)"
   ]
  },
  {
   "cell_type": "code",
   "execution_count": 12,
   "metadata": {},
   "outputs": [
    {
     "name": "stdout",
     "output_type": "stream",
     "text": [
      "215329\n"
     ]
    }
   ],
   "source": [
    "print(len(master_list))"
   ]
  },
  {
   "cell_type": "code",
   "execution_count": 49,
   "metadata": {},
   "outputs": [],
   "source": [
    "value_list = []\n",
    "\n",
    "for i in empty:\n",
    "    for key, value in i.items():\n",
    "        value_list.append(value)"
   ]
  },
  {
   "cell_type": "code",
   "execution_count": 50,
   "metadata": {},
   "outputs": [
    {
     "name": "stdout",
     "output_type": "stream",
     "text": [
      "8528\n"
     ]
    }
   ],
   "source": [
    "print(len(value_list))"
   ]
  },
  {
   "cell_type": "code",
   "execution_count": 51,
   "metadata": {},
   "outputs": [
    {
     "data": {
      "text/plain": [
       "list"
      ]
     },
     "execution_count": 51,
     "metadata": {},
     "output_type": "execute_result"
    }
   ],
   "source": [
    "type(value_list)"
   ]
  },
  {
   "cell_type": "code",
   "execution_count": 52,
   "metadata": {},
   "outputs": [],
   "source": [
    "entries = []\n",
    "count = 0\n",
    "key_count = []\n",
    "\n",
    "for i in value_list:\n",
    "    for key, value in i.items():\n",
    "        if key == \"entry\":\n",
    "            entries.append(value)\n",
    "            count +=1\n",
    "            key_count.append(key)"
   ]
  },
  {
   "cell_type": "code",
   "execution_count": 53,
   "metadata": {},
   "outputs": [
    {
     "name": "stdout",
     "output_type": "stream",
     "text": [
      "8528\n",
      "8528\n"
     ]
    }
   ],
   "source": [
    "print(len(entries))\n",
    "print(len(key_count))"
   ]
  },
  {
   "cell_type": "code",
   "execution_count": 38,
   "metadata": {},
   "outputs": [],
   "source": [
    "with open(\"no_nulls_combined.json\",\"w\") as f:\n",
    "    for i in entries:\n",
    "        json.dump(i,f)"
   ]
  },
  {
   "cell_type": "code",
   "execution_count": 23,
   "metadata": {},
   "outputs": [
    {
     "name": "stdout",
     "output_type": "stream",
     "text": [
      "<class 'dict'>\n"
     ]
    }
   ],
   "source": [
    "print(type(master_list[0]))"
   ]
  },
  {
   "cell_type": "code",
   "execution_count": 20,
   "metadata": {},
   "outputs": [
    {
     "data": {
      "text/plain": [
       "[{'@_fa': 'true',\n",
       "  'prism:url': 'https://api.elsevier.com/content/abstract/scopus_id/85024288641',\n",
       "  'dc:identifier': 'SCOPUS_ID:85024288641',\n",
       "  'dc:title': 'Some new properties of forward-biased emitter-base junction of gigahertz silicon transistors',\n",
       "  'dc:creator': 'Chamberlain S.',\n",
       "  'prism:publicationName': 'Electronics Letters',\n",
       "  'prism:issn': '00135194',\n",
       "  'prism:volume': '6',\n",
       "  'prism:issueIdentifier': '26',\n",
       "  'prism:pageRange': '843-845',\n",
       "  'prism:coverDate': '1970-12-31',\n",
       "  'prism:doi': '10.1049/el:19700582',\n",
       "  'citedby-count': '0',\n",
       "  'affiliation': [{'@_fa': 'true', 'affiliation-country': 'Canada'}],\n",
       "  'authkeywords': 'Microwave devices | p-n juctions | Transistors',\n",
       "  'openaccess': '0',\n",
       "  'openaccessFlag': False},\n",
       " {'@_fa': 'true',\n",
       "  'prism:url': 'https://api.elsevier.com/content/abstract/scopus_id/85024277607',\n",
       "  'dc:identifier': 'SCOPUS_ID:85024277607',\n",
       "  'dc:title': 'Directional optimisation of a quadratic lyapunov function',\n",
       "  'dc:creator': 'Hsieh J.',\n",
       "  'prism:publicationName': 'Electronics Letters',\n",
       "  'prism:issn': '00135194',\n",
       "  'prism:volume': '6',\n",
       "  'prism:issueIdentifier': '26',\n",
       "  'prism:pageRange': '843',\n",
       "  'prism:coverDate': '1970-12-31',\n",
       "  'prism:doi': '10.1049/el:19700581',\n",
       "  'citedby-count': '0',\n",
       "  'affiliation': [{'@_fa': 'true', 'affiliation-country': 'United States'}],\n",
       "  'authkeywords': 'Lyapunov methods | Optimisation',\n",
       "  'openaccess': '0',\n",
       "  'openaccessFlag': False},\n",
       " {'@_fa': 'true',\n",
       "  'prism:url': 'https://api.elsevier.com/content/abstract/scopus_id/85024258298',\n",
       "  'dc:identifier': 'SCOPUS_ID:85024258298',\n",
       "  'dc:title': 'L.S.A. microstrip phase-locked power amplifier',\n",
       "  'dc:creator': 'Kennedy W.',\n",
       "  'prism:publicationName': 'Electronics Letters',\n",
       "  'prism:issn': '00135194',\n",
       "  'prism:volume': '6',\n",
       "  'prism:issueIdentifier': '26',\n",
       "  'prism:pageRange': '852-853',\n",
       "  'prism:coverDate': '1970-12-31',\n",
       "  'prism:doi': '10.1049/el:19700587',\n",
       "  'citedby-count': '0',\n",
       "  'affiliation': [{'@_fa': 'true', 'affiliation-country': 'United States'}],\n",
       "  'authkeywords': 'Limited space-charge accumulation | Microwave amplifiers | Power amplifiers | Striplines',\n",
       "  'openaccess': '0',\n",
       "  'openaccessFlag': False}]"
      ]
     },
     "execution_count": 20,
     "metadata": {},
     "output_type": "execute_result"
    }
   ],
   "source": [
    "master_list[0:3]"
   ]
  },
  {
   "cell_type": "code",
   "execution_count": 35,
   "metadata": {},
   "outputs": [],
   "source": [
    "with open(\"D:/codeacademy/betterLoop.json\",\"w\") as f:\n",
    "    json.dump(master_list,f)"
   ]
  },
  {
   "cell_type": "code",
   "execution_count": 11,
   "metadata": {},
   "outputs": [],
   "source": [
    "import json\n",
    "import pandas as pd\n"
   ]
  },
  {
   "cell_type": "code",
   "execution_count": 12,
   "metadata": {},
   "outputs": [
    {
     "name": "stdout",
     "output_type": "stream",
     "text": [
      "215329\n",
      "<class 'list'>\n",
      "<class 'dict'>\n"
     ]
    }
   ],
   "source": [
    "with open(\"D:/codeacademy/betterLoop.json\", \"r\") as j:\n",
    "    new_pulls = json.load(j)\n",
    "    \n",
    "    \n",
    "print(len(new_pulls))    \n",
    "print(type(new_pulls))\n",
    "\n",
    "#print(new_pulls[0])\n",
    "print(type(new_pulls[0]))        \n",
    "\n"
   ]
  },
  {
   "cell_type": "code",
   "execution_count": 75,
   "metadata": {},
   "outputs": [],
   "source": [
    "no_titles =[]\n",
    "no_dois = []\n",
    "\n",
    "    \n",
    "new_title_list = []\n",
    "test_new_title_list = []\n",
    "new_title_dict = {}\n",
    "\n",
    "\n"
   ]
  },
  {
   "cell_type": "code",
   "execution_count": 59,
   "metadata": {},
   "outputs": [
    {
     "ename": "KeyboardInterrupt",
     "evalue": "",
     "output_type": "error",
     "traceback": [
      "\u001b[1;31m---------------------------------------------------------------------------\u001b[0m",
      "\u001b[1;31mKeyboardInterrupt\u001b[0m                         Traceback (most recent call last)",
      "\u001b[1;32m<ipython-input-59-178cb6890bde>\u001b[0m in \u001b[0;36m<module>\u001b[1;34m\u001b[0m\n\u001b[0;32m      3\u001b[0m     \u001b[1;32mfor\u001b[0m \u001b[0mkey\u001b[0m\u001b[1;33m,\u001b[0m \u001b[0mvalue\u001b[0m \u001b[1;32min\u001b[0m \u001b[0mmaster_list\u001b[0m\u001b[1;33m[\u001b[0m\u001b[0mi\u001b[0m\u001b[1;33m]\u001b[0m\u001b[1;33m.\u001b[0m\u001b[0mitems\u001b[0m\u001b[1;33m(\u001b[0m\u001b[1;33m)\u001b[0m\u001b[1;33m:\u001b[0m\u001b[1;33m\u001b[0m\u001b[1;33m\u001b[0m\u001b[0m\n\u001b[0;32m      4\u001b[0m         \u001b[1;32mif\u001b[0m \u001b[0mkey\u001b[0m \u001b[1;33m==\u001b[0m \u001b[1;34m\"dc:title\"\u001b[0m \u001b[1;32mand\u001b[0m \u001b[0mvalue\u001b[0m \u001b[1;32mnot\u001b[0m \u001b[1;32min\u001b[0m \u001b[0mnew_title_list\u001b[0m\u001b[1;33m:\u001b[0m\u001b[1;33m\u001b[0m\u001b[1;33m\u001b[0m\u001b[0m\n\u001b[1;32m----> 5\u001b[1;33m             \u001b[0mnew_title_list\u001b[0m\u001b[1;33m.\u001b[0m\u001b[0mappend\u001b[0m\u001b[1;33m(\u001b[0m\u001b[0mvalue\u001b[0m\u001b[1;33m)\u001b[0m\u001b[1;33m\u001b[0m\u001b[1;33m\u001b[0m\u001b[0m\n\u001b[0m\u001b[0;32m      6\u001b[0m             \u001b[0mnew_title_dict\u001b[0m\u001b[1;33m[\u001b[0m\u001b[0mkey\u001b[0m\u001b[1;33m]\u001b[0m \u001b[1;33m=\u001b[0m \u001b[0mvalue\u001b[0m\u001b[1;33m\u001b[0m\u001b[1;33m\u001b[0m\u001b[0m\n\u001b[0;32m      7\u001b[0m         \u001b[1;32melse\u001b[0m\u001b[1;33m:\u001b[0m\u001b[1;33m\u001b[0m\u001b[1;33m\u001b[0m\u001b[0m\n",
      "\u001b[1;31mKeyboardInterrupt\u001b[0m: "
     ]
    }
   ],
   "source": [
    "i=0\n",
    "while i<len(master_list):\n",
    "    for key, value in master_list[i].items():\n",
    "        if key == \"dc:title\" and value not in new_title_list:\n",
    "            new_title_list.append(value)\n",
    "            new_title_dict[key] = value\n",
    "        else:\n",
    "            pass\n",
    "    i+=1    \n",
    "\n"
   ]
  },
  {
   "cell_type": "code",
   "execution_count": null,
   "metadata": {},
   "outputs": [],
   "source": [
    "print(len(new_title_list))\n",
    "print(new_title_list[151124])"
   ]
  },
  {
   "cell_type": "code",
   "execution_count": 82,
   "metadata": {},
   "outputs": [],
   "source": [
    "i=0\n",
    "while i<len(master_list):\n",
    "    for key, value in master_list[i].items():\n",
    "        if key == \"dc:title\" and value not in new_title_list:\n",
    "            new_title_list.append(value)\n",
    "            new_title_dict[key] = value\n",
    "        else:\n",
    "            pass\n",
    "    i+=1    \n",
    "\n"
   ]
  },
  {
   "cell_type": "code",
   "execution_count": 52,
   "metadata": {},
   "outputs": [],
   "source": [
    "copy_of_NTL = new_title_list"
   ]
  },
  {
   "cell_type": "code",
   "execution_count": 81,
   "metadata": {},
   "outputs": [
    {
     "data": {
      "text/plain": [
       "151125"
      ]
     },
     "execution_count": 81,
     "metadata": {},
     "output_type": "execute_result"
    }
   ],
   "source": [
    "len(new_title_list)"
   ]
  },
  {
   "cell_type": "code",
   "execution_count": 67,
   "metadata": {},
   "outputs": [
    {
     "name": "stdout",
     "output_type": "stream",
     "text": [
      "The digital divide: a literature review and some directions for future research in light of COVID-19\n"
     ]
    }
   ],
   "source": [
    "print(new_title_list[211712])"
   ]
  },
  {
   "cell_type": "code",
   "execution_count": 70,
   "metadata": {},
   "outputs": [],
   "source": [
    "import pandas as pd\n",
    "\n",
    "keywords_data = pd.read_csv(\"C:/Users/rinal/Downloads/keys_new.csv\")"
   ]
  },
  {
   "cell_type": "code",
   "execution_count": 71,
   "metadata": {},
   "outputs": [],
   "source": [
    "kw_list = []\n",
    "\n",
    "for i in keywords_data[\"Word\"]:\n",
    "    kw_list.append(i)"
   ]
  },
  {
   "cell_type": "code",
   "execution_count": 134,
   "metadata": {},
   "outputs": [],
   "source": [
    "new_title_matches=[]\n",
    "\n",
    "i=0\n",
    "while i<len(updated_kw_list):\n",
    "    for key in updated_kw_list:\n",
    "        for item in new_title_list:\n",
    "            if key in item and item not in new_title_matches:\n",
    "                new_title_matches.append(item)\n",
    "    i=i+1"
   ]
  },
  {
   "cell_type": "code",
   "execution_count": 135,
   "metadata": {},
   "outputs": [
    {
     "name": "stdout",
     "output_type": "stream",
     "text": [
      "1729\n"
     ]
    }
   ],
   "source": [
    "print(len(new_title_matches))"
   ]
  },
  {
   "cell_type": "code",
   "execution_count": 74,
   "metadata": {},
   "outputs": [],
   "source": [
    "keyword_list = []\n",
    "\n",
    "i=0\n",
    "while i<len(master_list):\n",
    "    for key, value in master_list[i].items():\n",
    "        if key == \"authkeywords\" and value not in keyword_list:\n",
    "            keyword_list.append(value)\n",
    "        else:\n",
    "            pass\n",
    "    i+=1    \n",
    "\n"
   ]
  },
  {
   "cell_type": "code",
   "execution_count": 76,
   "metadata": {},
   "outputs": [
    {
     "name": "stdout",
     "output_type": "stream",
     "text": [
      "76072\n"
     ]
    }
   ],
   "source": [
    "print(len(keyword_list))"
   ]
  },
  {
   "cell_type": "code",
   "execution_count": 136,
   "metadata": {},
   "outputs": [],
   "source": [
    "new_kw_matches=[]\n",
    "\n",
    "i=0\n",
    "while i<len(updated_kw_list):\n",
    "    for key in updated_kw_list:\n",
    "        for item in keyword_list:\n",
    "            if key in item and item not in new_kw_matches:\n",
    "                new_kw_matches.append(item)\n",
    "    i=i+1"
   ]
  },
  {
   "cell_type": "code",
   "execution_count": 137,
   "metadata": {},
   "outputs": [
    {
     "data": {
      "text/plain": [
       "570"
      ]
     },
     "execution_count": 137,
     "metadata": {},
     "output_type": "execute_result"
    }
   ],
   "source": [
    "len(new_kw_matches)"
   ]
  },
  {
   "cell_type": "code",
   "execution_count": 105,
   "metadata": {},
   "outputs": [],
   "source": [
    "second_file_path = \"D:/pulls/outputs/*/*\""
   ]
  },
  {
   "cell_type": "code",
   "execution_count": 106,
   "metadata": {},
   "outputs": [],
   "source": [
    "raw_outputs2 = glob.glob(second_file_path)\n",
    "\n",
    "empty2 = []"
   ]
  },
  {
   "cell_type": "code",
   "execution_count": 107,
   "metadata": {},
   "outputs": [],
   "source": [
    "for i in raw_outputs2:\n",
    "    with open(i, \"rb\") as globd:\n",
    "        empty2.append(json.load(globd))"
   ]
  },
  {
   "cell_type": "code",
   "execution_count": 108,
   "metadata": {},
   "outputs": [],
   "source": [
    "for i in empty2:\n",
    "    for key, value in i.items():\n",
    "        if key == \"search-results\" and \"Result set was empty\" in str(value):\n",
    "            empty2.remove(i)"
   ]
  },
  {
   "cell_type": "code",
   "execution_count": 109,
   "metadata": {},
   "outputs": [
    {
     "name": "stdout",
     "output_type": "stream",
     "text": [
      "807\n"
     ]
    }
   ],
   "source": [
    "print(len(empty2))"
   ]
  },
  {
   "cell_type": "code",
   "execution_count": 110,
   "metadata": {},
   "outputs": [],
   "source": [
    "second_master_list = []\n",
    "lens = 0\n",
    "\n",
    "i=0\n",
    "while i<len(empty2):\n",
    "    for key, value in empty2[i].items():\n",
    "        for key2, value2 in value.items():\n",
    "            if key2 == \"entry\":\n",
    "                for val in value2:\n",
    "                    second_master_list.append(val)\n",
    "                    lens+=1\n",
    "                i+=1"
   ]
  },
  {
   "cell_type": "code",
   "execution_count": 111,
   "metadata": {},
   "outputs": [
    {
     "name": "stdout",
     "output_type": "stream",
     "text": [
      "9037\n"
     ]
    }
   ],
   "source": [
    "print(len(second_master_list))"
   ]
  },
  {
   "cell_type": "code",
   "execution_count": 112,
   "metadata": {},
   "outputs": [],
   "source": [
    "second_new_title_list = []\n",
    "\n",
    "i=0\n",
    "while i<len(second_master_list):\n",
    "    for key, value in second_master_list[i].items():\n",
    "        if key == \"dc:title\" and value not in second_new_title_list:\n",
    "            second_new_title_list.append(value)\n",
    "        else:\n",
    "            pass\n",
    "    i+=1   "
   ]
  },
  {
   "cell_type": "code",
   "execution_count": 113,
   "metadata": {},
   "outputs": [
    {
     "name": "stdout",
     "output_type": "stream",
     "text": [
      "7567\n"
     ]
    }
   ],
   "source": [
    "print(len(second_new_title_list))"
   ]
  },
  {
   "cell_type": "code",
   "execution_count": 129,
   "metadata": {},
   "outputs": [],
   "source": [
    "updated_kw_list = ['Argentinian American', 'Belizean American', 'Chicano American', 'Latino American', 'Latine', 'Bolivian American', 'Boricuas', 'Brazilian American', 'Chilean Americans', 'Colombian American', 'Costa Rican American', 'Costarisences', 'Cuban American', 'Dominican American', 'Ecuadorian American', 'Afro-Hispanic', 'Afro-Latino', 'Guatemalan American', 'Hispanic American', 'Hispanos', 'Honduran American', 'Mejicano', 'Mexican American', 'Nicaraguan American', 'Panamanean American', 'Paraguayan American', 'Peruvian American', 'Puerto Rican American', 'Salvadoran American', 'Tejano', 'Uruguayan American', 'Venezuelan American', 'Argentinian', 'Belizean', 'Chicanos', 'Latin American', 'Chicanas', 'Bolivians', 'Chicanx', 'Brazilians', 'Chileans', 'Colombian', 'Costa Rican', 'Latino', 'Cuban', 'Dominican', 'Ecuadorian', 'Latina', 'Afro-Latina', 'Guatemalan', 'Hispanic', 'Latinx', 'Honduran', 'Mexicano', 'Mexicans', 'Nicaraguan', 'Panamanean', 'Paraguayan', 'Peruvian', 'Puerto Rican', 'Salvadoran', 'Texano', 'Uruguayan', 'Venezuelan', 'Argentinos', 'Belizeanos', 'Bolivianos', 'Brasileños', 'Chilenos', 'Colombianos', 'Costarricences', 'Cubanos', 'Dominicanos', 'Ecuatorianos', 'Guatemaltecos', 'Mexican Americans', 'Hondureños', 'Nicaraguenses', 'Panameños', 'Paraguayos', 'Peruanos', 'Puertorriqueños', 'Salvadoreños', 'Uruguayos', 'Venezolanos', 'latinx', 'latina', 'latino', 'latine', 'hispanic', 'hispanos', 'Argentinian', 'Belizean', 'Chicano', 'Latino', 'Mexican', 'Nicaraguan', 'Panamanean', 'Paraguayan', 'Peruvian', 'Puerto Rican', 'Salvadoran', 'Uruguayan', 'Venezuelan', 'Honduran', 'Belize', 'Costa Rica', 'El Salvador', 'Guatemala', 'Honduras', 'Mexico', 'Nicaragua', 'Panama', 'Argentina', 'Bolivia', 'Brazil', 'Chile', 'Columbia', 'Ecuador', 'French Guiana', 'Guyana', 'Paraguay', 'Peru', 'Suriname', 'Uruguay', 'Venezuela', 'Cuba', 'Dominican Republic', 'Haiti', 'Guadeloupe', 'Martinique', 'Puerto Rico', 'Saint-Barthélemy', 'Saint-Martin', 'Saint Barthélemy', 'Saint Martin', 'Saint-Barthelemy', 'Saint Barthelemy', 'Brasilenos', 'Hondurenos', 'Panamenos', 'Puertorriquenos', 'Salvadorenos', 'Dominica', 'Latin', 'latin', 'South America', 'libro', 'información', 'bibliotecari', 'biblioteca', 'en linea', 'diario', 'periódico', 'publicación', 'obra de consulta', 'investigación', 'computerizdo', 'revista', 'diccionário', 'diccionario', 'circulación', 'circulacion', 'bibliográfia', 'bibliografia', 'biografía', 'biografia', 'catálogo', 'catalogo', 'enciclopedía', 'enciclopedia', 'computora', 'novela', 'impresión', 'impresion', 'catálogo', 'catalogo', 'latin-x', 'Latin-x', 'Latin-X', 'ARGENTINIAN AMERICAN', 'BELIZEAN AMERICAN', 'CHICANO AMERICAN', 'LATINO AMERICAN', 'LATINE', 'BOLIVIAN AMERICAN', 'BORICUAS', 'BRAZILIAN AMERICAN', 'CHILEAN AMERICANS', 'COLOMBIAN AMERICAN', 'COSTA RICAN AMERICAN', 'COSTARISENCES', 'CUBAN AMERICAN', 'DOMINICAN AMERICAN', 'ECUADORIAN AMERICAN', 'AFRO-HISPANIC', 'AFRO-LATINO', 'GUATEMALAN AMERICAN', 'HISPANIC AMERICAN', 'HISPANOS', 'HONDURAN AMERICAN', 'MEJICANO', 'MEXICAN AMERICAN', 'NICARAGUAN AMERICAN', 'PANAMANEAN AMERICAN', 'PARAGUAYAN AMERICAN', 'PERUVIAN AMERICAN', 'PUERTO RICAN AMERICAN', 'SALVADORAN AMERICAN', 'TEJANO', 'URUGUAYAN AMERICAN', 'VENEZUELAN AMERICAN', 'ARGENTINIAN', 'BELIZEAN', 'CHICANOS', 'LATIN AMERICAN', 'CHICANAS', 'BOLIVIANS', 'CHICANX', 'BRAZILIANS', 'CHILEANS', 'COLOMBIAN', 'COSTA RICAN', 'LATINO', 'CUBAN', 'DOMINICAN', 'ECUADORIAN', 'LATINA', 'AFRO-LATINA', 'GUATEMALAN', 'HISPANIC', 'LATINX', 'HONDURAN', 'MEXICANO', 'MEXICANS', 'NICARAGUAN', 'PANAMANEAN', 'PARAGUAYAN', 'PERUVIAN', 'PUERTO RICAN', 'SALVADORAN', 'TEXANO', 'URUGUAYAN', 'VENEZUELAN', 'ARGENTINOS', 'BELIZEANOS', 'BOLIVIANOS', 'BRASILEÑOS', 'CHILENOS', 'COLOMBIANOS', 'COSTARRICENCES', 'CUBANOS', 'DOMINICANOS', 'ECUATORIANOS', 'GUATEMALTECOS', 'MEXICAN AMERICANS', 'HONDUREÑOS', 'NICARAGUENSES', 'PANAMEÑOS', 'PARAGUAYOS', 'PERUANOS', 'PUERTORRIQUEÑOS', 'SALVADOREÑOS', 'URUGUAYOS', 'VENEZOLANOS', 'CHICANO', 'MEXICAN', 'BELIZE', 'COSTA RICA', 'EL SALVADOR', 'GUATEMALA', 'HONDURAS', 'MEXICO', 'NICARAGUA', 'PANAMA', 'ARGENTINA', 'BOLIVIA', 'BRAZIL', 'CHILE', 'COLUMBIA', 'ECUADOR', 'FRENCH GUIANA', 'GUYANA', 'PARAGUAY', 'PERU', 'SURINAME', 'URUGUAY', 'VENEZUELA', 'CUBA', 'DOMINICAN REPUBLIC', 'HAITI', 'GUADELOUPE', 'MARTINIQUE', 'PUERTO RICO', 'SAINT-BARTHÉLEMY', 'SAINT-MARTIN', 'SAINT BARTHÉLEMY', 'SAINT MARTIN', 'SAINT-BARTHELEMY', 'SAINT BARTHELEMY', 'BRASILENOS', 'HONDURENOS', 'PANAMENOS', 'PUERTORRIQUENOS', 'SALVADORENOS', 'DOMINICA', 'LATIN', 'SOUTH AMERICA', 'LIBRO', 'INFORMACIÓN', 'BIBLIOTECARI', 'BIBLIOTECA', 'EN LINEA', 'DIARIO', 'PERIÓDICO', 'PUBLICACIÓN', 'OBRA DE CONSULTA', 'INVESTIGACIÓN', 'COMPUTERIZDO', 'REVISTA', 'DICCIONÁRIO', 'DICCIONARIO', 'CIRCULACIÓN', 'CIRCULACION', 'BIBLIOGRÁFIA', 'BIBLIOGRAFIA', 'BIOGRAFÍA', 'BIOGRAFIA', 'CATÁLOGO', 'CATALOGO', 'ENCICLOPEDÍA', 'ENCICLOPEDIA', 'COMPUTORA', 'NOVELA', 'IMPRESIÓN', 'IMPRESION', 'LATIN-X', 'argentinian american', 'belizean american', 'chicano american', 'latino american', 'bolivian american', 'boricuas', 'brazilian american', 'chilean americans', 'colombian american', 'costa rican american', 'costarisences', 'cuban american', 'dominican american', 'ecuadorian american', 'afro-hispanic', 'afro-latino', 'guatemalan american', 'hispanic american', 'honduran american', 'mejicano', 'mexican american', 'nicaraguan american', 'panamanean american', 'paraguayan american', 'peruvian american', 'puerto rican american', 'salvadoran american', 'tejano', 'uruguayan american', 'venezuelan american', 'argentinian', 'belizean', 'chicanos', 'latin american', 'chicanas', 'bolivians', 'chicanx', 'brazilians', 'chileans', 'colombian', 'costa rican', 'cuban', 'dominican', 'ecuadorian', 'afro-latina', 'guatemalan', 'honduran', 'mexicano', 'mexicans', 'nicaraguan', 'panamanean', 'paraguayan', 'peruvian', 'puerto rican', 'salvadoran', 'texano', 'uruguayan', 'venezuelan', 'argentinos', 'belizeanos', 'bolivianos', 'brasileños', 'chilenos', 'colombianos', 'costarricences', 'cubanos', 'dominicanos', 'ecuatorianos', 'guatemaltecos', 'mexican americans', 'hondureños', 'nicaraguenses', 'panameños', 'paraguayos', 'peruanos', 'puertorriqueños', 'salvadoreños', 'uruguayos', 'venezolanos', 'chicano', 'mexican', 'belize', 'costa rica', 'el salvador', 'guatemala', 'honduras', 'mexico', 'nicaragua', 'panama', 'argentina', 'bolivia', 'brazil', 'chile', 'columbia', 'ecuador', 'french guiana', 'guyana', 'paraguay', 'peru', 'suriname', 'uruguay', 'venezuela', 'cuba', 'dominican republic', 'haiti', 'guadeloupe', 'martinique', 'puerto rico', 'saint-barthélemy', 'saint-martin', 'saint barthélemy', 'saint martin', 'saint-barthelemy', 'saint barthelemy', 'brasilenos', 'hondurenos', 'panamenos', 'puertorriquenos', 'salvadorenos', 'dominica', 'south america']"
   ]
  },
  {
   "cell_type": "code",
   "execution_count": 130,
   "metadata": {},
   "outputs": [],
   "source": [
    "second_new_title_matches=[]\n",
    "\n",
    "i=0\n",
    "while i<len(updated_kw_list):\n",
    "    for key in updated_kw_list:\n",
    "        for item in second_new_title_list:\n",
    "            if key in item and item not in second_new_title_matches:\n",
    "                second_new_title_matches.append(item)\n",
    "    i=i+1"
   ]
  },
  {
   "cell_type": "code",
   "execution_count": 131,
   "metadata": {},
   "outputs": [
    {
     "name": "stdout",
     "output_type": "stream",
     "text": [
      "67\n"
     ]
    }
   ],
   "source": [
    "print(len(second_new_title_matches))"
   ]
  },
  {
   "cell_type": "code",
   "execution_count": 116,
   "metadata": {},
   "outputs": [],
   "source": [
    "second_keyword_list = []\n",
    "\n",
    "i=0\n",
    "while i<len(second_master_list):\n",
    "    for key, value in second_master_list[i].items():\n",
    "        if key == \"authkeywords\" and value not in second_keyword_list:\n",
    "            second_keyword_list.append(value)\n",
    "        else:\n",
    "            pass\n",
    "    i+=1    \n",
    "\n"
   ]
  },
  {
   "cell_type": "code",
   "execution_count": 117,
   "metadata": {},
   "outputs": [
    {
     "name": "stdout",
     "output_type": "stream",
     "text": [
      "1972\n"
     ]
    }
   ],
   "source": [
    "print(len(second_keyword_list))"
   ]
  },
  {
   "cell_type": "code",
   "execution_count": 132,
   "metadata": {},
   "outputs": [],
   "source": [
    "second_kw_matches=[]\n",
    "\n",
    "i=0\n",
    "while i<len(updated_kw_list):\n",
    "    for key in updated_kw_list:\n",
    "        for item in second_keyword_list:\n",
    "            if key in item and item not in second_kw_matches:\n",
    "                second_kw_matches.append(item)\n",
    "    i=i+1"
   ]
  },
  {
   "cell_type": "code",
   "execution_count": 133,
   "metadata": {},
   "outputs": [
    {
     "name": "stdout",
     "output_type": "stream",
     "text": [
      "15\n"
     ]
    }
   ],
   "source": [
    "print(len(second_kw_matches))"
   ]
  },
  {
   "cell_type": "code",
   "execution_count": null,
   "metadata": {},
   "outputs": [],
   "source": []
  }
 ],
 "metadata": {
  "kernelspec": {
   "display_name": "Python 3",
   "language": "python",
   "name": "python3"
  },
  "language_info": {
   "codemirror_mode": {
    "name": "ipython",
    "version": 3
   },
   "file_extension": ".py",
   "mimetype": "text/x-python",
   "name": "python",
   "nbconvert_exporter": "python",
   "pygments_lexer": "ipython3",
   "version": "3.7.4"
  }
 },
 "nbformat": 4,
 "nbformat_minor": 2
}
