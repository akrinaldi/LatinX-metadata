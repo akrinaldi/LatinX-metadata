{
 "cells": [
  {
   "cell_type": "code",
   "execution_count": 1,
   "metadata": {},
   "outputs": [],
   "source": [
    "import pandas as pd"
   ]
  },
  {
   "cell_type": "code",
   "execution_count": 3,
   "metadata": {},
   "outputs": [],
   "source": [
    "lead_pipe = pd.read_csv(\"D:/pulls/In the Library with the Lead Pipe.csv\")"
   ]
  },
  {
   "cell_type": "code",
   "execution_count": 4,
   "metadata": {},
   "outputs": [],
   "source": [
    "interactions = pd.read_csv(\"D:/pulls/Interactions UCLA Journal of Education and Information Studies.csv\")"
   ]
  },
  {
   "cell_type": "code",
   "execution_count": 5,
   "metadata": {},
   "outputs": [],
   "source": [
    "critical_lib = pd.read_csv(\"D:/pulls/Journal of Critical Library and Information Studies.csv\")"
   ]
  },
  {
   "cell_type": "code",
   "execution_count": 6,
   "metadata": {},
   "outputs": [],
   "source": [
    "rad_lib = pd.read_csv(\"D:/pulls/Journal of Radical Librarianship.csv\")"
   ]
  },
  {
   "cell_type": "code",
   "execution_count": 7,
   "metadata": {},
   "outputs": [],
   "source": [
    "lib_CHS = pd.read_csv(\"D:/pulls/Libraries Culture, History, and Society.csv\")"
   ]
  },
  {
   "cell_type": "code",
   "execution_count": 8,
   "metadata": {},
   "outputs": [],
   "source": [
    "lib_tech = pd.read_csv(\"D:/pulls/library technology reports.csv\")"
   ]
  },
  {
   "cell_type": "code",
   "execution_count": 9,
   "metadata": {},
   "outputs": [],
   "source": [
    "pub_lib = pd.read_csv(\"D:/pulls/public library quarterly.csv\")"
   ]
  },
  {
   "cell_type": "code",
   "execution_count": 10,
   "metadata": {},
   "outputs": [],
   "source": [
    "school_lib = pd.read_csv(\"D:/pulls/school libaries worldwide.csv\")"
   ]
  },
  {
   "cell_type": "code",
   "execution_count": 11,
   "metadata": {},
   "outputs": [],
   "source": [
    "urban_lib = pd.read_csv(\"D:/pulls/urban library.csv\")"
   ]
  },
  {
   "cell_type": "code",
   "execution_count": 12,
   "metadata": {},
   "outputs": [],
   "source": [
    "title_list = []"
   ]
  },
  {
   "cell_type": "code",
   "execution_count": 16,
   "metadata": {},
   "outputs": [],
   "source": [
    "for i in lead_pipe[\"Title\"]:\n",
    "    title_list.append(i)"
   ]
  },
  {
   "cell_type": "code",
   "execution_count": 17,
   "metadata": {},
   "outputs": [],
   "source": [
    "for i in interactions[\"Title\"]:\n",
    "    title_list.append(i)"
   ]
  },
  {
   "cell_type": "code",
   "execution_count": 18,
   "metadata": {},
   "outputs": [],
   "source": [
    "for i in critical_lib[\"Title\"]:\n",
    "    title_list.append(i)"
   ]
  },
  {
   "cell_type": "code",
   "execution_count": 19,
   "metadata": {},
   "outputs": [],
   "source": [
    "for i in rad_lib[\"Title\"]:\n",
    "    title_list.append(i)"
   ]
  },
  {
   "cell_type": "code",
   "execution_count": 20,
   "metadata": {},
   "outputs": [],
   "source": [
    "for i in lib_CHS[\"Title\"]:\n",
    "    title_list.append(i)"
   ]
  },
  {
   "cell_type": "code",
   "execution_count": 21,
   "metadata": {},
   "outputs": [],
   "source": [
    "for i in lib_tech[\"Title\"]:\n",
    "    title_list.append(i)"
   ]
  },
  {
   "cell_type": "code",
   "execution_count": 22,
   "metadata": {},
   "outputs": [],
   "source": [
    "for i in pub_lib[\"Title\"]:\n",
    "    title_list.append(i)"
   ]
  },
  {
   "cell_type": "code",
   "execution_count": 23,
   "metadata": {},
   "outputs": [],
   "source": [
    "for i in school_lib[\"Title\"]:\n",
    "    title_list.append(i)"
   ]
  },
  {
   "cell_type": "code",
   "execution_count": 24,
   "metadata": {},
   "outputs": [],
   "source": [
    "for i in urban_lib[\"Title\"]:\n",
    "    title_list.append(i)"
   ]
  },
  {
   "cell_type": "code",
   "execution_count": 25,
   "metadata": {},
   "outputs": [
    {
     "name": "stdout",
     "output_type": "stream",
     "text": [
      "1761\n"
     ]
    }
   ],
   "source": [
    "print(len(title_list))"
   ]
  },
  {
   "cell_type": "code",
   "execution_count": 26,
   "metadata": {},
   "outputs": [],
   "source": [
    "keywords_data = pd.read_csv(\"C:/Users/rinal/Downloads/keys_new.csv\")"
   ]
  },
  {
   "cell_type": "code",
   "execution_count": 27,
   "metadata": {},
   "outputs": [],
   "source": [
    "kw_list = []\n",
    "\n",
    "for i in keywords_data[\"Word\"]:\n",
    "    kw_list.append(i)"
   ]
  },
  {
   "cell_type": "code",
   "execution_count": 34,
   "metadata": {},
   "outputs": [],
   "source": [
    "title_matches=[]\n",
    "\n",
    "i=0\n",
    "while i<len(updated_kw_list):\n",
    "    for key in updated_kw_list:\n",
    "        for item in title_list:\n",
    "            if key in item and item not in title_matches:\n",
    "                title_matches.append(item)\n",
    "    i=i+1"
   ]
  },
  {
   "cell_type": "code",
   "execution_count": 35,
   "metadata": {},
   "outputs": [
    {
     "name": "stdout",
     "output_type": "stream",
     "text": [
      "23\n"
     ]
    }
   ],
   "source": [
    "print(len(title_matches))"
   ]
  },
  {
   "cell_type": "code",
   "execution_count": 30,
   "metadata": {},
   "outputs": [],
   "source": [
    "additional_kw = ['Latin','latin','Belize','Costa Rica','El Salvador','Guatemala','Honduras','Mexico','Nicaragua','Panama','Argentina','Bolivia','Brazil','Chile','Columbia','Ecuador','French Guiana','Guyana','Paraguay','Peru','Suriname','Uruguay','Venezuela','Cuba','Dominican Republic','Haiti','Guadeloupe','Martinique','Puerto Rico','Saint-Barthélemy','Saint-Martin','Saint Barthélemy','Saint Martin','Saint-Barthelemy','Saint Barthelemy','Brasilenos','Hondurenos','Panamenos','Puertorriquenos','Salvadorenos','Dominica']\n",
    "\n",
    "for i in additional_kw:\n",
    "    kw_list.append(i)"
   ]
  },
  {
   "cell_type": "code",
   "execution_count": 33,
   "metadata": {},
   "outputs": [],
   "source": [
    "updated_kw_list = ['Argentinian American', 'Belizean American', 'Chicano American', 'Latino American', 'Latine', 'Bolivian American', 'Boricuas', 'Brazilian American', 'Chilean Americans', 'Colombian American', 'Costa Rican American', 'Costarisences', 'Cuban American', 'Dominican American', 'Ecuadorian American', 'Afro-Hispanic', 'Afro-Latino', 'Guatemalan American', 'Hispanic American', 'Hispanos', 'Honduran American', 'Mejicano', 'Mexican American', 'Nicaraguan American', 'Panamanean American', 'Paraguayan American', 'Peruvian American', 'Puerto Rican American', 'Salvadoran American', 'Tejano', 'Uruguayan American', 'Venezuelan American', 'Argentinian', 'Belizean', 'Chicanos', 'Latin American', 'Chicanas', 'Bolivians', 'Chicanx', 'Brazilians', 'Chileans', 'Colombian', 'Costa Rican', 'Latino', 'Cuban', 'Dominican', 'Ecuadorian', 'Latina', 'Afro-Latina', 'Guatemalan', 'Hispanic', 'Latinx', 'Honduran', 'Mexicano', 'Mexicans', 'Nicaraguan', 'Panamanean', 'Paraguayan', 'Peruvian', 'Puerto Rican', 'Salvadoran', 'Texano', 'Uruguayan', 'Venezuelan', 'Argentinos', 'Belizeanos', 'Bolivianos', 'Brasileños', 'Chilenos', 'Colombianos', 'Costarricences', 'Cubanos', 'Dominicanos', 'Ecuatorianos', 'Guatemaltecos', 'Mexican Americans', 'Hondureños', 'Nicaraguenses', 'Panameños', 'Paraguayos', 'Peruanos', 'Puertorriqueños', 'Salvadoreños', 'Uruguayos', 'Venezolanos', 'latinx', 'latina', 'latino', 'latine', 'hispanic', 'hispanos', 'Argentinian', 'Belizean', 'Chicano', 'Latino', 'Mexican', 'Nicaraguan', 'Panamanean', 'Paraguayan', 'Peruvian', 'Puerto Rican', 'Salvadoran', 'Uruguayan', 'Venezuelan', 'Honduran', 'Belize', 'Costa Rica', 'El Salvador', 'Guatemala', 'Honduras', 'Mexico', 'Nicaragua', 'Panama', 'Argentina', 'Bolivia', 'Brazil', 'Chile', 'Columbia', 'Ecuador', 'French Guiana', 'Guyana', 'Paraguay', 'Peru', 'Suriname', 'Uruguay', 'Venezuela', 'Cuba', 'Dominican Republic', 'Haiti', 'Guadeloupe', 'Martinique', 'Puerto Rico', 'Saint-Barthélemy', 'Saint-Martin', 'Saint Barthélemy', 'Saint Martin', 'Saint-Barthelemy', 'Saint Barthelemy', 'Brasilenos', 'Hondurenos', 'Panamenos', 'Puertorriquenos', 'Salvadorenos', 'Dominica', 'Latin', 'latin', 'South America', 'libro', 'información', 'bibliotecari', 'biblioteca', 'en linea', 'diario', 'periódico', 'publicación', 'obra de consulta', 'investigación', 'computerizdo', 'revista', 'diccionário', 'diccionario', 'circulación', 'circulacion', 'bibliográfia', 'bibliografia', 'biografía', 'biografia', 'catálogo', 'catalogo', 'enciclopedía', 'enciclopedia', 'computora', 'novela', 'impresión', 'impresion', 'catálogo', 'catalogo', 'latin-x', 'Latin-x', 'Latin-X', 'ARGENTINIAN AMERICAN', 'BELIZEAN AMERICAN', 'CHICANO AMERICAN', 'LATINO AMERICAN', 'LATINE', 'BOLIVIAN AMERICAN', 'BORICUAS', 'BRAZILIAN AMERICAN', 'CHILEAN AMERICANS', 'COLOMBIAN AMERICAN', 'COSTA RICAN AMERICAN', 'COSTARISENCES', 'CUBAN AMERICAN', 'DOMINICAN AMERICAN', 'ECUADORIAN AMERICAN', 'AFRO-HISPANIC', 'AFRO-LATINO', 'GUATEMALAN AMERICAN', 'HISPANIC AMERICAN', 'HISPANOS', 'HONDURAN AMERICAN', 'MEJICANO', 'MEXICAN AMERICAN', 'NICARAGUAN AMERICAN', 'PANAMANEAN AMERICAN', 'PARAGUAYAN AMERICAN', 'PERUVIAN AMERICAN', 'PUERTO RICAN AMERICAN', 'SALVADORAN AMERICAN', 'TEJANO', 'URUGUAYAN AMERICAN', 'VENEZUELAN AMERICAN', 'ARGENTINIAN', 'BELIZEAN', 'CHICANOS', 'LATIN AMERICAN', 'CHICANAS', 'BOLIVIANS', 'CHICANX', 'BRAZILIANS', 'CHILEANS', 'COLOMBIAN', 'COSTA RICAN', 'LATINO', 'CUBAN', 'DOMINICAN', 'ECUADORIAN', 'LATINA', 'AFRO-LATINA', 'GUATEMALAN', 'HISPANIC', 'LATINX', 'HONDURAN', 'MEXICANO', 'MEXICANS', 'NICARAGUAN', 'PANAMANEAN', 'PARAGUAYAN', 'PERUVIAN', 'PUERTO RICAN', 'SALVADORAN', 'TEXANO', 'URUGUAYAN', 'VENEZUELAN', 'ARGENTINOS', 'BELIZEANOS', 'BOLIVIANOS', 'BRASILEÑOS', 'CHILENOS', 'COLOMBIANOS', 'COSTARRICENCES', 'CUBANOS', 'DOMINICANOS', 'ECUATORIANOS', 'GUATEMALTECOS', 'MEXICAN AMERICANS', 'HONDUREÑOS', 'NICARAGUENSES', 'PANAMEÑOS', 'PARAGUAYOS', 'PERUANOS', 'PUERTORRIQUEÑOS', 'SALVADOREÑOS', 'URUGUAYOS', 'VENEZOLANOS', 'CHICANO', 'MEXICAN', 'BELIZE', 'COSTA RICA', 'EL SALVADOR', 'GUATEMALA', 'HONDURAS', 'MEXICO', 'NICARAGUA', 'PANAMA', 'ARGENTINA', 'BOLIVIA', 'BRAZIL', 'CHILE', 'COLUMBIA', 'ECUADOR', 'FRENCH GUIANA', 'GUYANA', 'PARAGUAY', 'PERU', 'SURINAME', 'URUGUAY', 'VENEZUELA', 'CUBA', 'DOMINICAN REPUBLIC', 'HAITI', 'GUADELOUPE', 'MARTINIQUE', 'PUERTO RICO', 'SAINT-BARTHÉLEMY', 'SAINT-MARTIN', 'SAINT BARTHÉLEMY', 'SAINT MARTIN', 'SAINT-BARTHELEMY', 'SAINT BARTHELEMY', 'BRASILENOS', 'HONDURENOS', 'PANAMENOS', 'PUERTORRIQUENOS', 'SALVADORENOS', 'DOMINICA', 'LATIN', 'SOUTH AMERICA', 'LIBRO', 'INFORMACIÓN', 'BIBLIOTECARI', 'BIBLIOTECA', 'EN LINEA', 'DIARIO', 'PERIÓDICO', 'PUBLICACIÓN', 'OBRA DE CONSULTA', 'INVESTIGACIÓN', 'COMPUTERIZDO', 'REVISTA', 'DICCIONÁRIO', 'DICCIONARIO', 'CIRCULACIÓN', 'CIRCULACION', 'BIBLIOGRÁFIA', 'BIBLIOGRAFIA', 'BIOGRAFÍA', 'BIOGRAFIA', 'CATÁLOGO', 'CATALOGO', 'ENCICLOPEDÍA', 'ENCICLOPEDIA', 'COMPUTORA', 'NOVELA', 'IMPRESIÓN', 'IMPRESION', 'LATIN-X', 'argentinian american', 'belizean american', 'chicano american', 'latino american', 'bolivian american', 'boricuas', 'brazilian american', 'chilean americans', 'colombian american', 'costa rican american', 'costarisences', 'cuban american', 'dominican american', 'ecuadorian american', 'afro-hispanic', 'afro-latino', 'guatemalan american', 'hispanic american', 'honduran american', 'mejicano', 'mexican american', 'nicaraguan american', 'panamanean american', 'paraguayan american', 'peruvian american', 'puerto rican american', 'salvadoran american', 'tejano', 'uruguayan american', 'venezuelan american', 'argentinian', 'belizean', 'chicanos', 'latin american', 'chicanas', 'bolivians', 'chicanx', 'brazilians', 'chileans', 'colombian', 'costa rican', 'cuban', 'dominican', 'ecuadorian', 'afro-latina', 'guatemalan', 'honduran', 'mexicano', 'mexicans', 'nicaraguan', 'panamanean', 'paraguayan', 'peruvian', 'puerto rican', 'salvadoran', 'texano', 'uruguayan', 'venezuelan', 'argentinos', 'belizeanos', 'bolivianos', 'brasileños', 'chilenos', 'colombianos', 'costarricences', 'cubanos', 'dominicanos', 'ecuatorianos', 'guatemaltecos', 'mexican americans', 'hondureños', 'nicaraguenses', 'panameños', 'paraguayos', 'peruanos', 'puertorriqueños', 'salvadoreños', 'uruguayos', 'venezolanos', 'chicano', 'mexican', 'belize', 'costa rica', 'el salvador', 'guatemala', 'honduras', 'mexico', 'nicaragua', 'panama', 'argentina', 'bolivia', 'brazil', 'chile', 'columbia', 'ecuador', 'french guiana', 'guyana', 'paraguay', 'peru', 'suriname', 'uruguay', 'venezuela', 'cuba', 'dominican republic', 'haiti', 'guadeloupe', 'martinique', 'puerto rico', 'saint-barthélemy', 'saint-martin', 'saint barthélemy', 'saint martin', 'saint-barthelemy', 'saint barthelemy', 'brasilenos', 'hondurenos', 'panamenos', 'puertorriquenos', 'salvadorenos', 'dominica', 'south america']"
   ]
  },
  {
   "cell_type": "code",
   "execution_count": null,
   "metadata": {},
   "outputs": [],
   "source": []
  }
 ],
 "metadata": {
  "kernelspec": {
   "display_name": "Python 3",
   "language": "python",
   "name": "python3"
  },
  "language_info": {
   "codemirror_mode": {
    "name": "ipython",
    "version": 3
   },
   "file_extension": ".py",
   "mimetype": "text/x-python",
   "name": "python",
   "nbconvert_exporter": "python",
   "pygments_lexer": "ipython3",
   "version": "3.7.4"
  }
 },
 "nbformat": 4,
 "nbformat_minor": 2
}
