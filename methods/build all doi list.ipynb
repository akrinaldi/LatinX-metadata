{
 "cells": [
  {
   "cell_type": "code",
   "execution_count": 6,
   "metadata": {},
   "outputs": [],
   "source": [
    "#import all relevant packages\n",
    "\n",
    "import json\n",
    "import glob\n",
    "import pandas as pd"
   ]
  },
  {
   "cell_type": "code",
   "execution_count": 7,
   "metadata": {},
   "outputs": [],
   "source": [
    "#establish base keyword list\n",
    "\n",
    "base_keys = ['Argentinian American', 'Belizean American', 'Chicano American', 'Latino American', 'Latine', 'Bolivian American', 'Boricuas', 'Brazilian American', 'Chilean Americans', 'Colombian American', 'Costa Rican American', 'Costarisences', 'Cuban American', 'Dominican American', 'Ecuadorian American', 'Afro-Hispanic', 'Afro-Latino', 'Guatemalan American', 'Hispanic American', 'Hispanos', 'Honduran American', 'Mejicano', 'Mexican American', 'Nicaraguan American', 'Panamanean American', 'Paraguayan American', 'Peruvian American', 'Puerto Rican American', 'Salvadoran American', 'Tejano', 'Uruguayan American', 'Venezuelan American', 'Argentinian', 'Belizean', 'Chicanos', 'Latin American', 'Chicanas', 'Bolivians', 'Chicanx', 'Brazilians', 'Chileans', 'Colombian', 'Costa Rican', 'Latino', 'Cuban', 'Dominican', 'Ecuadorian', 'Latina', 'Afro-Latina', 'Guatemalan', 'Hispanic', 'Latinx', 'Honduran', 'Mexicano', 'Mexicans', 'Nicaraguan', 'Panamanean', 'Paraguayan', 'Peruvian', 'Puerto Rican', 'Salvadoran', 'Texano', 'Uruguayan', 'Venezuelan', 'Argentinos', 'Belizeanos', 'Bolivianos', 'Brasileños', 'Chilenos', 'Colombianos', 'Costarricences', 'Cubanos', 'Dominicanos', 'Ecuatorianos', 'Guatemaltecos', 'Mexican Americans', 'Hondureños', 'Nicaraguenses', 'Panameños', 'Paraguayos', 'Peruanos', 'Puertorriqueños', 'Salvadoreños', 'Uruguayos', 'Venezolanos', 'latinx', 'latina', 'latino', 'latine', 'hispanic', 'hispanos', 'Chicano', 'Mexican', 'Belize', 'Costa Rica', 'El Salvador', 'Guatemala', 'Honduras', 'Mexico', 'Nicaragua', 'Panama', 'Argentina', 'Bolivia', 'Brazil', 'Chile', 'Columbia', 'Ecuador', 'French Guiana', 'Guyana', 'Paraguay', 'Peru', 'Suriname', 'Uruguay', 'Venezuela', 'Cuba', 'Dominican Republic', 'Haiti', 'Guadeloupe', 'Martinique', 'Puerto Rico', 'Saint-Barthélemy', 'Saint-Martin', 'Saint Barthélemy', 'Saint Martin', 'Saint-Barthelemy', 'Saint Barthelemy', 'Brasilenos', 'Hondurenos', 'Panamenos', 'Puertorriquenos', 'Salvadorenos', 'Dominica', 'Latin', 'latin', 'South America', 'latin-x', 'Latin-x', 'Latin-X', 'ARGENTINIAN AMERICAN', 'BELIZEAN AMERICAN', 'CHICANO AMERICAN', 'LATINO AMERICAN', 'LATINE', 'BOLIVIAN AMERICAN', 'BORICUAS', 'BRAZILIAN AMERICAN', 'CHILEAN AMERICANS', 'COLOMBIAN AMERICAN', 'COSTA RICAN AMERICAN', 'COSTARISENCES', 'CUBAN AMERICAN', 'DOMINICAN AMERICAN', 'ECUADORIAN AMERICAN', 'AFRO-HISPANIC', 'AFRO-LATINO', 'GUATEMALAN AMERICAN', 'HISPANIC AMERICAN', 'HISPANOS', 'HONDURAN AMERICAN', 'MEJICANO', 'MEXICAN AMERICAN', 'NICARAGUAN AMERICAN', 'PANAMANEAN AMERICAN', 'PARAGUAYAN AMERICAN', 'PERUVIAN AMERICAN', 'PUERTO RICAN AMERICAN', 'SALVADORAN AMERICAN', 'TEJANO', 'URUGUAYAN AMERICAN', 'VENEZUELAN AMERICAN', 'ARGENTINIAN', 'BELIZEAN', 'CHICANOS', 'LATIN AMERICAN', 'CHICANAS', 'BOLIVIANS', 'CHICANX', 'BRAZILIANS', 'CHILEANS', 'COLOMBIAN', 'COSTA RICAN', 'LATINO', 'CUBAN', 'DOMINICAN', 'ECUADORIAN', 'LATINA', 'AFRO-LATINA', 'GUATEMALAN', 'HISPANIC', 'LATINX', 'HONDURAN', 'MEXICANO', 'MEXICANS', 'NICARAGUAN', 'PANAMANEAN', 'PARAGUAYAN', 'PERUVIAN', 'PUERTO RICAN', 'SALVADORAN', 'TEXANO', 'URUGUAYAN', 'VENEZUELAN', 'ARGENTINOS', 'BELIZEANOS', 'BOLIVIANOS', 'BRASILEÑOS', 'CHILENOS', 'COLOMBIANOS', 'COSTARRICENCES', 'CUBANOS', 'DOMINICANOS', 'ECUATORIANOS', 'GUATEMALTECOS', 'MEXICAN AMERICANS', 'HONDUREÑOS', 'NICARAGUENSES', 'PANAMEÑOS', 'PARAGUAYOS', 'PERUANOS', 'PUERTORRIQUEÑOS', 'SALVADOREÑOS', 'URUGUAYOS', 'VENEZOLANOS', 'CHICANO', 'MEXICAN', 'BELIZE', 'COSTA RICA', 'EL SALVADOR', 'GUATEMALA', 'HONDURAS', 'MEXICO', 'NICARAGUA', 'PANAMA', 'ARGENTINA', 'BOLIVIA', 'BRAZIL', 'CHILE', 'COLUMBIA', 'ECUADOR', 'FRENCH GUIANA', 'GUYANA', 'PARAGUAY', 'PERU', 'SURINAME', 'URUGUAY', 'VENEZUELA', 'CUBA', 'DOMINICAN REPUBLIC', 'HAITI', 'GUADELOUPE', 'MARTINIQUE', 'PUERTO RICO', 'SAINT-BARTHÉLEMY', 'SAINT-MARTIN', 'SAINT BARTHÉLEMY', 'SAINT MARTIN', 'SAINT-BARTHELEMY', 'SAINT BARTHELEMY', 'BRASILENOS', 'HONDURENOS', 'PANAMENOS', 'PUERTORRIQUENOS', 'SALVADORENOS', 'DOMINICA', 'LATIN', 'SOUTH AMERICA', 'LATIN-X', 'argentinian american', 'belizean american', 'chicano american', 'latino american', 'bolivian american', 'boricuas', 'brazilian american', 'chilean americans', 'colombian american', 'costa rican american', 'costarisences', 'cuban american', 'dominican american', 'ecuadorian american', 'afro-hispanic', 'afro-latino', 'guatemalan american', 'hispanic american', 'honduran american', 'mejicano', 'mexican american', 'nicaraguan american', 'panamanean american', 'paraguayan american', 'peruvian american', 'puerto rican american', 'salvadoran american', 'tejano', 'uruguayan american', 'venezuelan american', 'argentinian', 'belizean', 'chicanos', 'latin american', 'chicanas', 'bolivians', 'chicanx', 'brazilians', 'chileans', 'colombian', 'costa rican', 'cuban', 'dominican', 'ecuadorian', 'afro-latina', 'guatemalan', 'honduran', 'mexicano', 'mexicans', 'nicaraguan', 'panamanean', 'paraguayan', 'peruvian', 'puerto rican', 'salvadoran', 'texano', 'uruguayan', 'venezuelan', 'argentinos', 'belizeanos', 'bolivianos', 'brasileños', 'chilenos', 'colombianos', 'costarricences', 'cubanos', 'dominicanos', 'ecuatorianos', 'guatemaltecos', 'mexican americans', 'hondureños', 'nicaraguenses', 'panameños', 'paraguayos', 'peruanos', 'puertorriqueños', 'salvadoreños', 'uruguayos', 'venezolanos', 'chicano', 'mexican', 'belize', 'costa rica', 'el salvador', 'guatemala', 'honduras', 'mexico', 'nicaragua', 'panama', 'argentina', 'bolivia', 'brazil', 'chile', 'columbia', 'ecuador', 'french guiana', 'guyana', 'paraguay', 'peru', 'suriname', 'uruguay', 'venezuela', 'cuba', 'dominican republic', 'haiti', 'guadeloupe', 'martinique', 'puerto rico', 'saint-barthélemy', 'saint-martin', 'saint barthélemy', 'saint martin', 'saint-barthelemy', 'saint barthelemy', 'brasilenos', 'hondurenos', 'panamenos', 'puertorriquenos', 'salvadorenos', 'dominica', 'south america']"
   ]
  },
  {
   "cell_type": "code",
   "execution_count": 8,
   "metadata": {},
   "outputs": [],
   "source": [
    "#introduce library terms\n",
    "\n",
    "libro_words = ['libro', 'información', 'bibliotecari', 'biblioteca', 'en linea', 'diario', 'periódico', 'publicación', 'obra de consulta', 'investigación', 'computerizdo', 'revista', 'diccionário', 'diccionario', 'circulación', 'circulacion', 'bibliográfia', 'bibliografia', 'biografía', 'biografia', 'catálogo', 'catalogo', 'enciclopedía', 'enciclopedia', 'computora', 'novela', 'impresión', 'impresion', 'LIBRO', 'INFORMACIÓN', 'BIBLIOTECARI', 'BIBLIOTECA', 'EN LINEA', 'DIARIO', 'PERIÓDICO', 'PUBLICACIÓN', 'OBRA DE CONSULTA', 'INVESTIGACIÓN', 'COMPUTERIZDO', 'REVISTA', 'DICCIONÁRIO', 'DICCIONARIO', 'CIRCULACIÓN', 'CIRCULACION', 'BIBLIOGRÁFIA', 'BIBLIOGRAFIA', 'BIOGRAFÍA', 'BIOGRAFIA', 'CATÁLOGO', 'CATALOGO', 'ENCICLOPEDÍA', 'ENCICLOPEDIA', 'COMPUTORA', 'NOVELA', 'IMPRESIÓN', 'IMPRESION']"
   ]
  },
  {
   "cell_type": "code",
   "execution_count": 9,
   "metadata": {},
   "outputs": [],
   "source": [
    "#add languages\n",
    "\n",
    "languages = ['Spanish', 'Espanol', 'Español', 'spanish', 'espanol', 'español', 'SPANISH', 'ESPANOL', 'ESPAÑOL', 'Português', 'Portuguese', 'PORTUGUESE', 'PORTUGUÊS', 'português', 'portuguese', 'Quechua', 'quechua', 'Guarani', 'guarani', 'Talian', 'Hunsrik', 'Aymara', 'Wayuu', 'Sranan Tongo', 'Pomeranian', 'Mapudungun', 'Sarnami Hindustani', 'QUECHUA', 'GUARANI', 'TALIAN', 'HUNSRIK', 'AYMARA', 'WAYUU', 'SRANAN TONGO', 'POMERANIAN', 'MAPUDUNGUN', 'SARNAMI HINDUSTANI', 'talian', 'hunsrik', 'aymara', 'wayuu', 'sranan tongo', 'pomeranian', 'mapudungun', 'sarnami hindustani']"
   ]
  },
  {
   "cell_type": "code",
   "execution_count": 10,
   "metadata": {},
   "outputs": [],
   "source": [
    "def give_unique(list1):\n",
    "    unique_ids = []\n",
    "    for i in list1:\n",
    "        if i not in unique_ids:\n",
    "            unique_ids.append(i)\n",
    "        else:\n",
    "            continue\n",
    "    return unique_ids"
   ]
  },
  {
   "cell_type": "code",
   "execution_count": 11,
   "metadata": {},
   "outputs": [],
   "source": [
    "#establish our empty list for all doi or eid matches:\n",
    "\n",
    "doi_eid_matches_base = []\n",
    "doi_eid_matches_libro = []\n",
    "doi_eid_matches_lang = []"
   ]
  },
  {
   "cell_type": "code",
   "execution_count": 76,
   "metadata": {},
   "outputs": [],
   "source": [
    "#pull in all of the main files from the limited year pull\n",
    "\n",
    "limited_years_path = \"C:/Users/abbyk/Documents/limited_copy/*/*\"\n",
    "\n",
    "limited_years_glob = glob.glob(limited_years_path)\n",
    "\n",
    "empty = []\n",
    "\n",
    "for i in limited_years_glob:\n",
    "    with open(i, \"rb\") as globd:\n",
    "        empty.append(json.load(globd))"
   ]
  },
  {
   "cell_type": "code",
   "execution_count": 77,
   "metadata": {},
   "outputs": [],
   "source": [
    "#clean out the empty files\n",
    "\n",
    "for i in empty:\n",
    "    for key, value in i.items():\n",
    "        if key == \"search-results\" and \"Result set was empty\" in str(value):\n",
    "            empty.remove(i)"
   ]
  },
  {
   "cell_type": "code",
   "execution_count": 78,
   "metadata": {},
   "outputs": [],
   "source": [
    "#create the master list\n",
    "\n",
    "master_list = []\n",
    "lens = 0\n",
    "\n",
    "i=0\n",
    "while i<len(empty):\n",
    "    for key, value in empty[i].items():\n",
    "        for key2, value2 in value.items():\n",
    "            if key2 == \"entry\":\n",
    "                for val in value2:\n",
    "                    master_list.append(val)\n",
    "                    lens+=1\n",
    "                i+=1"
   ]
  },
  {
   "cell_type": "code",
   "execution_count": 79,
   "metadata": {},
   "outputs": [],
   "source": [
    "#create the relevant dictionaries and lists for those pulls\n",
    "\n",
    "LMP_doi_list = []\n",
    "LMP_scopusID_list = []"
   ]
  },
  {
   "cell_type": "code",
   "execution_count": null,
   "metadata": {},
   "outputs": [],
   "source": [
    "#create title dictionary"
   ]
  },
  {
   "cell_type": "code",
   "execution_count": 82,
   "metadata": {},
   "outputs": [],
   "source": [
    "LMP_title_list = []\n",
    "LMP_title_dict = {}\n",
    "\n",
    "i=0\n",
    "while i<len(master_list):\n",
    "    for key, value in master_list[i].items():\n",
    "        if key == \"dc:title\" and value not in LMP_title_list:\n",
    "            LMP_title_list.append(value)\n",
    "            LMP_doi_list.append(master_list[i].get(\"prism:doi\"))\n",
    "            #LMP_scopusID_list(master_list[i].get(\"dc:identifier\"))\n",
    "            LMP_title_dict[master_list[i].get(\"prism:doi\")] = master_list[i].get(\"dc:title\")\n",
    "        else:\n",
    "            pass\n",
    "    i+=1    "
   ]
  },
  {
   "cell_type": "code",
   "execution_count": 83,
   "metadata": {},
   "outputs": [],
   "source": [
    "#create keyword dictionary"
   ]
  },
  {
   "cell_type": "code",
   "execution_count": 84,
   "metadata": {},
   "outputs": [],
   "source": [
    "LMP_keyword_list = []\n",
    "LMP_keyword_dict = {}\n",
    "\n",
    "i=0\n",
    "while i<len(master_list):\n",
    "    for key, value in master_list[i].items():\n",
    "        if key == \"authkeywords\" and value not in LMP_keyword_list:\n",
    "            LMP_keyword_list.append(value)\n",
    "            LMP_doi_list.append(master_list[i].get(\"prism:doi\"))\n",
    "            #LMP_scopusID_list(master_list[i].get(\"dc:identifier\"))\n",
    "            LMP_keyword_dict[master_list[i].get(\"prism:doi\")] = master_list[i].get(\"authkeywords\")\n",
    "        else:\n",
    "            pass\n",
    "    i+=1  "
   ]
  },
  {
   "cell_type": "code",
   "execution_count": 85,
   "metadata": {},
   "outputs": [],
   "source": [
    "#run each keyword set on their titles and keywords"
   ]
  },
  {
   "cell_type": "code",
   "execution_count": 86,
   "metadata": {},
   "outputs": [],
   "source": [
    "#titles\n",
    "\n",
    "LMP_title_matches = []"
   ]
  },
  {
   "cell_type": "code",
   "execution_count": 88,
   "metadata": {},
   "outputs": [],
   "source": [
    "i=0\n",
    "while i<len(base_keys):\n",
    "    for kw in base_keys:\n",
    "        for key,value in LMP_title_dict.items():\n",
    "            if kw in value and key not in doi_eid_matches_base:\n",
    "                LMP_title_matches.append(value)\n",
    "                doi_eid_matches_base.append(key)\n",
    "    i+=1"
   ]
  },
  {
   "cell_type": "code",
   "execution_count": 89,
   "metadata": {},
   "outputs": [],
   "source": [
    "i=0\n",
    "while i<len(libro_words):\n",
    "    for kw in libro_words:\n",
    "        for key,value in LMP_title_dict.items():\n",
    "            if kw in value and key not in doi_eid_matches_libro:\n",
    "                LMP_title_matches.append(value)\n",
    "                doi_eid_matches_libro.append(key)\n",
    "    i+=1"
   ]
  },
  {
   "cell_type": "code",
   "execution_count": 90,
   "metadata": {},
   "outputs": [],
   "source": [
    "i=0\n",
    "while i<len(languages):\n",
    "    for kw in languages:\n",
    "        for key,value in LMP_title_dict.items():\n",
    "            if kw in value and key not in doi_eid_matches_lang:\n",
    "                LMP_title_matches.append(value)\n",
    "                doi_eid_matches_lang.append(key)\n",
    "    i+=1"
   ]
  },
  {
   "cell_type": "code",
   "execution_count": 91,
   "metadata": {},
   "outputs": [],
   "source": [
    "#keywords\n",
    "\n",
    "LMP_keyword_matches = []"
   ]
  },
  {
   "cell_type": "code",
   "execution_count": 92,
   "metadata": {},
   "outputs": [],
   "source": [
    "i=0\n",
    "while i<len(base_keys):\n",
    "    for kw in base_keys:\n",
    "        for key,value in LMP_keyword_dict.items():\n",
    "            if kw in value and key not in doi_eid_matches_base:\n",
    "                LMP_keyword_matches.append(value)\n",
    "                doi_eid_matches_base.append(key)\n",
    "    i+=1"
   ]
  },
  {
   "cell_type": "code",
   "execution_count": 93,
   "metadata": {},
   "outputs": [],
   "source": [
    "i=0\n",
    "while i<len(libro_words):\n",
    "    for kw in libro_words:\n",
    "        for key,value in LMP_keyword_dict.items():\n",
    "            if kw in value and key not in doi_eid_matches_libro:\n",
    "                LMP_keyword_matches.append(value)\n",
    "                doi_eid_matches_libro.append(key)\n",
    "    i+=1"
   ]
  },
  {
   "cell_type": "code",
   "execution_count": 94,
   "metadata": {},
   "outputs": [],
   "source": [
    "i=0\n",
    "while i<len(languages):\n",
    "    for kw in languages:\n",
    "        for key,value in LMP_keyword_dict.items():\n",
    "            if kw in value and key not in doi_eid_matches_lang:\n",
    "                LMP_keyword_matches.append(value)\n",
    "                doi_eid_matches_lang.append(key)\n",
    "    i+=1"
   ]
  },
  {
   "cell_type": "code",
   "execution_count": 95,
   "metadata": {},
   "outputs": [
    {
     "name": "stdout",
     "output_type": "stream",
     "text": [
      "3492\n",
      "1177\n",
      "1263\n"
     ]
    }
   ],
   "source": [
    "#check in\n",
    "print(len(doi_eid_matches_base))\n",
    "print(len(doi_eid_matches_libro))\n",
    "print(len(doi_eid_matches_lang))"
   ]
  },
  {
   "cell_type": "code",
   "execution_count": 96,
   "metadata": {},
   "outputs": [],
   "source": [
    "#moving to new dataset"
   ]
  },
  {
   "cell_type": "code",
   "execution_count": 12,
   "metadata": {},
   "outputs": [],
   "source": [
    "#pull in the missing journals from the limited run\n",
    "\n",
    "downloaded_issns  = \"C:/Users/abbyk/Documents/csvs/*\"\n",
    "\n",
    "missing_from_limited = glob.glob(downloaded_issns)\n",
    "\n",
    "missing_from_limited_DF = pd.concat(map(pd.read_csv, missing_from_limited), ignore_index=True)"
   ]
  },
  {
   "cell_type": "code",
   "execution_count": 13,
   "metadata": {},
   "outputs": [],
   "source": [
    "#create relevant dictionaries"
   ]
  },
  {
   "cell_type": "code",
   "execution_count": 14,
   "metadata": {},
   "outputs": [],
   "source": [
    "MFL_title_dict = {}\n",
    "\n",
    "for ind in missing_from_limited_DF.index:\n",
    "    title=missing_from_limited_DF[\"Title\"][ind]\n",
    "    dois=missing_from_limited_DF[\"DOI\"][ind]\n",
    "    eids=missing_from_limited_DF[\"EID\"][ind]\n",
    "    if type(dois)!= float:\n",
    "        MFL_title_dict[dois] = title\n",
    "    else:\n",
    "        MFL_title_dict[eids] = title"
   ]
  },
  {
   "cell_type": "code",
   "execution_count": 15,
   "metadata": {},
   "outputs": [],
   "source": [
    "MFL_kw_dict = {}\n",
    "\n",
    "for ind in missing_from_limited_DF.index:\n",
    "    keywords=missing_from_limited_DF[\"Author Keywords\"][ind]\n",
    "    dois=missing_from_limited_DF[\"DOI\"][ind]\n",
    "    eids=missing_from_limited_DF[\"EID\"][ind]\n",
    "    if type(keywords)!= float:\n",
    "        if type(dois)!= float:\n",
    "            MFL_kw_dict[dois] = keywords\n",
    "        else:\n",
    "            MFL_kw_dict[eids] = keywords"
   ]
  },
  {
   "cell_type": "code",
   "execution_count": 16,
   "metadata": {},
   "outputs": [],
   "source": [
    "#IF WE WANT TO RUN ON ABSTRACTS, WE CAN DO SO HERE"
   ]
  },
  {
   "cell_type": "code",
   "execution_count": 17,
   "metadata": {},
   "outputs": [],
   "source": [
    "#run each keyword set on their titles and keywords"
   ]
  },
  {
   "cell_type": "code",
   "execution_count": 18,
   "metadata": {},
   "outputs": [],
   "source": [
    "#titles\n",
    "\n",
    "MFL_title_matches = []"
   ]
  },
  {
   "cell_type": "code",
   "execution_count": 19,
   "metadata": {},
   "outputs": [],
   "source": [
    "#on base set\n",
    "\n",
    "i= 0\n",
    "while i<len(base_keys):\n",
    "    for kw in base_keys:\n",
    "        for key, value in MFL_title_dict.items():\n",
    "            if kw in value and value not in MFL_title_matches:\n",
    "                MFL_title_matches.append(value)\n",
    "                doi_eid_matches_base.append(key)\n",
    "    i+=1"
   ]
  },
  {
   "cell_type": "code",
   "execution_count": 20,
   "metadata": {},
   "outputs": [],
   "source": [
    "#on libro set\n",
    "\n",
    "i= 0\n",
    "while i<len(libro_words):\n",
    "    for kw in libro_words:\n",
    "        for key, value in MFL_title_dict.items():\n",
    "            if kw in value and value not in MFL_title_matches:\n",
    "                MFL_title_matches.append(value)\n",
    "                doi_eid_matches_libro.append(key)\n",
    "    i+=1"
   ]
  },
  {
   "cell_type": "code",
   "execution_count": 21,
   "metadata": {},
   "outputs": [],
   "source": [
    "#on lang set\n",
    "\n",
    "i= 0\n",
    "while i<len(languages):\n",
    "    for kw in languages:\n",
    "        for key, value in MFL_title_dict.items():\n",
    "            if kw in value and value not in MFL_title_matches:\n",
    "                MFL_title_matches.append(value)\n",
    "                doi_eid_matches_lang.append(key)\n",
    "    i+=1"
   ]
  },
  {
   "cell_type": "code",
   "execution_count": 22,
   "metadata": {},
   "outputs": [],
   "source": [
    "#keywords\n",
    "\n",
    "MFL_keyword_matches = []"
   ]
  },
  {
   "cell_type": "code",
   "execution_count": 23,
   "metadata": {},
   "outputs": [],
   "source": [
    "#on base set\n",
    "\n",
    "i= 0\n",
    "while i<len(base_keys):\n",
    "    for kw in base_keys:\n",
    "        for key, value in MFL_kw_dict.items():\n",
    "            if kw in value and value not in MFL_keyword_matches:\n",
    "                MFL_keyword_matches.append(value)\n",
    "                doi_eid_matches_base.append(key)\n",
    "    i+=1"
   ]
  },
  {
   "cell_type": "code",
   "execution_count": 24,
   "metadata": {},
   "outputs": [],
   "source": [
    "#on libro set\n",
    "\n",
    "i= 0\n",
    "while i<len(libro_words):\n",
    "    for kw in libro_words:\n",
    "        for key, value in MFL_kw_dict.items():\n",
    "            if kw in value and value not in MFL_keyword_matches:\n",
    "                MFL_keyword_matches.append(value)\n",
    "                doi_eid_matches_libro.append(key)\n",
    "    i+=1"
   ]
  },
  {
   "cell_type": "code",
   "execution_count": 25,
   "metadata": {},
   "outputs": [],
   "source": [
    "#on lang set\n",
    "\n",
    "i= 0\n",
    "while i<len(languages):\n",
    "    for kw in languages:\n",
    "        for key, value in MFL_kw_dict.items():\n",
    "            if kw in value and value not in MFL_keyword_matches:\n",
    "                MFL_keyword_matches.append(value)\n",
    "                doi_eid_matches_lang.append(key)\n",
    "    i+=1"
   ]
  },
  {
   "cell_type": "code",
   "execution_count": 26,
   "metadata": {},
   "outputs": [
    {
     "name": "stdout",
     "output_type": "stream",
     "text": [
      "620\n",
      "318\n",
      "119\n"
     ]
    }
   ],
   "source": [
    "#check in\n",
    "\n",
    "print(len(doi_eid_matches_base))\n",
    "print(len(doi_eid_matches_libro))\n",
    "print(len(doi_eid_matches_lang))"
   ]
  },
  {
   "cell_type": "code",
   "execution_count": 27,
   "metadata": {},
   "outputs": [],
   "source": [
    "#pull in the json from the extra pull on the 20 missing journals\n",
    "\n",
    "downloaded_20  = \"C:/Users/abbyk/Documents/suggested_additions/*\"\n",
    "\n",
    "from_email = glob.glob(downloaded_20)\n",
    "\n",
    "from_email_DF = pd.concat(map(pd.read_csv, from_email), ignore_index=True)"
   ]
  },
  {
   "cell_type": "code",
   "execution_count": 28,
   "metadata": {},
   "outputs": [],
   "source": [
    "#create relevant dictionaries"
   ]
  },
  {
   "cell_type": "code",
   "execution_count": 29,
   "metadata": {},
   "outputs": [],
   "source": [
    "FEM_title_dict = {}\n",
    "\n",
    "for ind in from_email_DF.index:\n",
    "    title=from_email_DF[\"Title\"][ind]\n",
    "    dois=from_email_DF[\"DOI\"][ind]\n",
    "    eids=from_email_DF[\"EID\"][ind]\n",
    "    if type(dois)!= float:\n",
    "        FEM_title_dict[dois] = title\n",
    "    else:\n",
    "        FEM_title_dict[eids] = title"
   ]
  },
  {
   "cell_type": "code",
   "execution_count": 30,
   "metadata": {},
   "outputs": [],
   "source": [
    "FEM_kw_dict = {}\n",
    "\n",
    "for ind in from_email_DF.index:\n",
    "    keywords=from_email_DF[\"Author Keywords\"][ind]\n",
    "    dois=from_email_DF[\"DOI\"][ind]\n",
    "    eids=from_email_DF[\"EID\"][ind]\n",
    "    if type(keywords)!= float:\n",
    "        if type(dois)!= float:\n",
    "            FEM_kw_dict[dois] = keywords\n",
    "        else:\n",
    "            FEM_kw_dict[eids] = keywords"
   ]
  },
  {
   "cell_type": "code",
   "execution_count": 31,
   "metadata": {},
   "outputs": [],
   "source": [
    "#run each keyword set on their titles and keywords"
   ]
  },
  {
   "cell_type": "code",
   "execution_count": 32,
   "metadata": {},
   "outputs": [],
   "source": [
    "#titles\n",
    "\n",
    "FEM_title_matches = []"
   ]
  },
  {
   "cell_type": "code",
   "execution_count": 33,
   "metadata": {},
   "outputs": [],
   "source": [
    "#on base set\n",
    "\n",
    "i= 0\n",
    "while i<len(base_keys):\n",
    "    for kw in base_keys:\n",
    "        for key, value in FEM_title_dict.items():\n",
    "            if kw in value and value not in FEM_title_matches:\n",
    "                FEM_title_matches.append(value)\n",
    "                doi_eid_matches_base.append(key)\n",
    "    i+=1"
   ]
  },
  {
   "cell_type": "code",
   "execution_count": 34,
   "metadata": {},
   "outputs": [],
   "source": [
    "#on libro set\n",
    "\n",
    "i= 0\n",
    "while i<len(libro_words):\n",
    "    for kw in libro_words:\n",
    "        for key, value in FEM_title_dict.items():\n",
    "            if kw in value and value not in FEM_title_matches:\n",
    "                FEM_title_matches.append(value)\n",
    "                doi_eid_matches_libro.append(key)\n",
    "    i+=1"
   ]
  },
  {
   "cell_type": "code",
   "execution_count": 35,
   "metadata": {},
   "outputs": [],
   "source": [
    "#on lang set\n",
    "\n",
    "i= 0\n",
    "while i<len(languages):\n",
    "    for kw in languages:\n",
    "        for key, value in FEM_title_dict.items():\n",
    "            if kw in value and value not in FEM_title_matches:\n",
    "                FEM_title_matches.append(value)\n",
    "                doi_eid_matches_lang.append(key)\n",
    "    i+=1"
   ]
  },
  {
   "cell_type": "code",
   "execution_count": 36,
   "metadata": {},
   "outputs": [],
   "source": [
    "#keywords\n",
    "FEM_keyword_matches = []"
   ]
  },
  {
   "cell_type": "code",
   "execution_count": 37,
   "metadata": {},
   "outputs": [],
   "source": [
    "#on base set\n",
    "\n",
    "i= 0\n",
    "while i<len(base_keys):\n",
    "    for kw in base_keys:\n",
    "        for key, value in FEM_kw_dict.items():\n",
    "            if kw in value and value not in FEM_keyword_matches:\n",
    "                FEM_keyword_matches.append(value)\n",
    "                doi_eid_matches_base.append(key)\n",
    "    i+=1"
   ]
  },
  {
   "cell_type": "code",
   "execution_count": 38,
   "metadata": {},
   "outputs": [],
   "source": [
    "#on libro set\n",
    "\n",
    "i= 0\n",
    "while i<len(libro_words):\n",
    "    for kw in libro_words:\n",
    "        for key, value in FEM_kw_dict.items():\n",
    "            if kw in value and value not in FEM_keyword_matches:\n",
    "                FEM_keyword_matches.append(value)\n",
    "                doi_eid_matches_libro.append(key)\n",
    "    i+=1"
   ]
  },
  {
   "cell_type": "code",
   "execution_count": 39,
   "metadata": {},
   "outputs": [],
   "source": [
    "#on lang set\n",
    "\n",
    "i= 0\n",
    "while i<len(languages):\n",
    "    for kw in languages:\n",
    "        for key, value in FEM_kw_dict.items():\n",
    "            if kw in value and value not in FEM_keyword_matches:\n",
    "                FEM_keyword_matches.append(value)\n",
    "                doi_eid_matches_lang.append(key)\n",
    "    i+=1"
   ]
  },
  {
   "cell_type": "code",
   "execution_count": 40,
   "metadata": {},
   "outputs": [
    {
     "name": "stdout",
     "output_type": "stream",
     "text": [
      "718\n",
      "318\n",
      "145\n"
     ]
    }
   ],
   "source": [
    "#check in\n",
    "print(len(doi_eid_matches_base))\n",
    "print(len(doi_eid_matches_libro))\n",
    "print(len(doi_eid_matches_lang))"
   ]
  },
  {
   "cell_type": "code",
   "execution_count": 41,
   "metadata": {},
   "outputs": [],
   "source": [
    "#we will still need journals like lead pipe and radical from the other csvs\n",
    "#pull in all of the journal csv files and combine\n",
    "\n",
    "smaller_journal_path  = \"C:/Users/abbyk/Documents/smaller_journals/*\"\n",
    "\n",
    "smaller_journals = glob.glob(downloaded_issns)\n",
    "\n",
    "smaller_journals_DF = pd.concat(map(pd.read_csv, smaller_journals), ignore_index=True)"
   ]
  },
  {
   "cell_type": "code",
   "execution_count": 42,
   "metadata": {},
   "outputs": [],
   "source": [
    "#create our dictionaries"
   ]
  },
  {
   "cell_type": "code",
   "execution_count": 43,
   "metadata": {},
   "outputs": [],
   "source": [
    "SMJ_title_dict = {}\n",
    "\n",
    "for ind in smaller_journals_DF.index:\n",
    "    title=smaller_journals_DF[\"Title\"][ind]\n",
    "    dois=smaller_journals_DF[\"DOI\"][ind]\n",
    "    eids=smaller_journals_DF[\"EID\"][ind]\n",
    "    if type(dois)!= float:\n",
    "        SMJ_title_dict[dois] = title\n",
    "    else:\n",
    "        SMJ_title_dict[eids] = title"
   ]
  },
  {
   "cell_type": "code",
   "execution_count": 44,
   "metadata": {},
   "outputs": [],
   "source": [
    "SMJ_kw_dict = {}\n",
    "\n",
    "for ind in smaller_journals_DF.index:\n",
    "    keywords=smaller_journals_DF[\"Author Keywords\"][ind]\n",
    "    dois=smaller_journals_DF[\"DOI\"][ind]\n",
    "    eids=smaller_journals_DF[\"EID\"][ind]\n",
    "    if type(keywords)!= float:\n",
    "        if type(dois)!= float:\n",
    "            SMJ_kw_dict[dois] = keywords\n",
    "        else:\n",
    "            SMJ_kw_dict[eids] = keywords"
   ]
  },
  {
   "cell_type": "code",
   "execution_count": 45,
   "metadata": {},
   "outputs": [],
   "source": [
    "#run each keyword set on their titles and keywords"
   ]
  },
  {
   "cell_type": "code",
   "execution_count": 46,
   "metadata": {},
   "outputs": [],
   "source": [
    "#titles\n",
    "\n",
    "SMJ_title_matches = []"
   ]
  },
  {
   "cell_type": "code",
   "execution_count": 47,
   "metadata": {},
   "outputs": [],
   "source": [
    "#on base set\n",
    "\n",
    "i= 0\n",
    "while i<len(base_keys):\n",
    "    for kw in base_keys:\n",
    "        for key, value in SMJ_title_dict.items():\n",
    "            if kw in value and value not in SMJ_title_matches:\n",
    "                SMJ_title_matches.append(value)\n",
    "                doi_eid_matches_base.append(key)\n",
    "    i+=1"
   ]
  },
  {
   "cell_type": "code",
   "execution_count": 48,
   "metadata": {},
   "outputs": [],
   "source": [
    "#on libro set\n",
    "\n",
    "i= 0\n",
    "while i<len(libro_words):\n",
    "    for kw in libro_words:\n",
    "        for key, value in SMJ_title_dict.items():\n",
    "            if kw in value and value not in SMJ_title_matches:\n",
    "                SMJ_title_matches.append(value)\n",
    "                doi_eid_matches_libro.append(key)\n",
    "    i+=1"
   ]
  },
  {
   "cell_type": "code",
   "execution_count": 49,
   "metadata": {},
   "outputs": [],
   "source": [
    "#on lang set\n",
    "\n",
    "i= 0\n",
    "while i<len(languages):\n",
    "    for kw in languages:\n",
    "        for key, value in SMJ_title_dict.items():\n",
    "            if kw in value and value not in SMJ_title_matches:\n",
    "                SMJ_title_matches.append(value)\n",
    "                doi_eid_matches_lang.append(key)\n",
    "    i+=1"
   ]
  },
  {
   "cell_type": "code",
   "execution_count": 50,
   "metadata": {},
   "outputs": [],
   "source": [
    "#keywords\n",
    "\n",
    "SMJ_keyword_matches = []"
   ]
  },
  {
   "cell_type": "code",
   "execution_count": 51,
   "metadata": {},
   "outputs": [],
   "source": [
    "#on base set\n",
    "\n",
    "i= 0\n",
    "while i<len(base_keys):\n",
    "    for kw in base_keys:\n",
    "        for key, value in SMJ_kw_dict.items():\n",
    "            if kw in value and value not in SMJ_keyword_matches:\n",
    "                SMJ_keyword_matches.append(value)\n",
    "                doi_eid_matches_base.append(key)\n",
    "    i+=1"
   ]
  },
  {
   "cell_type": "code",
   "execution_count": 52,
   "metadata": {},
   "outputs": [],
   "source": [
    "#on libro set\n",
    "\n",
    "i= 0\n",
    "while i<len(libro_words):\n",
    "    for kw in libro_words:\n",
    "        for key, value in SMJ_kw_dict.items():\n",
    "            if kw in value and value not in SMJ_keyword_matches:\n",
    "                SMJ_keyword_matches.append(value)\n",
    "                doi_eid_matches_libro.append(key)\n",
    "    i+=1"
   ]
  },
  {
   "cell_type": "code",
   "execution_count": 53,
   "metadata": {},
   "outputs": [],
   "source": [
    "#on lang set\n",
    "\n",
    "i= 0\n",
    "while i<len(languages):\n",
    "    for kw in languages:\n",
    "        for key, value in SMJ_kw_dict.items():\n",
    "            if kw in value and value not in SMJ_keyword_matches:\n",
    "                SMJ_keyword_matches.append(value)\n",
    "                doi_eid_matches_lang.append(key)\n",
    "    i+=1"
   ]
  },
  {
   "cell_type": "code",
   "execution_count": 54,
   "metadata": {},
   "outputs": [
    {
     "name": "stdout",
     "output_type": "stream",
     "text": [
      "1338\n",
      "636\n",
      "264\n"
     ]
    }
   ],
   "source": [
    "#check in\n",
    "print(len(doi_eid_matches_base))\n",
    "print(len(doi_eid_matches_libro))\n",
    "print(len(doi_eid_matches_lang))"
   ]
  },
  {
   "cell_type": "code",
   "execution_count": 56,
   "metadata": {},
   "outputs": [],
   "source": [
    "#empty folders from limited pulls\n",
    "#pull in files and glob\n",
    "\n",
    "empty_journal_path  = \"C:/Users/abbyk/Documents/empty_folders/*\"\n",
    "\n",
    "empty_journals = glob.glob(downloaded_issns)\n",
    "\n",
    "empty_journals_DF = pd.concat(map(pd.read_csv, empty_journals), ignore_index=True)"
   ]
  },
  {
   "cell_type": "code",
   "execution_count": 57,
   "metadata": {},
   "outputs": [],
   "source": [
    "#create our dictionaries"
   ]
  },
  {
   "cell_type": "code",
   "execution_count": 58,
   "metadata": {},
   "outputs": [],
   "source": [
    "EMP_title_dict = {}\n",
    "\n",
    "for ind in empty_journals_DF.index:\n",
    "    title=empty_journals_DF[\"Title\"][ind]\n",
    "    dois=empty_journals_DF[\"DOI\"][ind]\n",
    "    eids=empty_journals_DF[\"EID\"][ind]\n",
    "    if type(dois)!= float:\n",
    "        EMP_title_dict[dois] = title\n",
    "    else:\n",
    "        EMP_title_dict[eids] = title"
   ]
  },
  {
   "cell_type": "code",
   "execution_count": 59,
   "metadata": {},
   "outputs": [],
   "source": [
    "EMP_kw_dict = {}\n",
    "\n",
    "for ind in empty_journals_DF.index:\n",
    "    keywords=empty_journals_DF[\"Author Keywords\"][ind]\n",
    "    dois=empty_journals_DF[\"DOI\"][ind]\n",
    "    eids=empty_journals_DF[\"EID\"][ind]\n",
    "    if type(keywords)!= float:\n",
    "        if type(dois)!= float:\n",
    "            EMP_kw_dict[dois] = keywords\n",
    "        else:\n",
    "            EMP_kw_dict[eids] = keywords"
   ]
  },
  {
   "cell_type": "code",
   "execution_count": 60,
   "metadata": {},
   "outputs": [],
   "source": [
    "#run each keyword set on their titles and keywords"
   ]
  },
  {
   "cell_type": "code",
   "execution_count": 61,
   "metadata": {},
   "outputs": [],
   "source": [
    "#titles\n",
    "\n",
    "EMP_title_matches = []"
   ]
  },
  {
   "cell_type": "code",
   "execution_count": 62,
   "metadata": {},
   "outputs": [],
   "source": [
    "#on base set\n",
    "\n",
    "i= 0\n",
    "while i<len(base_keys):\n",
    "    for kw in base_keys:\n",
    "        for key, value in EMP_title_dict.items():\n",
    "            if kw in value and value not in EMP_title_matches:\n",
    "                EMP_title_matches.append(value)\n",
    "                doi_eid_matches_base.append(key)\n",
    "    i+=1"
   ]
  },
  {
   "cell_type": "code",
   "execution_count": 63,
   "metadata": {},
   "outputs": [],
   "source": [
    "#on libro set\n",
    "\n",
    "i= 0\n",
    "while i<len(libro_words):\n",
    "    for kw in libro_words:\n",
    "        for key, value in EMP_title_dict.items():\n",
    "            if kw in value and value not in EMP_title_matches:\n",
    "                EMP_title_matches.append(value)\n",
    "                doi_eid_matches_libro.append(key)\n",
    "    i+=1"
   ]
  },
  {
   "cell_type": "code",
   "execution_count": 64,
   "metadata": {},
   "outputs": [],
   "source": [
    "#on lang set\n",
    "\n",
    "i= 0\n",
    "while i<len(languages):\n",
    "    for kw in languages:\n",
    "        for key, value in EMP_title_dict.items():\n",
    "            if kw in value and value not in EMP_title_matches:\n",
    "                EMP_title_matches.append(value)\n",
    "                doi_eid_matches_lang.append(key)\n",
    "    i+=1"
   ]
  },
  {
   "cell_type": "code",
   "execution_count": 65,
   "metadata": {},
   "outputs": [],
   "source": [
    "#keywords\n",
    "\n",
    "EMP_keyword_matches = []"
   ]
  },
  {
   "cell_type": "code",
   "execution_count": 66,
   "metadata": {},
   "outputs": [],
   "source": [
    "#on base set\n",
    "\n",
    "i= 0\n",
    "while i<len(base_keys):\n",
    "    for kw in base_keys:\n",
    "        for key, value in EMP_kw_dict.items():\n",
    "            if kw in value and value not in EMP_keyword_matches:\n",
    "                EMP_keyword_matches.append(value)\n",
    "                doi_eid_matches_base.append(key)\n",
    "    i+=1"
   ]
  },
  {
   "cell_type": "code",
   "execution_count": 67,
   "metadata": {},
   "outputs": [],
   "source": [
    "#on libro set\n",
    "\n",
    "i= 0\n",
    "while i<len(libro_words):\n",
    "    for kw in libro_words:\n",
    "        for key, value in EMP_kw_dict.items():\n",
    "            if kw in value and value not in EMP_keyword_matches:\n",
    "                EMP_keyword_matches.append(value)\n",
    "                doi_eid_matches_libro.append(key)\n",
    "    i+=1"
   ]
  },
  {
   "cell_type": "code",
   "execution_count": 68,
   "metadata": {},
   "outputs": [],
   "source": [
    "#on lang set\n",
    "\n",
    "i= 0\n",
    "while i<len(languages):\n",
    "    for kw in languages:\n",
    "        for key, value in EMP_kw_dict.items():\n",
    "            if kw in value and value not in EMP_keyword_matches:\n",
    "                EMP_keyword_matches.append(value)\n",
    "                doi_eid_matches_lang.append(key)\n",
    "    i+=1"
   ]
  },
  {
   "cell_type": "code",
   "execution_count": 69,
   "metadata": {},
   "outputs": [
    {
     "name": "stdout",
     "output_type": "stream",
     "text": [
      "1958\n",
      "954\n",
      "383\n"
     ]
    }
   ],
   "source": [
    "#check in\n",
    "print(len(doi_eid_matches_base))\n",
    "print(len(doi_eid_matches_libro))\n",
    "print(len(doi_eid_matches_lang))"
   ]
  },
  {
   "cell_type": "code",
   "execution_count": 99,
   "metadata": {},
   "outputs": [],
   "source": [
    "#print(give_unique(doi_eid_matches_base))"
   ]
  },
  {
   "cell_type": "code",
   "execution_count": 101,
   "metadata": {},
   "outputs": [],
   "source": [
    "#print(give_unique(doi_eid_matches_libro))"
   ]
  },
  {
   "cell_type": "code",
   "execution_count": 103,
   "metadata": {},
   "outputs": [],
   "source": [
    "#print(give_unique(doi_eid_matches_lang))"
   ]
  },
  {
   "cell_type": "code",
   "execution_count": 97,
   "metadata": {},
   "outputs": [
    {
     "name": "stdout",
     "output_type": "stream",
     "text": [
      "2121\n",
      "541\n",
      "1012\n"
     ]
    }
   ],
   "source": [
    "print(len(give_unique(doi_eid_matches_base)))\n",
    "print(len(give_unique(doi_eid_matches_libro)))\n",
    "print(len(give_unique(doi_eid_matches_lang)))"
   ]
  },
  {
   "cell_type": "code",
   "execution_count": null,
   "metadata": {},
   "outputs": [],
   "source": []
  },
  {
   "cell_type": "code",
   "execution_count": null,
   "metadata": {},
   "outputs": [],
   "source": []
  }
 ],
 "metadata": {
  "kernelspec": {
   "display_name": "Python 3",
   "language": "python",
   "name": "python3"
  },
  "language_info": {
   "codemirror_mode": {
    "name": "ipython",
    "version": 3
   },
   "file_extension": ".py",
   "mimetype": "text/x-python",
   "name": "python",
   "nbconvert_exporter": "python",
   "pygments_lexer": "ipython3",
   "version": "3.7.4"
  }
 },
 "nbformat": 4,
 "nbformat_minor": 2
}
