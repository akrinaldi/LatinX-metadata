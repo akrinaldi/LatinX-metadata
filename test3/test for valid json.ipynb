{
 "cells": [
  {
   "cell_type": "code",
   "execution_count": null,
   "metadata": {},
   "outputs": [],
   "source": [
    "from urllib import request\n",
    "import time\n",
    "import json\n",
    "import os"
   ]
  },
  {
   "cell_type": "code",
   "execution_count": null,
   "metadata": {},
   "outputs": [],
   "source": [
    "ISSN = ['09670769']\n",
    "YEAR_ID = ['2018']\n",
    "text_sample = ''\n",
    "URL_PATTERN = 'https://api.elsevier.com/content/search/scopus?&query=issn({})&count=200&date={}&apiKey=ad4e12568b69167a2d25213b52923901&insttoken=0363e8707601cf3e7f27138d2b25f9e4&view=COMPLETE'"
   ]
  },
  {
   "cell_type": "code",
   "execution_count": null,
   "metadata": {},
   "outputs": [],
   "source": [
    "if __name__ == '__main__':\n",
    "    for issn in ISSN:\n",
    "        path = \"./outputs/{i}\".format(i = issn)\n",
    "        if not (os.path.exists(path)):\n",
    "            os.makedirs(path)\n",
    "            for y_id in  YEAR_ID:\n",
    "                if not (os.path.exists(path + \"/\" + issn + \"_\" + y_id + \".json\")):\n",
    "                    try:\n",
    "                        url = URL_PATTERN.format(issn, y_id) \n",
    "                        response = request.urlopen(url)   \n",
    "                        raw_text = response.read().decode('utf8')\n",
    "                        \n",
    "                        time.sleep(60)\n",
    "                        \n",
    "                        jsonObj = json.loads(raw_text)\n",
    "\n",
    "                        with open(path + \"/\" + issn + \"_\" + y_id + \".json\", 'w') as f:\n",
    "                            f.write(json.dumps(jsonObj))\n",
    "                     \n",
    "                    except Exception as ex:\n",
    "                        print(str(ex))\n",
    "                        print(str(url))\n",
    "                        print(str(response))\n",
    "                        print(\"=========================================================\")\n",
    "                        exit()"
   ]
  },
  {
   "cell_type": "code",
   "execution_count": null,
   "metadata": {},
   "outputs": [],
   "source": [
    "for issn in ISSN:\n",
    "    for y_id in YEAR_ID:\n",
    "        url = URL_PATTERN.format(issn,y_id)\n",
    "        print(url)"
   ]
  },
  {
   "cell_type": "code",
   "execution_count": null,
   "metadata": {},
   "outputs": [],
   "source": [
    "test_url = 'https://api.elsevier.com/content/search/scopus?&query=issn(09670769)&count=25&date=2018&apiKey=ad4e12568b69167a2d25213b52923901&insttoken=0363e8707601cf3e7f27138d2b25f9e4&view=COMPLETE'"
   ]
  },
  {
   "cell_type": "code",
   "execution_count": null,
   "metadata": {},
   "outputs": [],
   "source": [
    "request.urlopen(test_url)"
   ]
  },
  {
   "cell_type": "code",
   "execution_count": null,
   "metadata": {},
   "outputs": [],
   "source": []
  }
 ],
 "metadata": {
  "kernelspec": {
   "display_name": "Python 3",
   "language": "python",
   "name": "python3"
  },
  "language_info": {
   "codemirror_mode": {
    "name": "ipython",
    "version": 3
   },
   "file_extension": ".py",
   "mimetype": "text/x-python",
   "name": "python",
   "nbconvert_exporter": "python",
   "pygments_lexer": "ipython3",
   "version": "3.7.4"
  }
 },
 "nbformat": 4,
 "nbformat_minor": 2
}
