{
 "cells": [
  {
   "cell_type": "code",
   "execution_count": 1,
   "metadata": {},
   "outputs": [],
   "source": [
    "import json\n",
    "import pandas as pd"
   ]
  },
  {
   "cell_type": "code",
   "execution_count": 2,
   "metadata": {},
   "outputs": [],
   "source": [
    "full_json = pd.read_json(\"C:/Users/abbyk/Untitled Folder/indiv_journ_2.json\")"
   ]
  },
  {
   "cell_type": "code",
   "execution_count": 3,
   "metadata": {},
   "outputs": [],
   "source": [
    "a_df = pd.DataFrame(full_json, columns = ['prism:doi','authkeywords','dc:title'])"
   ]
  },
  {
   "cell_type": "code",
   "execution_count": 52,
   "metadata": {},
   "outputs": [],
   "source": [
    "json_dict = a_df.to_dict()"
   ]
  },
  {
   "cell_type": "code",
   "execution_count": 5,
   "metadata": {},
   "outputs": [],
   "source": [
    "booop = []\n",
    "beeg = []\n",
    "\n",
    "for key, value in json_dict.items():\n",
    "    if type(value) != float:\n",
    "        beeg.append(key)\n",
    "        booop.append(value)"
   ]
  },
  {
   "cell_type": "code",
   "execution_count": 4,
   "metadata": {},
   "outputs": [],
   "source": [
    "value_list = []\n",
    "key_list = []\n",
    "keywords_list = []\n",
    "\n",
    "#for key in a_df[\"dc:identifier\"]:\n",
    " #   for value in a_df[\"authkeywords\"]:\n",
    "  #      if type(value) != float:\n",
    "   #         value_list.append(value.split(\" | \"))    \n",
    "        "
   ]
  },
  {
   "cell_type": "code",
   "execution_count": 5,
   "metadata": {},
   "outputs": [],
   "source": [
    "for ind in a_df.index:\n",
    "    key=a_df[\"prism:doi\"][ind]\n",
    "    value1=a_df[\"dc:title\"][ind]\n",
    "    value2=a_df[\"authkeywords\"][ind]\n",
    "    if type(value2) != float:\n",
    "        boop = value2.split(\" | \")\n",
    "        keywords_list.append(boop)\n",
    "        key_list.append(key)\n",
    "        if type(value1) != float:\n",
    "            value_list.append(value1)\n",
    "        else:\n",
    "            value_list.append(\"NULL\")\n",
    "    else:\n",
    "        keywords_list.append(\"NULL\")\n",
    "        key_list.append(key)\n",
    "        if type(value1) != float:\n",
    "            value_list.append(value1)\n",
    "        else:\n",
    "            value_list.append(\"NULL\")"
   ]
  },
  {
   "cell_type": "code",
   "execution_count": 23,
   "metadata": {},
   "outputs": [],
   "source": [
    "for ind in a_df.index:\n",
    "    key=a_df[\"DOI\"][ind]\n",
    "    value=a_df[\"authkeywords\"][ind]\n",
    "    \n",
    "    if type(value) != float:\n",
    "        boop = value.split(\" | \")\n",
    "        keywords_list.append(boop)\n",
    "        Keys_list.append(key)\n",
    "    else:\n",
    "        keywords_list.append(\"NULL\")\n",
    "        Keys_list.append(key)"
   ]
  },
  {
   "cell_type": "code",
   "execution_count": 6,
   "metadata": {},
   "outputs": [],
   "source": [
    "empty_df = pd.DataFrame()"
   ]
  },
  {
   "cell_type": "code",
   "execution_count": 7,
   "metadata": {},
   "outputs": [],
   "source": [
    "empty_df[\"DOI\"] = key_list"
   ]
  },
  {
   "cell_type": "code",
   "execution_count": 8,
   "metadata": {},
   "outputs": [],
   "source": [
    "empty_df[\"titles\"] = value_list"
   ]
  },
  {
   "cell_type": "code",
   "execution_count": 9,
   "metadata": {},
   "outputs": [],
   "source": [
    "empty_df[\"keywords\"] = keywords_list"
   ]
  },
  {
   "cell_type": "code",
   "execution_count": 10,
   "metadata": {},
   "outputs": [
    {
     "name": "stdout",
     "output_type": "stream",
     "text": [
      "                               DOI  \\\n",
      "0         10.1109/TIT.1963.1057842   \n",
      "1         10.1109/TIT.1963.1057838   \n",
      "2         10.1109/TIT.1963.1057839   \n",
      "3         10.1109/TIT.1963.1057832   \n",
      "4         10.1109/TIT.1963.1057822   \n",
      "...                            ...   \n",
      "184664  10.17533/udea.rib.v41n1a04   \n",
      "184665  10.17533/udea.rib.v41n1a08   \n",
      "184666                         NaN   \n",
      "184667                         NaN   \n",
      "184668                         NaN   \n",
      "\n",
      "                                                   titles  \\\n",
      "0       Correspondence: Decision Theory Solutions for ...   \n",
      "1                               Optimal Search Procedures   \n",
      "2                 On Error-Limiting Variable-Length Codes   \n",
      "3        Sequential Transmission Using Noiseless Feedback   \n",
      "4       Comment on “Effects of Phase Errors on Pulse-C...   \n",
      "...                                                   ...   \n",
      "184664  Memories of the popular and community librarie...   \n",
      "184665  Collaborative and thematic networks in the rev...   \n",
      "184666  Proposal for visual literacy based on hypermed...   \n",
      "184667  Application of two new algorithms to group sea...   \n",
      "184668  Virtual information in the process of professi...   \n",
      "\n",
      "                                                 keywords  \n",
      "0                                                    NULL  \n",
      "1                                                    NULL  \n",
      "2                                                    NULL  \n",
      "3                                                    NULL  \n",
      "4                                                    NULL  \n",
      "...                                                   ...  \n",
      "184664  [Collective memories, Medellín, Neighborhoods,...  \n",
      "184665  [Collaborative networks, Latin America, Resear...  \n",
      "184666  [Hypermedia environment, Reading comprehension...  \n",
      "184667  [Clustering algorithm, Data mining, Informatio...  \n",
      "184668  [Booleans operators, Internet research, Librar...  \n",
      "\n",
      "[184669 rows x 3 columns]\n"
     ]
    }
   ],
   "source": [
    "print(empty_df)"
   ]
  },
  {
   "cell_type": "code",
   "execution_count": 11,
   "metadata": {},
   "outputs": [],
   "source": [
    "a_df.rename(columns={'prism:doi': 'DOI'}, inplace=True)"
   ]
  },
  {
   "cell_type": "code",
   "execution_count": 12,
   "metadata": {},
   "outputs": [],
   "source": [
    "a_df.rename(columns={'dc:title': 'titles'}, inplace=True)"
   ]
  },
  {
   "cell_type": "code",
   "execution_count": 13,
   "metadata": {},
   "outputs": [],
   "source": [
    "pairs_dict = pd.Series(empty_df.titles.values,index=a_df.DOI).to_dict()"
   ]
  },
  {
   "cell_type": "code",
   "execution_count": 14,
   "metadata": {},
   "outputs": [],
   "source": [
    "also_pairs_dict = pd.Series(empty_df.keywords.values,index=a_df.DOI).to_dict()"
   ]
  },
  {
   "cell_type": "code",
   "execution_count": null,
   "metadata": {},
   "outputs": [],
   "source": []
  },
  {
   "cell_type": "code",
   "execution_count": null,
   "metadata": {},
   "outputs": [],
   "source": []
  },
  {
   "cell_type": "code",
   "execution_count": 15,
   "metadata": {},
   "outputs": [],
   "source": [
    "keywords_data = pd.read_csv(\"C:/Users/abbyk/Downloads/keys.csv\")"
   ]
  },
  {
   "cell_type": "code",
   "execution_count": 16,
   "metadata": {},
   "outputs": [],
   "source": [
    "kw_list = []\n",
    "\n",
    "for i in keywords_data[\"Word\"]:\n",
    "    kw_list.append(i)"
   ]
  },
  {
   "cell_type": "code",
   "execution_count": 17,
   "metadata": {},
   "outputs": [
    {
     "name": "stdout",
     "output_type": "stream",
     "text": [
      "['Argentinian Americans', 'Belizean Americans', 'Chicano Americans', 'Latino Americans', 'Latine', 'Bolivian Americans', 'Boricuas', 'Brazilian Americans', 'Chilean Americans', 'Colombian Americans', 'Costa Rican Americans', 'Costarisences', 'Cuban Americans', 'Dominican Americans', 'Ecuadorian Americans', 'Afro-Hispanics', 'Afro-Latinos', 'Guatemalan Americans', 'Hispanic Americans', 'Hispanos', 'Honduran Americans', 'Mejicano', 'Mexican Americans', 'Nicaraguan Americans', 'Panamanean Americans', 'Paraguayan Americans', 'Peruvian Americans', 'Puerto Rican Americans', 'Salvadoran Americans', 'Tejano', 'Uruguayan Americans', 'Venezuelan Americans', 'Argentinians', 'Belizeans', 'Chicanos', 'Latin Americans', 'Chicanas', 'Bolivians', 'Chicanx', 'Brazilians', 'Chileans', 'Colombians', 'Costa Ricans', 'Latinos', 'Cubans', 'Dominicans', 'Ecuadorians', 'Latinas', 'Afro-Latinas', 'Guatemalans', 'Hispanics', 'Latinx', 'Hondurans', 'Mexicano', 'Mexicans', 'Nicaraguans', 'Panamaneans', 'Paraguayans', 'Peruvians', 'Puerto Ricans', 'Salvadorans', 'Texano', 'Uruguayans', 'Venezuelans', 'Argentinos', 'Belizeanos', 'Bolivianos', 'Puerto Ricans', 'Brasileños', 'Chilenos', 'Colombianos', 'Costarricences', 'Costarricences', 'Cubanos', 'Dominicanos', 'Ecuatorianos', 'Guatemaltecos', 'Mexican Americans', 'Hondureños', 'Nicaragüenses', 'Panameños', 'Paraguayos', 'Peruanos', 'Puertorriqueños', 'Salvadoreños', 'Uruguayos', 'Venezolanos', 'latinx', 'latina', 'latino', 'latine', 'hispanic', 'hispanos']\n"
     ]
    }
   ],
   "source": [
    "print(kw_list)"
   ]
  },
  {
   "cell_type": "code",
   "execution_count": 18,
   "metadata": {},
   "outputs": [],
   "source": [
    "IDs = []"
   ]
  },
  {
   "cell_type": "code",
   "execution_count": 19,
   "metadata": {},
   "outputs": [],
   "source": [
    "for key,values in pairs_dict.items():\n",
    "    for i in kw_list:\n",
    "        if i in values:\n",
    "            IDs.append(key)"
   ]
  },
  {
   "cell_type": "code",
   "execution_count": 20,
   "metadata": {},
   "outputs": [
    {
     "name": "stdout",
     "output_type": "stream",
     "text": [
      "['10.1093/nq/s9-VIII.208.505-d', '10.1093/nq/s9-XII.312.496f', '10.1093/nq/s10-XII.312.489-d', '10.1093/notesj/32.3.312', '10.1093/nq/490203', '10.1108/RSR-02-2016-0015', '10.15388/KNYGOTYRA.2021.77.88', '10.1177/0266666909358640', '10.1300/J115v21n01_03', '10.17723/aarc.28.1.ck3q022846u74065', '10.1300/J123v35n01_10', '10.1177/053901847000900408', '10.1177/053901893032002006', '10.1177/0539018405053296', '10.1177/0539018405053289', '10.7764/cdi.44.1450', '10.14195/2182-7974_34_1_3', '10.1177/0894439313497469', '10.1080/108107399127075', '10.1080/10810730600934542', '10.1080/10810730701438690', '10.1080/10810730701807142', '10.1080/10810730903089606', '10.1080/10810730903032952', '10.1080/10810730.2010.522697', '10.1080/10810730.2010.522697', '10.1080/10810731003753133', '10.1080/10810730903460526', '10.1080/10810730.2011.561910', '10.1080/10810730.2011.561910', '10.1080/10810730.2010.546483', '10.1080/10810730.2010.529492', '10.1080/10810730.2011.635767', '10.1080/10810730.2011.635766', '10.1080/10810730.2011.585695', '10.1080/10810730.2012.712621', '10.1080/10810730.2013.829135', '10.1080/10810730.2013.778362', '10.1080/10810730.2013.768723', '10.1080/10810730.2012.727962', '10.1080/10810730.2012.688248', '10.1080/10810730.2013.811325', '10.1080/10810730.2015.1018596', '10.1080/10810730.2016.1242670', '10.1080/10810730.2016.1240266', '10.1080/10810730.2015.1131777', '10.1080/10810730.2016.1275890', '10.1080/10810730.2018.1500661', '10.1080/10810730.2020.1833385', '10.1080/10810730.2021.1927258', '10.5860/rusq.47n1.10', '10.5860/rusq.47n1.10', '10.1590/S1413-99362010000300008', '10.1590/1981-5344/3900', '10.1590/1981-5344/4343', '10.3163/1536-5050.96.2.101', '10.3163/1536-5050.97.2.008', '10.5195/jmla.2021.1295', '10.12795/IC.2016.i01.05', '10.22381/KC6220189', '10.1002/pra2.2017.14505401052']\n"
     ]
    }
   ],
   "source": [
    "print(IDs)"
   ]
  },
  {
   "cell_type": "code",
   "execution_count": 21,
   "metadata": {},
   "outputs": [
    {
     "name": "stdout",
     "output_type": "stream",
     "text": [
      "'The palatine's daughter'\n",
      "latine\n",
      "10.1093/nq/s9-VIII.208.505-d\n",
      "\"Lord Palatine\"\n",
      "latine\n",
      "10.1093/nq/s9-XII.312.496f\n",
      "His highness John William Newborough, count Palatine, c. 1675\n",
      "latine\n",
      "10.1093/nq/s10-XII.312.489-d\n",
      "Robert green of welby, alchemist and count palatine, c. 1467-c. 1540\n",
      "latine\n",
      "10.1093/notesj/32.3.312\n",
      "The unidentified sources of Nicholas Udall's Floures for Latine Spekynge\n",
      "Latine\n",
      "10.1093/nq/490203\n",
      "Hispanics and public libraries: Assessing their health information seeking behaviors in the e-health environment\n",
      "Hispanics\n",
      "10.1108/RSR-02-2016-0015\n",
      "The Book Cover as a Paratext: Biblia Germanicolatina in the Martynas Mažvydas National Library of Lithuania\n",
      "latina\n",
      "10.15388/KNYGOTYRA.2021.77.88\n",
      "Health information seeking behavior among rural and urban Peruvians: Variations in information resource access and preferences\n",
      "Peruvians\n",
      "10.1177/0266666909358640\n",
      "Consumer health services and collections for Hispanics: An introduction\n",
      "Hispanics\n",
      "10.1300/J115v21n01_03\n",
      "Le guide des sources de l'Histoire d'Amérique Latine\n",
      "Latine\n",
      "10.17723/aarc.28.1.ck3q022846u74065\n",
      "Indexing patterns of periodical literature on african american women and us latinas\n",
      "latina\n",
      "10.1300/J123v35n01_10\n",
      "Sociologie et dépendance scientifique en Amérique latine\n",
      "latine\n",
      "10.1177/053901847000900408\n",
      "Envahir, conseiller et gouverner…la ville d'Amérique latine\n",
      "latine\n",
      "10.1177/053901893032002006\n",
      "Circulation internationale et formation d'une \"école de pensée\" latino-américaine (1945-2000)\n",
      "latino\n",
      "10.1177/0539018405053296\n",
      "Les sciences sociales en Amérique latine (1930-2003): Présentation\n",
      "latine\n",
      "10.1177/0539018405053289\n",
      "From digital cinema to cloud computing in the film consumption of young Ecuadorians\n",
      "Ecuadorians\n",
      "10.7764/cdi.44.1450\n",
      "Jesuit Novilatine literature in XVIIth's century Coimbra connected with ecclesiastic events\n",
      "latine\n",
      "10.14195/2182-7974_34_1_3\n",
      "The Role of Digital Skills in the Formation of Generalized Trust Among Latinos and African Americans in the United States\n",
      "Latinos\n",
      "10.1177/0894439313497469\n",
      "Advancing the role of participatory communication in the diffusion of cancer screening among hispanics\n",
      "hispanic\n",
      "10.1080/108107399127075\n",
      "Promoting organ donation to Hispanics: The role of the media and medicine\n",
      "Hispanics\n",
      "10.1080/10810730600934542\n",
      "Does entertainment-education work with Latinos in the United States? Identification and the effects of a telenovela breast cancer storyline\n",
      "Latinos\n",
      "10.1080/10810730701438690\n",
      "Intentions of becoming a living organ donor among hispanics: A theory-based approach exploring differences between living and nonliving organ donation\n",
      "hispanic\n",
      "10.1080/10810730701807142\n",
      "Enhancing web-based kidney disease prevention messages for Hispanics using targeting and tailoring\n",
      "Hispanics\n",
      "10.1080/10810730903089606\n",
      "Cancer prevention information-seeking among hispanic and non-hispanic users of the National Cancer Institute's Cancer Information Service: Trends in telephone and LiveHelp use\n",
      "hispanic\n",
      "10.1080/10810730903032952\n",
      "Providing health messages to Hispanics/Latinos: Understanding the importance of language, trust in health information sources, and media use\n",
      "Latinos\n",
      "10.1080/10810730.2010.522697\n",
      "Providing health messages to Hispanics/Latinos: Understanding the importance of language, trust in health information sources, and media use\n",
      "Hispanics\n",
      "10.1080/10810730.2010.522697\n",
      "A mass mediated intervention on hispanic live kidney donation\n",
      "hispanic\n",
      "10.1080/10810731003753133\n",
      "Evaluation, use, and usefulness of prescription drug information sources among anglo and hispanic Americans\n",
      "hispanic\n",
      "10.1080/10810730903460526\n",
      "Interpretations of cigarette advertisement warning labels by Philadelphia Puerto Ricans\n",
      "Puerto Ricans\n",
      "10.1080/10810730.2011.561910\n",
      "Interpretations of cigarette advertisement warning labels by Philadelphia Puerto Ricans\n",
      "Puerto Ricans\n",
      "10.1080/10810730.2011.561910\n",
      "Integrated connection to neighborhood storytelling network, education, and chronic disease knowledge among African Americans and Latinos in Los Angeles\n",
      "Latinos\n",
      "10.1080/10810730.2010.546483\n",
      "Translation and adaptation of smoking relapse-prevention materials for pregnant and postpartum hispanic women\n",
      "hispanic\n",
      "10.1080/10810730.2010.529492\n",
      "Health locus of control, acculturation, and health-related internet use among latinas\n",
      "latina\n",
      "10.1080/10810730.2011.635767\n",
      "Marketing HIV prevention for heterosexually identified latino men who have sex with men and women: The hombres sanos campaign\n",
      "latino\n",
      "10.1080/10810730.2011.635766\n",
      "Esperanza y vida: A culturally and linguistically customized breast and cervical education program for diverse latinas at three different United States Sites\n",
      "latina\n",
      "10.1080/10810730.2011.585695\n",
      "Low health literacy, limited english proficiency, and health status in asians, latinos, and other racial/ethnic groups in california\n",
      "latino\n",
      "10.1080/10810730.2012.712621\n",
      "Health literacy associations between hispanic elderly patients and their caregivers\n",
      "hispanic\n",
      "10.1080/10810730.2013.829135\n",
      "Effects of ethnic targeting on the perceived effectiveness of cancer prevention messages among latinas and non-latina white women\n",
      "latina\n",
      "10.1080/10810730.2013.778362\n",
      "Improving awareness of cancer clinical trials among hispanic patients and families: Audience segmentation decisions for a media intervention\n",
      "hispanic\n",
      "10.1080/10810730.2013.768723\n",
      "The effect of depression on physician-patient communication among hispanic end-stage renal disease patients\n",
      "hispanic\n",
      "10.1080/10810730.2012.727962\n",
      "Internet access and online cancer information seeking among latino immigrants from safety net clinics\n",
      "latino\n",
      "10.1080/10810730.2012.688248\n",
      "Cultural and linguistic adaptation of a multimedia colorectal cancer screening decision aid for spanish-speaking latinos\n",
      "latino\n",
      "10.1080/10810730.2013.811325\n",
      "Who's Missing? Predictors of Attrition Following Participation in Culturally Targeted Educational Breast and Cervical Cancer Outreach Programs for Latinas\n",
      "Latinas\n",
      "10.1080/10810730.2015.1018596\n",
      "Using a Narrative Film to Increase Knowledge and Interpersonal Communication About Psychosis Among Latinos\n",
      "Latinos\n",
      "10.1080/10810730.2016.1242670\n",
      "HPV Vaccine–Related Knowledge, Beliefs, Acceptability, and Uptake Among Latinas Who Prefer English and Those Who Prefer Spanish\n",
      "Latinas\n",
      "10.1080/10810730.2016.1240266\n",
      "Cancer health literacy test-30-Spanish (CHLT-30-DKspa), a New Spanish-language version of the Cancer Health Literacy Test (CHLT-30) for Spanish-speaking latinos\n",
      "latino\n",
      "10.1080/10810730.2015.1131777\n",
      "Using Community Engagement to Develop a Web-Based Intervention for Latinos about the HPV Vaccine\n",
      "Latinos\n",
      "10.1080/10810730.2016.1275890\n",
      "Understanding Cervical Cancer Screening among Latinas through the Lens of Structure, Culture, Psychology and Communication\n",
      "Latinas\n",
      "10.1080/10810730.2018.1500661\n",
      "Use and Usefulness of After-Visit Summaries by Language and Health Literacy among Latinx and Chinese Primary Care Patients\n",
      "Latinx\n",
      "10.1080/10810730.2020.1833385\n",
      "Using Tweetchats to Build Community Awareness and Advocacy around Alzheimer’s Disease for Latinos\n",
      "Latinos\n",
      "10.1080/10810730.2021.1927258\n",
      "Afro-Latinos - An annotated guide for collection building\n",
      "Afro-Latinos\n",
      "10.5860/rusq.47n1.10\n",
      "Afro-Latinos - An annotated guide for collection building\n",
      "Latinos\n",
      "10.5860/rusq.47n1.10\n",
      "Knowledge management trends in Brazil content analysis in the opinion of Brazilians' specialists\n",
      "Brazilians\n",
      "10.1590/S1413-99362010000300008\n",
      "Memória e produção social da informação em direitos humanos: Uma perspectiva latino-americana\n",
      "latino\n",
      "10.1590/1981-5344/3900\n",
      "Underexplored territories: The study of visitor records in comment books of two Brazilians science museums\n",
      "Brazilians\n",
      "10.1590/1981-5344/4343\n",
      "Hispanics' use of Internet health information: An exploratory study\n",
      "Hispanics\n",
      "10.3163/1536-5050.96.2.101\n",
      "Web usability testing with a hispanic medically underserved population\n",
      "hispanic\n",
      "10.3163/1536-5050.97.2.008\n",
      "¡Presente!: Affirming Latinx voices within health sciences library scholarship\n",
      "Latinx\n",
      "10.5195/jmla.2021.1295\n",
      "Social media and the new latinoamerican student movements. \"chilean spring\" and \"#YoSoy132\"\n",
      "latino\n",
      "10.12795/IC.2016.i01.05\n",
      "Water, fire and the feminine in the pre-hispanic world: Creation and destruction of culture\n",
      "hispanic\n",
      "10.22381/KC6220189\n",
      "Information seeking among latinos in the midwestern United States\n",
      "latino\n",
      "10.1002/pra2.2017.14505401052\n"
     ]
    }
   ],
   "source": [
    "for key,values in pairs_dict.items():\n",
    "    for i in kw_list:\n",
    "        if i in values:\n",
    "            print(values)\n",
    "            print(i)\n",
    "            print(key)"
   ]
  },
  {
   "cell_type": "code",
   "execution_count": 20,
   "metadata": {},
   "outputs": [],
   "source": [
    "just_ID = {x.replace('SCOPUS_ID:', '') for x in IDs}"
   ]
  },
  {
   "cell_type": "code",
   "execution_count": 21,
   "metadata": {},
   "outputs": [
    {
     "name": "stdout",
     "output_type": "stream",
     "text": [
      "{'10.1300/J115v21n01_03', '10.1016/s0187-358x(14)70913-x', '10.1080/10810730.2011.585695', '10.1080/10810730.2015.1018596', '10.1080/10810730.2012.727962', '10.1080/10810730.2012.688248', '10.1080/10810730.2020.1833385', '10.1080/10810730.2016.1242670', '10.5195/biblios.2016.290', '10.1080/10810730903460526', '10.1590/S1413-99362010000300008', '10.22381/KC6220189', '10.1080/10810730.2013.811325', '10.1080/10810730.2010.522697', '10.1080/10810730.2011.561910', '10.3163/1536-5050.96.2.101', '10.1080/10810730903089606', '10.1080/10810730701807142', '10.1080/10810730.2012.712621', '10.22201/iibi.24488321xe.2020.85.58234', '10.1080/10810730.2021.1927258', '10.5195/jmla.2021.1295', '10.14195/2182-7974_34_1_3', '10.1080/10810730903032952', '10.1080/10810730.2016.1240266', '10.15388/KNYGOTYRA.2021.77.88', '10.1080/10810730.2011.635767', '10.1080/10810730.2010.546483', '10.1080/108107399127075', '10.1080/10810730701438690', '10.1080/10810730600934542', '10.3163/1536-5050.97.2.008', '10.1080/10810731003753133', '10.1080/10810730.2013.829135', '10.1080/10810730.2010.529492', '10.1080/10810730.2016.1275890', '10.1080/10810730.2013.778362', '10.1590/1981-5344/4343', '10.1177/0894439313497469', '10.1016/j.ibbai.2016.10.021', '10.1080/10810730.2011.635766', '10.1080/10810730.2015.1131777', '10.1080/10810730.2013.768723', '10.1080/10810730.2018.1500661', '10.1590/1981-5344/3900'}\n"
     ]
    }
   ],
   "source": [
    "print(just_ID)"
   ]
  },
  {
   "cell_type": "code",
   "execution_count": 22,
   "metadata": {},
   "outputs": [],
   "source": [
    "key_IDS = []\n",
    "\n",
    "for key,values in also_pairs_dict.items():\n",
    "    for i in kw_list:\n",
    "        for value in values:\n",
    "            if i in value:\n",
    "                key_IDS.append(key)"
   ]
  },
  {
   "cell_type": "code",
   "execution_count": 23,
   "metadata": {},
   "outputs": [
    {
     "name": "stdout",
     "output_type": "stream",
     "text": [
      "['10.1108/00907320910957251', '10.1300/J104v45n02_04', '10.1300/J115v21n01_03', '10.1080/02763869.2012.724285', '10.1080/02763869.2017.1259901', '10.1080/02763869.2017.1259901', '10.1177/0340035218764496', '10.1177/0340035218764496', '10.1300/J123v35n01_10', '10.1177/0894439318779342', '10.5209/rgid.74703', '10.5195/jmla.2021.1295', '10.5195/jmla.2021.1295', '10.1300/J204v03n04_04', '10.1300/J204v03n04_04', '10.1108/AJIM-12-2014-0181', '10.1002/pra2.2017.14505401052']\n"
     ]
    }
   ],
   "source": [
    "print(key_IDS)"
   ]
  },
  {
   "cell_type": "code",
   "execution_count": 24,
   "metadata": {},
   "outputs": [],
   "source": [
    "full_DOI_list = key_IDS + IDs"
   ]
  },
  {
   "cell_type": "code",
   "execution_count": 25,
   "metadata": {},
   "outputs": [
    {
     "name": "stdout",
     "output_type": "stream",
     "text": [
      "['10.1108/00907320910957251', '10.1300/J104v45n02_04', '10.1300/J115v21n01_03', '10.1080/02763869.2012.724285', '10.1080/02763869.2017.1259901', '10.1080/02763869.2017.1259901', '10.1177/0340035218764496', '10.1177/0340035218764496', '10.1300/J123v35n01_10', '10.1177/0894439318779342', '10.5209/rgid.74703', '10.5195/jmla.2021.1295', '10.5195/jmla.2021.1295', '10.1300/J204v03n04_04', '10.1300/J204v03n04_04', '10.1108/AJIM-12-2014-0181', '10.1002/pra2.2017.14505401052', '10.1093/nq/s9-VIII.208.505-d', '10.1093/nq/s9-XII.312.496f', '10.1093/nq/s10-XII.312.489-d', '10.1093/notesj/32.3.312', '10.1093/nq/490203', '10.1108/RSR-02-2016-0015', '10.15388/KNYGOTYRA.2021.77.88', '10.1177/0266666909358640', '10.1300/J115v21n01_03', '10.17723/aarc.28.1.ck3q022846u74065', '10.1300/J123v35n01_10', '10.1177/053901847000900408', '10.1177/053901893032002006', '10.1177/0539018405053296', '10.1177/0539018405053289', '10.7764/cdi.44.1450', '10.14195/2182-7974_34_1_3', '10.1177/0894439313497469', '10.1080/108107399127075', '10.1080/10810730600934542', '10.1080/10810730701438690', '10.1080/10810730701807142', '10.1080/10810730903089606', '10.1080/10810730903032952', '10.1080/10810730.2010.522697', '10.1080/10810730.2010.522697', '10.1080/10810731003753133', '10.1080/10810730903460526', '10.1080/10810730.2011.561910', '10.1080/10810730.2011.561910', '10.1080/10810730.2010.546483', '10.1080/10810730.2010.529492', '10.1080/10810730.2011.635767', '10.1080/10810730.2011.635766', '10.1080/10810730.2011.585695', '10.1080/10810730.2012.712621', '10.1080/10810730.2013.829135', '10.1080/10810730.2013.778362', '10.1080/10810730.2013.768723', '10.1080/10810730.2012.727962', '10.1080/10810730.2012.688248', '10.1080/10810730.2013.811325', '10.1080/10810730.2015.1018596', '10.1080/10810730.2016.1242670', '10.1080/10810730.2016.1240266', '10.1080/10810730.2015.1131777', '10.1080/10810730.2016.1275890', '10.1080/10810730.2018.1500661', '10.1080/10810730.2020.1833385', '10.1080/10810730.2021.1927258', '10.5860/rusq.47n1.10', '10.5860/rusq.47n1.10', '10.1590/S1413-99362010000300008', '10.1590/1981-5344/3900', '10.1590/1981-5344/4343', '10.3163/1536-5050.96.2.101', '10.3163/1536-5050.97.2.008', '10.5195/jmla.2021.1295', '10.12795/IC.2016.i01.05', '10.22381/KC6220189', '10.1002/pra2.2017.14505401052']\n"
     ]
    }
   ],
   "source": [
    "print(full_DOI_list)"
   ]
  },
  {
   "cell_type": "code",
   "execution_count": null,
   "metadata": {},
   "outputs": [],
   "source": []
  }
 ],
 "metadata": {
  "kernelspec": {
   "display_name": "Python 3",
   "language": "python",
   "name": "python3"
  },
  "language_info": {
   "codemirror_mode": {
    "name": "ipython",
    "version": 3
   },
   "file_extension": ".py",
   "mimetype": "text/x-python",
   "name": "python",
   "nbconvert_exporter": "python",
   "pygments_lexer": "ipython3",
   "version": "3.7.4"
  }
 },
 "nbformat": 4,
 "nbformat_minor": 2
}
