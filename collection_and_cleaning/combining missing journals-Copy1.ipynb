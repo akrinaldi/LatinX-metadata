{
 "cells": [
  {
   "cell_type": "code",
   "execution_count": 1,
   "metadata": {},
   "outputs": [],
   "source": [
    "import json\n",
    "import glob"
   ]
  },
  {
   "cell_type": "code",
   "execution_count": 2,
   "metadata": {},
   "outputs": [],
   "source": [
    "file_path = \"C:/Users/abbyk/Untitled Folder/LatinxMeta/outputs5/*/*\""
   ]
  },
  {
   "cell_type": "code",
   "execution_count": 3,
   "metadata": {},
   "outputs": [],
   "source": [
    "raw_outputs = glob.glob(file_path)\n",
    "empty = []\n",
    "\n",
    "for i in raw_outputs:\n",
    "    with open(i, \"rb\") as diction1:\n",
    "        empty.append(json.load(diction1))"
   ]
  },
  {
   "cell_type": "code",
   "execution_count": 4,
   "metadata": {},
   "outputs": [],
   "source": [
    "value_list = []\n",
    "\n",
    "for i in empty:\n",
    "    for key, value in i.items():\n",
    "        value_list.append(value)"
   ]
  },
  {
   "cell_type": "code",
   "execution_count": 5,
   "metadata": {},
   "outputs": [
    {
     "name": "stdout",
     "output_type": "stream",
     "text": [
      "{'opensearch:totalResults': '67', 'opensearch:startIndex': '0', 'opensearch:itemsPerPage': '67', 'opensearch:Query': {'@role': 'request', '@searchTerms': 'issn(00189448)', '@startPage': '0'}, 'link': [{'@_fa': 'true', '@ref': 'self', '@href': 'https://api.elsevier.com/content/search/scopus?start=0&count=200&query=issn%2800189448%29&date=1963&httpAccept=application/json&apiKey=ad4e12568b69167a2d25213b52923901&insttoken=0363e8707601cf3e7f27138d2b25f9e4', '@type': 'application/json'}, {'@_fa': 'true', '@ref': 'first', '@href': 'https://api.elsevier.com/content/search/scopus?start=0&count=200&query=issn%2800189448%29&date=1963&httpAccept=application/json&apiKey=ad4e12568b69167a2d25213b52923901&insttoken=0363e8707601cf3e7f27138d2b25f9e4', '@type': 'application/json'}], 'entry': [{'@_fa': 'true', 'prism:url': 'https://api.elsevier.com/content/abstract/scopus_id/84939070906', 'dc:identifier': 'SCOPUS_ID:84939070906', 'dc:title': 'Correspondence: Decision Theory Solutions for Non Linear Devices', 'prism:doi': '10.1109/TIT.1963.1057842', 'affiliation': [{'@_fa': 'true', 'affiliation-country': 'United States'}]}, {'@_fa': 'true', 'prism:url': 'https://api.elsevier.com/content/abstract/scopus_id/84939070895', 'dc:identifier': 'SCOPUS_ID:84939070895', 'dc:title': 'Optimal Search Procedures', 'prism:doi': '10.1109/TIT.1963.1057838', 'affiliation': [{'@_fa': 'true', 'affiliation-country': 'United States'}]}, {'@_fa': 'true', 'prism:url': 'https://api.elsevier.com/content/abstract/scopus_id/84939067817', 'dc:identifier': 'SCOPUS_ID:84939067817', 'dc:title': 'On Error-Limiting Variable-Length Codes', 'prism:doi': '10.1109/TIT.1963.1057839', 'affiliation': [{'@_fa': 'true', 'affiliation-country': 'United States'}]}, {'@_fa': 'true', 'prism:url': 'https://api.elsevier.com/content/abstract/scopus_id/84939051589', 'dc:identifier': 'SCOPUS_ID:84939051589', 'dc:title': 'Sequential Transmission Using Noiseless Feedback', 'prism:doi': '10.1109/TIT.1963.1057832', 'affiliation': [{'@_fa': 'true', 'affiliation-country': 'United States'}]}, {'@_fa': 'true', 'prism:url': 'https://api.elsevier.com/content/abstract/scopus_id/84939048378', 'dc:identifier': 'SCOPUS_ID:84939048378', 'dc:title': 'Comment on “Effects of Phase Errors on Pulse-Compression Systems”', 'prism:doi': '10.1109/TIT.1963.1057822', 'affiliation': [{'@_fa': 'true', 'affiliation-country': 'United States'}]}, {'@_fa': 'true', 'prism:url': 'https://api.elsevier.com/content/abstract/scopus_id/84939042132', 'dc:identifier': 'SCOPUS_ID:84939042132', 'dc:title': 'Successive Decoding Scheme for Memoryless Channels', 'prism:doi': '10.1109/TIT.1963.1057824', 'affiliation': [{'@_fa': 'true', 'affiliation-country': 'Israel'}]}, {'@_fa': 'true', 'prism:url': 'https://api.elsevier.com/content/abstract/scopus_id/84939039615', 'dc:identifier': 'SCOPUS_ID:84939039615', 'dc:title': 'An n-Symbol Receiver Requires at Most an n-Symbol Transmitter', 'prism:doi': '10.1109/TIT.1963.1057823', 'affiliation': [{'@_fa': 'true', 'affiliation-country': 'United States'}]}, {'@_fa': 'true', 'prism:url': 'https://api.elsevier.com/content/abstract/scopus_id/84939037095', 'dc:identifier': 'SCOPUS_ID:84939037095', 'dc:title': 'Augmented Bose-Chaudhuri Codes Which Correct Single Bursts of Errors', 'prism:doi': '10.1109/TIT.1963.1057816', 'affiliation': [{'@_fa': 'true', 'affiliation-country': 'United States'}]}, {'@_fa': 'true', 'prism:url': 'https://api.elsevier.com/content/abstract/scopus_id/84939031580', 'dc:identifier': 'SCOPUS_ID:84939031580', 'dc:title': 'An Introduction to the Theory of Stationary Random Functions', 'prism:doi': '10.1109/TIT.1963.1057837', 'affiliation': [{'@_fa': 'true', 'affiliation-country': 'United States'}]}, {'@_fa': 'true', 'prism:url': 'https://api.elsevier.com/content/abstract/scopus_id/84939024252', 'dc:identifier': 'SCOPUS_ID:84939024252', 'dc:title': 'Correction', 'prism:doi': '10.1109/TIT.1963.1057826'}, {'@_fa': 'true', 'prism:url': 'https://api.elsevier.com/content/abstract/scopus_id/84939021640', 'dc:identifier': 'SCOPUS_ID:84939021640', 'dc:title': 'Comments on “Statistical Properties of the Contours of Random Surfaces”', 'prism:doi': '10.1109/TIT.1963.1057844', 'affiliation': [{'@_fa': 'true', 'affiliation-country': 'United States'}]}, {'@_fa': 'true', 'prism:url': 'https://api.elsevier.com/content/abstract/scopus_id/84939021261', 'dc:identifier': 'SCOPUS_ID:84939021261', 'dc:title': 'Dynamic Optimization and Control', 'prism:doi': '10.1109/TIT.1963.1057829'}, {'@_fa': 'true', 'prism:url': 'https://api.elsevier.com/content/abstract/scopus_id/84939015361', 'dc:identifier': 'SCOPUS_ID:84939015361', 'dc:title': 'On FSK Parity Checking', 'prism:doi': '10.1109/TIT.1963.1057816', 'affiliation': [{'@_fa': 'true', 'affiliation-country': 'United States'}]}, {'@_fa': 'true', 'prism:url': 'https://api.elsevier.com/content/abstract/scopus_id/84939003150', 'dc:identifier': 'SCOPUS_ID:84939003150', 'dc:title': 'A Heuristic Discussion of Probabilistic Decoding', 'prism:doi': '10.1109/TIT.1963.1057827', 'affiliation': [{'@_fa': 'true', 'affiliation-country': 'United States'}]}, {'@_fa': 'true', 'prism:url': 'https://api.elsevier.com/content/abstract/scopus_id/84938023249', 'dc:identifier': 'SCOPUS_ID:84938023249', 'dc:title': 'Coding theory', 'prism:doi': '10.1109/TIT.1963.1057847', 'affiliation': [{'@_fa': 'true', 'affiliation-country': 'United States'}, {'@_fa': 'true', 'affiliation-country': 'United States'}]}, {'@_fa': 'true', 'prism:url': 'https://api.elsevier.com/content/abstract/scopus_id/84938021627', 'dc:identifier': 'SCOPUS_ID:84938021627', 'dc:title': 'Prediction and filtering', 'prism:doi': '10.1109/TIT.1963.1057861', 'affiliation': [{'@_fa': 'true', 'affiliation-country': 'United States'}]}, {'@_fa': 'true', 'prism:url': 'https://api.elsevier.com/content/abstract/scopus_id/84938021602', 'dc:identifier': 'SCOPUS_ID:84938021602', 'dc:title': 'Contributions to signal and noise theory', 'prism:doi': '10.1109/TIT.1963.1057859', 'affiliation': [{'@_fa': 'true', 'affiliation-country': 'United States'}]}, {'@_fa': 'true', 'prism:url': 'https://api.elsevier.com/content/abstract/scopus_id/84938021233', 'dc:identifier': 'SCOPUS_ID:84938021233', 'dc:title': 'Improved Computational Bound for the Binary Erasure Channel', 'prism:doi': '10.1109/TIT.1963.1057803', 'affiliation': [{'@_fa': 'true', 'affiliation-country': 'United States'}]}, {'@_fa': 'true', 'prism:url': 'https://api.elsevier.com/content/abstract/scopus_id/84938017324', 'dc:identifier': 'SCOPUS_ID:84938017324', 'dc:title': 'Human information processing', 'prism:doi': '10.1109/TIT.1963.1057865', 'affiliation': [{'@_fa': 'true', 'affiliation-country': 'United States'}]}, {'@_fa': 'true', 'prism:url': 'https://api.elsevier.com/content/abstract/scopus_id/84938016881', 'dc:identifier': 'SCOPUS_ID:84938016881', 'dc:title': 'Space communication', 'prism:doi': '10.1109/TIT.1963.1057856', 'affiliation': [{'@_fa': 'true', 'affiliation-country': 'United States'}]}, {'@_fa': 'true', 'prism:url': 'https://api.elsevier.com/content/abstract/scopus_id/84938016539', 'dc:identifier': 'SCOPUS_ID:84938016539', 'dc:title': 'Relation Between Outputs of a Full-Wave and Half-Wave Linear Rectifier for a Class of Non-Gaussian Inputs', 'prism:doi': '10.1109/TIT.1963.1057853', 'affiliation': [{'@_fa': 'true', 'affiliation-country': 'United States'}]}, {'@_fa': 'true', 'prism:url': 'https://api.elsevier.com/content/abstract/scopus_id/84938011479', 'dc:identifier': 'SCOPUS_ID:84938011479', 'dc:title': 'Synthesis of Fixed and Variable Networks for Filtering Nonstationary Random Signals', 'prism:doi': '10.1109/TIT.1963.1057850', 'affiliation': [{'@_fa': 'true', 'affiliation-country': 'United States'}]}, {'@_fa': 'true', 'prism:url': 'https://api.elsevier.com/content/abstract/scopus_id/84938009427', 'dc:identifier': 'SCOPUS_ID:84938009427', 'dc:title': 'Ambiguity Functions of Complementary Sequences', 'prism:doi': '10.1109/TIT.1963.1057807', 'affiliation': [{'@_fa': 'true', 'affiliation-country': 'United States'}]}, {'@_fa': 'true', 'prism:url': 'https://api.elsevier.com/content/abstract/scopus_id/84937998647', 'dc:identifier': 'SCOPUS_ID:84937998647', 'dc:title': 'Adaptive Minimum MSE Estimation', 'prism:doi': '10.1109/TIT.1963.1057868', 'affiliation': [{'@_fa': 'true', 'affiliation-country': 'United States'}]}, {'@_fa': 'true', 'prism:url': 'https://api.elsevier.com/content/abstract/scopus_id/84937997715', 'dc:identifier': 'SCOPUS_ID:84937997715', 'dc:title': 'Foundations of Information Theory', 'prism:doi': '10.1109/TIT.1963.1057867', 'affiliation': [{'@_fa': 'true', 'affiliation-country': 'United States'}]}, {'@_fa': 'true', 'prism:url': 'https://api.elsevier.com/content/abstract/scopus_id/84937996958', 'dc:identifier': 'SCOPUS_ID:84937996958', 'dc:title': 'On Maximum-Weight Codes', 'prism:doi': '10.1109/TIT.1963.1057852', 'affiliation': [{'@_fa': 'true', 'affiliation-country': 'United States'}]}, {'@_fa': 'true', 'prism:url': 'https://api.elsevier.com/content/abstract/scopus_id/84937996906', 'dc:identifier': 'SCOPUS_ID:84937996906', 'dc:title': 'Corrections to “Approximate Determination of the Extreme Reception Threshold Position in Frequency Modulation”', 'prism:doi': '10.1109/TIT.1963.1057858', 'affiliation': [{'@_fa': 'true', 'affiliation-country': 'France'}]}, {'@_fa': 'true', 'prism:url': 'https://api.elsevier.com/content/abstract/scopus_id/84937996421', 'dc:identifier': 'SCOPUS_ID:84937996421', 'dc:title': 'Communication and radar-section A general', 'prism:doi': '10.1109/TIT.1963.1057862', 'affiliation': [{'@_fa': 'true', 'affiliation-country': 'United States'}, {'@_fa': 'true', 'affiliation-country': 'United States'}]}, {'@_fa': 'true', 'prism:url': 'https://api.elsevier.com/content/abstract/scopus_id/84937995536', 'dc:identifier': 'SCOPUS_ID:84937995536', 'dc:title': 'A Reduced Upper Bound on the Error Correction Ability of Codes', 'prism:doi': '10.1109/TIT.1963.1057806'}, {'@_fa': 'true', 'prism:url': 'https://api.elsevier.com/content/abstract/scopus_id/84937995191', 'dc:identifier': 'SCOPUS_ID:84937995191', 'dc:title': 'An Upper Bound on the Error Correction Ability of Codes', 'prism:doi': '10.1109/TIT.1963.1057855'}, {'@_fa': 'true', 'prism:url': 'https://api.elsevier.com/content/abstract/scopus_id/84937994738', 'dc:identifier': 'SCOPUS_ID:84937994738', 'dc:title': 'The Asymptotic Behavior of Linear Decoding for the Binary Symmetric Channel', 'prism:doi': '10.1109/TIT.1963.1057808', 'affiliation': [{'@_fa': 'true', 'affiliation-country': 'United States'}]}, {'@_fa': 'true', 'prism:url': 'https://api.elsevier.com/content/abstract/scopus_id/84937993876', 'dc:identifier': 'SCOPUS_ID:84937993876', 'dc:title': 'Regular Expressions and Variable Length Encodings', 'prism:doi': '10.1109/TIT.1963.1057799', 'affiliation': [{'@_fa': 'true', 'affiliation-country': 'United States'}]}, {'@_fa': 'true', 'prism:url': 'https://api.elsevier.com/content/abstract/scopus_id/84937993677', 'dc:identifier': 'SCOPUS_ID:84937993677', 'dc:title': 'A Sequential Test for Radar Detection of Multiple Targets', 'prism:doi': '10.1109/TIT.1963.1057804', 'affiliation': [{'@_fa': 'true', 'affiliation-country': 'United States'}]}, {'@_fa': 'true', 'prism:url': 'https://api.elsevier.com/content/abstract/scopus_id/84931989211', 'dc:identifier': 'SCOPUS_ID:84931989211', 'dc:title': 'Iterative Design of Optimum Filters for Non Mean-Square-Error Performance Criteria', 'prism:doi': '10.1109/TIT.1963.1057846', 'affiliation': [{'@_fa': 'true', 'affiliation-country': 'United States'}]}, {'@_fa': 'true', 'prism:url': 'https://api.elsevier.com/content/abstract/scopus_id/84930093045', 'dc:identifier': 'SCOPUS_ID:84930093045', 'dc:title': 'Application of Sequential Decoding to High-Rate Data Communication on a Telephone Line', 'prism:doi': '10.1109/TIT.1963.1057820', 'affiliation': [{'@_fa': 'true', 'affiliation-country': 'United States'}]}, {'@_fa': 'true', 'prism:url': 'https://api.elsevier.com/content/abstract/scopus_id/84916389682', 'dc:identifier': 'SCOPUS_ID:84916389682', 'dc:title': 'Tests for Unique Decipherability', 'prism:doi': '10.1109/TIT.1963.1057817', 'affiliation': [{'@_fa': 'true', 'affiliation-country': 'United States'}]}, {'@_fa': 'true', 'prism:url': 'https://api.elsevier.com/content/abstract/scopus_id/84914964811', 'dc:identifier': 'SCOPUS_ID:84914964811', 'dc:title': 'Reducing the Effects of Intersymbol Interference with Correlation Receivers', 'prism:doi': '10.1109/TIT.1963.1057833', 'affiliation': [{'@_fa': 'true', 'affiliation-country': 'United States'}, {'@_fa': 'true', 'affiliation-country': 'United States'}]}, {'@_fa': 'true', 'prism:url': 'https://api.elsevier.com/content/abstract/scopus_id/84914859789', 'dc:identifier': 'SCOPUS_ID:84914859789', 'dc:title': 'Error Coding Bounds for the Binary Asymmetric Channel', 'prism:doi': '10.1109/TIT.1963.1057843', 'affiliation': [{'@_fa': 'true', 'affiliation-country': 'United States'}]}, {'@_fa': 'true', 'prism:url': 'https://api.elsevier.com/content/abstract/scopus_id/84914841993', 'dc:identifier': 'SCOPUS_ID:84914841993', 'dc:title': 'On the Use of Coset Codes in Asymmetric Channels', 'prism:doi': '10.1109/TIT.1963.1057814', 'affiliation': [{'@_fa': 'true', 'affiliation-country': 'United States'}]}, {'@_fa': 'true', 'prism:url': 'https://api.elsevier.com/content/abstract/scopus_id/84914813506', 'dc:identifier': 'SCOPUS_ID:84914813506', 'dc:title': 'On the Effectiveness of Receptors in Recognition Systems', 'prism:doi': '10.1109/TIT.1963.1057810', 'affiliation': [{'@_fa': 'true', 'affiliation-country': 'United States'}, {'@_fa': 'true', 'affiliation-country': 'United States'}]}, {'@_fa': 'true', 'prism:url': 'https://api.elsevier.com/content/abstract/scopus_id/84912461247', 'dc:identifier': 'SCOPUS_ID:84912461247', 'dc:title': 'Self-Noise of Random Binary Pulse Train of Fixed Pulse Width', 'prism:doi': '10.1109/TIT.1963.1057814', 'affiliation': [{'@_fa': 'true', 'affiliation-country': 'United States'}]}, {'@_fa': 'true', 'prism:url': 'https://api.elsevier.com/content/abstract/scopus_id/84880400691', 'dc:identifier': 'SCOPUS_ID:84880400691', 'dc:title': 'Artificial intelligence research', 'prism:doi': '10.1109/TIT.1963.1057864', 'affiliation': [{'@_fa': 'true', 'affiliation-country': 'United States'}]}, {'@_fa': 'true', 'prism:url': 'https://api.elsevier.com/content/abstract/scopus_id/84879327343', 'dc:identifier': 'SCOPUS_ID:84879327343', 'dc:title': 'Error-Locating Codes-A New Concept in Error Control', 'prism:doi': '10.1109/TIT.1963.1057813', 'affiliation': [{'@_fa': 'true', 'affiliation-country': 'United States'}, {'@_fa': 'true', 'affiliation-country': 'United States'}]}, {'@_fa': 'true', 'prism:url': 'https://api.elsevier.com/content/abstract/scopus_id/84860382058', 'dc:identifier': 'SCOPUS_ID:84860382058', 'dc:title': 'Pattern recognition and machine learning', 'prism:doi': '10.1109/TIT.1963.1057854', 'affiliation': [{'@_fa': 'true', 'affiliation-country': 'United States'}, {'@_fa': 'true', 'affiliation-country': 'United States'}, {'@_fa': 'true', 'affiliation-country': 'United States'}]}, {'@_fa': 'true', 'prism:url': 'https://api.elsevier.com/content/abstract/scopus_id/7544232314', 'dc:identifier': 'SCOPUS_ID:7544232314', 'dc:title': 'An Experimental Study of Bibliographic Coupling Between Technical Papers', 'prism:doi': '10.1109/TIT.1963.1057800', 'affiliation': [{'@_fa': 'true', 'affiliation-country': 'United States'}]}, {'@_fa': 'true', 'prism:url': 'https://api.elsevier.com/content/abstract/scopus_id/68949160184', 'dc:identifier': 'SCOPUS_ID:68949160184', 'dc:title': 'Polarity Coincidence Correlation Detection of a Weak Noise Source', 'prism:doi': '10.1109/TIT.1963.1057811', 'affiliation': [{'@_fa': 'true', 'affiliation-country': 'United States'}]}, {'@_fa': 'true', 'prism:url': 'https://api.elsevier.com/content/abstract/scopus_id/50949124953', 'dc:identifier': 'SCOPUS_ID:50949124953', 'dc:title': 'Exact Distribution Functions of Test Length for Sequential Processors with Discrete Input Data', 'prism:doi': '10.1109/TIT.1963.1057834', 'affiliation': [{'@_fa': 'true', 'affiliation-country': 'United States'}]}, {'@_fa': 'true', 'prism:url': 'https://api.elsevier.com/content/abstract/scopus_id/48849090724', 'dc:identifier': 'SCOPUS_ID:48849090724', 'dc:title': 'A Sequential Test for the Presence of a Signal in One of ft Possible Positions', 'prism:doi': '10.1109/TIT.1963.1057848', 'affiliation': [{'@_fa': 'true', 'affiliation-country': 'United States'}]}, {'@_fa': 'true', 'prism:url': 'https://api.elsevier.com/content/abstract/scopus_id/41949140855', 'dc:identifier': 'SCOPUS_ID:41949140855', 'dc:title': 'Burst-Error Correction for Randomly-Chosen Binary Group Codes', 'prism:doi': '10.1109/TIT.1963.1057857', 'affiliation': [{'@_fa': 'true', 'affiliation-country': 'United States'}]}, {'@_fa': 'true', 'prism:url': 'https://api.elsevier.com/content/abstract/scopus_id/37549016609', 'dc:identifier': 'SCOPUS_ID:37549016609', 'dc:title': 'Single-and Double-Adjacent Error-Correcting Codes for Arithmetic Units', 'prism:doi': '10.1109/TIT.1963.1057845', 'affiliation': [{'@_fa': 'true', 'affiliation-country': 'United States'}, {'@_fa': 'true', 'affiliation-country': 'United States'}]}, {'@_fa': 'true', 'prism:url': 'https://api.elsevier.com/content/abstract/scopus_id/34548234113', 'dc:identifier': 'SCOPUS_ID:34548234113', 'dc:title': 'Report on Progress in Information Theory in the U.S.A. 1960-1963', 'prism:doi': '10.1109/TIT.1963.1057866', 'affiliation': [{'@_fa': 'true', 'affiliation-country': 'United States'}]}, {'@_fa': 'true', 'prism:url': 'https://api.elsevier.com/content/abstract/scopus_id/33750078565', 'dc:identifier': 'SCOPUS_ID:33750078565', 'dc:title': 'Cyclically Permutable Error-Correcting Codes', 'prism:doi': '10.1109/TIT.1963.1057840', 'affiliation': [{'@_fa': 'true', 'affiliation-country': 'United States'}]}, {'@_fa': 'true', 'prism:url': 'https://api.elsevier.com/content/abstract/scopus_id/33747845966', 'dc:identifier': 'SCOPUS_ID:33747845966', 'dc:title': 'Low-Density-Burst-Correcting Codes', 'prism:doi': '10.1109/TIT.1963.1057819', 'affiliation': [{'@_fa': 'true', 'affiliation-country': 'United States'}]}, {'@_fa': 'true', 'prism:url': 'https://api.elsevier.com/content/abstract/scopus_id/33645970298', 'dc:identifier': 'SCOPUS_ID:33645970298', 'dc:title': 'Communication and radar-section B radar waveform selection', 'prism:doi': '10.1109/TIT.1963.1057863', 'affiliation': [{'@_fa': 'true', 'affiliation-country': 'United States'}]}, {'@_fa': 'true', 'prism:url': 'https://api.elsevier.com/content/abstract/scopus_id/29544449604', 'dc:identifier': 'SCOPUS_ID:29544449604', 'dc:title': 'General Results in the Mathematical Theory of Random Signals and Noise in Nonlinear Devices', 'prism:doi': '10.1109/TIT.1963.1057812', 'affiliation': [{'@_fa': 'true', 'affiliation-country': 'United States'}]}, {'@_fa': 'true', 'prism:url': 'https://api.elsevier.com/content/abstract/scopus_id/24944591652', 'dc:identifier': 'SCOPUS_ID:24944591652', 'dc:title': 'Optimization of Signal Waveforms', 'prism:doi': '10.1109/TIT.1963.1057818', 'affiliation': [{'@_fa': 'true', 'affiliation-country': 'United States'}]}, {'@_fa': 'true', 'prism:url': 'https://api.elsevier.com/content/abstract/scopus_id/0347861973', 'dc:identifier': 'SCOPUS_ID:0347861973', 'dc:title': 'Hard-Limiting of Two Signals in Random Noise', 'prism:doi': '10.1109/TIT.1963.1057797', 'affiliation': [{'@_fa': 'true', 'affiliation-country': 'United States'}]}, {'@_fa': 'true', 'prism:url': 'https://api.elsevier.com/content/abstract/scopus_id/0038725538', 'dc:identifier': 'SCOPUS_ID:0038725538', 'dc:title': 'Rotational Transformation of Signals', 'prism:doi': '10.1109/TIT.1963.1057835', 'affiliation': [{'@_fa': 'true', 'affiliation-country': 'Canada'}]}, {'@_fa': 'true', 'prism:url': 'https://api.elsevier.com/content/abstract/scopus_id/0037700528', 'dc:identifier': 'SCOPUS_ID:0037700528', 'dc:title': 'Analysis of Recurrent Codes', 'prism:doi': '10.1109/TIT.1963.1057831', 'affiliation': [{'@_fa': 'true', 'affiliation-country': 'United States'}, {'@_fa': 'true', 'affiliation-country': 'United States'}]}, {'@_fa': 'true', 'prism:url': 'https://api.elsevier.com/content/abstract/scopus_id/0012481492', 'dc:identifier': 'SCOPUS_ID:0012481492', 'dc:title': 'Time-variant communication channels', 'prism:doi': '10.1109/TIT.1963.1057860', 'affiliation': [{'@_fa': 'true', 'affiliation-country': 'United States'}]}, {'@_fa': 'true', 'prism:url': 'https://api.elsevier.com/content/abstract/scopus_id/0009059512', 'dc:identifier': 'SCOPUS_ID:0009059512', 'dc:title': 'Correlation Functions in a Tapped Delay Line Model of the Orbital Dipole Channel', 'prism:doi': '10.1109/TIT.1963.1057801', 'affiliation': [{'@_fa': 'true', 'affiliation-country': 'United States'}]}, {'@_fa': 'true', 'prism:url': 'https://api.elsevier.com/content/abstract/scopus_id/0006718692', 'dc:identifier': 'SCOPUS_ID:0006718692', 'dc:title': 'Optimum Shortened Cyclic Codes for Burst-Error Correction', 'prism:doi': '10.1109/TIT.1963.1057825', 'affiliation': [{'@_fa': 'true', 'affiliation-country': 'Japan'}]}, {'@_fa': 'true', 'prism:url': 'https://api.elsevier.com/content/abstract/scopus_id/0005861105', 'dc:identifier': 'SCOPUS_ID:0005861105', 'dc:title': 'Improved Asymptotic Bounds for Error-Correcting Codes', 'prism:doi': '10.1109/TIT.1963.1057841', 'affiliation': [{'@_fa': 'true', 'affiliation-country': 'United States'}]}, {'@_fa': 'true', 'prism:url': 'https://api.elsevier.com/content/abstract/scopus_id/0005275578', 'dc:identifier': 'SCOPUS_ID:0005275578', 'dc:title': 'Word Error Rate for Group Codes Detected by Correlation and Other Means', 'prism:doi': '10.1109/TIT.1963.1057809', 'affiliation': [{'@_fa': 'true', 'affiliation-country': 'United States'}]}, {'@_fa': 'true', 'prism:url': 'https://api.elsevier.com/content/abstract/scopus_id/0001943928', 'dc:identifier': 'SCOPUS_ID:0001943928', 'dc:title': 'Information Transmission with Time-Continuous Random Processes', 'prism:doi': '10.1109/TIT.1963.1057830', 'affiliation': [{'@_fa': 'true', 'affiliation-country': 'United States'}]}, {'@_fa': 'true', 'prism:url': 'https://api.elsevier.com/content/abstract/scopus_id/0001887421', 'dc:identifier': 'SCOPUS_ID:0001887421', 'dc:title': 'Polyphase Codes with Good Nonperiodic Correlation Properties', 'prism:doi': '10.1109/TIT.1963.1057798', 'affiliation': [{'@_fa': 'true', 'affiliation-country': 'United States'}]}, {'@_fa': 'true', 'prism:url': 'https://api.elsevier.com/content/abstract/scopus_id/0000042860', 'dc:identifier': 'SCOPUS_ID:0000042860', 'dc:title': 'Signal Selection in Communication and Radar Systems', 'prism:doi': '10.1109/TIT.1963.1057849', 'affiliation': [{'@_fa': 'true', 'affiliation-country': 'United States'}]}]}\n"
     ]
    }
   ],
   "source": [
    "print(value_list[0])"
   ]
  },
  {
   "cell_type": "code",
   "execution_count": 6,
   "metadata": {},
   "outputs": [],
   "source": [
    "dictions2 = []"
   ]
  },
  {
   "cell_type": "code",
   "execution_count": 7,
   "metadata": {},
   "outputs": [],
   "source": [
    "for i in value_list:\n",
    "    for key, value in i.items():\n",
    "        if key == \"entry\":\n",
    "            dictions2.append(value)"
   ]
  },
  {
   "cell_type": "code",
   "execution_count": 8,
   "metadata": {},
   "outputs": [
    {
     "data": {
      "text/plain": [
       "4383"
      ]
     },
     "execution_count": 8,
     "metadata": {},
     "output_type": "execute_result"
    }
   ],
   "source": [
    "len(dictions2)"
   ]
  },
  {
   "cell_type": "code",
   "execution_count": 9,
   "metadata": {},
   "outputs": [
    {
     "name": "stdout",
     "output_type": "stream",
     "text": [
      "[{'@_fa': 'true', 'prism:url': 'https://api.elsevier.com/content/abstract/scopus_id/84947015240', 'dc:identifier': 'SCOPUS_ID:84947015240', 'dc:title': 'Documentation survey', 'prism:doi': '10.1108/eb026461'}, {'@_fa': 'true', 'prism:url': 'https://api.elsevier.com/content/abstract/scopus_id/84947011595', 'dc:identifier': 'SCOPUS_ID:84947011595', 'dc:title': 'Documentation notes', 'prism:doi': '10.1108/eb026460'}, {'@_fa': 'true', 'prism:url': 'https://api.elsevier.com/content/abstract/scopus_id/84947011008', 'dc:identifier': 'SCOPUS_ID:84947011008', 'dc:title': 'Classification research group: Bulletin No. 9', 'prism:doi': '10.1108/eb026459'}, {'@_fa': 'true', 'prism:url': 'https://api.elsevier.com/content/abstract/scopus_id/0346751078', 'dc:identifier': 'SCOPUS_ID:0346751078', 'dc:title': 'Author versus title: A comparative survey of the accuracy of the information which the user brings to the library catalogue', 'prism:doi': '10.1108/eb026458', 'affiliation': [{'@_fa': 'true', 'affiliation-country': 'United Kingdom'}]}, {'@_fa': 'true', 'prism:url': 'https://api.elsevier.com/content/abstract/scopus_id/0000696167', 'dc:identifier': 'SCOPUS_ID:0000696167', 'dc:title': 'The derivation and application of the bradford-zipf distribution', 'prism:doi': '10.1108/eb026457', 'affiliation': [{'@_fa': 'true', 'affiliation-country': 'United Kingdom'}]}, {'@_fa': 'true', 'prism:url': 'https://api.elsevier.com/content/abstract/scopus_id/84947016321', 'dc:identifier': 'SCOPUS_ID:84947016321', 'dc:title': 'The tactics of converting a catalogue to machine-readable form', 'prism:doi': '10.1108/eb026451', 'affiliation': [{'@_fa': 'true', 'affiliation-country': 'United Kingdom'}]}, {'@_fa': 'true', 'prism:url': 'https://api.elsevier.com/content/abstract/scopus_id/84947014933', 'dc:identifier': 'SCOPUS_ID:84947014933', 'dc:title': 'Documentation survey', 'prism:doi': '10.1108/eb026456'}, {'@_fa': 'true', 'prism:url': 'https://api.elsevier.com/content/abstract/scopus_id/84911229999', 'dc:identifier': 'SCOPUS_ID:84911229999', 'dc:title': 'An experiment in indexing by word-choosing', 'prism:doi': '10.1108/eb026452', 'affiliation': [{'@_fa': 'true', 'affiliation-country': 'United Kingdom'}]}, {'@_fa': 'true', 'prism:url': 'https://api.elsevier.com/content/abstract/scopus_id/84909461595', 'dc:identifier': 'SCOPUS_ID:84909461595', 'dc:title': 'The design of an information system for the literature of rock mechanics', 'prism:doi': '10.1108/eb026455', 'affiliation': [{'@_fa': 'true', 'affiliation-country': 'United Kingdom'}]}, {'@_fa': 'true', 'prism:url': 'https://api.elsevier.com/content/abstract/scopus_id/84881714998', 'dc:identifier': 'SCOPUS_ID:84881714998', 'dc:title': 'Statistics of scientific and technical articles', 'prism:doi': '10.1108/eb026454', 'affiliation': [{'@_fa': 'true', 'affiliation-country': 'United Kingdom'}]}, {'@_fa': 'true', 'prism:url': 'https://api.elsevier.com/content/abstract/scopus_id/80052436975', 'dc:identifier': 'SCOPUS_ID:80052436975', 'dc:title': 'A study of cross-referencing', 'prism:doi': '10.1108/eb026453', 'affiliation': [{'@_fa': 'true', 'affiliation-country': 'United States'}]}, {'@_fa': 'true', 'prism:url': 'https://api.elsevier.com/content/abstract/scopus_id/84947015661', 'dc:identifier': 'SCOPUS_ID:84947015661', 'dc:title': 'Tuition in the use of the library and of subject literature in the university of bradford', 'prism:doi': '10.1108/eb026445', 'affiliation': [{'@_fa': 'true', 'affiliation-country': 'United Kingdom'}]}, {'@_fa': 'true', 'prism:url': 'https://api.elsevier.com/content/abstract/scopus_id/84947015438', 'dc:identifier': 'SCOPUS_ID:84947015438', 'dc:title': 'Documentation survey', 'prism:doi': '10.1108/eb026450'}, {'@_fa': 'true', 'prism:url': 'https://api.elsevier.com/content/abstract/scopus_id/84947013763', 'dc:identifier': 'SCOPUS_ID:84947013763', 'dc:title': 'Documentation note: A note on the treatment of socialpsychology in the universal decimal classification under the influence of the doctrine of instinct', 'prism:doi': '10.1108/eb026449', 'affiliation': [{'@_fa': 'true', 'affiliation-country': 'India'}]}, {'@_fa': 'true', 'prism:url': 'https://api.elsevier.com/content/abstract/scopus_id/84947010875', 'dc:identifier': 'SCOPUS_ID:84947010875', 'dc:title': 'Current awareness needs of physicists: Results of an anglo-american study', 'prism:doi': '10.1108/eb026446', 'affiliation': [{'@_fa': 'true', 'affiliation-country': 'United States'}]}, {'@_fa': 'true', 'prism:url': 'https://api.elsevier.com/content/abstract/scopus_id/84914982365', 'dc:identifier': 'SCOPUS_ID:84914982365', 'dc:title': 'Physics abstracts as a source of abstracts in astronomy', 'prism:doi': '10.1108/eb026447', 'affiliation': [{'@_fa': 'true', 'affiliation-country': 'United Kingdom'}]}, {'@_fa': 'true', 'prism:url': 'https://api.elsevier.com/content/abstract/scopus_id/8044237653', 'dc:identifier': 'SCOPUS_ID:8044237653', 'dc:title': 'The law of constant citation for scientific literature', 'prism:doi': '10.1108/eb026448', 'affiliation': [{'@_fa': 'true', 'affiliation-country': 'Netherlands'}]}, {'@_fa': 'true', 'prism:url': 'https://api.elsevier.com/content/abstract/scopus_id/84947012993', 'dc:identifier': 'SCOPUS_ID:84947012993', 'dc:title': 'Documentation notes: The anglo-american cataloguing rules (British Text): A note of welcome', 'prism:doi': '10.1108/eb026443'}, {'@_fa': 'true', 'prism:url': 'https://api.elsevier.com/content/abstract/scopus_id/84947012838', 'dc:identifier': 'SCOPUS_ID:84947012838', 'dc:title': 'Documentation survey', 'prism:doi': '10.1108/eb026444'}, {'@_fa': 'true', 'prism:url': 'https://api.elsevier.com/content/abstract/scopus_id/52649127059', 'dc:identifier': 'SCOPUS_ID:52649127059', 'dc:title': 'Evaluating the economic efficiency of a document retrieval system', 'prism:doi': '10.1108/eb026441', 'affiliation': [{'@_fa': 'true', 'affiliation-country': 'United States'}]}, {'@_fa': 'true', 'prism:url': 'https://api.elsevier.com/content/abstract/scopus_id/31144433518', 'dc:identifier': 'SCOPUS_ID:31144433518', 'dc:title': 'Bibliographic description, arrangement, and retrieval', 'prism:doi': '10.1108/eb026440'}, {'@_fa': 'true', 'prism:url': 'https://api.elsevier.com/content/abstract/scopus_id/0346707309', 'dc:identifier': 'SCOPUS_ID:0346707309', 'dc:title': 'The measures of information retrieval effectiveness proposed by swets', 'prism:doi': '10.1108/eb026442', 'affiliation': [{'@_fa': 'true', 'affiliation-country': 'United Kingdom'}]}]\n"
     ]
    }
   ],
   "source": [
    "print(dictions2[85])"
   ]
  },
  {
   "cell_type": "code",
   "execution_count": 10,
   "metadata": {},
   "outputs": [],
   "source": [
    "with open('test_3.json', 'w') as out:\n",
    "        json.dump(dictions2, out)"
   ]
  },
  {
   "cell_type": "code",
   "execution_count": 10,
   "metadata": {},
   "outputs": [],
   "source": [
    "with open('indiv_journ_2.json','w') as file:\n",
    "    for i in dictions2:\n",
    "        json.dump(i,file)"
   ]
  },
  {
   "cell_type": "code",
   "execution_count": null,
   "metadata": {},
   "outputs": [],
   "source": []
  }
 ],
 "metadata": {
  "kernelspec": {
   "display_name": "Python 3",
   "language": "python",
   "name": "python3"
  },
  "language_info": {
   "codemirror_mode": {
    "name": "ipython",
    "version": 3
   },
   "file_extension": ".py",
   "mimetype": "text/x-python",
   "name": "python",
   "nbconvert_exporter": "python",
   "pygments_lexer": "ipython3",
   "version": "3.7.4"
  }
 },
 "nbformat": 4,
 "nbformat_minor": 2
}
