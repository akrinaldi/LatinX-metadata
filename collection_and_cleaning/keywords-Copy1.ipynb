{
 "cells": [
  {
   "cell_type": "code",
   "execution_count": 1,
   "metadata": {},
   "outputs": [],
   "source": [
    "import json\n",
    "import pandas as pd"
   ]
  },
  {
   "cell_type": "code",
   "execution_count": 2,
   "metadata": {},
   "outputs": [],
   "source": [
    "full_json = pd.read_json(\"C:/Users/abbyk/Untitled Folder/doi_pull.json\")"
   ]
  },
  {
   "cell_type": "code",
   "execution_count": 3,
   "metadata": {},
   "outputs": [],
   "source": [
    "a_df = pd.DataFrame(full_json, columns = ['prism:doi','authkeywords','dc:title'])"
   ]
  },
  {
   "cell_type": "code",
   "execution_count": 52,
   "metadata": {},
   "outputs": [],
   "source": [
    "json_dict = a_df.to_dict()"
   ]
  },
  {
   "cell_type": "code",
   "execution_count": 5,
   "metadata": {},
   "outputs": [],
   "source": [
    "booop = []\n",
    "beeg = []\n",
    "\n",
    "for key, value in json_dict.items():\n",
    "    if type(value) != float:\n",
    "        beeg.append(key)\n",
    "        booop.append(value)"
   ]
  },
  {
   "cell_type": "code",
   "execution_count": 4,
   "metadata": {},
   "outputs": [],
   "source": [
    "value_list = []\n",
    "key_list = []\n",
    "keywords_list = []\n",
    "\n",
    "#for key in a_df[\"dc:identifier\"]:\n",
    " #   for value in a_df[\"authkeywords\"]:\n",
    "  #      if type(value) != float:\n",
    "   #         value_list.append(value.split(\" | \"))    \n",
    "        "
   ]
  },
  {
   "cell_type": "code",
   "execution_count": 5,
   "metadata": {},
   "outputs": [],
   "source": [
    "for ind in a_df.index:\n",
    "    key=a_df[\"prism:doi\"][ind]\n",
    "    value1=a_df[\"dc:title\"][ind]\n",
    "    value2=a_df[\"authkeywords\"][ind]\n",
    "    if type(value2) != float:\n",
    "        boop = value2.split(\" | \")\n",
    "        value_list.append(value1)\n",
    "        keywords_list.append(boop)\n",
    "        key_list.append(key)\n",
    "    else:\n",
    "        value_list.append(value1)\n",
    "        keywords_list.append(\"NULL\")\n",
    "        key_list.append(key)"
   ]
  },
  {
   "cell_type": "code",
   "execution_count": 23,
   "metadata": {},
   "outputs": [],
   "source": [
    "for ind in a_df.index:\n",
    "    key=a_df[\"DOI\"][ind]\n",
    "    value=a_df[\"authkeywords\"][ind]\n",
    "    \n",
    "    if type(value) != float:\n",
    "        boop = value.split(\" | \")\n",
    "        keywords_list.append(boop)\n",
    "        Keys_list.append(key)\n",
    "    else:\n",
    "        keywords_list.append(\"NULL\")\n",
    "        Keys_list.append(key)"
   ]
  },
  {
   "cell_type": "code",
   "execution_count": 6,
   "metadata": {},
   "outputs": [],
   "source": [
    "empty_df = pd.DataFrame()"
   ]
  },
  {
   "cell_type": "code",
   "execution_count": 7,
   "metadata": {},
   "outputs": [],
   "source": [
    "empty_df[\"DOI\"] = key_list"
   ]
  },
  {
   "cell_type": "code",
   "execution_count": 8,
   "metadata": {},
   "outputs": [],
   "source": [
    "empty_df[\"titles\"] = value_list"
   ]
  },
  {
   "cell_type": "code",
   "execution_count": 9,
   "metadata": {},
   "outputs": [],
   "source": [
    "empty_df[\"keywords\"] = keywords_list"
   ]
  },
  {
   "cell_type": "code",
   "execution_count": 10,
   "metadata": {},
   "outputs": [
    {
     "name": "stdout",
     "output_type": "stream",
     "text": [
      "                                DOI  \\\n",
      "0      10.1080/01576895.2013.841550   \n",
      "1      10.1080/01576895.2013.829751   \n",
      "2      10.1080/01576895.2013.829752   \n",
      "3      10.1080/01576895.2013.860944   \n",
      "4      10.1080/01576895.2013.793164   \n",
      "...                             ...   \n",
      "62622     10.1108/GKMC-06-2020-0079   \n",
      "62623     10.1108/GKMC-08-2020-0124   \n",
      "62624     10.1108/GKMC-08-2020-0108   \n",
      "62625     10.1108/GKMC-06-2020-0075   \n",
      "62626     10.1108/GKMC-03-2020-0022   \n",
      "\n",
      "                                                  titles  \\\n",
      "0        Provocations on the pleasures of archived paper   \n",
      "1      Recordkeeping metadata and archival descriptio...   \n",
      "2      Digitisation of the WA Welcome Wall collection...   \n",
      "3                                              Editorial   \n",
      "4      Finding aids in context: using Records Continu...   \n",
      "...                                                  ...   \n",
      "62622  Management and maintenance of research data by...   \n",
      "62623  Cyber-bullying research in Kenya: a meta-analysis   \n",
      "62624  Social capital in the theory and research of L...   \n",
      "62625  The digital divide: a literature review and so...   \n",
      "62626  Ensuring better output in library services thr...   \n",
      "\n",
      "                                                keywords  \n",
      "0      [archival research, materiality, personal papers]  \n",
      "1      [archival description, ISAAR(CPF), ISAD(G), IS...  \n",
      "2      [case study, digitisation, ISO 13028, museum c...  \n",
      "3                                                   NULL  \n",
      "4      [Mixed-methods survey, Record keeping continuu...  \n",
      "...                                                  ...  \n",
      "62622  [Awareness and perception, FAIR data principle...  \n",
      "62623  [Bibliometrics, Cyber-bullying, Facebook, Info...  \n",
      "62624  [Civil society, Immigrants, Libraries, LIS res...  \n",
      "62625  [Digital divide, e-skills, ICT access, ICT use...  \n",
      "62626  [Career, India, Job satisfaction, Librarians, ...  \n",
      "\n",
      "[62627 rows x 3 columns]\n"
     ]
    }
   ],
   "source": [
    "print(empty_df)"
   ]
  },
  {
   "cell_type": "code",
   "execution_count": 11,
   "metadata": {},
   "outputs": [],
   "source": [
    "a_df.rename(columns={'prism:doi': 'DOI'}, inplace=True)"
   ]
  },
  {
   "cell_type": "code",
   "execution_count": 12,
   "metadata": {},
   "outputs": [],
   "source": [
    "a_df.rename(columns={'dc:title': 'titles'}, inplace=True)"
   ]
  },
  {
   "cell_type": "code",
   "execution_count": 13,
   "metadata": {},
   "outputs": [],
   "source": [
    "pairs_dict = pd.Series(empty_df.titles.values,index=a_df.DOI).to_dict()"
   ]
  },
  {
   "cell_type": "code",
   "execution_count": 16,
   "metadata": {},
   "outputs": [],
   "source": [
    "also_pairs_dict = pd.Series(empty_df.keywords.values,index=a_df.DOI).to_dict()"
   ]
  },
  {
   "cell_type": "code",
   "execution_count": null,
   "metadata": {},
   "outputs": [],
   "source": []
  },
  {
   "cell_type": "code",
   "execution_count": null,
   "metadata": {},
   "outputs": [],
   "source": []
  },
  {
   "cell_type": "code",
   "execution_count": 17,
   "metadata": {},
   "outputs": [],
   "source": [
    "keywords_data = pd.read_csv(\"C:/Users/abbyk/Downloads/keys.csv\")"
   ]
  },
  {
   "cell_type": "code",
   "execution_count": 18,
   "metadata": {},
   "outputs": [],
   "source": [
    "kw_list = []\n",
    "\n",
    "for i in keywords_data[\"Word\"]:\n",
    "    kw_list.append(i)"
   ]
  },
  {
   "cell_type": "code",
   "execution_count": 19,
   "metadata": {},
   "outputs": [
    {
     "name": "stdout",
     "output_type": "stream",
     "text": [
      "['Argentinian Americans', 'Belizean Americans', 'Chicano Americans', 'Latino Americans', 'Latine', 'Bolivian Americans', 'Boricuas', 'Brazilian Americans', 'Chilean Americans', 'Colombian Americans', 'Costa Rican Americans', 'Costarisences', 'Cuban Americans', 'Dominican Americans', 'Ecuadorian Americans', 'Afro-Hispanics', 'Afro-Latinos', 'Guatemalan Americans', 'Hispanic Americans', 'Hispanos', 'Honduran Americans', 'Mejicano', 'Mexican Americans', 'Nicaraguan Americans', 'Panamanean Americans', 'Paraguayan Americans', 'Peruvian Americans', 'Puerto Rican Americans', 'Salvadoran Americans', 'Tejano', 'Uruguayan Americans', 'Venezuelan Americans', 'Argentinians', 'Belizeans', 'Chicanos', 'Latin Americans', 'Chicanas', 'Bolivians', 'Chicanx', 'Brazilians', 'Chileans', 'Colombians', 'Costa Ricans', 'Latinos', 'Cubans', 'Dominicans', 'Ecuadorians', 'Latinas', 'Afro-Latinas', 'Guatemalans', 'Hispanics', 'Latinx', 'Hondurans', 'Mexicano', 'Mexicans', 'Nicaraguans', 'Panamaneans', 'Paraguayans', 'Peruvians', 'Puerto Ricans', 'Salvadorans', 'Texano', 'Uruguayans', 'Venezuelans', 'Argentinos', 'Belizeanos', 'Bolivianos', 'Puerto Ricans', 'Brasileños', 'Chilenos', 'Colombianos', 'Costarricences', 'Costarricences', 'Cubanos', 'Dominicanos', 'Ecuatorianos', 'Guatemaltecos', 'Mexican Americans', 'Hondureños', 'Nicaragüenses', 'Panameños', 'Paraguayos', 'Peruanos', 'Puertorriqueños', 'Salvadoreños', 'Uruguayos', 'Venezolanos', 'latinx', 'latina', 'latino', 'latine', 'hispanic', 'hispanos']\n"
     ]
    }
   ],
   "source": [
    "print(kw_list)"
   ]
  },
  {
   "cell_type": "code",
   "execution_count": 26,
   "metadata": {},
   "outputs": [],
   "source": [
    "IDs = []"
   ]
  },
  {
   "cell_type": "code",
   "execution_count": 27,
   "metadata": {},
   "outputs": [],
   "source": [
    "for key,values in pairs_dict.items():\n",
    "    for i in kw_list:\n",
    "        if i in values:\n",
    "            IDs.append(key)"
   ]
  },
  {
   "cell_type": "code",
   "execution_count": 28,
   "metadata": {},
   "outputs": [
    {
     "name": "stdout",
     "output_type": "stream",
     "text": [
      "['10.1016/s0187-358x(14)70913-x', '10.1016/j.ibbai.2016.10.021', '10.22201/iibi.24488321xe.2020.85.58234', '10.1300/J115v21n01_03', '10.1080/108107399127075', '10.1080/10810730600934542', '10.1080/10810730701438690', '10.1080/10810730701807142', '10.1080/10810730903089606', '10.1080/10810730903032952', '10.1080/10810730.2010.522697', '10.1080/10810730.2010.522697', '10.1080/10810731003753133', '10.1080/10810730903460526', '10.1080/10810730.2011.561910', '10.1080/10810730.2011.561910', '10.1080/10810730.2010.546483', '10.1080/10810730.2010.529492', '10.1080/10810730.2011.635767', '10.1080/10810730.2011.635766', '10.1080/10810730.2011.585695', '10.1080/10810730.2012.712621', '10.1080/10810730.2013.829135', '10.1080/10810730.2013.778362', '10.1080/10810730.2013.768723', '10.1080/10810730.2012.727962', '10.1080/10810730.2012.688248', '10.1080/10810730.2013.811325', '10.1080/10810730.2015.1018596', '10.1080/10810730.2016.1242670', '10.1080/10810730.2016.1240266', '10.1080/10810730.2015.1131777', '10.1080/10810730.2016.1275890', '10.1080/10810730.2018.1500661', '10.1080/10810730.2020.1833385', '10.1080/10810730.2021.1927258', '10.3163/1536-5050.96.2.101', '10.3163/1536-5050.97.2.008', '10.5195/jmla.2021.1295', '10.1177/0894439313497469', '10.5195/biblios.2016.290', '10.1590/S1413-99362010000300008', '10.1590/1981-5344/3900', '10.1590/1981-5344/4343', '10.14195/2182-7974_34_1_3', '10.15388/KNYGOTYRA.2021.77.88', '10.22381/KC6220189']\n"
     ]
    }
   ],
   "source": [
    "print(IDs)"
   ]
  },
  {
   "cell_type": "code",
   "execution_count": 19,
   "metadata": {},
   "outputs": [
    {
     "name": "stdout",
     "output_type": "stream",
     "text": [
      "El desarrollo de competencias informacionales en estudiantes universitarios. Experiencia y perspectivas en dos universidades latinoamericanas\n",
      "latino\n",
      "10.1016/s0187-358x(14)70913-x\n",
      "Production and impact of Peruvian social science journals in the Latinex catalogue\n",
      "Latine\n",
      "10.1016/j.ibbai.2016.10.021\n",
      "The editorial strategy around the event: Labort’s invasion of 1636 in hispanic printing\n",
      "hispanic\n",
      "10.22201/iibi.24488321xe.2020.85.58234\n",
      "Consumer health services and collections for Hispanics: An introduction\n",
      "Hispanics\n",
      "10.1300/J115v21n01_03\n",
      "Advancing the role of participatory communication in the diffusion of cancer screening among hispanics\n",
      "hispanic\n",
      "10.1080/108107399127075\n",
      "Promoting organ donation to Hispanics: The role of the media and medicine\n",
      "Hispanics\n",
      "10.1080/10810730600934542\n",
      "Does entertainment-education work with Latinos in the United States? Identification and the effects of a telenovela breast cancer storyline\n",
      "Latinos\n",
      "10.1080/10810730701438690\n",
      "Intentions of becoming a living organ donor among hispanics: A theory-based approach exploring differences between living and nonliving organ donation\n",
      "hispanic\n",
      "10.1080/10810730701807142\n",
      "Enhancing web-based kidney disease prevention messages for Hispanics using targeting and tailoring\n",
      "Hispanics\n",
      "10.1080/10810730903089606\n",
      "Cancer prevention information-seeking among hispanic and non-hispanic users of the National Cancer Institute's Cancer Information Service: Trends in telephone and LiveHelp use\n",
      "hispanic\n",
      "10.1080/10810730903032952\n",
      "Providing health messages to Hispanics/Latinos: Understanding the importance of language, trust in health information sources, and media use\n",
      "Latinos\n",
      "10.1080/10810730.2010.522697\n",
      "Providing health messages to Hispanics/Latinos: Understanding the importance of language, trust in health information sources, and media use\n",
      "Hispanics\n",
      "10.1080/10810730.2010.522697\n",
      "A mass mediated intervention on hispanic live kidney donation\n",
      "hispanic\n",
      "10.1080/10810731003753133\n",
      "Evaluation, use, and usefulness of prescription drug information sources among anglo and hispanic Americans\n",
      "hispanic\n",
      "10.1080/10810730903460526\n",
      "Interpretations of cigarette advertisement warning labels by Philadelphia Puerto Ricans\n",
      "Puerto Ricans\n",
      "10.1080/10810730.2011.561910\n",
      "Interpretations of cigarette advertisement warning labels by Philadelphia Puerto Ricans\n",
      "Puerto Ricans\n",
      "10.1080/10810730.2011.561910\n",
      "Integrated connection to neighborhood storytelling network, education, and chronic disease knowledge among African Americans and Latinos in Los Angeles\n",
      "Latinos\n",
      "10.1080/10810730.2010.546483\n",
      "Translation and adaptation of smoking relapse-prevention materials for pregnant and postpartum hispanic women\n",
      "hispanic\n",
      "10.1080/10810730.2010.529492\n",
      "Health locus of control, acculturation, and health-related internet use among latinas\n",
      "latina\n",
      "10.1080/10810730.2011.635767\n",
      "Marketing HIV prevention for heterosexually identified latino men who have sex with men and women: The hombres sanos campaign\n",
      "latino\n",
      "10.1080/10810730.2011.635766\n",
      "Esperanza y vida: A culturally and linguistically customized breast and cervical education program for diverse latinas at three different United States Sites\n",
      "latina\n",
      "10.1080/10810730.2011.585695\n",
      "Low health literacy, limited english proficiency, and health status in asians, latinos, and other racial/ethnic groups in california\n",
      "latino\n",
      "10.1080/10810730.2012.712621\n",
      "Health literacy associations between hispanic elderly patients and their caregivers\n",
      "hispanic\n",
      "10.1080/10810730.2013.829135\n",
      "Effects of ethnic targeting on the perceived effectiveness of cancer prevention messages among latinas and non-latina white women\n",
      "latina\n",
      "10.1080/10810730.2013.778362\n",
      "Improving awareness of cancer clinical trials among hispanic patients and families: Audience segmentation decisions for a media intervention\n",
      "hispanic\n",
      "10.1080/10810730.2013.768723\n",
      "The effect of depression on physician-patient communication among hispanic end-stage renal disease patients\n",
      "hispanic\n",
      "10.1080/10810730.2012.727962\n",
      "Internet access and online cancer information seeking among latino immigrants from safety net clinics\n",
      "latino\n",
      "10.1080/10810730.2012.688248\n",
      "Cultural and linguistic adaptation of a multimedia colorectal cancer screening decision aid for spanish-speaking latinos\n",
      "latino\n",
      "10.1080/10810730.2013.811325\n",
      "Who's Missing? Predictors of Attrition Following Participation in Culturally Targeted Educational Breast and Cervical Cancer Outreach Programs for Latinas\n",
      "Latinas\n",
      "10.1080/10810730.2015.1018596\n",
      "Using a Narrative Film to Increase Knowledge and Interpersonal Communication About Psychosis Among Latinos\n",
      "Latinos\n",
      "10.1080/10810730.2016.1242670\n",
      "HPV Vaccine–Related Knowledge, Beliefs, Acceptability, and Uptake Among Latinas Who Prefer English and Those Who Prefer Spanish\n",
      "Latinas\n",
      "10.1080/10810730.2016.1240266\n",
      "Cancer health literacy test-30-Spanish (CHLT-30-DKspa), a New Spanish-language version of the Cancer Health Literacy Test (CHLT-30) for Spanish-speaking latinos\n",
      "latino\n",
      "10.1080/10810730.2015.1131777\n",
      "Using Community Engagement to Develop a Web-Based Intervention for Latinos about the HPV Vaccine\n",
      "Latinos\n",
      "10.1080/10810730.2016.1275890\n",
      "Understanding Cervical Cancer Screening among Latinas through the Lens of Structure, Culture, Psychology and Communication\n",
      "Latinas\n",
      "10.1080/10810730.2018.1500661\n",
      "Use and Usefulness of After-Visit Summaries by Language and Health Literacy among Latinx and Chinese Primary Care Patients\n",
      "Latinx\n",
      "10.1080/10810730.2020.1833385\n",
      "Using Tweetchats to Build Community Awareness and Advocacy around Alzheimer’s Disease for Latinos\n",
      "Latinos\n",
      "10.1080/10810730.2021.1927258\n",
      "Hispanics' use of Internet health information: An exploratory study\n",
      "Hispanics\n",
      "10.3163/1536-5050.96.2.101\n",
      "Web usability testing with a hispanic medically underserved population\n",
      "hispanic\n",
      "10.3163/1536-5050.97.2.008\n",
      "¡Presente!: Affirming Latinx voices within health sciences library scholarship\n",
      "Latinx\n",
      "10.5195/jmla.2021.1295\n",
      "The Role of Digital Skills in the Formation of Generalized Trust Among Latinos and African Americans in the United States\n",
      "Latinos\n",
      "10.1177/0894439313497469\n",
      "Sustentabilidad de las iniciativas latinoamericanas de publicación de revistas científicas en acceso abierto utilizando el estándar XML JATS: el caso de SciELO\n",
      "latino\n",
      "10.5195/biblios.2016.290\n",
      "Knowledge management trends in Brazil content analysis in the opinion of Brazilians' specialists\n",
      "Brazilians\n",
      "10.1590/S1413-99362010000300008\n",
      "Memória e produção social da informação em direitos humanos: Uma perspectiva latino-americana\n",
      "latino\n",
      "10.1590/1981-5344/3900\n",
      "Underexplored territories: The study of visitor records in comment books of two Brazilians science museums\n",
      "Brazilians\n",
      "10.1590/1981-5344/4343\n",
      "Jesuit Novilatine literature in XVIIth's century Coimbra connected with ecclesiastic events\n",
      "latine\n",
      "10.14195/2182-7974_34_1_3\n",
      "The Book Cover as a Paratext: Biblia Germanicolatina in the Martynas Mažvydas National Library of Lithuania\n",
      "latina\n",
      "10.15388/KNYGOTYRA.2021.77.88\n",
      "Water, fire and the feminine in the pre-hispanic world: Creation and destruction of culture\n",
      "hispanic\n",
      "10.22381/KC6220189\n"
     ]
    }
   ],
   "source": [
    "for key,values in pairs_dict.items():\n",
    "    for i in kw_list:\n",
    "        if i in values:\n",
    "            print(values)\n",
    "            print(i)\n",
    "            print(key)"
   ]
  },
  {
   "cell_type": "code",
   "execution_count": 20,
   "metadata": {},
   "outputs": [],
   "source": [
    "just_ID = {x.replace('SCOPUS_ID:', '') for x in IDs}"
   ]
  },
  {
   "cell_type": "code",
   "execution_count": 21,
   "metadata": {},
   "outputs": [
    {
     "name": "stdout",
     "output_type": "stream",
     "text": [
      "{'10.1300/J115v21n01_03', '10.1016/s0187-358x(14)70913-x', '10.1080/10810730.2011.585695', '10.1080/10810730.2015.1018596', '10.1080/10810730.2012.727962', '10.1080/10810730.2012.688248', '10.1080/10810730.2020.1833385', '10.1080/10810730.2016.1242670', '10.5195/biblios.2016.290', '10.1080/10810730903460526', '10.1590/S1413-99362010000300008', '10.22381/KC6220189', '10.1080/10810730.2013.811325', '10.1080/10810730.2010.522697', '10.1080/10810730.2011.561910', '10.3163/1536-5050.96.2.101', '10.1080/10810730903089606', '10.1080/10810730701807142', '10.1080/10810730.2012.712621', '10.22201/iibi.24488321xe.2020.85.58234', '10.1080/10810730.2021.1927258', '10.5195/jmla.2021.1295', '10.14195/2182-7974_34_1_3', '10.1080/10810730903032952', '10.1080/10810730.2016.1240266', '10.15388/KNYGOTYRA.2021.77.88', '10.1080/10810730.2011.635767', '10.1080/10810730.2010.546483', '10.1080/108107399127075', '10.1080/10810730701438690', '10.1080/10810730600934542', '10.3163/1536-5050.97.2.008', '10.1080/10810731003753133', '10.1080/10810730.2013.829135', '10.1080/10810730.2010.529492', '10.1080/10810730.2016.1275890', '10.1080/10810730.2013.778362', '10.1590/1981-5344/4343', '10.1177/0894439313497469', '10.1016/j.ibbai.2016.10.021', '10.1080/10810730.2011.635766', '10.1080/10810730.2015.1131777', '10.1080/10810730.2013.768723', '10.1080/10810730.2018.1500661', '10.1590/1981-5344/3900'}\n"
     ]
    }
   ],
   "source": [
    "print(just_ID)"
   ]
  },
  {
   "cell_type": "code",
   "execution_count": 29,
   "metadata": {},
   "outputs": [],
   "source": [
    "key_IDS = []\n",
    "\n",
    "for key,values in also_pairs_dict.items():\n",
    "    for i in kw_list:\n",
    "        for value in values:\n",
    "            if i in value:\n",
    "                key_IDS.append(key)"
   ]
  },
  {
   "cell_type": "code",
   "execution_count": 30,
   "metadata": {},
   "outputs": [
    {
     "name": "stdout",
     "output_type": "stream",
     "text": [
      "['10.1300/J104v45n02_04', '10.1300/J115v21n01_03', '10.1080/02763869.2012.724285', '10.1080/02763869.2017.1259901', '10.1080/02763869.2017.1259901', '10.1177/0340035218764496', '10.1177/0340035218764496', '10.5195/jmla.2021.1295', '10.5195/jmla.2021.1295', '10.1300/J204v03n04_04', '10.1300/J204v03n04_04', '10.1177/0894439318779342', '10.5209/rgid.74703', '10.1108/AJIM-12-2014-0181', '10.1515/pdtc-2018-0031']\n"
     ]
    }
   ],
   "source": [
    "print(key_IDS)"
   ]
  },
  {
   "cell_type": "code",
   "execution_count": 32,
   "metadata": {},
   "outputs": [],
   "source": [
    "full_DOI_list = key_IDS + IDs"
   ]
  },
  {
   "cell_type": "code",
   "execution_count": 33,
   "metadata": {},
   "outputs": [
    {
     "name": "stdout",
     "output_type": "stream",
     "text": [
      "['10.1300/J104v45n02_04', '10.1300/J115v21n01_03', '10.1080/02763869.2012.724285', '10.1080/02763869.2017.1259901', '10.1080/02763869.2017.1259901', '10.1177/0340035218764496', '10.1177/0340035218764496', '10.5195/jmla.2021.1295', '10.5195/jmla.2021.1295', '10.1300/J204v03n04_04', '10.1300/J204v03n04_04', '10.1177/0894439318779342', '10.5209/rgid.74703', '10.1108/AJIM-12-2014-0181', '10.1515/pdtc-2018-0031', '10.1016/s0187-358x(14)70913-x', '10.1016/j.ibbai.2016.10.021', '10.22201/iibi.24488321xe.2020.85.58234', '10.1300/J115v21n01_03', '10.1080/108107399127075', '10.1080/10810730600934542', '10.1080/10810730701438690', '10.1080/10810730701807142', '10.1080/10810730903089606', '10.1080/10810730903032952', '10.1080/10810730.2010.522697', '10.1080/10810730.2010.522697', '10.1080/10810731003753133', '10.1080/10810730903460526', '10.1080/10810730.2011.561910', '10.1080/10810730.2011.561910', '10.1080/10810730.2010.546483', '10.1080/10810730.2010.529492', '10.1080/10810730.2011.635767', '10.1080/10810730.2011.635766', '10.1080/10810730.2011.585695', '10.1080/10810730.2012.712621', '10.1080/10810730.2013.829135', '10.1080/10810730.2013.778362', '10.1080/10810730.2013.768723', '10.1080/10810730.2012.727962', '10.1080/10810730.2012.688248', '10.1080/10810730.2013.811325', '10.1080/10810730.2015.1018596', '10.1080/10810730.2016.1242670', '10.1080/10810730.2016.1240266', '10.1080/10810730.2015.1131777', '10.1080/10810730.2016.1275890', '10.1080/10810730.2018.1500661', '10.1080/10810730.2020.1833385', '10.1080/10810730.2021.1927258', '10.3163/1536-5050.96.2.101', '10.3163/1536-5050.97.2.008', '10.5195/jmla.2021.1295', '10.1177/0894439313497469', '10.5195/biblios.2016.290', '10.1590/S1413-99362010000300008', '10.1590/1981-5344/3900', '10.1590/1981-5344/4343', '10.14195/2182-7974_34_1_3', '10.15388/KNYGOTYRA.2021.77.88', '10.22381/KC6220189']\n"
     ]
    }
   ],
   "source": [
    "print(full_DOI_list)"
   ]
  },
  {
   "cell_type": "code",
   "execution_count": null,
   "metadata": {},
   "outputs": [],
   "source": []
  }
 ],
 "metadata": {
  "kernelspec": {
   "display_name": "Python 3",
   "language": "python",
   "name": "python3"
  },
  "language_info": {
   "codemirror_mode": {
    "name": "ipython",
    "version": 3
   },
   "file_extension": ".py",
   "mimetype": "text/x-python",
   "name": "python",
   "nbconvert_exporter": "python",
   "pygments_lexer": "ipython3",
   "version": "3.7.4"
  }
 },
 "nbformat": 4,
 "nbformat_minor": 2
}
