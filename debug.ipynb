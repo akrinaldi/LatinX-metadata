{
 "cells": [
  {
   "cell_type": "code",
   "execution_count": 1,
   "metadata": {},
   "outputs": [],
   "source": [
    "import json\n",
    "import pandas as pd"
   ]
  },
  {
   "cell_type": "code",
   "execution_count": 2,
   "metadata": {},
   "outputs": [],
   "source": [
    "full_json = pd.read_json(\"C:/Users/abbyk/Downloads/jsonviewer.json\")"
   ]
  },
  {
   "cell_type": "code",
   "execution_count": 3,
   "metadata": {},
   "outputs": [
    {
     "data": {
      "text/plain": [
       "pandas.core.frame.DataFrame"
      ]
     },
     "execution_count": 3,
     "metadata": {},
     "output_type": "execute_result"
    }
   ],
   "source": [
    "type(full_json)"
   ]
  },
  {
   "cell_type": "code",
   "execution_count": 4,
   "metadata": {},
   "outputs": [
    {
     "name": "stdout",
     "output_type": "stream",
     "text": [
      "       @_fa                                          prism:url  \\\n",
      "0      true  https://api.elsevier.com/content/abstract/scop...   \n",
      "1      true  https://api.elsevier.com/content/abstract/scop...   \n",
      "2      true  https://api.elsevier.com/content/abstract/scop...   \n",
      "3      true  https://api.elsevier.com/content/abstract/scop...   \n",
      "4      true  https://api.elsevier.com/content/abstract/scop...   \n",
      "...     ...                                                ...   \n",
      "63193  true  https://api.elsevier.com/content/abstract/scop...   \n",
      "63194  true  https://api.elsevier.com/content/abstract/scop...   \n",
      "63195  true  https://api.elsevier.com/content/abstract/scop...   \n",
      "63196  true  https://api.elsevier.com/content/abstract/scop...   \n",
      "63197  true  https://api.elsevier.com/content/abstract/scop...   \n",
      "\n",
      "               dc:identifier  \\\n",
      "0      SCOPUS_ID:84889683369   \n",
      "1      SCOPUS_ID:84889663990   \n",
      "2      SCOPUS_ID:84889659399   \n",
      "3      SCOPUS_ID:84889654607   \n",
      "4      SCOPUS_ID:84885082516   \n",
      "...                      ...   \n",
      "63193  SCOPUS_ID:85106047214   \n",
      "63194  SCOPUS_ID:85105989223   \n",
      "63195  SCOPUS_ID:85102190122   \n",
      "63196  SCOPUS_ID:85101443123   \n",
      "63197  SCOPUS_ID:85100594630   \n",
      "\n",
      "                                             affiliation  \\\n",
      "0      [{'@_fa': 'true', 'affiliation-country': 'Aust...   \n",
      "1      [{'@_fa': 'true', 'affiliation-country': 'Unit...   \n",
      "2      [{'@_fa': 'true', 'affiliation-country': 'Aust...   \n",
      "3                                                    NaN   \n",
      "4      [{'@_fa': 'true', 'affiliation-country': 'New ...   \n",
      "...                                                  ...   \n",
      "63193  [{'@_fa': 'true', 'affiliation-country': 'Zimb...   \n",
      "63194  [{'@_fa': 'true', 'affiliation-country': 'Keny...   \n",
      "63195  [{'@_fa': 'true', 'affiliation-country': 'Pola...   \n",
      "63196  [{'@_fa': 'true', 'affiliation-country': 'Tuni...   \n",
      "63197  [{'@_fa': 'true', 'affiliation-country': 'Indi...   \n",
      "\n",
      "                                            authkeywords error  \n",
      "0      archival research | materiality | personal papers   NaN  \n",
      "1      archival description | ISAAR(CPF) | ISAD(G) | ...   NaN  \n",
      "2      case study | digitisation | ISO 13028 | museum...   NaN  \n",
      "3                                                    NaN   NaN  \n",
      "4      Mixed-methods survey | Record keeping continuu...   NaN  \n",
      "...                                                  ...   ...  \n",
      "63193  Awareness and perception | FAIR data principle...   NaN  \n",
      "63194  Bibliometrics | Cyber-bullying | Facebook | In...   NaN  \n",
      "63195  Civil society | Immigrants | Libraries | LIS r...   NaN  \n",
      "63196  Digital divide | e-skills | ICT access | ICT u...   NaN  \n",
      "63197  Career | India | Job satisfaction | Librarians...   NaN  \n",
      "\n",
      "[63198 rows x 6 columns]\n"
     ]
    }
   ],
   "source": [
    "print(full_json)"
   ]
  },
  {
   "cell_type": "code",
   "execution_count": 3,
   "metadata": {},
   "outputs": [],
   "source": [
    "a_df = pd.DataFrame(full_json, columns = ['dc:identifier','authkeywords'])"
   ]
  },
  {
   "cell_type": "code",
   "execution_count": 8,
   "metadata": {},
   "outputs": [],
   "source": [
    "json_dict = a_df.to_dict()"
   ]
  },
  {
   "cell_type": "code",
   "execution_count": 8,
   "metadata": {},
   "outputs": [
    {
     "name": "stdout",
     "output_type": "stream",
     "text": [
      "               dc:identifier  \\\n",
      "0      SCOPUS_ID:84889683369   \n",
      "1      SCOPUS_ID:84889663990   \n",
      "2      SCOPUS_ID:84889659399   \n",
      "3      SCOPUS_ID:84889654607   \n",
      "4      SCOPUS_ID:84885082516   \n",
      "...                      ...   \n",
      "63193  SCOPUS_ID:85106047214   \n",
      "63194  SCOPUS_ID:85105989223   \n",
      "63195  SCOPUS_ID:85102190122   \n",
      "63196  SCOPUS_ID:85101443123   \n",
      "63197  SCOPUS_ID:85100594630   \n",
      "\n",
      "                                             affiliation  \n",
      "0      [{'@_fa': 'true', 'affiliation-country': 'Aust...  \n",
      "1      [{'@_fa': 'true', 'affiliation-country': 'Unit...  \n",
      "2      [{'@_fa': 'true', 'affiliation-country': 'Aust...  \n",
      "3                                                    NaN  \n",
      "4      [{'@_fa': 'true', 'affiliation-country': 'New ...  \n",
      "...                                                  ...  \n",
      "63193  [{'@_fa': 'true', 'affiliation-country': 'Zimb...  \n",
      "63194  [{'@_fa': 'true', 'affiliation-country': 'Keny...  \n",
      "63195  [{'@_fa': 'true', 'affiliation-country': 'Pola...  \n",
      "63196  [{'@_fa': 'true', 'affiliation-country': 'Tuni...  \n",
      "63197  [{'@_fa': 'true', 'affiliation-country': 'Indi...  \n",
      "\n",
      "[63198 rows x 2 columns]\n"
     ]
    }
   ],
   "source": [
    "print(a_df)"
   ]
  },
  {
   "cell_type": "code",
   "execution_count": 16,
   "metadata": {},
   "outputs": [],
   "source": [
    "IDs = []"
   ]
  },
  {
   "cell_type": "code",
   "execution_count": 22,
   "metadata": {},
   "outputs": [],
   "source": [
    "for i in a_df[\"affiliation\"]:\n",
    "    if value == \"[{'@_fa': 'true', 'affiliation-country': 'United States'}]\":\n",
    "        print(\"1\")"
   ]
  },
  {
   "cell_type": "code",
   "execution_count": 28,
   "metadata": {},
   "outputs": [],
   "source": [
    "from pandas.io.json import json_normalize"
   ]
  },
  {
   "cell_type": "code",
   "execution_count": 13,
   "metadata": {},
   "outputs": [],
   "source": [
    "normal = pd.json_normalize(json_object, max_level=2)"
   ]
  },
  {
   "cell_type": "code",
   "execution_count": 5,
   "metadata": {},
   "outputs": [],
   "source": [
    "a_f_json = json.dumps(json_dict, indent = 1)"
   ]
  },
  {
   "cell_type": "code",
   "execution_count": 35,
   "metadata": {},
   "outputs": [
    {
     "name": "stdout",
     "output_type": "stream",
     "text": [
      "Requirement already satisfied: pandas==1.0.3 in c:\\users\\abbyk\\appdata\\roaming\\python\\python37\\site-packages (1.0.3)\n",
      "Requirement already satisfied: pytz>=2017.2 in c:\\users\\abbyk\\anaconda3\\lib\\site-packages (from pandas==1.0.3) (2019.3)\n",
      "Requirement already satisfied: python-dateutil>=2.6.1 in c:\\users\\abbyk\\anaconda3\\lib\\site-packages (from pandas==1.0.3) (2.8.0)\n",
      "Requirement already satisfied: numpy>=1.13.3 in c:\\users\\abbyk\\anaconda3\\lib\\site-packages (from pandas==1.0.3) (1.16.5)\n",
      "Requirement already satisfied: six>=1.5 in c:\\users\\abbyk\\anaconda3\\lib\\site-packages (from python-dateutil>=2.6.1->pandas==1.0.3) (1.12.0)\n"
     ]
    }
   ],
   "source": [
    "!pip install --user pandas==1.0.3"
   ]
  },
  {
   "cell_type": "code",
   "execution_count": 1,
   "metadata": {},
   "outputs": [
    {
     "data": {
      "text/plain": [
       "'1.0.3'"
      ]
     },
     "execution_count": 1,
     "metadata": {},
     "output_type": "execute_result"
    }
   ],
   "source": [
    "import pandas as pd\n",
    "pd.__version__\\"
   ]
  },
  {
   "cell_type": "code",
   "execution_count": 10,
   "metadata": {},
   "outputs": [
    {
     "data": {
      "text/plain": [
       "list"
      ]
     },
     "execution_count": 10,
     "metadata": {},
     "output_type": "execute_result"
    }
   ],
   "source": [
    "type(json_object)"
   ]
  },
  {
   "cell_type": "code",
   "execution_count": 9,
   "metadata": {},
   "outputs": [],
   "source": [
    "with open('C:/Users/abbyk/Downloads/jsonviewer.json', encoding=\"utf8\") as f:\n",
    "   json_object = json.load(f)"
   ]
  },
  {
   "cell_type": "code",
   "execution_count": 18,
   "metadata": {},
   "outputs": [],
   "source": [
    "result = pd.json_normalize(json_object, max_level=1)"
   ]
  },
  {
   "cell_type": "code",
   "execution_count": 23,
   "metadata": {},
   "outputs": [
    {
     "ename": "AttributeError",
     "evalue": "'int' object has no attribute 'split'",
     "output_type": "error",
     "traceback": [
      "\u001b[1;31m---------------------------------------------------------------------------\u001b[0m",
      "\u001b[1;31mAttributeError\u001b[0m                            Traceback (most recent call last)",
      "\u001b[1;32m<ipython-input-23-6d7cafe37da8>\u001b[0m in \u001b[0;36m<module>\u001b[1;34m\u001b[0m\n\u001b[0;32m      3\u001b[0m \u001b[1;32mfor\u001b[0m \u001b[0mi\u001b[0m \u001b[1;32min\u001b[0m \u001b[0mjson_dict\u001b[0m\u001b[1;33m[\u001b[0m\u001b[1;34m\"authkeywords\"\u001b[0m\u001b[1;33m]\u001b[0m\u001b[1;33m:\u001b[0m\u001b[1;33m\u001b[0m\u001b[1;33m\u001b[0m\u001b[0m\n\u001b[0;32m      4\u001b[0m     \u001b[0msmol\u001b[0m \u001b[1;33m=\u001b[0m \u001b[1;33m[\u001b[0m\u001b[1;33m]\u001b[0m\u001b[1;33m\u001b[0m\u001b[1;33m\u001b[0m\u001b[0m\n\u001b[1;32m----> 5\u001b[1;33m     \u001b[0mresults\u001b[0m \u001b[1;33m=\u001b[0m \u001b[0mi\u001b[0m\u001b[1;33m.\u001b[0m\u001b[0msplit\u001b[0m\u001b[1;33m(\u001b[0m\u001b[1;34m\" | \"\u001b[0m\u001b[1;33m)\u001b[0m\u001b[1;33m\u001b[0m\u001b[1;33m\u001b[0m\u001b[0m\n\u001b[0m\u001b[0;32m      6\u001b[0m     \u001b[1;32mfor\u001b[0m \u001b[0ma\u001b[0m \u001b[1;32min\u001b[0m \u001b[0mresults\u001b[0m\u001b[1;33m:\u001b[0m\u001b[1;33m\u001b[0m\u001b[1;33m\u001b[0m\u001b[0m\n\u001b[0;32m      7\u001b[0m         \u001b[0msmol\u001b[0m\u001b[1;33m.\u001b[0m\u001b[0mappend\u001b[0m\u001b[1;33m(\u001b[0m\u001b[0ma\u001b[0m\u001b[1;33m)\u001b[0m\u001b[1;33m\u001b[0m\u001b[1;33m\u001b[0m\u001b[0m\n",
      "\u001b[1;31mAttributeError\u001b[0m: 'int' object has no attribute 'split'"
     ]
    }
   ],
   "source": [
    "keyword_list = []\n",
    "\n",
    "for i in json_dict[\"authkeywords\"]:\n",
    "    smol = []\n",
    "    results = i.split(\" | \")\n",
    "    for a in results:\n",
    "        smol.append(a)\n",
    "    for item in smol:\n",
    "        keyword_list.append(item)"
   ]
  },
  {
   "cell_type": "code",
   "execution_count": 6,
   "metadata": {},
   "outputs": [],
   "source": [
    "smol = []\n",
    "\n",
    "for value in a_df[\"authkeywords\"]:\n",
    "        if type(value) != float:\n",
    "            boop = value.split(\" | \")\n",
    "            for i in boop:\n",
    "                smol.append(i)\n",
    "    "
   ]
  },
  {
   "cell_type": "code",
   "execution_count": 7,
   "metadata": {},
   "outputs": [
    {
     "name": "stdout",
     "output_type": "stream",
     "text": [
      "archival description\n"
     ]
    }
   ],
   "source": [
    "print(smol[3])"
   ]
  },
  {
   "cell_type": "code",
   "execution_count": 12,
   "metadata": {},
   "outputs": [],
   "source": [
    "booop = []\n",
    "beeg = []\n",
    "\n",
    "for key, value in json_dict.items():\n",
    "    if type(value) != float:\n",
    "        beeg.append(key)\n",
    "        booop.append(value)"
   ]
  },
  {
   "cell_type": "code",
   "execution_count": 15,
   "metadata": {},
   "outputs": [],
   "source": [
    "test_dict = {}\n",
    "\n",
    "for i in range(len(beeg)):\n",
    "    test_dict[beeg[i]] = booop[i]"
   ]
  },
  {
   "cell_type": "code",
   "execution_count": 24,
   "metadata": {},
   "outputs": [],
   "source": [
    "keywords_master_list_data = pd.read_csv(\"C:/Users/abbyk/Downloads/latinx metadata vocab terms-1.csv\")"
   ]
  },
  {
   "cell_type": "code",
   "execution_count": 37,
   "metadata": {},
   "outputs": [],
   "source": [
    "keyword_master_list = []"
   ]
  },
  {
   "cell_type": "code",
   "execution_count": 27,
   "metadata": {},
   "outputs": [
    {
     "name": "stdout",
     "output_type": "stream",
     "text": [
      "           Subject Heading                                   UF/BT/RT  \\\n",
      "0    Argentinian Americans                               Argentinians   \n",
      "1       Belizean Americans                                  Belizeans   \n",
      "2        Chicano Americans                Chicanos; Chicanas; Chicanx   \n",
      "3         Latino Americans  Latin Americans; Latinos; Latinas; Latinx   \n",
      "4                   Latine                                        NaN   \n",
      "5       Bolivian Americans                                  Bolivians   \n",
      "6                 Boricuas                                        NaN   \n",
      "7      Brazilian Americans                                 Brazilians   \n",
      "8        Chilean Americans                                   Chileans   \n",
      "9      Colombian Americans                                 Colombians   \n",
      "10   Costa Rican Americans                               Costa Ricans   \n",
      "11           Costarisences                                        NaN   \n",
      "12         Cuban Americans                                     Cubans   \n",
      "13     Dominican Americans                                 Dominicans   \n",
      "14    Ecuadorian Americans                                Ecuadorians   \n",
      "15          Afro-Hispanics                                        NaN   \n",
      "16            Afro-Latinos                               Afro-Latinas   \n",
      "17    Guatemalan Americans                                Guatemalans   \n",
      "18      Hispanic Americans                                  Hispanics   \n",
      "19                Hispanos                                        NaN   \n",
      "20      Honduran Americans                                  Hondurans   \n",
      "21                Mejicano                                   Mexicano   \n",
      "22       Mexican Americans                                   Mexicans   \n",
      "23    Nicaraguan Americans                                Nicaraguans   \n",
      "24    Panamanean Americans                                Panamaneans   \n",
      "25    Paraguayan Americans                                Paraguayans   \n",
      "26      Peruvian Americans                                  Peruvians   \n",
      "27  Puerto Rican Americans                              Puerto Ricans   \n",
      "28    Salvadoran Americans                                Salvadorans   \n",
      "29                  Tejano                                     Texano   \n",
      "30     Uruguayan Americans                                 Uruguayans   \n",
      "31    Venezuelan Americans                                Venezuelans   \n",
      "\n",
      "                  Use  Unnamed: 3  \\\n",
      "0          Argentinos         NaN   \n",
      "1          Belizeanos         NaN   \n",
      "2                 NaN         NaN   \n",
      "3                 NaN         NaN   \n",
      "4                 NaN         NaN   \n",
      "5          Bolivianos         NaN   \n",
      "6       Puerto Ricans         NaN   \n",
      "7          Brasileños         NaN   \n",
      "8            Chilenos         NaN   \n",
      "9         Colombianos         NaN   \n",
      "10     Costarricences         NaN   \n",
      "11     Costarricences         NaN   \n",
      "12            Cubanos         NaN   \n",
      "13        Dominicanos         NaN   \n",
      "14       Ecuatorianos         NaN   \n",
      "15                NaN         NaN   \n",
      "16                NaN         NaN   \n",
      "17      Guatemaltecos         NaN   \n",
      "18                NaN         NaN   \n",
      "19  Mexican Americans         NaN   \n",
      "20         Hondureños         NaN   \n",
      "21                NaN         NaN   \n",
      "22                NaN         NaN   \n",
      "23      Nicaragüenses         NaN   \n",
      "24          Panameños         NaN   \n",
      "25         Paraguayos         NaN   \n",
      "26           Peruanos         NaN   \n",
      "27    Puertorriqueños         NaN   \n",
      "28       Salvadoreños         NaN   \n",
      "29                NaN         NaN   \n",
      "30          Uruguayos         NaN   \n",
      "31        Venezolanos         NaN   \n",
      "\n",
      "              Resources for Thesauri/Vocabulary  \\\n",
      "0                             Chicano Thesaurus   \n",
      "1                                       ANSSWeb   \n",
      "2                                      Keywords   \n",
      "3   Library of Congress Demographic Group Terms   \n",
      "4           DEI Controlled Vocabs Resource List   \n",
      "5                                           NaN   \n",
      "6                                           NaN   \n",
      "7                                           NaN   \n",
      "8                                           NaN   \n",
      "9                                           NaN   \n",
      "10                                          NaN   \n",
      "11                                          NaN   \n",
      "12                                          NaN   \n",
      "13                                          NaN   \n",
      "14                                          NaN   \n",
      "15                                          NaN   \n",
      "16                                          NaN   \n",
      "17                                          NaN   \n",
      "18                                          NaN   \n",
      "19                                          NaN   \n",
      "20                                          NaN   \n",
      "21                                          NaN   \n",
      "22                                          NaN   \n",
      "23                                          NaN   \n",
      "24                                          NaN   \n",
      "25                                          NaN   \n",
      "26                                          NaN   \n",
      "27                                          NaN   \n",
      "28                                          NaN   \n",
      "29                                          NaN   \n",
      "30                                          NaN   \n",
      "31                                          NaN   \n",
      "\n",
      "                                           Unnamed: 5  \n",
      "0   https://view.officeapps.live.com/op/view.aspx?...  \n",
      "1   https://acrl.ala.org/anss/index.php/subject-he...  \n",
      "2   https://keywords.nyupress.org/latina-latino-st...  \n",
      "3   https://www.loc.gov/aba/publications/FreeLCDGT...  \n",
      "4   https://docs.google.com/spreadsheets/d/19solOX...  \n",
      "5                                                 NaN  \n",
      "6                                                 NaN  \n",
      "7                                                 NaN  \n",
      "8                                                 NaN  \n",
      "9                                                 NaN  \n",
      "10                                                NaN  \n",
      "11                                                NaN  \n",
      "12                                                NaN  \n",
      "13                                                NaN  \n",
      "14                                                NaN  \n",
      "15                                                NaN  \n",
      "16                                                NaN  \n",
      "17                                                NaN  \n",
      "18                                                NaN  \n",
      "19                                                NaN  \n",
      "20                                                NaN  \n",
      "21                                                NaN  \n",
      "22                                                NaN  \n",
      "23                                                NaN  \n",
      "24                                                NaN  \n",
      "25                                                NaN  \n",
      "26                                                NaN  \n",
      "27                                                NaN  \n",
      "28                                                NaN  \n",
      "29                                                NaN  \n",
      "30                                                NaN  \n",
      "31                                                NaN  \n"
     ]
    }
   ],
   "source": [
    "type(keywords_master_list_data)\n",
    "print(keywords_master_list_data)"
   ]
  },
  {
   "cell_type": "code",
   "execution_count": 38,
   "metadata": {},
   "outputs": [],
   "source": [
    "for i in keywords_master_list_data[\"Subject Heading\"]:\n",
    "    keyword_master_list.append(i)"
   ]
  },
  {
   "cell_type": "code",
   "execution_count": 39,
   "metadata": {},
   "outputs": [],
   "source": [
    "for i in keywords_master_list_data[\"UF/BT/RT\"]:\n",
    "    keyword_master_list.append(i)"
   ]
  },
  {
   "cell_type": "code",
   "execution_count": 40,
   "metadata": {},
   "outputs": [],
   "source": [
    "for i in keywords_master_list_data[\"Use\"]:\n",
    "    keyword_master_list.append(i)"
   ]
  },
  {
   "cell_type": "code",
   "execution_count": 41,
   "metadata": {},
   "outputs": [
    {
     "name": "stdout",
     "output_type": "stream",
     "text": [
      "['Argentinian Americans', 'Belizean Americans', 'Chicano Americans', 'Latino Americans', 'Latine', 'Bolivian Americans', 'Boricuas', 'Brazilian Americans', 'Chilean Americans', 'Colombian Americans', 'Costa Rican Americans', 'Costarisences', 'Cuban Americans', 'Dominican Americans', 'Ecuadorian Americans', 'Afro-Hispanics', 'Afro-Latinos', 'Guatemalan Americans', 'Hispanic Americans', 'Hispanos', 'Honduran Americans', 'Mejicano', 'Mexican Americans', 'Nicaraguan Americans', 'Panamanean Americans', 'Paraguayan Americans', 'Peruvian Americans', 'Puerto Rican Americans', 'Salvadoran Americans', 'Tejano', 'Uruguayan Americans', 'Venezuelan Americans', 'Argentinians', 'Belizeans', 'Chicanos; Chicanas; Chicanx', 'Latin Americans; Latinos; Latinas; Latinx', nan, 'Bolivians', nan, 'Brazilians', 'Chileans', 'Colombians', 'Costa Ricans', nan, 'Cubans', 'Dominicans', 'Ecuadorians', nan, 'Afro-Latinas', 'Guatemalans', 'Hispanics', nan, 'Hondurans', 'Mexicano', 'Mexicans', 'Nicaraguans', 'Panamaneans', 'Paraguayans', 'Peruvians', 'Puerto Ricans', 'Salvadorans', 'Texano', 'Uruguayans', 'Venezuelans', 'Argentinos', 'Belizeanos', nan, nan, nan, 'Bolivianos', 'Puerto Ricans', 'Brasileños', 'Chilenos', 'Colombianos', 'Costarricences', 'Costarricences', 'Cubanos', 'Dominicanos', 'Ecuatorianos', nan, nan, 'Guatemaltecos', nan, 'Mexican Americans', 'Hondureños', nan, nan, 'Nicaragüenses', 'Panameños', 'Paraguayos', 'Peruanos', 'Puertorriqueños', 'Salvadoreños', nan, 'Uruguayos', 'Venezolanos']\n"
     ]
    }
   ],
   "source": [
    "print(keyword_master_list)"
   ]
  },
  {
   "cell_type": "code",
   "execution_count": 42,
   "metadata": {},
   "outputs": [],
   "source": [
    "keywords_data = pd.read_csv(\"C:/Users/abbyk/Downloads/keys.csv\")"
   ]
  },
  {
   "cell_type": "code",
   "execution_count": 43,
   "metadata": {},
   "outputs": [],
   "source": [
    "kw_list = []\n",
    "\n",
    "for i in keywords_data[\"Word\"]:\n",
    "    kw_list.append(i)"
   ]
  },
  {
   "cell_type": "code",
   "execution_count": 44,
   "metadata": {},
   "outputs": [
    {
     "name": "stdout",
     "output_type": "stream",
     "text": [
      "['Argentinian Americans', 'Belizean Americans', 'Chicano Americans', 'Latino Americans', 'Latine', 'Bolivian Americans', 'Boricuas', 'Brazilian Americans', 'Chilean Americans', 'Colombian Americans', 'Costa Rican Americans', 'Costarisences', 'Cuban Americans', 'Dominican Americans', 'Ecuadorian Americans', 'Afro-Hispanics', 'Afro-Latinos', 'Guatemalan Americans', 'Hispanic Americans', 'Hispanos', 'Honduran Americans', 'Mejicano', 'Mexican Americans', 'Nicaraguan Americans', 'Panamanean Americans', 'Paraguayan Americans', 'Peruvian Americans', 'Puerto Rican Americans', 'Salvadoran Americans', 'Tejano', 'Uruguayan Americans', 'Venezuelan Americans', 'Argentinians', 'Belizeans', 'Chicanos', 'Latin Americans', 'Chicanas', 'Bolivians', 'Chicanx', 'Brazilians', 'Chileans', 'Colombians', 'Costa Ricans', 'Latinos', 'Cubans', 'Dominicans', 'Ecuadorians', 'Latinas', 'Afro-Latinas', 'Guatemalans', 'Hispanics', 'Latinx', 'Hondurans', 'Mexicano', 'Mexicans', 'Nicaraguans', 'Panamaneans', 'Paraguayans', 'Peruvians', 'Puerto Ricans', 'Salvadorans', 'Texano', 'Uruguayans', 'Venezuelans', 'Argentinos', 'Belizeanos', 'Bolivianos', 'Puerto Ricans', 'Brasileños', 'Chilenos', 'Colombianos', 'Costarricences', 'Costarricences', 'Cubanos', 'Dominicanos', 'Ecuatorianos', 'Guatemaltecos', 'Mexican Americans', 'Hondureños', 'Nicaragüenses', 'Panameños', 'Paraguayos', 'Peruanos', 'Puertorriqueños', 'Salvadoreños', 'Uruguayos', 'Venezolanos']\n"
     ]
    }
   ],
   "source": [
    "print(kw_list)"
   ]
  },
  {
   "cell_type": "code",
   "execution_count": null,
   "metadata": {},
   "outputs": [],
   "source": []
  }
 ],
 "metadata": {
  "kernelspec": {
   "display_name": "Python 3",
   "language": "python",
   "name": "python3"
  },
  "language_info": {
   "codemirror_mode": {
    "name": "ipython",
    "version": 3
   },
   "file_extension": ".py",
   "mimetype": "text/x-python",
   "name": "python",
   "nbconvert_exporter": "python",
   "pygments_lexer": "ipython3",
   "version": "3.7.4"
  }
 },
 "nbformat": 4,
 "nbformat_minor": 2
}
