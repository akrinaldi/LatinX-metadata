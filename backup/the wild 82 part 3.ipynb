{
 "cells": [
  {
   "cell_type": "code",
   "execution_count": 1,
   "metadata": {},
   "outputs": [],
   "source": [
    "from urllib import request\n",
    "import time\n",
    "import json\n",
    "import os"
   ]
  },
  {
   "cell_type": "code",
   "execution_count": 2,
   "metadata": {},
   "outputs": [],
   "source": [
    "ISSN = ['03186954']\n",
    "YEAR_ID = ['1980', '1989', '1990', '1996', '1997', '1998', '1999', '2000', '2001', '2002', '2003', '2004', '2005', '2006', '2007', '2008', '2009', '2010', '2011', '2012', '2013', '2014', '2015', '2016', '2017', '2018', '2019', '2020', '2021']\n",
    "text_sample = ''\n",
    "URL_PATTERN = 'https://api.elsevier.com/content/search/scopus?field=dc:identifier,dc:title,prism:doi,authkeywords,affiliation-country&query=issn({})&count=200&date={}&httpAccept=application/json&apiKey=ad4e12568b69167a2d25213b52923901&insttoken=0363e8707601cf3e7f27138d2b25f9e4'\n"
   ]
  },
  {
   "cell_type": "code",
   "execution_count": 3,
   "metadata": {},
   "outputs": [],
   "source": [
    "if __name__ == '__main__':\n",
    "    for issn in ISSN:\n",
    "        route = \"./LatinxMeta/outputs6/{i}\".format(i = issn)\n",
    "        if not (os.path.exists(route)):\n",
    "            os.makedirs(route)\n",
    "            for y_id in  YEAR_ID:\n",
    "                if not (os.path.exists(route + \"/\" + issn + \"_\" + y_id + \".json\")):\n",
    "                    try:\n",
    "                        url = URL_PATTERN.format(issn, y_id) \n",
    "                        response = request.urlopen(url)   \n",
    "                        scopus_pull = response.read().decode('utf8')\n",
    "                        \n",
    "                        time.sleep(1)\n",
    "                        \n",
    "                        full_json = json.loads(scopus_pull)\n",
    "\n",
    "                        with open(route + \"/\" + issn + \"_\" + y_id + \".json\", 'w') as scopus:\n",
    "                            scopus.write(json.dumps(full_json))\n",
    "                     \n",
    "                    except Exception as ex:\n",
    "                        print(str(ex))\n",
    "                        print(str(url))\n",
    "                        print(str(response))\n",
    "                        print(\"=========================================================\")\n",
    "                        exit()"
   ]
  },
  {
   "cell_type": "code",
   "execution_count": 4,
   "metadata": {},
   "outputs": [],
   "source": [
    "ISSN = ['20493355', '16801865']\n",
    "YEAR_ID = ['2020', '2021']\n",
    "text_sample = ''\n",
    "URL_PATTERN = 'https://api.elsevier.com/content/search/scopus?field=dc:identifier,dc:title,prism:doi,authkeywords,affiliation-country&query=issn({})&count=200&date={}&httpAccept=application/json&apiKey=ad4e12568b69167a2d25213b52923901&insttoken=0363e8707601cf3e7f27138d2b25f9e4'\n"
   ]
  },
  {
   "cell_type": "code",
   "execution_count": 5,
   "metadata": {},
   "outputs": [],
   "source": [
    "if __name__ == '__main__':\n",
    "    for issn in ISSN:\n",
    "        route = \"./LatinxMeta/outputs6/{i}\".format(i = issn)\n",
    "        if not (os.path.exists(route)):\n",
    "            os.makedirs(route)\n",
    "            for y_id in  YEAR_ID:\n",
    "                if not (os.path.exists(route + \"/\" + issn + \"_\" + y_id + \".json\")):\n",
    "                    try:\n",
    "                        url = URL_PATTERN.format(issn, y_id) \n",
    "                        response = request.urlopen(url)   \n",
    "                        scopus_pull = response.read().decode('utf8')\n",
    "                        \n",
    "                        time.sleep(1)\n",
    "                        \n",
    "                        full_json = json.loads(scopus_pull)\n",
    "\n",
    "                        with open(route + \"/\" + issn + \"_\" + y_id + \".json\", 'w') as scopus:\n",
    "                            scopus.write(json.dumps(full_json))\n",
    "                     \n",
    "                    except Exception as ex:\n",
    "                        print(str(ex))\n",
    "                        print(str(url))\n",
    "                        print(str(response))\n",
    "                        print(\"=========================================================\")\n",
    "                        exit()"
   ]
  },
  {
   "cell_type": "code",
   "execution_count": 6,
   "metadata": {},
   "outputs": [],
   "source": [
    "ISSN = ['10619321']\n",
    "YEAR_ID = ['1992', '1994', '1996', '1997', '1998', '1999', '2000', '2001', '2002', '2003', '2004', '2005', '2006', '2007', '2008', '2009', '2010', '2011', '2012', '2013', '2014', '2015', '2016', '2017', '2018', '2019', '2021']\n",
    "text_sample = ''\n",
    "URL_PATTERN = 'https://api.elsevier.com/content/search/scopus?field=dc:identifier,dc:title,prism:doi,authkeywords,affiliation-country&query=issn({})&count=200&date={}&httpAccept=application/json&apiKey=ad4e12568b69167a2d25213b52923901&insttoken=0363e8707601cf3e7f27138d2b25f9e4'\n"
   ]
  },
  {
   "cell_type": "code",
   "execution_count": 7,
   "metadata": {},
   "outputs": [],
   "source": [
    "if __name__ == '__main__':\n",
    "    for issn in ISSN:\n",
    "        route = \"./LatinxMeta/outputs6/{i}\".format(i = issn)\n",
    "        if not (os.path.exists(route)):\n",
    "            os.makedirs(route)\n",
    "            for y_id in  YEAR_ID:\n",
    "                if not (os.path.exists(route + \"/\" + issn + \"_\" + y_id + \".json\")):\n",
    "                    try:\n",
    "                        url = URL_PATTERN.format(issn, y_id) \n",
    "                        response = request.urlopen(url)   \n",
    "                        scopus_pull = response.read().decode('utf8')\n",
    "                        \n",
    "                        time.sleep(1)\n",
    "                        \n",
    "                        full_json = json.loads(scopus_pull)\n",
    "\n",
    "                        with open(route + \"/\" + issn + \"_\" + y_id + \".json\", 'w') as scopus:\n",
    "                            scopus.write(json.dumps(full_json))\n",
    "                     \n",
    "                    except Exception as ex:\n",
    "                        print(str(ex))\n",
    "                        print(str(url))\n",
    "                        print(str(response))\n",
    "                        print(\"=========================================================\")\n",
    "                        exit()"
   ]
  },
  {
   "cell_type": "code",
   "execution_count": 8,
   "metadata": {},
   "outputs": [],
   "source": [
    "ISSN = ['18784712', '09579656']\n",
    "YEAR_ID = ['1994', '1996', '1997', '1998', '1999', '2000', '2001', '2002', '2003', '2004', '2005', '2006', '2007', '2008', '2009', '2010', '2011', '2012', '2013', '2014', '2015', '2016', '2017', '2018', '2019', '2020', '2021']\n",
    "text_sample = ''\n",
    "URL_PATTERN = 'https://api.elsevier.com/content/search/scopus?field=dc:identifier,dc:title,prism:doi,authkeywords,affiliation-country&query=issn({})&count=200&date={}&httpAccept=application/json&apiKey=ad4e12568b69167a2d25213b52923901&insttoken=0363e8707601cf3e7f27138d2b25f9e4'\n"
   ]
  },
  {
   "cell_type": "code",
   "execution_count": 9,
   "metadata": {},
   "outputs": [],
   "source": [
    "if __name__ == '__main__':\n",
    "    for issn in ISSN:\n",
    "        route = \"./LatinxMeta/outputs6/{i}\".format(i = issn)\n",
    "        if not (os.path.exists(route)):\n",
    "            os.makedirs(route)\n",
    "            for y_id in  YEAR_ID:\n",
    "                if not (os.path.exists(route + \"/\" + issn + \"_\" + y_id + \".json\")):\n",
    "                    try:\n",
    "                        url = URL_PATTERN.format(issn, y_id) \n",
    "                        response = request.urlopen(url)   \n",
    "                        scopus_pull = response.read().decode('utf8')\n",
    "                        \n",
    "                        time.sleep(1)\n",
    "                        \n",
    "                        full_json = json.loads(scopus_pull)\n",
    "\n",
    "                        with open(route + \"/\" + issn + \"_\" + y_id + \".json\", 'w') as scopus:\n",
    "                            scopus.write(json.dumps(full_json))\n",
    "                     \n",
    "                    except Exception as ex:\n",
    "                        print(str(ex))\n",
    "                        print(str(url))\n",
    "                        print(str(response))\n",
    "                        print(\"=========================================================\")\n",
    "                        exit()"
   ]
  },
  {
   "cell_type": "code",
   "execution_count": 10,
   "metadata": {},
   "outputs": [],
   "source": [
    "ISSN = ['00686611']\n",
    "YEAR_ID = ['1971', '1979', '1980', '1982', '1988', '2002', '2003', '2004', '2005', '2006', '2007', '2008', '2009', '2010', '2011', '2013', '2014', '2015', '2016', '2017', '2019', '2021']\n",
    "text_sample = ''\n",
    "URL_PATTERN = 'https://api.elsevier.com/content/search/scopus?field=dc:identifier,dc:title,prism:doi,authkeywords,affiliation-country&query=issn({})&count=200&date={}&httpAccept=application/json&apiKey=ad4e12568b69167a2d25213b52923901&insttoken=0363e8707601cf3e7f27138d2b25f9e4'\n"
   ]
  },
  {
   "cell_type": "code",
   "execution_count": 11,
   "metadata": {},
   "outputs": [],
   "source": [
    "if __name__ == '__main__':\n",
    "    for issn in ISSN:\n",
    "        route = \"./LatinxMeta/outputs6/{i}\".format(i = issn)\n",
    "        if not (os.path.exists(route)):\n",
    "            os.makedirs(route)\n",
    "            for y_id in  YEAR_ID:\n",
    "                if not (os.path.exists(route + \"/\" + issn + \"_\" + y_id + \".json\")):\n",
    "                    try:\n",
    "                        url = URL_PATTERN.format(issn, y_id) \n",
    "                        response = request.urlopen(url)   \n",
    "                        scopus_pull = response.read().decode('utf8')\n",
    "                        \n",
    "                        time.sleep(1)\n",
    "                        \n",
    "                        full_json = json.loads(scopus_pull)\n",
    "\n",
    "                        with open(route + \"/\" + issn + \"_\" + y_id + \".json\", 'w') as scopus:\n",
    "                            scopus.write(json.dumps(full_json))\n",
    "                     \n",
    "                    except Exception as ex:\n",
    "                        print(str(ex))\n",
    "                        print(str(url))\n",
    "                        print(str(response))\n",
    "                        print(\"=========================================================\")\n",
    "                        exit()"
   ]
  },
  {
   "cell_type": "code",
   "execution_count": 12,
   "metadata": {},
   "outputs": [],
   "source": [
    "ISSN = ['16838947', '0006176X']\n",
    "YEAR_ID = ['2019', '2021']\n",
    "text_sample = ''\n",
    "URL_PATTERN = 'https://api.elsevier.com/content/search/scopus?field=dc:identifier,dc:title,prism:doi,authkeywords,affiliation-country&query=issn({})&count=200&date={}&httpAccept=application/json&apiKey=ad4e12568b69167a2d25213b52923901&insttoken=0363e8707601cf3e7f27138d2b25f9e4'\n"
   ]
  },
  {
   "cell_type": "code",
   "execution_count": 13,
   "metadata": {},
   "outputs": [],
   "source": [
    "if __name__ == '__main__':\n",
    "    for issn in ISSN:\n",
    "        route = \"./LatinxMeta/outputs6/{i}\".format(i = issn)\n",
    "        if not (os.path.exists(route)):\n",
    "            os.makedirs(route)\n",
    "            for y_id in  YEAR_ID:\n",
    "                if not (os.path.exists(route + \"/\" + issn + \"_\" + y_id + \".json\")):\n",
    "                    try:\n",
    "                        url = URL_PATTERN.format(issn, y_id) \n",
    "                        response = request.urlopen(url)   \n",
    "                        scopus_pull = response.read().decode('utf8')\n",
    "                        \n",
    "                        time.sleep(1)\n",
    "                        \n",
    "                        full_json = json.loads(scopus_pull)\n",
    "\n",
    "                        with open(route + \"/\" + issn + \"_\" + y_id + \".json\", 'w') as scopus:\n",
    "                            scopus.write(json.dumps(full_json))\n",
    "                     \n",
    "                    except Exception as ex:\n",
    "                        print(str(ex))\n",
    "                        print(str(url))\n",
    "                        print(str(response))\n",
    "                        print(\"=========================================================\")\n",
    "                        exit()"
   ]
  },
  {
   "cell_type": "code",
   "execution_count": 14,
   "metadata": {},
   "outputs": [],
   "source": [
    "ISSN = ['00239283']\n",
    "YEAR_ID = ['1978', '1987', '1988', '1989', '1990', '1991', '1992', '1993', '1994', '1995', '1996', '1997', '1998', '1999', '2000', '2001', '2002', '2003', '2004', '2005', '2006', '2007', '2008', '2009', '2010', '2011', '2012', '2013', '2014', '2015', '2016', '2017', '2018', '2019', '2021']\n",
    "text_sample = ''\n",
    "URL_PATTERN = 'https://api.elsevier.com/content/search/scopus?field=dc:identifier,dc:title,prism:doi,authkeywords,affiliation-country&query=issn({})&count=200&date={}&httpAccept=application/json&apiKey=ad4e12568b69167a2d25213b52923901&insttoken=0363e8707601cf3e7f27138d2b25f9e4'\n"
   ]
  },
  {
   "cell_type": "code",
   "execution_count": 15,
   "metadata": {},
   "outputs": [],
   "source": [
    "if __name__ == '__main__':\n",
    "    for issn in ISSN:\n",
    "        route = \"./LatinxMeta/outputs6/{i}\".format(i = issn)\n",
    "        if not (os.path.exists(route)):\n",
    "            os.makedirs(route)\n",
    "            for y_id in  YEAR_ID:\n",
    "                if not (os.path.exists(route + \"/\" + issn + \"_\" + y_id + \".json\")):\n",
    "                    try:\n",
    "                        url = URL_PATTERN.format(issn, y_id) \n",
    "                        response = request.urlopen(url)   \n",
    "                        scopus_pull = response.read().decode('utf8')\n",
    "                        \n",
    "                        time.sleep(1)\n",
    "                        \n",
    "                        full_json = json.loads(scopus_pull)\n",
    "\n",
    "                        with open(route + \"/\" + issn + \"_\" + y_id + \".json\", 'w') as scopus:\n",
    "                            scopus.write(json.dumps(full_json))\n",
    "                     \n",
    "                    except Exception as ex:\n",
    "                        print(str(ex))\n",
    "                        print(str(url))\n",
    "                        print(str(response))\n",
    "                        print(\"=========================================================\")\n",
    "                        exit()"
   ]
  },
  {
   "cell_type": "code",
   "execution_count": 2,
   "metadata": {},
   "outputs": [],
   "source": [
    "ISSN = ['17448581', '00242160']\n",
    "YEAR_ID = ['1889', '1899', '1901', '1902', '1903', '1904', '1905', '1906', '1907', '1908', '1909', '1910', '1911', '1912', '1913', '1914', '1915', '1916', '1917', '1918', '1919', '1920', '1921', '1922', '1923', '1924', '1925', '1926', '1927', '1928', '1929', '1930', '1931', '1932', '1933', '1934', '1935', '1936', '1937', '1938', '1939', '1940', '1941', '1942', '1943', '1944', '1945', '1946', '1947', '1948', '1949', '1950', '1951', '1952', '1953', '1954', '1955', '1956', '1957', '1958', '1959', '1960', '1961', '1962', '1963', '1964', '1965', '1966', '1967', '1968', '1969', '1970', '1971', '1972', '1973', '1974', '1975', '1976', '1977', '1978', '1979', '1980', '1981', '1982', '1983', '1984', '1985', '1986', '1987', '1988', '1989', '1990', '1991', '1992', '1993', '1994', '1995', '1996', '1997', '1998', '1999', '2000', '2001', '2002', '2003', '2004', '2005', '2006', '2007', '2008', '2009', '2010', '2011', '2012', '2013', '2014', '2015', '2016', '2017', '2018', '2019', '2021']\n",
    "text_sample = ''\n",
    "URL_PATTERN = 'https://api.elsevier.com/content/search/scopus?field=dc:identifier,dc:title,prism:doi,authkeywords,affiliation-country&query=issn({})&count=200&date={}&httpAccept=application/json&apiKey=ad4e12568b69167a2d25213b52923901&insttoken=0363e8707601cf3e7f27138d2b25f9e4'\n"
   ]
  },
  {
   "cell_type": "code",
   "execution_count": 3,
   "metadata": {},
   "outputs": [],
   "source": [
    "if __name__ == '__main__':\n",
    "    for issn in ISSN:\n",
    "        route = \"./LatinxMeta/outputs6/{i}\".format(i = issn)\n",
    "        if not (os.path.exists(route)):\n",
    "            os.makedirs(route)\n",
    "            for y_id in  YEAR_ID:\n",
    "                if not (os.path.exists(route + \"/\" + issn + \"_\" + y_id + \".json\")):\n",
    "                    try:\n",
    "                        url = URL_PATTERN.format(issn, y_id) \n",
    "                        response = request.urlopen(url)   \n",
    "                        scopus_pull = response.read().decode('utf8')\n",
    "                        \n",
    "                        time.sleep(1)\n",
    "                        \n",
    "                        full_json = json.loads(scopus_pull)\n",
    "\n",
    "                        with open(route + \"/\" + issn + \"_\" + y_id + \".json\", 'w') as scopus:\n",
    "                            scopus.write(json.dumps(full_json))\n",
    "                     \n",
    "                    except Exception as ex:\n",
    "                        print(str(ex))\n",
    "                        print(str(url))\n",
    "                        print(str(response))\n",
    "                        print(\"=========================================================\")\n",
    "                        exit()"
   ]
  },
  {
   "cell_type": "code",
   "execution_count": 4,
   "metadata": {},
   "outputs": [],
   "source": [
    "ISSN = ['18779964']\n",
    "YEAR_ID = ['2010', '2011', '2012', '2014', '2015', '2016', '2017']\n",
    "text_sample = ''\n",
    "URL_PATTERN = 'https://api.elsevier.com/content/search/scopus?field=dc:identifier,dc:title,prism:doi,authkeywords,affiliation-country&query=issn({})&count=200&date={}&httpAccept=application/json&apiKey=ad4e12568b69167a2d25213b52923901&insttoken=0363e8707601cf3e7f27138d2b25f9e4'\n"
   ]
  },
  {
   "cell_type": "code",
   "execution_count": 5,
   "metadata": {},
   "outputs": [],
   "source": [
    "if __name__ == '__main__':\n",
    "    for issn in ISSN:\n",
    "        route = \"./LatinxMeta/outputs6/{i}\".format(i = issn)\n",
    "        if not (os.path.exists(route)):\n",
    "            os.makedirs(route)\n",
    "            for y_id in  YEAR_ID:\n",
    "                if not (os.path.exists(route + \"/\" + issn + \"_\" + y_id + \".json\")):\n",
    "                    try:\n",
    "                        url = URL_PATTERN.format(issn, y_id) \n",
    "                        response = request.urlopen(url)   \n",
    "                        scopus_pull = response.read().decode('utf8')\n",
    "                        \n",
    "                        time.sleep(1)\n",
    "                        \n",
    "                        full_json = json.loads(scopus_pull)\n",
    "\n",
    "                        with open(route + \"/\" + issn + \"_\" + y_id + \".json\", 'w') as scopus:\n",
    "                            scopus.write(json.dumps(full_json))\n",
    "                     \n",
    "                    except Exception as ex:\n",
    "                        print(str(ex))\n",
    "                        print(str(url))\n",
    "                        print(str(response))\n",
    "                        print(\"=========================================================\")\n",
    "                        exit()"
   ]
  },
  {
   "cell_type": "code",
   "execution_count": 6,
   "metadata": {},
   "outputs": [],
   "source": [
    "ISSN = ['20313098', '25070312']\n",
    "YEAR_ID = ['2019', '2021']\n",
    "text_sample = ''\n",
    "URL_PATTERN = 'https://api.elsevier.com/content/search/scopus?field=dc:identifier,dc:title,prism:doi,authkeywords,affiliation-country&query=issn({})&count=200&date={}&httpAccept=application/json&apiKey=ad4e12568b69167a2d25213b52923901&insttoken=0363e8707601cf3e7f27138d2b25f9e4'\n"
   ]
  },
  {
   "cell_type": "code",
   "execution_count": 7,
   "metadata": {},
   "outputs": [],
   "source": [
    "if __name__ == '__main__':\n",
    "    for issn in ISSN:\n",
    "        route = \"./LatinxMeta/outputs6/{i}\".format(i = issn)\n",
    "        if not (os.path.exists(route)):\n",
    "            os.makedirs(route)\n",
    "            for y_id in  YEAR_ID:\n",
    "                if not (os.path.exists(route + \"/\" + issn + \"_\" + y_id + \".json\")):\n",
    "                    try:\n",
    "                        url = URL_PATTERN.format(issn, y_id) \n",
    "                        response = request.urlopen(url)   \n",
    "                        scopus_pull = response.read().decode('utf8')\n",
    "                        \n",
    "                        time.sleep(1)\n",
    "                        \n",
    "                        full_json = json.loads(scopus_pull)\n",
    "\n",
    "                        with open(route + \"/\" + issn + \"_\" + y_id + \".json\", 'w') as scopus:\n",
    "                            scopus.write(json.dumps(full_json))\n",
    "                     \n",
    "                    except Exception as ex:\n",
    "                        print(str(ex))\n",
    "                        print(str(url))\n",
    "                        print(str(response))\n",
    "                        print(\"=========================================================\")\n",
    "                        exit()"
   ]
  },
  {
   "cell_type": "code",
   "execution_count": null,
   "metadata": {},
   "outputs": [],
   "source": []
  }
 ],
 "metadata": {
  "kernelspec": {
   "display_name": "Python 3",
   "language": "python",
   "name": "python3"
  },
  "language_info": {
   "codemirror_mode": {
    "name": "ipython",
    "version": 3
   },
   "file_extension": ".py",
   "mimetype": "text/x-python",
   "name": "python",
   "nbconvert_exporter": "python",
   "pygments_lexer": "ipython3",
   "version": "3.7.4"
  }
 },
 "nbformat": 4,
 "nbformat_minor": 2
}
