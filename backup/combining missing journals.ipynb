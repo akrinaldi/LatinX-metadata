{
 "cells": [
  {
   "cell_type": "code",
   "execution_count": 11,
   "metadata": {},
   "outputs": [],
   "source": [
    "import json\n",
    "import glob"
   ]
  },
  {
   "cell_type": "code",
   "execution_count": 12,
   "metadata": {},
   "outputs": [],
   "source": [
    "file_path = \"C:/Users/abbyk/Untitled Folder/LatinxMeta/outputs4/*/*\""
   ]
  },
  {
   "cell_type": "code",
   "execution_count": 13,
   "metadata": {},
   "outputs": [],
   "source": [
    "raw_outputs = glob.glob(file_path)\n",
    "empty = []\n",
    "\n",
    "for i in raw_outputs:\n",
    "    with open(i, \"rb\") as diction1:\n",
    "        empty.append(json.load(diction1))"
   ]
  },
  {
   "cell_type": "code",
   "execution_count": 14,
   "metadata": {},
   "outputs": [],
   "source": [
    "value_list = []\n",
    "\n",
    "for i in empty:\n",
    "    for key, value in i.items():\n",
    "        value_list.append(value)"
   ]
  },
  {
   "cell_type": "code",
   "execution_count": 5,
   "metadata": {},
   "outputs": [
    {
     "name": "stdout",
     "output_type": "stream",
     "text": [
      "{'opensearch:totalResults': '9', 'opensearch:startIndex': '0', 'opensearch:itemsPerPage': '9', 'opensearch:Query': {'@role': 'request', '@searchTerms': 'issn(00039535)', '@startPage': '0'}, 'link': [{'@_fa': 'true', '@ref': 'self', '@href': 'https://api.elsevier.com/content/search/scopus?start=0&count=200&query=issn%2800039535%29&date=2011&httpAccept=application/json&apiKey=ad4e12568b69167a2d25213b52923901&insttoken=0363e8707601cf3e7f27138d2b25f9e4', '@type': 'application/json'}, {'@_fa': 'true', '@ref': 'first', '@href': 'https://api.elsevier.com/content/search/scopus?start=0&count=200&query=issn%2800039535%29&date=2011&httpAccept=application/json&apiKey=ad4e12568b69167a2d25213b52923901&insttoken=0363e8707601cf3e7f27138d2b25f9e4', '@type': 'application/json'}], 'entry': [{'@_fa': 'true', 'prism:url': 'https://api.elsevier.com/content/abstract/scopus_id/84874852620', 'dc:identifier': 'SCOPUS_ID:84874852620', 'dc:title': 'A message from the chairman'}, {'@_fa': 'true', 'prism:url': 'https://api.elsevier.com/content/abstract/scopus_id/84874906827', 'dc:identifier': 'SCOPUS_ID:84874906827', 'dc:title': \"The earl, his daughter, her brother's housekeeper and the cat: The remarkable story of the Sheffield park archives\", 'prism:doi': '10.3828/archives.2011.7', 'affiliation': [{'@_fa': 'true', 'affiliation-country': 'United Kingdom'}, {'@_fa': 'true', 'affiliation-country': 'United Kingdom'}]}, {'@_fa': 'true', 'prism:url': 'https://api.elsevier.com/content/abstract/scopus_id/84874902330', 'dc:identifier': 'SCOPUS_ID:84874902330', 'dc:title': 'Redating the cartas baronum', 'prism:doi': '10.3828/archives.2011.1', 'affiliation': [{'@_fa': 'true', 'affiliation-country': 'United Kingdom'}]}, {'@_fa': 'true', 'prism:url': 'https://api.elsevier.com/content/abstract/scopus_id/84874900845', 'dc:identifier': 'SCOPUS_ID:84874900845', 'dc:title': 'Fair and foul in historical evidence', 'prism:doi': '10.3828/archives.2011.2', 'affiliation': [{'@_fa': 'true', 'affiliation-country': 'United Kingdom'}]}, {'@_fa': 'true', 'prism:url': 'https://api.elsevier.com/content/abstract/scopus_id/84874895226', 'dc:identifier': 'SCOPUS_ID:84874895226', 'dc:title': \"Captain swing on trial: A Prosecutor's perspective. Extracts from the diary of Godfrey tallents\", 'prism:doi': '10.3828/archives.2011.8', 'affiliation': [{'@_fa': 'true', 'affiliation-country': 'United Kingdom'}]}, {'@_fa': 'true', 'prism:url': 'https://api.elsevier.com/content/abstract/scopus_id/84874885126', 'dc:identifier': 'SCOPUS_ID:84874885126', 'dc:title': 'The Maurice bond lecture 2010 the changing fashions and fortunes of philanthropy', 'prism:doi': '10.3828/archives.2011.6', 'affiliation': [{'@_fa': 'true', 'affiliation-country': 'United Kingdom'}]}, {'@_fa': 'true', 'prism:url': 'https://api.elsevier.com/content/abstract/scopus_id/84874883584', 'dc:identifier': 'SCOPUS_ID:84874883584', 'dc:title': 'Petitioning parliament to remedy these great mischiefs : The west riding of Yorkshire quarter sessions and law reform, 1729-1731', 'prism:doi': '10.3828/archives.2011.3'}, {'@_fa': 'true', 'prism:url': 'https://api.elsevier.com/content/abstract/scopus_id/84874861901', 'dc:identifier': 'SCOPUS_ID:84874861901', 'dc:title': 'Public policy and patient privacy: Archiving patients mental health records from the age of the great hospital, c.1948-1970', 'prism:doi': '10.3828/archives.2011.5', 'affiliation': [{'@_fa': 'true', 'affiliation-country': 'United Kingdom'}, {'@_fa': 'true', 'affiliation-country': 'United Kingdom'}]}, {'@_fa': 'true', 'prism:url': 'https://api.elsevier.com/content/abstract/scopus_id/84874857972', 'dc:identifier': 'SCOPUS_ID:84874857972', 'dc:title': 'Gaps and bias in the records: Researching Christian-Jewish charitable collaborations, 1880s-1920s', 'prism:doi': '10.3828/archives.2011.4', 'affiliation': [{'@_fa': 'true', 'affiliation-country': 'United Kingdom'}]}]}\n"
     ]
    }
   ],
   "source": [
    "print(value_list[0])"
   ]
  },
  {
   "cell_type": "code",
   "execution_count": 15,
   "metadata": {},
   "outputs": [],
   "source": [
    "dictions2 = []"
   ]
  },
  {
   "cell_type": "code",
   "execution_count": 16,
   "metadata": {},
   "outputs": [],
   "source": [
    "for i in value_list:\n",
    "    for key, value in i.items():\n",
    "        if key == \"entry\":\n",
    "            dictions2.append(value)"
   ]
  },
  {
   "cell_type": "code",
   "execution_count": 8,
   "metadata": {},
   "outputs": [
    {
     "data": {
      "text/plain": [
       "638"
      ]
     },
     "execution_count": 8,
     "metadata": {},
     "output_type": "execute_result"
    }
   ],
   "source": [
    "len(dictions2)"
   ]
  },
  {
   "cell_type": "code",
   "execution_count": 9,
   "metadata": {},
   "outputs": [
    {
     "name": "stdout",
     "output_type": "stream",
     "text": [
      "[{'@_fa': 'true', 'prism:url': 'https://api.elsevier.com/content/abstract/scopus_id/58149242297', 'dc:identifier': 'SCOPUS_ID:58149242297', 'dc:title': 'Message from the vice-president'}, {'@_fa': 'true', 'prism:url': 'https://api.elsevier.com/content/abstract/scopus_id/58149217999', 'dc:identifier': 'SCOPUS_ID:58149217999', 'dc:title': 'Message from the president'}, {'@_fa': 'true', 'prism:url': 'https://api.elsevier.com/content/abstract/scopus_id/58149217998', 'dc:identifier': 'SCOPUS_ID:58149217998', 'dc:title': 'Message from the executive director'}, {'@_fa': 'true', 'prism:url': 'https://api.elsevier.com/content/abstract/scopus_id/57449088285', 'dc:identifier': 'SCOPUS_ID:57449088285', 'dc:title': 'Google maps and Second Life: Virtual platforms meet information literacy', 'affiliation': [{'@_fa': 'true', 'affiliation-country': None}]}, {'@_fa': 'true', 'prism:url': 'https://api.elsevier.com/content/abstract/scopus_id/58149268961', 'dc:identifier': 'SCOPUS_ID:58149268961', 'dc:title': 'In the news', 'prism:doi': '10.5860/crln.69.11.8092'}, {'@_fa': 'true', 'prism:url': 'https://api.elsevier.com/content/abstract/scopus_id/58149268960', 'dc:identifier': 'SCOPUS_ID:58149268960', 'dc:title': 'Breaking the bottleneck', 'prism:doi': '10.5860/crln.69.11.8100', 'affiliation': [{'@_fa': 'true', 'affiliation-country': 'United States'}]}, {'@_fa': 'true', 'prism:url': 'https://api.elsevier.com/content/abstract/scopus_id/58149251892', 'dc:identifier': 'SCOPUS_ID:58149251892', 'dc:title': 'Developing current awareness services', 'prism:doi': '10.5860/crln.69.11.8094', 'affiliation': [{'@_fa': 'true', 'affiliation-country': 'United States'}, {'@_fa': 'true', 'affiliation-country': 'United States'}]}, {'@_fa': 'true', 'prism:url': 'https://api.elsevier.com/content/abstract/scopus_id/58149234650', 'dc:identifier': 'SCOPUS_ID:58149234650', 'dc:title': 'Periodical indexes on the edge of time', 'prism:doi': '10.5860/crln.69.11.8095', 'affiliation': [{'@_fa': 'true', 'affiliation-country': 'United States'}]}, {'@_fa': 'true', 'prism:url': 'https://api.elsevier.com/content/abstract/scopus_id/58149233822', 'dc:identifier': 'SCOPUS_ID:58149233822', 'dc:title': 'Extend your experience', 'prism:doi': '10.5860/crln.69.11.8097', 'affiliation': [{'@_fa': 'true', 'affiliation-country': 'United States'}, {'@_fa': 'true', 'affiliation-country': 'United States'}, {'@_fa': 'true', 'affiliation-country': 'United States'}]}, {'@_fa': 'true', 'prism:url': 'https://api.elsevier.com/content/abstract/scopus_id/58149217997', 'dc:identifier': 'SCOPUS_ID:58149217997', 'dc:title': 'African American cultural collections and museums', 'prism:doi': '10.5860/crln.69.11.8099', 'affiliation': [{'@_fa': 'true', 'affiliation-country': 'United States'}]}, {'@_fa': 'true', 'prism:url': 'https://api.elsevier.com/content/abstract/scopus_id/58149213799', 'dc:identifier': 'SCOPUS_ID:58149213799', 'dc:title': \"It's not easy being green\", 'prism:doi': '10.5860/crln.69.11.8098', 'affiliation': [{'@_fa': 'true', 'affiliation-country': 'United States'}]}, {'@_fa': 'true', 'prism:url': 'https://api.elsevier.com/content/abstract/scopus_id/57449112639', 'dc:identifier': 'SCOPUS_ID:57449112639', 'dc:title': 'When a librarian enters the classroom: My experiences teaching a freshman experience class', 'prism:doi': '10.5860/crln.69.10.8080', 'affiliation': [{'@_fa': 'true', 'affiliation-country': 'United States'}]}, {'@_fa': 'true', 'prism:url': 'https://api.elsevier.com/content/abstract/scopus_id/57449112416', 'dc:identifier': 'SCOPUS_ID:57449112416', 'dc:title': \"Your cultural fantasy: Seattle's artistic community\", 'prism:doi': '10.5860/crln.69.10.8079', 'affiliation': [{'@_fa': 'true', 'affiliation-country': 'United States'}]}, {'@_fa': 'true', 'prism:url': 'https://api.elsevier.com/content/abstract/scopus_id/57449112007', 'dc:identifier': 'SCOPUS_ID:57449112007', 'dc:title': 'Libraries in the Digital Age: A report from the 2008 conference', 'prism:doi': '10.5860/crln.69.10.8082', 'affiliation': [{'@_fa': 'true', 'affiliation-country': 'United States'}]}, {'@_fa': 'true', 'prism:url': 'https://api.elsevier.com/content/abstract/scopus_id/57449101566', 'dc:identifier': 'SCOPUS_ID:57449101566', 'dc:title': 'Tec(h)tonics: Reimagining preservation', 'prism:doi': '10.5860/crln.69.10.8078', 'affiliation': [{'@_fa': 'true', 'affiliation-country': 'United States'}]}, {'@_fa': 'true', 'prism:url': 'https://api.elsevier.com/content/abstract/scopus_id/57449100758', 'dc:identifier': 'SCOPUS_ID:57449100758', 'dc:title': \"It's time for a second life: Resources dedicated to the virtual world\", 'prism:doi': '10.5860/crln.69.10.8081', 'affiliation': [{'@_fa': 'true', 'affiliation-country': None}]}, {'@_fa': 'true', 'prism:url': 'https://api.elsevier.com/content/abstract/scopus_id/57449097552', 'dc:identifier': 'SCOPUS_ID:57449097552', 'dc:title': 'In the news', 'prism:doi': '10.5860/crln.69.10.8075'}, {'@_fa': 'true', 'prism:url': 'https://api.elsevier.com/content/abstract/scopus_id/57449096642', 'dc:identifier': 'SCOPUS_ID:57449096642', 'dc:title': 'The beauty of \"Some rights reserved\" Introducing Creative Commons to librarians, faculty, and students', 'prism:doi': '10.5860/crln.69.10.8077', 'affiliation': [{'@_fa': 'true', 'affiliation-country': 'United States'}]}, {'@_fa': 'true', 'prism:url': 'https://api.elsevier.com/content/abstract/scopus_id/57449095730', 'dc:identifier': 'SCOPUS_ID:57449095730', 'dc:title': 'RBMS competencies for special collections professionals: Approved by the ACRL Board of Directors, July 2008', 'prism:doi': '10.5860/crln.69.10.8083'}, {'@_fa': 'true', 'prism:url': 'https://api.elsevier.com/content/abstract/scopus_id/57449084080', 'dc:identifier': 'SCOPUS_ID:57449084080', 'dc:title': 'Guidelines on the selection and transfer of materials from general collections to special collections Approved by the ACRL Board of Directors, July 2008', 'prism:doi': '10.5860/crln.69.10.8084'}, {'@_fa': 'true', 'prism:url': 'https://api.elsevier.com/content/abstract/scopus_id/55349148037', 'dc:identifier': 'SCOPUS_ID:55349148037', 'dc:title': 'Standards for distance learning library services', 'prism:doi': '10.5860/crln.69.9.8067'}, {'@_fa': 'true', 'prism:url': 'https://api.elsevier.com/content/abstract/scopus_id/55349142513', 'dc:identifier': 'SCOPUS_ID:55349142513', 'dc:title': 'Our excellent adventure', 'prism:doi': '10.5860/crln.69.9.8066', 'affiliation': [{'@_fa': 'true', 'affiliation-country': 'United States'}]}, {'@_fa': 'true', 'prism:url': 'https://api.elsevier.com/content/abstract/scopus_id/55349127870', 'dc:identifier': 'SCOPUS_ID:55349127870', 'dc:title': 'Jeopardy in the library', 'prism:doi': '10.5860/crln.69.9.8059', 'affiliation': [{'@_fa': 'true', 'affiliation-country': 'United States'}]}, {'@_fa': 'true', 'prism:url': 'https://api.elsevier.com/content/abstract/scopus_id/55349120535', 'dc:identifier': 'SCOPUS_ID:55349120535', 'dc:title': 'Editorial cartoons on the Web', 'prism:doi': '10.5860/crln.69.9.8061', 'affiliation': [{'@_fa': 'true', 'affiliation-country': 'United States'}]}, {'@_fa': 'true', 'prism:url': 'https://api.elsevier.com/content/abstract/scopus_id/55349109304', 'dc:identifier': 'SCOPUS_ID:55349109304', 'dc:title': 'Gaming and learning', 'prism:doi': '10.5860/crln.69.9.8058', 'affiliation': [{'@_fa': 'true', 'affiliation-country': 'United States'}]}, {'@_fa': 'true', 'prism:url': 'https://api.elsevier.com/content/abstract/scopus_id/55349107601', 'dc:identifier': 'SCOPUS_ID:55349107601', 'dc:title': 'Rocky mountain science: Larry Schmidt and the University of Wyoming', 'prism:doi': '10.5860/crln.69.9.8065', 'affiliation': [{'@_fa': 'true', 'affiliation-country': 'United States'}]}, {'@_fa': 'true', 'prism:url': 'https://api.elsevier.com/content/abstract/scopus_id/55349104161', 'dc:identifier': 'SCOPUS_ID:55349104161', 'dc:title': 'Beyond grunge', 'prism:doi': '10.5860/crln.69.9.8060', 'affiliation': [{'@_fa': 'true', 'affiliation-country': 'United States'}, {'@_fa': 'true', 'affiliation-country': 'United States'}]}, {'@_fa': 'true', 'prism:url': 'https://api.elsevier.com/content/abstract/scopus_id/55349100934', 'dc:identifier': 'SCOPUS_ID:55349100934', 'dc:title': 'Organizing the 2008 presidential election', 'prism:doi': '10.5860/crln.69.9.8062', 'affiliation': [{'@_fa': 'true', 'affiliation-country': 'United States'}]}, {'@_fa': 'true', 'prism:url': 'https://api.elsevier.com/content/abstract/scopus_id/53849132728', 'dc:identifier': 'SCOPUS_ID:53849132728', 'dc:title': 'The purposeful advocate', 'prism:doi': '10.5860/crln.69.8.8041', 'affiliation': [{'@_fa': 'true', 'affiliation-country': 'United States'}]}, {'@_fa': 'true', 'prism:url': 'https://api.elsevier.com/content/abstract/scopus_id/53849132727', 'dc:identifier': 'SCOPUS_ID:53849132727', 'dc:title': 'Two years with a tee-ball bat', 'prism:doi': '10.5860/crln.69.8.8045', 'affiliation': [{'@_fa': 'true', 'affiliation-country': 'United States'}, {'@_fa': 'true', 'affiliation-country': None}]}, {'@_fa': 'true', 'prism:url': 'https://api.elsevier.com/content/abstract/scopus_id/53849112315', 'dc:identifier': 'SCOPUS_ID:53849112315', 'dc:title': 'In the news', 'prism:doi': '10.5860/crln.69.8.8037'}, {'@_fa': 'true', 'prism:url': 'https://api.elsevier.com/content/abstract/scopus_id/53849105093', 'dc:identifier': 'SCOPUS_ID:53849105093', 'dc:title': 'Open access and evolving scholarly communication', 'prism:doi': '10.5860/crln.69.8.8047', 'affiliation': [{'@_fa': 'true', 'affiliation-country': 'Canada'}, {'@_fa': 'true', 'affiliation-country': None}]}, {'@_fa': 'true', 'prism:url': 'https://api.elsevier.com/content/abstract/scopus_id/53849100006', 'dc:identifier': 'SCOPUS_ID:53849100006', 'dc:title': 'Introducing Seattle', 'prism:doi': '10.5860/crln.69.8.8046', 'affiliation': [{'@_fa': 'true', 'affiliation-country': 'United States'}, {'@_fa': 'true', 'affiliation-country': 'United States'}]}, {'@_fa': 'true', 'prism:url': 'https://api.elsevier.com/content/abstract/scopus_id/53849098945', 'dc:identifier': 'SCOPUS_ID:53849098945', 'dc:title': 'Taking 2.0 to the faculty', 'prism:doi': '10.5860/crln.69.8.8044', 'affiliation': [{'@_fa': 'true', 'affiliation-country': 'United States'}]}, {'@_fa': 'true', 'prism:url': 'https://api.elsevier.com/content/abstract/scopus_id/53849097722', 'dc:identifier': 'SCOPUS_ID:53849097722', 'dc:title': 'Library orientation for professors', 'prism:doi': '10.5860/crln.69.8.8043', 'affiliation': [{'@_fa': 'true', 'affiliation-country': 'Canada'}]}, {'@_fa': 'true', 'prism:url': 'https://api.elsevier.com/content/abstract/scopus_id/48849113825', 'dc:identifier': 'SCOPUS_ID:48849113825', 'dc:title': 'The issues facing librarians and physicians: Facilitating quality research in the Internet age', 'prism:doi': '10.5860/crln.69.7.8026', 'affiliation': [{'@_fa': 'true', 'affiliation-country': 'United States'}]}, {'@_fa': 'true', 'prism:url': 'https://api.elsevier.com/content/abstract/scopus_id/48849103078', 'dc:identifier': 'SCOPUS_ID:48849103078', 'dc:title': 'Rethinking preprofessional training to improve work quality: Engaging library interns', 'prism:doi': '10.5860/crln.69.7.8024', 'affiliation': [{'@_fa': 'true', 'affiliation-country': 'United States'}]}, {'@_fa': 'true', 'prism:url': 'https://api.elsevier.com/content/abstract/scopus_id/48849102376', 'dc:identifier': 'SCOPUS_ID:48849102376', 'dc:title': 'Two new policies widen the path to balanced copyright management: Developments on author rights', 'prism:doi': '10.5860/crln.69.7.8025', 'affiliation': [{'@_fa': 'true', 'affiliation-country': 'United States'}]}, {'@_fa': 'true', 'prism:url': 'https://api.elsevier.com/content/abstract/scopus_id/48849102036', 'dc:identifier': 'SCOPUS_ID:48849102036', 'dc:title': 'ACRL membership benefits you: Increase your effectiveness, value, and connection to the profession', 'prism:doi': '10.5860/crln.69.7.8029'}, {'@_fa': 'true', 'prism:url': 'https://api.elsevier.com/content/abstract/scopus_id/48849099826', 'dc:identifier': 'SCOPUS_ID:48849099826', 'dc:title': 'The Outreach Symposium: A model of library collaboration', 'prism:doi': '10.5860/crln.69.7.8028', 'affiliation': [{'@_fa': 'true', 'affiliation-country': 'United States'}]}, {'@_fa': 'true', 'prism:url': 'https://api.elsevier.com/content/abstract/scopus_id/48849095986', 'dc:identifier': 'SCOPUS_ID:48849095986', 'dc:title': \"A different kind of fellowship: Joyner Library's SPA fellow program\", 'prism:doi': '10.5860/crln.69.7.8023', 'affiliation': [{'@_fa': 'true', 'affiliation-country': 'United States'}]}, {'@_fa': 'true', 'prism:url': 'https://api.elsevier.com/content/abstract/scopus_id/48849093682', 'dc:identifier': 'SCOPUS_ID:48849093682', 'dc:title': 'Critical research practices at Binghamton University: A case study in collaboration', 'prism:doi': '10.5860/crln.69.7.8020', 'affiliation': [{'@_fa': 'true', 'affiliation-country': 'United States'}]}, {'@_fa': 'true', 'prism:url': 'https://api.elsevier.com/content/abstract/scopus_id/48849092917', 'dc:identifier': 'SCOPUS_ID:48849092917', 'dc:title': 'Bioinformatics: A brief review of resources on the Web', 'prism:doi': '10.5860/crln.69.7.8027', 'affiliation': [{'@_fa': 'true', 'affiliation-country': 'United States'}]}, {'@_fa': 'true', 'prism:url': 'https://api.elsevier.com/content/abstract/scopus_id/48849090538', 'dc:identifier': 'SCOPUS_ID:48849090538', 'dc:title': 'Service learning and engagement in the academic library: Operating out of the box', 'prism:doi': '10.5860/crln.69.7.8021', 'affiliation': [{'@_fa': 'true', 'affiliation-country': 'United States'}]}, {'@_fa': 'true', 'prism:url': 'https://api.elsevier.com/content/abstract/scopus_id/48849087050', 'dc:identifier': 'SCOPUS_ID:48849087050', 'dc:title': \"A cataloger and an archivist: Katherine Ryner and St. Mary's College of Maryland\", 'prism:doi': '10.5860/crln.69.7.8022', 'affiliation': [{'@_fa': 'true', 'affiliation-country': 'United States'}]}, {'@_fa': 'true', 'prism:url': 'https://api.elsevier.com/content/abstract/scopus_id/46749151432', 'dc:identifier': 'SCOPUS_ID:46749151432', 'dc:title': 'A call for sustainable library operations and services', 'prism:doi': '10.5860/crln.69.6.8005', 'affiliation': [{'@_fa': 'true', 'affiliation-country': 'United States'}]}, {'@_fa': 'true', 'prism:url': 'https://api.elsevier.com/content/abstract/scopus_id/46749134378', 'dc:identifier': 'SCOPUS_ID:46749134378', 'dc:title': 'Exposing hidden collections', 'prism:doi': '10.5860/crln.69.6.8003', 'affiliation': [{'@_fa': 'true', 'affiliation-country': 'United States'}]}, {'@_fa': 'true', 'prism:url': 'https://api.elsevier.com/content/abstract/scopus_id/46749127831', 'dc:identifier': 'SCOPUS_ID:46749127831', 'dc:title': 'In the news', 'prism:doi': '10.5860/crln.69.6.7999'}, {'@_fa': 'true', 'prism:url': 'https://api.elsevier.com/content/abstract/scopus_id/46749116071', 'dc:identifier': 'SCOPUS_ID:46749116071', 'dc:title': 'Recruiting and retaining academic research librarians', 'prism:doi': '10.5860/crln.69.6.8002', 'affiliation': [{'@_fa': 'true', 'affiliation-country': 'United States'}, {'@_fa': 'true', 'affiliation-country': 'United States'}]}, {'@_fa': 'true', 'prism:url': 'https://api.elsevier.com/content/abstract/scopus_id/46749114488', 'dc:identifier': 'SCOPUS_ID:46749114488', 'dc:title': 'Newfound press', 'prism:doi': '10.5860/crln.69.6.8008', 'affiliation': [{'@_fa': 'true', 'affiliation-country': 'United States'}]}, {'@_fa': 'true', 'prism:url': 'https://api.elsevier.com/content/abstract/scopus_id/46749097994', 'dc:identifier': 'SCOPUS_ID:46749097994', 'dc:title': 'Making the meeting', 'prism:doi': '10.5860/crln.69.6.8007', 'affiliation': [{'@_fa': 'true', 'affiliation-country': 'United States'}]}, {'@_fa': 'true', 'prism:url': 'https://api.elsevier.com/content/abstract/scopus_id/46749096420', 'dc:identifier': 'SCOPUS_ID:46749096420', 'dc:title': 'Engaging undergraduates in special collections through English composition', 'prism:doi': '10.5860/crln.69.6.8004', 'affiliation': [{'@_fa': 'true', 'affiliation-country': 'United States'}]}, {'@_fa': 'true', 'prism:url': 'https://api.elsevier.com/content/abstract/scopus_id/46749094276', 'dc:identifier': 'SCOPUS_ID:46749094276', 'dc:title': 'Paying faculty to use library resources', 'prism:doi': '10.5860/crln.69.6.8001', 'affiliation': [{'@_fa': 'true', 'affiliation-country': 'United States'}]}, {'@_fa': 'true', 'prism:url': 'https://api.elsevier.com/content/abstract/scopus_id/46749087951', 'dc:identifier': 'SCOPUS_ID:46749087951', 'dc:title': 'Terrorism', 'prism:doi': '10.5860/crln.69.6.8006', 'affiliation': [{'@_fa': 'true', 'affiliation-country': 'United States'}]}, {'@_fa': 'true', 'prism:url': 'https://api.elsevier.com/content/abstract/scopus_id/45949105326', 'dc:identifier': 'SCOPUS_ID:45949105326', 'dc:title': 'Celebrating constitution day: An opportunity to expand our role and increase our value to the campus and to the opportunity', 'prism:doi': '10.5860/crln.69.5.7988', 'affiliation': [{'@_fa': 'true', 'affiliation-country': 'United States'}]}, {'@_fa': 'true', 'prism:url': 'https://api.elsevier.com/content/abstract/scopus_id/45949104259', 'dc:identifier': 'SCOPUS_ID:45949104259', 'dc:title': 'Library budgets, open access, and the future scholarly communication: Transformations in academic publishing', 'prism:doi': '10.5860/crln.69.5.7989', 'affiliation': [{'@_fa': 'true', 'affiliation-country': 'United States'}]}, {'@_fa': 'true', 'prism:url': 'https://api.elsevier.com/content/abstract/scopus_id/45949097590', 'dc:identifier': 'SCOPUS_ID:45949097590', 'dc:title': 'Visual resources online: Digital images of primary materials on public Web sites', 'prism:doi': '10.5860/crln.69.5.7990', 'affiliation': [{'@_fa': 'true', 'affiliation-country': 'United States'}]}, {'@_fa': 'true', 'prism:url': 'https://api.elsevier.com/content/abstract/scopus_id/45949092271', 'dc:identifier': 'SCOPUS_ID:45949092271', 'dc:title': 'Voices of the future. Next generation professionals speak', 'prism:doi': '10.5860/crln.69.5.7986', 'affiliation': [{'@_fa': 'true', 'affiliation-country': 'United States'}]}, {'@_fa': 'true', 'prism:url': 'https://api.elsevier.com/content/abstract/scopus_id/45949084536', 'dc:identifier': 'SCOPUS_ID:45949084536', 'dc:title': 'Clicking your way to library instruction assessment. Using a personal response system at Brigham Young University', 'prism:doi': '10.5860/crln.69.5.7985', 'affiliation': [{'@_fa': 'true', 'affiliation-country': 'United States'}]}, {'@_fa': 'true', 'prism:url': 'https://api.elsevier.com/content/abstract/scopus_id/45949083320', 'dc:identifier': 'SCOPUS_ID:45949083320', 'dc:title': 'Eradicating the rogue assignment. Intervention and prevention', 'prism:doi': '10.5860/crln.69.5.7984', 'affiliation': [{'@_fa': 'true', 'affiliation-country': 'United States'}]}, {'@_fa': 'true', 'prism:url': 'https://api.elsevier.com/content/abstract/scopus_id/43049149069', 'dc:identifier': 'SCOPUS_ID:43049149069', 'dc:title': 'AAAS and JSTOR: Anatomy of a successful initiative', 'prism:doi': '10.5860/crln.69.4.7974', 'affiliation': [{'@_fa': 'true', 'affiliation-country': 'United States'}]}, {'@_fa': 'true', 'prism:url': 'https://api.elsevier.com/content/abstract/scopus_id/43049146219', 'dc:identifier': 'SCOPUS_ID:43049146219', 'dc:title': 'Challenging your students: Using a contest to promote the library', 'prism:doi': '10.5860/crln.69.4.7970', 'affiliation': [{'@_fa': 'true', 'affiliation-country': 'United States'}]}, {'@_fa': 'true', 'prism:url': 'https://api.elsevier.com/content/abstract/scopus_id/43049143914', 'dc:identifier': 'SCOPUS_ID:43049143914', 'dc:title': 'Working from afar: A new trend for librarianship', 'prism:doi': '10.5860/crln.69.4.7972', 'affiliation': [{'@_fa': 'true', 'affiliation-country': 'United States'}]}, {'@_fa': 'true', 'prism:url': 'https://api.elsevier.com/content/abstract/scopus_id/43049114597', 'dc:identifier': 'SCOPUS_ID:43049114597', 'dc:title': 'Trendspotting and microtrends in academic libraries: Working in the new society', 'prism:doi': '10.5860/crln.69.4.7971', 'affiliation': [{'@_fa': 'true', 'affiliation-country': 'United States'}, {'@_fa': 'true', 'affiliation-country': 'United States'}, {'@_fa': 'true', 'affiliation-country': None}]}, {'@_fa': 'true', 'prism:url': 'https://api.elsevier.com/content/abstract/scopus_id/43049109533', 'dc:identifier': 'SCOPUS_ID:43049109533', 'dc:title': 'In the news', 'prism:doi': '10.5860/crln.69.4.7965'}, {'@_fa': 'true', 'prism:url': 'https://api.elsevier.com/content/abstract/scopus_id/43049098573', 'dc:identifier': 'SCOPUS_ID:43049098573', 'dc:title': \"It's a zoo out there: Zoology resources\", 'prism:doi': '10.5860/crln.69.4.7973', 'affiliation': [{'@_fa': 'true', 'affiliation-country': 'United States'}, {'@_fa': 'true', 'affiliation-country': None}]}, {'@_fa': 'true', 'prism:url': 'https://api.elsevier.com/content/abstract/scopus_id/43049097540', 'dc:identifier': 'SCOPUS_ID:43049097540', 'dc:title': 'MLibrary 2.0: Create, share, and network', 'prism:doi': '10.5860/crln.69.4.7968', 'affiliation': [{'@_fa': 'true', 'affiliation-country': 'United States'}, {'@_fa': 'true', 'affiliation-country': None}]}, {'@_fa': 'true', 'prism:url': 'https://api.elsevier.com/content/abstract/scopus_id/43049092672', 'dc:identifier': 'SCOPUS_ID:43049092672', 'dc:title': 'Party photo phenomenon: Students collaborate to promote reference services', 'prism:doi': '10.5860/crln.69.4.7969', 'affiliation': [{'@_fa': 'true', 'affiliation-country': 'United States'}]}, {'@_fa': 'true', 'prism:url': 'https://api.elsevier.com/content/abstract/scopus_id/41549148711', 'dc:identifier': 'SCOPUS_ID:41549148711', 'dc:title': 'Meet the candidates: Vote in the election this spring', 'prism:doi': '10.5860/crln.69.3.7953', 'affiliation': [{'@_fa': 'true', 'affiliation-country': 'United States'}, {'@_fa': 'true', 'affiliation-country': 'United States'}]}, {'@_fa': 'true', 'prism:url': 'https://api.elsevier.com/content/abstract/scopus_id/41549147796', 'dc:identifier': 'SCOPUS_ID:41549147796', 'dc:title': 'Invigorating the academic library experience: Creative programming ideas', 'prism:doi': '10.5860/crln.69.3.7950', 'affiliation': [{'@_fa': 'true', 'affiliation-country': None}]}, {'@_fa': 'true', 'prism:url': 'https://api.elsevier.com/content/abstract/scopus_id/41549147775', 'dc:identifier': 'SCOPUS_ID:41549147775', 'dc:title': 'Global voices, global visions: International radio and television broadcasts via the Web', 'prism:doi': '10.5860/crln.69.3.7955', 'affiliation': [{'@_fa': 'true', 'affiliation-country': 'United States'}]}, {'@_fa': 'true', 'prism:url': 'https://api.elsevier.com/content/abstract/scopus_id/41549131746', 'dc:identifier': 'SCOPUS_ID:41549131746', 'dc:title': 'Vote yes to approve changes to ACRL bylaws', 'prism:doi': '10.5860/crln.69.3.7957'}, {'@_fa': 'true', 'prism:url': 'https://api.elsevier.com/content/abstract/scopus_id/41549113390', 'dc:identifier': 'SCOPUS_ID:41549113390', 'dc:title': 'ETDs, scholarly communication, and campus collaboration: Opportunities for libraries', 'prism:doi': '10.5860/crln.69.3.7952', 'affiliation': [{'@_fa': 'true', 'affiliation-country': 'United States'}, {'@_fa': 'true', 'affiliation-country': 'United States'}]}, {'@_fa': 'true', 'prism:url': 'https://api.elsevier.com/content/abstract/scopus_id/41549101476', 'dc:identifier': 'SCOPUS_ID:41549101476', 'dc:title': 'Promoting partnership: Campus and community collaboration through cultural events', 'prism:doi': '10.5860/crln.69.3.7951', 'affiliation': [{'@_fa': 'true', 'affiliation-country': 'United States'}]}, {'@_fa': 'true', 'prism:url': 'https://api.elsevier.com/content/abstract/scopus_id/41549096424', 'dc:identifier': 'SCOPUS_ID:41549096424', 'dc:title': 'Washington hotline', 'prism:doi': '10.5860/crln.69.3.7958', 'affiliation': [{'@_fa': 'true', 'affiliation-country': 'United States'}]}, {'@_fa': 'true', 'prism:url': 'https://api.elsevier.com/content/abstract/scopus_id/41549086075', 'dc:identifier': 'SCOPUS_ID:41549086075', 'dc:title': 'In the news', 'prism:doi': '10.5860/crln.69.3.7947'}, {'@_fa': 'true', 'prism:url': 'https://api.elsevier.com/content/abstract/scopus_id/40549121293', 'dc:identifier': 'SCOPUS_ID:40549121293', 'dc:title': 'Real world/life rules : The Lafayette College information literacy tour', 'prism:doi': '10.5860/crln.69.2.7934', 'affiliation': [{'@_fa': 'true', 'affiliation-country': 'United States'}]}, {'@_fa': 'true', 'prism:url': 'https://api.elsevier.com/content/abstract/scopus_id/40549109935', 'dc:identifier': 'SCOPUS_ID:40549109935', 'dc:title': \"Promoting faculty success : Ten ways to reinvigorate your library's faculty organization\", 'prism:doi': '10.5860/crln.69.2.7938', 'affiliation': [{'@_fa': 'true', 'affiliation-country': 'United States'}]}, {'@_fa': 'true', 'prism:url': 'https://api.elsevier.com/content/abstract/scopus_id/40549107460', 'dc:identifier': 'SCOPUS_ID:40549107460', 'dc:title': 'Goetsch and Simmons-Welburn share plans for ACRL : Cast an informed vote in the election this spring', 'prism:doi': '10.5860/crln.69.2.7937'}, {'@_fa': 'true', 'prism:url': 'https://api.elsevier.com/content/abstract/scopus_id/40549107459', 'dc:identifier': 'SCOPUS_ID:40549107459', 'dc:title': 'Accounting and auditing resources : Sites for the investor, academic, and practitioner', 'prism:doi': '10.5860/crln.69.2.7939', 'affiliation': [{'@_fa': 'true', 'affiliation-country': 'United States'}]}, {'@_fa': 'true', 'prism:url': 'https://api.elsevier.com/content/abstract/scopus_id/40549107129', 'dc:identifier': 'SCOPUS_ID:40549107129', 'dc:title': 'Embedded librarians: On the road in the deep south', 'prism:doi': '10.5860/crln.69.2.7933', 'affiliation': [{'@_fa': 'true', 'affiliation-country': 'United States'}]}, {'@_fa': 'true', 'prism:url': 'https://api.elsevier.com/content/abstract/scopus_id/40549106127', 'dc:identifier': 'SCOPUS_ID:40549106127', 'dc:title': 'The NIH mandate : An open access landmark', 'prism:doi': '10.5860/crln.69.2.7936', 'affiliation': [{'@_fa': 'true', 'affiliation-country': 'United States'}]}, {'@_fa': 'true', 'prism:url': 'https://api.elsevier.com/content/abstract/scopus_id/40549088553', 'dc:identifier': 'SCOPUS_ID:40549088553', 'dc:title': 'Job of a lifetime : Teaching old dirt new tricks', 'prism:doi': '10.5860/crln.69.2.7935', 'affiliation': [{'@_fa': 'true', 'affiliation-country': 'United States'}]}, {'@_fa': 'true', 'prism:url': 'https://api.elsevier.com/content/abstract/scopus_id/38949205895', 'dc:identifier': 'SCOPUS_ID:38949205895', 'dc:title': 'The \"embedded\" librarian in a freshman speech class', 'prism:doi': '10.5860/crln.69.1.7922', 'affiliation': [{'@_fa': 'true', 'affiliation-country': 'United States'}]}, {'@_fa': 'true', 'prism:url': 'https://api.elsevier.com/content/abstract/scopus_id/38949184543', 'dc:identifier': 'SCOPUS_ID:38949184543', 'dc:title': 'University presses and scholarly communication', 'prism:doi': '10.5860/crln.69.1.7923', 'affiliation': [{'@_fa': 'true', 'affiliation-country': 'United States'}]}, {'@_fa': 'true', 'prism:url': 'https://api.elsevier.com/content/abstract/scopus_id/38949143952', 'dc:identifier': 'SCOPUS_ID:38949143952', 'dc:title': 'Election 2008 resources', 'prism:doi': '10.5860/crln.69.1.7920', 'affiliation': [{'@_fa': 'true', 'affiliation-country': 'United States'}]}, {'@_fa': 'true', 'prism:url': 'https://api.elsevier.com/content/abstract/scopus_id/38949106168', 'dc:identifier': 'SCOPUS_ID:38949106168', 'dc:title': \"Librarians'sport of choice\", 'prism:doi': '10.5860/crln.69.1.7919', 'affiliation': [{'@_fa': 'true', 'affiliation-country': 'United States'}]}]\n"
     ]
    }
   ],
   "source": [
    "print(dictions2[85])"
   ]
  },
  {
   "cell_type": "code",
   "execution_count": 10,
   "metadata": {},
   "outputs": [],
   "source": [
    "with open('test_3.json', 'w') as out:\n",
    "        json.dump(dictions2, out)"
   ]
  },
  {
   "cell_type": "code",
   "execution_count": 18,
   "metadata": {},
   "outputs": [],
   "source": [
    "with open('missing_journ_2.json','w') as file:\n",
    "    for i in dictions2:\n",
    "        json.dump(i,file)"
   ]
  },
  {
   "cell_type": "code",
   "execution_count": null,
   "metadata": {},
   "outputs": [],
   "source": []
  }
 ],
 "metadata": {
  "kernelspec": {
   "display_name": "Python 3",
   "language": "python",
   "name": "python3"
  },
  "language_info": {
   "codemirror_mode": {
    "name": "ipython",
    "version": 3
   },
   "file_extension": ".py",
   "mimetype": "text/x-python",
   "name": "python",
   "nbconvert_exporter": "python",
   "pygments_lexer": "ipython3",
   "version": "3.7.4"
  }
 },
 "nbformat": 4,
 "nbformat_minor": 2
}
