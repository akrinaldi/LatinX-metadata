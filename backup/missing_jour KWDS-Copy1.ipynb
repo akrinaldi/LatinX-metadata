{
 "cells": [
  {
   "cell_type": "code",
   "execution_count": 1,
   "metadata": {},
   "outputs": [],
   "source": [
    "import json\n",
    "import pandas as pd"
   ]
  },
  {
   "cell_type": "code",
   "execution_count": 2,
   "metadata": {},
   "outputs": [],
   "source": [
    "full_json = pd.read_json(\"C:/Users/abbyk/Untitled Folder/wild_82.json\")"
   ]
  },
  {
   "cell_type": "code",
   "execution_count": 3,
   "metadata": {},
   "outputs": [],
   "source": [
    "a_df = pd.DataFrame(full_json, columns = ['prism:doi','authkeywords','dc:title'])"
   ]
  },
  {
   "cell_type": "code",
   "execution_count": 52,
   "metadata": {},
   "outputs": [],
   "source": [
    "json_dict = a_df.to_dict()"
   ]
  },
  {
   "cell_type": "code",
   "execution_count": 5,
   "metadata": {},
   "outputs": [],
   "source": [
    "booop = []\n",
    "beeg = []\n",
    "\n",
    "for key, value in json_dict.items():\n",
    "    if type(value) != float:\n",
    "        beeg.append(key)\n",
    "        booop.append(value)"
   ]
  },
  {
   "cell_type": "code",
   "execution_count": 4,
   "metadata": {},
   "outputs": [],
   "source": [
    "value_list = []\n",
    "key_list = []\n",
    "keywords_list = []\n",
    "\n",
    "#for key in a_df[\"dc:identifier\"]:\n",
    " #   for value in a_df[\"authkeywords\"]:\n",
    "  #      if type(value) != float:\n",
    "   #         value_list.append(value.split(\" | \"))    \n",
    "        "
   ]
  },
  {
   "cell_type": "code",
   "execution_count": 5,
   "metadata": {},
   "outputs": [],
   "source": [
    "for ind in a_df.index:\n",
    "    key=a_df[\"prism:doi\"][ind]\n",
    "    value1=a_df[\"dc:title\"][ind]\n",
    "    value2=a_df[\"authkeywords\"][ind]\n",
    "    if type(value2) != float:\n",
    "        boop = value2.split(\" | \")\n",
    "        keywords_list.append(boop)\n",
    "        key_list.append(key)\n",
    "        if type(value1) != float:\n",
    "            value_list.append(value1)\n",
    "        else:\n",
    "            value_list.append(\"NULL\")\n",
    "    else:\n",
    "        keywords_list.append(\"NULL\")\n",
    "        key_list.append(key)\n",
    "        if type(value1) != float:\n",
    "            value_list.append(value1)\n",
    "        else:\n",
    "            value_list.append(\"NULL\")"
   ]
  },
  {
   "cell_type": "code",
   "execution_count": 23,
   "metadata": {},
   "outputs": [],
   "source": [
    "for ind in a_df.index:\n",
    "    key=a_df[\"DOI\"][ind]\n",
    "    value=a_df[\"authkeywords\"][ind]\n",
    "    \n",
    "    if type(value) != float:\n",
    "        boop = value.split(\" | \")\n",
    "        keywords_list.append(boop)\n",
    "        Keys_list.append(key)\n",
    "    else:\n",
    "        keywords_list.append(\"NULL\")\n",
    "        Keys_list.append(key)"
   ]
  },
  {
   "cell_type": "code",
   "execution_count": 6,
   "metadata": {},
   "outputs": [],
   "source": [
    "empty_df = pd.DataFrame()"
   ]
  },
  {
   "cell_type": "code",
   "execution_count": 7,
   "metadata": {},
   "outputs": [],
   "source": [
    "empty_df[\"DOI\"] = key_list"
   ]
  },
  {
   "cell_type": "code",
   "execution_count": 8,
   "metadata": {},
   "outputs": [],
   "source": [
    "empty_df[\"titles\"] = value_list"
   ]
  },
  {
   "cell_type": "code",
   "execution_count": 9,
   "metadata": {},
   "outputs": [],
   "source": [
    "empty_df[\"keywords\"] = keywords_list"
   ]
  },
  {
   "cell_type": "code",
   "execution_count": 10,
   "metadata": {},
   "outputs": [
    {
     "name": "stdout",
     "output_type": "stream",
     "text": [
      "                          DOI  \\\n",
      "0          10.15359/RB.37-2.1   \n",
      "1                         NaN   \n",
      "2                         NaN   \n",
      "3                         NaN   \n",
      "4                         NaN   \n",
      "...                       ...   \n",
      "57260  10.1484/J.IMA.5.119426   \n",
      "57261  10.1484/J.IMA.5.119423   \n",
      "57262  10.1484/J.IMA.5.119425   \n",
      "57263  10.1484/J.IMA.5.119424   \n",
      "57264                     NaN   \n",
      "\n",
      "                                                  titles  \\\n",
      "0      The University library \"Antonio Machado Ruiz\" ...   \n",
      "1      The right to information and the right of info...   \n",
      "2      Relational dimension of social capital in publ...   \n",
      "3      Diagnosis of information literacy skills of pr...   \n",
      "4      Unravelling the basic concepts and intents of ...   \n",
      "...                                                  ...   \n",
      "57260  What is a prehumanist?The cases of godevaert d...   \n",
      "57261  La bibliothÈque royale de belgique, ses double...   \n",
      "57262  Adventures and errors concerning ms 4659 of th...   \n",
      "57263  The campaign medals of Don Juan van Halen, Bel...   \n",
      "57264                                               NULL   \n",
      "\n",
      "                                                keywords  \n",
      "0      [Educational process, Forestry career, Univers...  \n",
      "1      [Accountability, Right of Access to Informatio...  \n",
      "2      [Community development, Public library, Relati...  \n",
      "3      [Education or user training, Information liter...  \n",
      "4      [Conspiracy Theory, Disinformation, Fake news,...  \n",
      "...                                                  ...  \n",
      "57260                                               NULL  \n",
      "57261                                               NULL  \n",
      "57262                                               NULL  \n",
      "57263                                               NULL  \n",
      "57264                                               NULL  \n",
      "\n",
      "[57265 rows x 3 columns]\n"
     ]
    }
   ],
   "source": [
    "print(empty_df)"
   ]
  },
  {
   "cell_type": "code",
   "execution_count": 11,
   "metadata": {},
   "outputs": [],
   "source": [
    "a_df.rename(columns={'prism:doi': 'DOI'}, inplace=True)"
   ]
  },
  {
   "cell_type": "code",
   "execution_count": 12,
   "metadata": {},
   "outputs": [],
   "source": [
    "a_df.rename(columns={'dc:title': 'titles'}, inplace=True)"
   ]
  },
  {
   "cell_type": "code",
   "execution_count": 13,
   "metadata": {},
   "outputs": [],
   "source": [
    "pairs_dict = pd.Series(empty_df.titles.values,index=a_df.DOI).to_dict()"
   ]
  },
  {
   "cell_type": "code",
   "execution_count": 14,
   "metadata": {},
   "outputs": [],
   "source": [
    "also_pairs_dict = pd.Series(empty_df.keywords.values,index=a_df.DOI).to_dict()"
   ]
  },
  {
   "cell_type": "code",
   "execution_count": null,
   "metadata": {},
   "outputs": [],
   "source": []
  },
  {
   "cell_type": "code",
   "execution_count": null,
   "metadata": {},
   "outputs": [],
   "source": []
  },
  {
   "cell_type": "code",
   "execution_count": 15,
   "metadata": {},
   "outputs": [],
   "source": [
    "keywords_data = pd.read_csv(\"C:/Users/abbyk/Downloads/keys.csv\")"
   ]
  },
  {
   "cell_type": "code",
   "execution_count": 16,
   "metadata": {},
   "outputs": [],
   "source": [
    "kw_list = []\n",
    "\n",
    "for i in keywords_data[\"Word\"]:\n",
    "    kw_list.append(i)"
   ]
  },
  {
   "cell_type": "code",
   "execution_count": 17,
   "metadata": {},
   "outputs": [
    {
     "name": "stdout",
     "output_type": "stream",
     "text": [
      "['Argentinian Americans', 'Belizean Americans', 'Chicano Americans', 'Latino Americans', 'Latine', 'Bolivian Americans', 'Boricuas', 'Brazilian Americans', 'Chilean Americans', 'Colombian Americans', 'Costa Rican Americans', 'Costarisences', 'Cuban Americans', 'Dominican Americans', 'Ecuadorian Americans', 'Afro-Hispanics', 'Afro-Latinos', 'Guatemalan Americans', 'Hispanic Americans', 'Hispanos', 'Honduran Americans', 'Mejicano', 'Mexican Americans', 'Nicaraguan Americans', 'Panamanean Americans', 'Paraguayan Americans', 'Peruvian Americans', 'Puerto Rican Americans', 'Salvadoran Americans', 'Tejano', 'Uruguayan Americans', 'Venezuelan Americans', 'Argentinians', 'Belizeans', 'Chicanos', 'Latin Americans', 'Chicanas', 'Bolivians', 'Chicanx', 'Brazilians', 'Chileans', 'Colombians', 'Costa Ricans', 'Latinos', 'Cubans', 'Dominicans', 'Ecuadorians', 'Latinas', 'Afro-Latinas', 'Guatemalans', 'Hispanics', 'Latinx', 'Hondurans', 'Mexicano', 'Mexicans', 'Nicaraguans', 'Panamaneans', 'Paraguayans', 'Peruvians', 'Puerto Ricans', 'Salvadorans', 'Texano', 'Uruguayans', 'Venezuelans', 'Argentinos', 'Belizeanos', 'Bolivianos', 'Puerto Ricans', 'Brasileños', 'Chilenos', 'Colombianos', 'Costarricences', 'Costarricences', 'Cubanos', 'Dominicanos', 'Ecuatorianos', 'Guatemaltecos', 'Mexican Americans', 'Hondureños', 'Nicaragüenses', 'Panameños', 'Paraguayos', 'Peruanos', 'Puertorriqueños', 'Salvadoreños', 'Uruguayos', 'Venezolanos', 'latinx', 'latina', 'latino', 'latine', 'hispanic', 'hispanos']\n"
     ]
    }
   ],
   "source": [
    "print(kw_list)"
   ]
  },
  {
   "cell_type": "code",
   "execution_count": 18,
   "metadata": {},
   "outputs": [],
   "source": [
    "IDs = []"
   ]
  },
  {
   "cell_type": "code",
   "execution_count": 19,
   "metadata": {},
   "outputs": [],
   "source": [
    "for key,values in pairs_dict.items():\n",
    "    for i in kw_list:\n",
    "        if i in values:\n",
    "            IDs.append(key)"
   ]
  },
  {
   "cell_type": "code",
   "execution_count": 20,
   "metadata": {},
   "outputs": [
    {
     "name": "stdout",
     "output_type": "stream",
     "text": [
      "['10.1093/library/s6-I.2.164', '10.1086/699268', '10.1080/01616846.2018.1528573', '10.1300/J025v07n01_12', '10.1300/J025v09n01_02', '10.1300/J025v13n01_09', '10.1080/07380560802157766', '10.1300/J136v02n04_03']\n"
     ]
    }
   ],
   "source": [
    "print(IDs)"
   ]
  },
  {
   "cell_type": "code",
   "execution_count": 21,
   "metadata": {},
   "outputs": [
    {
     "name": "stdout",
     "output_type": "stream",
     "text": [
      "Five French platinas\n",
      "latina\n",
      "10.1093/library/s6-I.2.164\n",
      "Immigrant rights advocacy as records literacy in Latinx communities\n",
      "Latinx\n",
      "10.1086/699268\n",
      "Creating Personas on Which to Build Services for Latinx Users: A Proof of Concept\n",
      "Latinx\n",
      "10.1080/01616846.2018.1528573\n",
      "Computer access for hispanic secondary students\n",
      "hispanic\n",
      "10.1300/J025v07n01_12\n",
      "Technology and minorities: A local program aimed at increasing technological capabilities of hispanic women\n",
      "hispanic\n",
      "10.1300/J025v09n01_02\n",
      "Multicultural mathematics and technology: The hispanic math project\n",
      "hispanic\n",
      "10.1300/J025v13n01_09\n",
      "Predictors of hispanic school teachers' self-efficacy in the pedagogical uses of technology\n",
      "hispanic\n",
      "10.1080/07380560802157766\n",
      "Designing internet instruction for latinos\n",
      "latino\n",
      "10.1300/J136v02n04_03\n"
     ]
    }
   ],
   "source": [
    "for key,values in pairs_dict.items():\n",
    "    for i in kw_list:\n",
    "        if i in values:\n",
    "            print(values)\n",
    "            print(i)\n",
    "            print(key)"
   ]
  },
  {
   "cell_type": "code",
   "execution_count": 20,
   "metadata": {},
   "outputs": [],
   "source": [
    "just_ID = {x.replace('SCOPUS_ID:', '') for x in IDs}"
   ]
  },
  {
   "cell_type": "code",
   "execution_count": 21,
   "metadata": {},
   "outputs": [
    {
     "name": "stdout",
     "output_type": "stream",
     "text": [
      "{'10.1300/J115v21n01_03', '10.1016/s0187-358x(14)70913-x', '10.1080/10810730.2011.585695', '10.1080/10810730.2015.1018596', '10.1080/10810730.2012.727962', '10.1080/10810730.2012.688248', '10.1080/10810730.2020.1833385', '10.1080/10810730.2016.1242670', '10.5195/biblios.2016.290', '10.1080/10810730903460526', '10.1590/S1413-99362010000300008', '10.22381/KC6220189', '10.1080/10810730.2013.811325', '10.1080/10810730.2010.522697', '10.1080/10810730.2011.561910', '10.3163/1536-5050.96.2.101', '10.1080/10810730903089606', '10.1080/10810730701807142', '10.1080/10810730.2012.712621', '10.22201/iibi.24488321xe.2020.85.58234', '10.1080/10810730.2021.1927258', '10.5195/jmla.2021.1295', '10.14195/2182-7974_34_1_3', '10.1080/10810730903032952', '10.1080/10810730.2016.1240266', '10.15388/KNYGOTYRA.2021.77.88', '10.1080/10810730.2011.635767', '10.1080/10810730.2010.546483', '10.1080/108107399127075', '10.1080/10810730701438690', '10.1080/10810730600934542', '10.3163/1536-5050.97.2.008', '10.1080/10810731003753133', '10.1080/10810730.2013.829135', '10.1080/10810730.2010.529492', '10.1080/10810730.2016.1275890', '10.1080/10810730.2013.778362', '10.1590/1981-5344/4343', '10.1177/0894439313497469', '10.1016/j.ibbai.2016.10.021', '10.1080/10810730.2011.635766', '10.1080/10810730.2015.1131777', '10.1080/10810730.2013.768723', '10.1080/10810730.2018.1500661', '10.1590/1981-5344/3900'}\n"
     ]
    }
   ],
   "source": [
    "print(just_ID)"
   ]
  },
  {
   "cell_type": "code",
   "execution_count": 22,
   "metadata": {},
   "outputs": [],
   "source": [
    "key_IDS = []\n",
    "\n",
    "for key,values in also_pairs_dict.items():\n",
    "    for i in kw_list:\n",
    "        for value in values:\n",
    "            if i in value:\n",
    "                key_IDS.append(key)"
   ]
  },
  {
   "cell_type": "code",
   "execution_count": 23,
   "metadata": {},
   "outputs": [
    {
     "name": "stdout",
     "output_type": "stream",
     "text": [
      "['10.1080/01616846.2018.1528573', '10.1300/J136v02n04_03', '10.1300/J136v02n04_03', '10.1080/1369118X.2011.562222', '10.1080/1369118X.2021.1874480']\n"
     ]
    }
   ],
   "source": [
    "print(key_IDS)"
   ]
  },
  {
   "cell_type": "code",
   "execution_count": 24,
   "metadata": {},
   "outputs": [],
   "source": [
    "full_DOI_list = key_IDS + IDs"
   ]
  },
  {
   "cell_type": "code",
   "execution_count": 25,
   "metadata": {},
   "outputs": [
    {
     "name": "stdout",
     "output_type": "stream",
     "text": [
      "['10.1080/01616846.2018.1528573', '10.1300/J136v02n04_03', '10.1300/J136v02n04_03', '10.1080/1369118X.2011.562222', '10.1080/1369118X.2021.1874480', '10.1093/library/s6-I.2.164', '10.1086/699268', '10.1080/01616846.2018.1528573', '10.1300/J025v07n01_12', '10.1300/J025v09n01_02', '10.1300/J025v13n01_09', '10.1080/07380560802157766', '10.1300/J136v02n04_03']\n"
     ]
    }
   ],
   "source": [
    "print(full_DOI_list)"
   ]
  },
  {
   "cell_type": "code",
   "execution_count": null,
   "metadata": {},
   "outputs": [],
   "source": []
  }
 ],
 "metadata": {
  "kernelspec": {
   "display_name": "Python 3",
   "language": "python",
   "name": "python3"
  },
  "language_info": {
   "codemirror_mode": {
    "name": "ipython",
    "version": 3
   },
   "file_extension": ".py",
   "mimetype": "text/x-python",
   "name": "python",
   "nbconvert_exporter": "python",
   "pygments_lexer": "ipython3",
   "version": "3.7.4"
  }
 },
 "nbformat": 4,
 "nbformat_minor": 2
}
