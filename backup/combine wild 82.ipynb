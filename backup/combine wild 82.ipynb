{
 "cells": [
  {
   "cell_type": "code",
   "execution_count": 1,
   "metadata": {},
   "outputs": [],
   "source": [
    "import json\n",
    "import glob"
   ]
  },
  {
   "cell_type": "code",
   "execution_count": 2,
   "metadata": {},
   "outputs": [],
   "source": [
    "file_path = \"C:/Users/abbyk/Untitled Folder/LatinxMeta/outputs6/*/*\""
   ]
  },
  {
   "cell_type": "code",
   "execution_count": 3,
   "metadata": {},
   "outputs": [],
   "source": [
    "raw_outputs = glob.glob(file_path)\n",
    "empty = []\n",
    "\n",
    "for i in raw_outputs:\n",
    "    with open(i, \"rb\") as diction1:\n",
    "        empty.append(json.load(diction1))"
   ]
  },
  {
   "cell_type": "code",
   "execution_count": 4,
   "metadata": {},
   "outputs": [],
   "source": [
    "value_list = []\n",
    "\n",
    "for i in empty:\n",
    "    for key, value in i.items():\n",
    "        value_list.append(value)"
   ]
  },
  {
   "cell_type": "code",
   "execution_count": 5,
   "metadata": {},
   "outputs": [
    {
     "name": "stdout",
     "output_type": "stream",
     "text": [
      "{'opensearch:totalResults': '28', 'opensearch:startIndex': '0', 'opensearch:itemsPerPage': '28', 'opensearch:Query': {'@role': 'request', '@searchTerms': 'issn(0006176X)', '@startPage': '0'}, 'link': [{'@_fa': 'true', '@ref': 'self', '@href': 'https://api.elsevier.com/content/search/scopus?start=0&count=200&query=issn%280006176X%29&date=2019&httpAccept=application/json&apiKey=ad4e12568b69167a2d25213b52923901&insttoken=0363e8707601cf3e7f27138d2b25f9e4', '@type': 'application/json'}, {'@_fa': 'true', '@ref': 'first', '@href': 'https://api.elsevier.com/content/search/scopus?start=0&count=200&query=issn%280006176X%29&date=2019&httpAccept=application/json&apiKey=ad4e12568b69167a2d25213b52923901&insttoken=0363e8707601cf3e7f27138d2b25f9e4', '@type': 'application/json'}], 'entry': [{'@_fa': 'true', 'prism:url': 'https://api.elsevier.com/content/abstract/scopus_id/85116588106', 'dc:identifier': 'SCOPUS_ID:85116588106', 'dc:title': 'The University library \"Antonio Machado Ruiz\" and its support for the teaching and educational process in the forestry career at the university of Granma, Cuba', 'prism:doi': '10.15359/RB.37-2.1', 'affiliation': [{'@_fa': 'true', 'affiliation-country': 'Cuba'}, {'@_fa': 'true', 'affiliation-country': 'Cuba'}], 'authkeywords': 'Educational process | Forestry career | University library'}, {'@_fa': 'true', 'prism:url': 'https://api.elsevier.com/content/abstract/scopus_id/85104660771', 'dc:identifier': 'SCOPUS_ID:85104660771', 'dc:title': 'The right to information and the right of information', 'affiliation': [{'@_fa': 'true', 'affiliation-country': 'Mexico'}], 'authkeywords': 'Accountability | Right of Access to Information | Right of Information | Right to information | Transparency'}, {'@_fa': 'true', 'prism:url': 'https://api.elsevier.com/content/abstract/scopus_id/85078199078', 'dc:identifier': 'SCOPUS_ID:85078199078', 'dc:title': 'Relational dimension of social capital in public libraries: A case study', 'affiliation': [{'@_fa': 'true', 'affiliation-country': 'Cuba'}], 'authkeywords': 'Community development | Public library | Relational dimension | Social capital'}, {'@_fa': 'true', 'prism:url': 'https://api.elsevier.com/content/abstract/scopus_id/85078193116', 'dc:identifier': 'SCOPUS_ID:85078193116', 'dc:title': 'Diagnosis of information literacy skills of professionals from the National Library of Cuba', 'affiliation': [{'@_fa': 'true', 'affiliation-country': 'Cuba'}, {'@_fa': 'true', 'affiliation-country': 'Cuba'}], 'authkeywords': 'Education or user training | Information literacy | Informational competence | Library personnel | National library'}, {'@_fa': 'true', 'prism:url': 'https://api.elsevier.com/content/abstract/scopus_id/85078192829', 'dc:identifier': 'SCOPUS_ID:85078192829', 'dc:title': 'Unravelling the basic concepts and intents of misbehavior in post-truth society', 'affiliation': [{'@_fa': 'true', 'affiliation-country': 'Slovakia'}, {'@_fa': 'true', 'affiliation-country': 'Slovakia'}], 'authkeywords': 'Conspiracy Theory | Disinformation | Fake news | Hoax | Misbehavior | Misinformation | Post-truth | Propaganda | Rumor'}, {'@_fa': 'true', 'prism:url': 'https://api.elsevier.com/content/abstract/scopus_id/85078190135', 'dc:identifier': 'SCOPUS_ID:85078190135', 'dc:title': \"Notes on Suzanne Briet and her “Qu'est-ce que la documentation?”\", 'affiliation': [{'@_fa': 'true', 'affiliation-country': 'Cuba'}], 'authkeywords': 'Documentation | Suzanne Briet | Theory'}, {'@_fa': 'true', 'prism:url': 'https://api.elsevier.com/content/abstract/scopus_id/85078186275', 'dc:identifier': 'SCOPUS_ID:85078186275', 'dc:title': 'Critical spaces of social responsibility for Digital Humanities', 'affiliation': [{'@_fa': 'true', 'affiliation-country': 'Cuba'}], 'authkeywords': 'Digital Humanities | Humanitud | Information Sciences | Social Responsibility'}, {'@_fa': 'true', 'prism:url': 'https://api.elsevier.com/content/abstract/scopus_id/85078170810', 'dc:identifier': 'SCOPUS_ID:85078170810', 'dc:title': 'Undergraduate research: Evaluation of its quality through theses', 'affiliation': [{'@_fa': 'true', 'affiliation-country': 'Cuba'}], 'authkeywords': 'Bibliometric indicators | Information sciences | Quality of research | Research methodology | Thesis'}, {'@_fa': 'true', 'prism:url': 'https://api.elsevier.com/content/abstract/scopus_id/85078165701', 'dc:identifier': 'SCOPUS_ID:85078165701', 'dc:title': 'Information literacy, bastion in the post-truth era', 'affiliation': [{'@_fa': 'true', 'affiliation-country': 'Mexico'}], 'authkeywords': 'Fake news | Information literacy | Post-truth | Social networks'}, {'@_fa': 'true', 'prism:url': 'https://api.elsevier.com/content/abstract/scopus_id/85078165356', 'dc:identifier': 'SCOPUS_ID:85078165356', 'dc:title': 'Research on archival science, library science and information science in Colombia: 2007-2017', 'affiliation': [{'@_fa': 'true', 'affiliation-country': 'Colombia'}, {'@_fa': 'true', 'affiliation-country': 'Colombia'}], 'authkeywords': 'Archival science | Colombia | Information science | Library science'}, {'@_fa': 'true', 'prism:url': 'https://api.elsevier.com/content/abstract/scopus_id/85078157372', 'dc:identifier': 'SCOPUS_ID:85078157372', 'dc:title': 'Approach to the Social Epistemology as theoretical project for Library Science', 'affiliation': [{'@_fa': 'true', 'affiliation-country': 'Cuba'}], 'authkeywords': 'Jesse Shera | Library Science | Margaret Egan | Social Epistemolgy'}, {'@_fa': 'true', 'prism:url': 'https://api.elsevier.com/content/abstract/scopus_id/85078134614', 'dc:identifier': 'SCOPUS_ID:85078134614', 'dc:title': 'Web 2.0 in the Nordic libraries', 'affiliation': [{'@_fa': 'true', 'affiliation-country': 'Spain'}], 'authkeywords': 'Communication | Dissemination of contents | Nordic libraries | Social networks | Use of social networks'}, {'@_fa': 'true', 'prism:url': 'https://api.elsevier.com/content/abstract/scopus_id/85078130339', 'dc:identifier': 'SCOPUS_ID:85078130339', 'dc:title': 'Information system: Conceptual and methodological approach', 'affiliation': [{'@_fa': 'true', 'affiliation-country': 'Portugal'}, {'@_fa': 'true', 'affiliation-country': 'Spain'}], 'authkeywords': 'General Systems Theory | Information Science | Information System | Technological Information System'}, {'@_fa': 'true', 'prism:url': 'https://api.elsevier.com/content/abstract/scopus_id/85078126217', 'dc:identifier': 'SCOPUS_ID:85078126217', 'dc:title': 'Written information and the iconic representation of death in art', 'affiliation': [{'@_fa': 'true', 'affiliation-country': 'Spain'}], 'authkeywords': 'Art | Information sciences | Representation of death | Written information'}, {'@_fa': 'true', 'prism:url': 'https://api.elsevier.com/content/abstract/scopus_id/85078116952', 'dc:identifier': 'SCOPUS_ID:85078116952', 'dc:title': 'Professional perspectives in cloud computing environments', 'affiliation': [{'@_fa': 'true', 'affiliation-country': 'Cuba'}, {'@_fa': 'true', 'affiliation-country': 'Spain'}], 'authkeywords': 'Cloud Computing | Cloud storage | Information competence | Records management'}, {'@_fa': 'true', 'prism:url': 'https://api.elsevier.com/content/abstract/scopus_id/85078114930', 'dc:identifier': 'SCOPUS_ID:85078114930', 'dc:title': 'Information science in Uruguay (2013-2017): Research lines and academic output', 'affiliation': [{'@_fa': 'true', 'affiliation-country': 'Uruguay'}], 'authkeywords': 'Academic output | Information Science | Research lines | Uruguay'}, {'@_fa': 'true', 'prism:url': 'https://api.elsevier.com/content/abstract/scopus_id/85078113110', 'dc:identifier': 'SCOPUS_ID:85078113110', 'dc:title': 'Application and improvement of graph analysis in financial intelligence reports', 'affiliation': [{'@_fa': 'true', 'affiliation-country': 'Brazil'}, {'@_fa': 'true', 'affiliation-country': 'Brazil'}], 'authkeywords': 'Graphs | Interposed People | Money laundry'}, {'@_fa': 'true', 'prism:url': 'https://api.elsevier.com/content/abstract/scopus_id/85078111629', 'dc:identifier': 'SCOPUS_ID:85078111629', 'dc:title': 'Traditional, digital, on-demand and self-surfaced print publishing. Four models of book publishing requiring different evaluations', 'affiliation': [{'@_fa': 'true', 'affiliation-country': 'Spain'}]}, {'@_fa': 'true', 'prism:url': 'https://api.elsevier.com/content/abstract/scopus_id/85078109829', 'dc:identifier': 'SCOPUS_ID:85078109829', 'dc:title': 'Cuban research in Information Sciences: The case of postgraduate studies (2008-2018)', 'affiliation': [{'@_fa': 'true', 'affiliation-country': 'Cuba'}], 'authkeywords': 'Bibliometrics | Cuba | Information Sciences | Postgraduate research | Thesis'}, {'@_fa': 'true', 'prism:url': 'https://api.elsevier.com/content/abstract/scopus_id/85078104383', 'dc:identifier': 'SCOPUS_ID:85078104383', 'dc:title': 'Citation networks of Ibero-American journals of Library and Information Science in Scopus', 'affiliation': [{'@_fa': 'true', 'affiliation-country': 'Cuba'}], 'authkeywords': 'Co-citation networks | Ibero-America | Journal mapping | Library and Information Science | Social network analysis'}, {'@_fa': 'true', 'prism:url': 'https://api.elsevier.com/content/abstract/scopus_id/85078103677', 'dc:identifier': 'SCOPUS_ID:85078103677', 'dc:title': 'Towards an Ibero-American informational thinking', 'affiliation': [{'@_fa': 'true', 'affiliation-country': 'Brazil'}, {'@_fa': 'true', 'affiliation-country': 'Cuba'}]}, {'@_fa': 'true', 'prism:url': 'https://api.elsevier.com/content/abstract/scopus_id/85078100298', 'dc:identifier': 'SCOPUS_ID:85078100298', 'dc:title': 'Domain analysis on risks and climate in Web of Science', 'affiliation': [{'@_fa': 'true', 'affiliation-country': 'Cuba'}, {'@_fa': 'true', 'affiliation-country': 'Cuba'}, {'@_fa': 'true', 'affiliation-country': 'Cuba'}], 'authkeywords': 'Bibliometrics | Climate | Domain analysis | Risks | Web of Science'}, {'@_fa': 'true', 'prism:url': 'https://api.elsevier.com/content/abstract/scopus_id/85078090812', 'dc:identifier': 'SCOPUS_ID:85078090812', 'dc:title': 'The information science in Brazil: Research mapping and institutional outlook', 'affiliation': [{'@_fa': 'true', 'affiliation-country': 'Brazil'}, {'@_fa': 'true', 'affiliation-country': 'Brazil'}], 'authkeywords': 'Brazil | Information Science | Scientific Associations | State of Art'}, {'@_fa': 'true', 'prism:url': 'https://api.elsevier.com/content/abstract/scopus_id/85078087149', 'dc:identifier': 'SCOPUS_ID:85078087149', 'dc:title': 'Knowledge audit oriented to the main process and human capital. A case study in the National Library of Cuba', 'affiliation': [{'@_fa': 'true', 'affiliation-country': 'Cuba'}, {'@_fa': 'true', 'affiliation-country': 'Cuba'}], 'authkeywords': 'Automation | Human capital | Knowledge audit | Knowledge management | National library | Strategic processes | Technical processes'}, {'@_fa': 'true', 'prism:url': 'https://api.elsevier.com/content/abstract/scopus_id/85076524336', 'dc:identifier': 'SCOPUS_ID:85076524336', 'dc:title': 'Publication trends of the journal Cuba (1962-1969): A bibliometric analysis', 'affiliation': [{'@_fa': 'true', 'affiliation-country': 'Cuba'}], 'authkeywords': '1960s | Bibliometrics | Cuban journals | Journal Cuba'}, {'@_fa': 'true', 'prism:url': 'https://api.elsevier.com/content/abstract/scopus_id/85074650664', 'dc:identifier': 'SCOPUS_ID:85074650664', 'dc:title': 'Research on library and information science in Peru: A state of art', 'affiliation': [{'@_fa': 'true', 'affiliation-country': 'Peru'}], 'authkeywords': 'Information sciences: State of the art | Librarianship | Research'}, {'@_fa': 'true', 'prism:url': 'https://api.elsevier.com/content/abstract/scopus_id/85073410493', 'dc:identifier': 'SCOPUS_ID:85073410493', 'dc:title': 'Information Science in Portugal in the first decades of the 21st century: A preliminary approach to an Ibero-American cartography', 'affiliation': [{'@_fa': 'true', 'affiliation-country': 'Portugal'}, {'@_fa': 'true', 'affiliation-country': 'Portugal'}], 'authkeywords': 'Higher education | Information Science | PhD thesis | Portugal | Scientific journals | Thematic analysis'}, {'@_fa': 'true', 'prism:url': 'https://api.elsevier.com/content/abstract/scopus_id/85073257174', 'dc:identifier': 'SCOPUS_ID:85073257174', 'dc:title': 'Impact of emerging Library and Information Science journals on the Web of Science (2017)', 'affiliation': [{'@_fa': 'true', 'affiliation-country': 'Spain'}], 'authkeywords': 'Emerging Source Citation Index | Impact Factor | Information Science | Library | Scientific Journals | Web of Science'}]}\n"
     ]
    }
   ],
   "source": [
    "print(value_list[0])"
   ]
  },
  {
   "cell_type": "code",
   "execution_count": 6,
   "metadata": {},
   "outputs": [],
   "source": [
    "dictions2 = []"
   ]
  },
  {
   "cell_type": "code",
   "execution_count": 7,
   "metadata": {},
   "outputs": [],
   "source": [
    "for i in value_list:\n",
    "    for key, value in i.items():\n",
    "        if key == \"entry\":\n",
    "            dictions2.append(value)"
   ]
  },
  {
   "cell_type": "code",
   "execution_count": 8,
   "metadata": {},
   "outputs": [
    {
     "data": {
      "text/plain": [
       "2352"
      ]
     },
     "execution_count": 8,
     "metadata": {},
     "output_type": "execute_result"
    }
   ],
   "source": [
    "len(dictions2)"
   ]
  },
  {
   "cell_type": "code",
   "execution_count": 9,
   "metadata": {},
   "outputs": [
    {
     "name": "stdout",
     "output_type": "stream",
     "text": [
      "[{'@_fa': 'true', 'prism:url': 'https://api.elsevier.com/content/abstract/scopus_id/77958413325', 'dc:identifier': 'SCOPUS_ID:77958413325', 'dc:title': 'The bindings of Thomas Wotton', 'prism:doi': '10.1093/library/s3-1.4.337'}, {'@_fa': 'true', 'prism:url': 'https://api.elsevier.com/content/abstract/scopus_id/77958404663', 'dc:identifier': 'SCOPUS_ID:77958404663', 'dc:title': \"The supposed calling-in of drayton's 'harmony of the church, ' 1591\", 'prism:doi': '10.1093/library/s3-1.4.348'}, {'@_fa': 'true', 'prism:url': 'https://api.elsevier.com/content/abstract/scopus_id/77958409771', 'dc:identifier': 'SCOPUS_ID:77958409771', 'dc:title': 'The national library of wales', 'prism:doi': '10.1093/library/s3-1.3.277'}, {'@_fa': 'true', 'prism:url': 'https://api.elsevier.com/content/abstract/scopus_id/77958405307', 'dc:identifier': 'SCOPUS_ID:77958405307', 'dc:title': 'John phillip-notes for a bibliography', 'prism:doi': '10.1093/library/s3-1.3.302'}, {'@_fa': 'true', 'prism:url': 'https://api.elsevier.com/content/abstract/scopus_id/77958404319', 'dc:identifier': 'SCOPUS_ID:77958404319', 'dc:title': \"The authorship of 'nova solyma.'\", 'prism:doi': '10.1093/library/s3-1.3.225'}, {'@_fa': 'true', 'prism:url': 'https://api.elsevier.com/content/abstract/scopus_id/77958398233', 'dc:identifier': 'SCOPUS_ID:77958398233', 'dc:title': 'On the library at king Edward VI. School, bury St. Edmunds', 'prism:doi': '10.1093/library/s3-1.3.329'}, {'@_fa': 'true', 'prism:url': 'https://api.elsevier.com/content/abstract/scopus_id/77958396521', 'dc:identifier': 'SCOPUS_ID:77958396521', 'dc:title': 'Recent foreign literature', 'prism:doi': '10.1093/library/s3-1.3.260'}, {'@_fa': 'true', 'prism:url': 'https://api.elsevier.com/content/abstract/scopus_id/77958396307', 'dc:identifier': 'SCOPUS_ID:77958396307', 'dc:title': 'Some notices of men connected with the english book trade from the plea rolls of Henry VII', 'prism:doi': '10.1093/library/s3-1.3.289'}, {'@_fa': 'true', 'prism:url': 'https://api.elsevier.com/content/abstract/scopus_id/0002010401', 'dc:identifier': 'SCOPUS_ID:0002010401', 'dc:title': 'Some notes on the letters I, J, U and V in sixteenth century printing', 'prism:doi': '10.1093/library/s3-1.3.239'}, {'@_fa': 'true', 'prism:url': 'https://api.elsevier.com/content/abstract/scopus_id/77958411644', 'dc:identifier': 'SCOPUS_ID:77958411644', 'dc:title': 'The national library of wales', 'prism:doi': '10.1093/library/s3-1.2.113'}, {'@_fa': 'true', 'prism:url': 'https://api.elsevier.com/content/abstract/scopus_id/77958409642', 'dc:identifier': 'SCOPUS_ID:77958409642', 'dc:title': 'The librarians of the royal library at fontainebleau', 'prism:doi': '10.1093/library/s3-1.2.190'}, {'@_fa': 'true', 'prism:url': 'https://api.elsevier.com/content/abstract/scopus_id/77958403393', 'dc:identifier': 'SCOPUS_ID:77958403393', 'dc:title': 'Recent foreign literature', 'prism:doi': '10.1093/library/s3-1.2.152'}, {'@_fa': 'true', 'prism:url': 'https://api.elsevier.com/content/abstract/scopus_id/77958401277', 'dc:identifier': 'SCOPUS_ID:77958401277', 'dc:title': 'The foulis press', 'prism:doi': '10.1093/library/s3-1.2.172'}, {'@_fa': 'true', 'prism:url': 'https://api.elsevier.com/content/abstract/scopus_id/77958399983', 'dc:identifier': 'SCOPUS_ID:77958399983', 'dc:title': 'The formation of the harleian library: Further notes', 'prism:doi': '10.1093/library/s3-1.2.166'}, {'@_fa': 'true', 'prism:url': 'https://api.elsevier.com/content/abstract/scopus_id/77958398322', 'dc:identifier': 'SCOPUS_ID:77958398322', 'dc:title': 'Anthony marler and the great bible', 'prism:doi': '10.1093/library/s3-1.2.200'}, {'@_fa': 'true', 'prism:url': 'https://api.elsevier.com/content/abstract/scopus_id/52449106422', 'dc:identifier': 'SCOPUS_ID:52449106422', 'dc:title': 'Humphrey dyson', 'prism:doi': '10.1093/library/s3-1.2.144'}, {'@_fa': 'true', 'prism:url': 'https://api.elsevier.com/content/abstract/scopus_id/77958412612', 'dc:identifier': 'SCOPUS_ID:77958412612', 'dc:title': 'The trial of treasure, 1567.-a study in ghosts', 'prism:doi': '10.1093/library/s3-1.1.28'}, {'@_fa': 'true', 'prism:url': 'https://api.elsevier.com/content/abstract/scopus_id/77958409644', 'dc:identifier': 'SCOPUS_ID:77958409644', 'dc:title': 'On the supposed false dates in certain Shakespeare quartos', 'prism:doi': '10.1093/library/s3-1.1.46'}, {'@_fa': 'true', 'prism:url': 'https://api.elsevier.com/content/abstract/scopus_id/77958404495', 'dc:identifier': 'SCOPUS_ID:77958404495', 'dc:title': 'On the library at king Edward VI. School, bury St. Edmunds', 'prism:doi': '10.1093/library/s3-1.1.1'}, {'@_fa': 'true', 'prism:url': 'https://api.elsevier.com/content/abstract/scopus_id/77958399136', 'dc:identifier': 'SCOPUS_ID:77958399136', 'dc:title': 'The emblemata amatoria of philip ayres', 'prism:doi': '10.1093/library/s3-1.1.73'}, {'@_fa': 'true', 'prism:url': 'https://api.elsevier.com/content/abstract/scopus_id/77958398779', 'dc:identifier': 'SCOPUS_ID:77958398779', 'dc:title': 'Recent foreign literature', 'prism:doi': '10.1093/library/s3-1.1.96'}, {'@_fa': 'true', 'prism:url': 'https://api.elsevier.com/content/abstract/scopus_id/77958397561', 'dc:identifier': 'SCOPUS_ID:77958397561', 'dc:title': 'On the supposed false dates in certain Shakespeare quartos', 'prism:doi': '10.1093/library/s3-1.1.36'}, {'@_fa': 'true', 'prism:url': 'https://api.elsevier.com/content/abstract/scopus_id/77958397479', 'dc:identifier': 'SCOPUS_ID:77958397479', 'dc:title': 'The protestant press in the reign of queen mary', 'prism:doi': '10.1093/library/s3-1.1.54'}]\n"
     ]
    }
   ],
   "source": [
    "print(dictions2[85])"
   ]
  },
  {
   "cell_type": "code",
   "execution_count": 10,
   "metadata": {},
   "outputs": [],
   "source": [
    "with open('test_3.json', 'w') as out:\n",
    "        json.dump(dictions2, out)"
   ]
  },
  {
   "cell_type": "code",
   "execution_count": 10,
   "metadata": {},
   "outputs": [],
   "source": [
    "with open('wild_82.json','w') as file:\n",
    "    for i in dictions2:\n",
    "        json.dump(i,file)"
   ]
  },
  {
   "cell_type": "code",
   "execution_count": null,
   "metadata": {},
   "outputs": [],
   "source": []
  }
 ],
 "metadata": {
  "kernelspec": {
   "display_name": "Python 3",
   "language": "python",
   "name": "python3"
  },
  "language_info": {
   "codemirror_mode": {
    "name": "ipython",
    "version": 3
   },
   "file_extension": ".py",
   "mimetype": "text/x-python",
   "name": "python",
   "nbconvert_exporter": "python",
   "pygments_lexer": "ipython3",
   "version": "3.7.4"
  }
 },
 "nbformat": 4,
 "nbformat_minor": 2
}
