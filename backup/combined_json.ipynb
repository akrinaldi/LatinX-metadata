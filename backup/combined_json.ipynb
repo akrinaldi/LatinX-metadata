{
 "cells": [
  {
   "cell_type": "code",
   "execution_count": 2,
   "metadata": {},
   "outputs": [],
   "source": [
    "import json\n",
    "import glob"
   ]
  },
  {
   "cell_type": "code",
   "execution_count": 3,
   "metadata": {},
   "outputs": [],
   "source": [
    "file_path = \"C:/Users/abbyk/Untitled Folder/LatinxMeta/outputs/*/*\""
   ]
  },
  {
   "cell_type": "code",
   "execution_count": 4,
   "metadata": {},
   "outputs": [],
   "source": [
    "raw_outputs = glob.glob(file_path)\n",
    "empty = []\n",
    "\n",
    "for i in raw_outputs:\n",
    "    with open(i, \"rb\") as diction1:\n",
    "        empty.append(json.load(diction1))"
   ]
  },
  {
   "cell_type": "code",
   "execution_count": 5,
   "metadata": {},
   "outputs": [],
   "source": [
    "value_list = []\n",
    "\n",
    "for i in empty:\n",
    "    for key, value in i.items():\n",
    "        value_list.append(value)"
   ]
  },
  {
   "cell_type": "code",
   "execution_count": 6,
   "metadata": {},
   "outputs": [
    {
     "name": "stdout",
     "output_type": "stream",
     "text": [
      "{'opensearch:totalResults': '17', 'opensearch:startIndex': '0', 'opensearch:itemsPerPage': '17', 'opensearch:Query': {'@role': 'request', '@searchTerms': 'issn(01576895)', '@startPage': '0'}, 'link': [{'@_fa': 'true', '@ref': 'self', '@href': 'https://api.elsevier.com/content/search/scopus?start=0&count=200&query=issn%2801576895%29&date=2013&httpAccept=application/json&apiKey=ad4e12568b69167a2d25213b52923901&insttoken=0363e8707601cf3e7f27138d2b25f9e4', '@type': 'application/json'}, {'@_fa': 'true', '@ref': 'first', '@href': 'https://api.elsevier.com/content/search/scopus?start=0&count=200&query=issn%2801576895%29&date=2013&httpAccept=application/json&apiKey=ad4e12568b69167a2d25213b52923901&insttoken=0363e8707601cf3e7f27138d2b25f9e4', '@type': 'application/json'}], 'entry': [{'@_fa': 'true', 'prism:url': 'https://api.elsevier.com/content/abstract/scopus_id/84889683369', 'dc:identifier': 'SCOPUS_ID:84889683369', 'affiliation': [{'@_fa': 'true', 'affiliation-country': 'Australia'}], 'authkeywords': 'archival research | materiality | personal papers'}, {'@_fa': 'true', 'prism:url': 'https://api.elsevier.com/content/abstract/scopus_id/84889663990', 'dc:identifier': 'SCOPUS_ID:84889663990', 'affiliation': [{'@_fa': 'true', 'affiliation-country': 'United States'}], 'authkeywords': 'archival description | ISAAR(CPF) | ISAD(G) | ISO 23081 | recordkeeping metadata'}, {'@_fa': 'true', 'prism:url': 'https://api.elsevier.com/content/abstract/scopus_id/84889659399', 'dc:identifier': 'SCOPUS_ID:84889659399', 'affiliation': [{'@_fa': 'true', 'affiliation-country': 'Australia'}, {'@_fa': 'true', 'affiliation-country': 'Australia'}], 'authkeywords': 'case study | digitisation | ISO 13028 | museum collection | records | records and archives management | user-contributed content | Welcome Wall'}, {'@_fa': 'true', 'prism:url': 'https://api.elsevier.com/content/abstract/scopus_id/84889654607', 'dc:identifier': 'SCOPUS_ID:84889654607'}, {'@_fa': 'true', 'prism:url': 'https://api.elsevier.com/content/abstract/scopus_id/84885082516', 'dc:identifier': 'SCOPUS_ID:84885082516', 'affiliation': [{'@_fa': 'true', 'affiliation-country': 'New Zealand'}], 'authkeywords': 'Mixed-methods survey | Record keeping continuum | Series system'}, {'@_fa': 'true', 'prism:url': 'https://api.elsevier.com/content/abstract/scopus_id/84885068489', 'dc:identifier': 'SCOPUS_ID:84885068489', 'affiliation': [{'@_fa': 'true', 'affiliation-country': 'Canada'}], 'authkeywords': 'acquisition | appraisal | Brazil | government records | ongoing appraisal | records management'}, {'@_fa': 'true', 'prism:url': 'https://api.elsevier.com/content/abstract/scopus_id/84885045575', 'dc:identifier': 'SCOPUS_ID:84885045575', 'affiliation': [{'@_fa': 'true', 'affiliation-country': 'Australia'}, {'@_fa': 'true', 'affiliation-country': 'Australia'}], 'authkeywords': 'archives | community service organisations | Records Continuum | records management'}, {'@_fa': 'true', 'prism:url': 'https://api.elsevier.com/content/abstract/scopus_id/84885040005', 'dc:identifier': 'SCOPUS_ID:84885040005', 'affiliation': [{'@_fa': 'true', 'affiliation-country': 'Australia'}], 'authkeywords': 'archiving personal papers | feminist archives | Merle Thornton'}, {'@_fa': 'true', 'prism:url': 'https://api.elsevier.com/content/abstract/scopus_id/84885035878', 'dc:identifier': 'SCOPUS_ID:84885035878', 'affiliation': [{'@_fa': 'true', 'affiliation-country': 'United States'}], 'authkeywords': 'archives management | computer science | provenance'}, {'@_fa': 'true', 'prism:url': 'https://api.elsevier.com/content/abstract/scopus_id/84885024613', 'dc:identifier': 'SCOPUS_ID:84885024613'}, {'@_fa': 'true', 'prism:url': 'https://api.elsevier.com/content/abstract/scopus_id/84885085478', 'dc:identifier': 'SCOPUS_ID:84885085478', 'affiliation': [{'@_fa': 'true', 'affiliation-country': 'Australia'}, {'@_fa': 'true', 'affiliation-country': 'Australia'}], 'authkeywords': 'anthologies | archival genres | genre | zines'}, {'@_fa': 'true', 'prism:url': 'https://api.elsevier.com/content/abstract/scopus_id/84885073455', 'dc:identifier': 'SCOPUS_ID:84885073455', 'affiliation': [{'@_fa': 'true', 'affiliation-country': 'Australia'}], 'authkeywords': 'docugames | e-learning | serious games'}, {'@_fa': 'true', 'prism:url': 'https://api.elsevier.com/content/abstract/scopus_id/84885056439', 'dc:identifier': 'SCOPUS_ID:84885056439', 'affiliation': [{'@_fa': 'true', 'affiliation-country': 'Australia'}], 'authkeywords': 'compound library management | drug discovery | Records Continuum Model | records management'}, {'@_fa': 'true', 'prism:url': 'https://api.elsevier.com/content/abstract/scopus_id/84885040134', 'dc:identifier': 'SCOPUS_ID:84885040134', 'authkeywords': 'archives and records management | government funding'}, {'@_fa': 'true', 'prism:url': 'https://api.elsevier.com/content/abstract/scopus_id/84885028940', 'dc:identifier': 'SCOPUS_ID:84885028940'}, {'@_fa': 'true', 'prism:url': 'https://api.elsevier.com/content/abstract/scopus_id/84884780936', 'dc:identifier': 'SCOPUS_ID:84884780936', 'affiliation': [{'@_fa': 'true', 'affiliation-country': 'United Kingdom'}], 'authkeywords': 'freedom of information | Kenya | records management | Tanzania | Uganda'}, {'@_fa': 'true', 'prism:url': 'https://api.elsevier.com/content/abstract/scopus_id/84880877490', 'dc:identifier': 'SCOPUS_ID:84880877490', 'affiliation': [{'@_fa': 'true', 'affiliation-country': 'Australia'}], 'authkeywords': 'access | appraisal | archives | freedom of information | power | WikiLeaks'}]}\n"
     ]
    }
   ],
   "source": [
    "print(value_list[0])"
   ]
  },
  {
   "cell_type": "code",
   "execution_count": 7,
   "metadata": {},
   "outputs": [],
   "source": [
    "dictions2 = []"
   ]
  },
  {
   "cell_type": "code",
   "execution_count": 8,
   "metadata": {},
   "outputs": [],
   "source": [
    "for i in value_list:\n",
    "    for key, value in i.items():\n",
    "        if key == \"entry\":\n",
    "            dictions2.append(value)"
   ]
  },
  {
   "cell_type": "code",
   "execution_count": 9,
   "metadata": {},
   "outputs": [
    {
     "data": {
      "text/plain": [
       "1750"
      ]
     },
     "execution_count": 9,
     "metadata": {},
     "output_type": "execute_result"
    }
   ],
   "source": [
    "len(dictions2)"
   ]
  },
  {
   "cell_type": "code",
   "execution_count": 10,
   "metadata": {},
   "outputs": [
    {
     "name": "stdout",
     "output_type": "stream",
     "text": [
      "[{'@_fa': 'true', 'prism:url': 'https://api.elsevier.com/content/abstract/scopus_id/84916636048', 'dc:identifier': 'SCOPUS_ID:84916636048', 'affiliation': [{'@_fa': 'true', 'affiliation-country': 'South Korea'}], 'authkeywords': 'Twitter co-link network | User behaviour | Video consumption behaviour | YouTube related video network'}, {'@_fa': 'true', 'prism:url': 'https://api.elsevier.com/content/abstract/scopus_id/84916634283', 'dc:identifier': 'SCOPUS_ID:84916634283', 'affiliation': [{'@_fa': 'true', 'affiliation-country': 'Taiwan'}], 'authkeywords': 'Batch update strategy | Cluster analysis | DNA microarray | Gene assessment | Randomized update strategy'}, {'@_fa': 'true', 'prism:url': 'https://api.elsevier.com/content/abstract/scopus_id/84916631148', 'dc:identifier': 'SCOPUS_ID:84916631148', 'affiliation': [{'@_fa': 'true', 'affiliation-country': 'Spain'}, {'@_fa': 'true', 'affiliation-country': 'Mexico'}, {'@_fa': 'true', 'affiliation-country': 'France'}, {'@_fa': 'true', 'affiliation-country': 'Spain'}], 'authkeywords': 'Machine learning | Natural language processing with LIWC | Opinion mining | Sentiment analysis'}, {'@_fa': 'true', 'prism:url': 'https://api.elsevier.com/content/abstract/scopus_id/84916627644', 'dc:identifier': 'SCOPUS_ID:84916627644', 'affiliation': [{'@_fa': 'true', 'affiliation-country': 'Iran'}, {'@_fa': 'true', 'affiliation-country': 'Iran'}, {'@_fa': 'true', 'affiliation-country': 'Iran'}], 'authkeywords': 'Element tag names | File extensions | Indexability, visibility | Metadata standards | Web search engines | XML declarations'}, {'@_fa': 'true', 'prism:url': 'https://api.elsevier.com/content/abstract/scopus_id/84916606755', 'dc:identifier': 'SCOPUS_ID:84916606755', 'affiliation': [{'@_fa': 'true', 'affiliation-country': 'India'}], 'authkeywords': 'Fuzzy inference system | Information retrieval | Precision | Recall | Similarity measure | Vector space model'}, {'@_fa': 'true', 'prism:url': 'https://api.elsevier.com/content/abstract/scopus_id/84916605721', 'dc:identifier': 'SCOPUS_ID:84916605721', 'affiliation': [{'@_fa': 'true', 'affiliation-country': 'United States'}, {'@_fa': 'true', 'affiliation-country': 'United States'}, {'@_fa': 'true', 'affiliation-country': 'United States'}]}, {'@_fa': 'true', 'prism:url': 'https://api.elsevier.com/content/abstract/scopus_id/84916605669', 'dc:identifier': 'SCOPUS_ID:84916605669', 'affiliation': [{'@_fa': 'true', 'affiliation-country': 'China'}, {'@_fa': 'true', 'affiliation-country': 'France'}], 'authkeywords': 'Icon | Knowledge organization system | Tag structure | Tags | Visual distinctive language | Visual representation'}, {'@_fa': 'true', 'prism:url': 'https://api.elsevier.com/content/abstract/scopus_id/84916600823', 'dc:identifier': 'SCOPUS_ID:84916600823', 'affiliation': [{'@_fa': 'true', 'affiliation-country': 'China'}], 'authkeywords': 'Graph mining | Information network | Vertex rank | Vertex-pair similarity'}, {'@_fa': 'true', 'prism:url': 'https://api.elsevier.com/content/abstract/scopus_id/84916600402', 'dc:identifier': 'SCOPUS_ID:84916600402', 'affiliation': [{'@_fa': 'true', 'affiliation-country': 'South Africa'}], 'authkeywords': 'Frequently asked question (FAQ) | Information retrieval (IR) | Mobile health (mHealth) | Mobile Health Information system | Question and answer (Q&amp;A) system | Short message service (SMS)/text message'}, {'@_fa': 'true', 'prism:url': 'https://api.elsevier.com/content/abstract/scopus_id/84916598367', 'dc:identifier': 'SCOPUS_ID:84916598367', 'affiliation': [{'@_fa': 'true', 'affiliation-country': 'United Kingdom'}]}, {'@_fa': 'true', 'prism:url': 'https://api.elsevier.com/content/abstract/scopus_id/84916594368', 'dc:identifier': 'SCOPUS_ID:84916594368', 'affiliation': [{'@_fa': 'true', 'affiliation-country': 'South Korea'}, {'@_fa': 'true', 'affiliation-country': 'South Korea'}, {'@_fa': 'true', 'affiliation-country': 'South Korea'}], 'authkeywords': 'C-Rank | Content and link ranking | Contribution based ranking | Contribution constraints | Web information retrieval'}, {'@_fa': 'true', 'prism:url': 'https://api.elsevier.com/content/abstract/scopus_id/84916593449', 'dc:identifier': 'SCOPUS_ID:84916593449', 'affiliation': [{'@_fa': 'true', 'affiliation-country': 'United Kingdom'}, {'@_fa': 'true', 'affiliation-country': 'United Kingdom'}], 'authkeywords': 'History | Information profession | Information retrieval | Information science | Research | UK'}, {'@_fa': 'true', 'prism:url': 'https://api.elsevier.com/content/abstract/scopus_id/84916593444', 'dc:identifier': 'SCOPUS_ID:84916593444', 'affiliation': [{'@_fa': 'true', 'affiliation-country': 'Spain'}, {'@_fa': 'true', 'affiliation-country': 'Spain'}], 'authkeywords': 'Knowledge representation | Methodology | Semantic Web | SKOS | Software evaluation | Thesauri | Thesaurus tools'}, {'@_fa': 'true', 'prism:url': 'https://api.elsevier.com/content/abstract/scopus_id/84907103208', 'dc:identifier': 'SCOPUS_ID:84907103208', 'affiliation': [{'@_fa': 'true', 'affiliation-country': 'China'}], 'authkeywords': 'Multirelation | multiview clustering | suffix tree | Twitter topic detection'}, {'@_fa': 'true', 'prism:url': 'https://api.elsevier.com/content/abstract/scopus_id/84907101923', 'dc:identifier': 'SCOPUS_ID:84907101923', 'affiliation': [{'@_fa': 'true', 'affiliation-country': 'United States'}], 'authkeywords': 'Framework | online question-answering | review | social Q&amp;A | user-generated content | virtual reference'}, {'@_fa': 'true', 'prism:url': 'https://api.elsevier.com/content/abstract/scopus_id/84907100905', 'dc:identifier': 'SCOPUS_ID:84907100905', 'affiliation': [{'@_fa': 'true', 'affiliation-country': 'South Korea'}], 'authkeywords': 'Hierarchical text classification | language models | web taxonomy'}, {'@_fa': 'true', 'prism:url': 'https://api.elsevier.com/content/abstract/scopus_id/84907099381', 'dc:identifier': 'SCOPUS_ID:84907099381', 'affiliation': [{'@_fa': 'true', 'affiliation-country': 'China'}], 'authkeywords': 'Adaptive model | network dynamics | news recommendation | personalization'}, {'@_fa': 'true', 'prism:url': 'https://api.elsevier.com/content/abstract/scopus_id/84907098569', 'dc:identifier': 'SCOPUS_ID:84907098569', 'affiliation': [{'@_fa': 'true', 'affiliation-country': 'Taiwan'}, {'@_fa': 'true', 'affiliation-country': 'Taiwan'}], 'authkeywords': 'Boundary | government | information sharing | inter-organization'}, {'@_fa': 'true', 'prism:url': 'https://api.elsevier.com/content/abstract/scopus_id/84907098242', 'dc:identifier': 'SCOPUS_ID:84907098242', 'affiliation': [{'@_fa': 'true', 'affiliation-country': 'Iran'}, {'@_fa': 'true', 'affiliation-country': 'Netherlands'}, {'@_fa': 'true', 'affiliation-country': 'United Kingdom'}], 'authkeywords': 'Aspect detection | Latent Dirichlet Allocation | opinion mining | sentiment analysis | topic model'}, {'@_fa': 'true', 'prism:url': 'https://api.elsevier.com/content/abstract/scopus_id/84907098054', 'dc:identifier': 'SCOPUS_ID:84907098054', 'affiliation': [{'@_fa': 'true', 'affiliation-country': 'Spain'}], 'authkeywords': 'Evaluation | interlinking tool | Linked Data'}, {'@_fa': 'true', 'prism:url': 'https://api.elsevier.com/content/abstract/scopus_id/84907094603', 'dc:identifier': 'SCOPUS_ID:84907094603', 'affiliation': [{'@_fa': 'true', 'affiliation-country': 'Iran'}], 'authkeywords': 'Ontologies | recommender systems | Semantic Web | social tagging | user modelling'}, {'@_fa': 'true', 'prism:url': 'https://api.elsevier.com/content/abstract/scopus_id/84907090891', 'dc:identifier': 'SCOPUS_ID:84907090891', 'affiliation': [{'@_fa': 'true', 'affiliation-country': 'China'}], 'authkeywords': 'HMM (Hidden Markov Model) | LDA (Latent Dirichlet Allocation) | stem cell | topic evolution'}, {'@_fa': 'true', 'prism:url': 'https://api.elsevier.com/content/abstract/scopus_id/84907089935', 'dc:identifier': 'SCOPUS_ID:84907089935', 'affiliation': [{'@_fa': 'true', 'affiliation-country': 'South Korea'}], 'authkeywords': 'Frequent sequence patterns | MapReduce | web user behaviour | web-usage mining'}, {'@_fa': 'true', 'prism:url': 'https://api.elsevier.com/content/abstract/scopus_id/84896801294', 'dc:identifier': 'SCOPUS_ID:84896801294', 'affiliation': [{'@_fa': 'true', 'affiliation-country': 'Italy'}, {'@_fa': 'true', 'affiliation-country': 'Italy'}, {'@_fa': 'true', 'affiliation-country': 'United Kingdom'}], 'authkeywords': 'cross-site user profiling | inference of user attributes | privacy | social networks | user identification'}, {'@_fa': 'true', 'prism:url': 'https://api.elsevier.com/content/abstract/scopus_id/84896775920', 'dc:identifier': 'SCOPUS_ID:84896775920', 'affiliation': [{'@_fa': 'true', 'affiliation-country': 'Australia'}, {'@_fa': 'true', 'affiliation-country': 'Australia'}], 'authkeywords': 'Central bank speeches | content analysis | foreign exchange | information theoretic measures | text mining'}, {'@_fa': 'true', 'prism:url': 'https://api.elsevier.com/content/abstract/scopus_id/84896761529', 'dc:identifier': 'SCOPUS_ID:84896761529', 'affiliation': [{'@_fa': 'true', 'affiliation-country': 'China'}], 'authkeywords': \"'cluster-theme keywords' structure | information extraction | paper selection | text clustering\"}, {'@_fa': 'true', 'prism:url': 'https://api.elsevier.com/content/abstract/scopus_id/84896754189', 'dc:identifier': 'SCOPUS_ID:84896754189', 'affiliation': [{'@_fa': 'true', 'affiliation-country': 'Jordan'}], 'authkeywords': 'Arabic language | classical | search engine | slang queries | Web search'}, {'@_fa': 'true', 'prism:url': 'https://api.elsevier.com/content/abstract/scopus_id/84896752924', 'dc:identifier': 'SCOPUS_ID:84896752924', 'affiliation': [{'@_fa': 'true', 'affiliation-country': 'South Korea'}], 'authkeywords': 'Hierarchical text classification | language models | web taxonomy'}, {'@_fa': 'true', 'prism:url': 'https://api.elsevier.com/content/abstract/scopus_id/84896750235', 'dc:identifier': 'SCOPUS_ID:84896750235', 'affiliation': [{'@_fa': 'true', 'affiliation-country': 'Malaysia'}, {'@_fa': 'true', 'affiliation-country': 'Malaysia'}], 'authkeywords': 'Query interpretation | query transformation | structured retrieval | XML'}, {'@_fa': 'true', 'prism:url': 'https://api.elsevier.com/content/abstract/scopus_id/84896748262', 'dc:identifier': 'SCOPUS_ID:84896748262', 'affiliation': [{'@_fa': 'true', 'affiliation-country': 'Finland'}, {'@_fa': 'true', 'affiliation-country': 'Finland'}, {'@_fa': 'true', 'affiliation-country': 'Sweden'}], 'authkeywords': 'Information sharing | Second Life | social capital | virtual worlds'}, {'@_fa': 'true', 'prism:url': 'https://api.elsevier.com/content/abstract/scopus_id/84896744223', 'dc:identifier': 'SCOPUS_ID:84896744223', 'affiliation': [{'@_fa': 'true', 'affiliation-country': 'United Kingdom'}], 'authkeywords': 'Creativity | Freiraum | innovation | knowledge creation | knowledge management | learning | organizational culture | organizational learning'}, {'@_fa': 'true', 'prism:url': 'https://api.elsevier.com/content/abstract/scopus_id/84896744099', 'dc:identifier': 'SCOPUS_ID:84896744099', 'affiliation': [{'@_fa': 'true', 'affiliation-country': 'Ireland'}], 'authkeywords': 'bibliographic records | library metadata | metadata generation | subject metadata | text mining | Wikipedia'}, {'@_fa': 'true', 'prism:url': 'https://api.elsevier.com/content/abstract/scopus_id/84892754368', 'dc:identifier': 'SCOPUS_ID:84892754368', 'affiliation': [{'@_fa': 'true', 'affiliation-country': 'United Arab Emirates'}], 'authkeywords': 'hybrid approach | information extraction | information retrieval | machine learning approach | named entity recognition | natural language processing | rule-based approach'}, {'@_fa': 'true', 'prism:url': 'https://api.elsevier.com/content/abstract/scopus_id/84892749391', 'dc:identifier': 'SCOPUS_ID:84892749391', 'affiliation': [{'@_fa': 'true', 'affiliation-country': 'China'}], 'authkeywords': 'concept and hierarchy learning | ontology learning | Pachinko Allocation Model | probabilistic topic model'}, {'@_fa': 'true', 'prism:url': 'https://api.elsevier.com/content/abstract/scopus_id/84892749060', 'dc:identifier': 'SCOPUS_ID:84892749060', 'affiliation': [{'@_fa': 'true', 'affiliation-country': 'China'}, {'@_fa': 'true', 'affiliation-country': 'Belgium'}], 'authkeywords': 'dynamic overview | molecular substances | nervous system diseases | year-based h-indices'}, {'@_fa': 'true', 'prism:url': 'https://api.elsevier.com/content/abstract/scopus_id/84892743410', 'dc:identifier': 'SCOPUS_ID:84892743410', 'affiliation': [{'@_fa': 'true', 'affiliation-country': 'South Korea'}], 'authkeywords': 'Blogs | information retrieval | keyword extraction | LDA | subtopic model | text mining'}, {'@_fa': 'true', 'prism:url': 'https://api.elsevier.com/content/abstract/scopus_id/84892738805', 'dc:identifier': 'SCOPUS_ID:84892738805', 'affiliation': [{'@_fa': 'true', 'affiliation-country': 'Spain'}], 'authkeywords': 'Hierarchical graph maps | items | recommender systems | representation | tree | visualization'}, {'@_fa': 'true', 'prism:url': 'https://api.elsevier.com/content/abstract/scopus_id/84892732913', 'dc:identifier': 'SCOPUS_ID:84892732913', 'affiliation': [{'@_fa': 'true', 'affiliation-country': 'Taiwan'}], 'authkeywords': 'IPC-based clustering | link analysis | patent data | strategic planning | thin-film solar cell'}, {'@_fa': 'true', 'prism:url': 'https://api.elsevier.com/content/abstract/scopus_id/84892731545', 'dc:identifier': 'SCOPUS_ID:84892731545', 'affiliation': [{'@_fa': 'true', 'affiliation-country': 'United Kingdom'}], 'authkeywords': 'Delphi technique | information behaviour | information seeking | qualitative research | Slow information | time factors'}, {'@_fa': 'true', 'prism:url': 'https://api.elsevier.com/content/abstract/scopus_id/84892725841', 'dc:identifier': 'SCOPUS_ID:84892725841', 'affiliation': [{'@_fa': 'true', 'affiliation-country': 'Mauritius'}], 'authkeywords': 'best practices | Dublin Core | empirical study | metadata errors | metadata quality | metadata utility'}, {'@_fa': 'true', 'prism:url': 'https://api.elsevier.com/content/abstract/scopus_id/84892711498', 'dc:identifier': 'SCOPUS_ID:84892711498', 'affiliation': [{'@_fa': 'true', 'affiliation-country': 'China'}], 'authkeywords': 'Directed network | exponential-family random graph models | goodness-of-fit | micro-blog'}, {'@_fa': 'true', 'prism:url': 'https://api.elsevier.com/content/abstract/scopus_id/84892693958', 'dc:identifier': 'SCOPUS_ID:84892693958', 'affiliation': [{'@_fa': 'true', 'affiliation-country': 'India'}], 'authkeywords': \"Amusement/humour | citation rates | download rates | journal impact | partial least squares (PLS) | psychology | ScienceDirect's Top 25 Hottest Articles | title\"}, {'@_fa': 'true', 'prism:url': 'https://api.elsevier.com/content/abstract/scopus_id/84892683696', 'dc:identifier': 'SCOPUS_ID:84892683696', 'affiliation': [{'@_fa': 'true', 'affiliation-country': 'Ireland'}], 'authkeywords': 'critical thinking | evaluating web resources | information literacy | RADAR | student research'}, {'@_fa': 'true', 'prism:url': 'https://api.elsevier.com/content/abstract/scopus_id/84904135612', 'dc:identifier': 'SCOPUS_ID:84904135612', 'affiliation': [{'@_fa': 'true', 'affiliation-country': 'Qatar'}, {'@_fa': 'true', 'affiliation-country': 'Jordan'}], 'authkeywords': 'Arabic text | opinion mining | polarity classification | sentiment analysis'}, {'@_fa': 'true', 'prism:url': 'https://api.elsevier.com/content/abstract/scopus_id/84904134833', 'dc:identifier': 'SCOPUS_ID:84904134833', 'affiliation': [{'@_fa': 'true', 'affiliation-country': 'Algeria'}, {'@_fa': 'true', 'affiliation-country': 'France'}], 'authkeywords': 'Information extraction | keyphrase extraction | scientific digital libraries | text mining'}, {'@_fa': 'true', 'prism:url': 'https://api.elsevier.com/content/abstract/scopus_id/84904114596', 'dc:identifier': 'SCOPUS_ID:84904114596', 'affiliation': [{'@_fa': 'true', 'affiliation-country': 'Pakistan'}], 'authkeywords': 'Keyphrase assignment | keyphrase extraction | keyphrase indexing | subject classification | taxonomy'}, {'@_fa': 'true', 'prism:url': 'https://api.elsevier.com/content/abstract/scopus_id/84904110074', 'dc:identifier': 'SCOPUS_ID:84904110074', 'affiliation': [{'@_fa': 'true', 'affiliation-country': 'Belgium'}, {'@_fa': 'true', 'affiliation-country': 'Spain'}], 'authkeywords': 'Lexical resources for opinion mining | meta-classifiers | Multilingual Central Repository | SentiWordNet | Spanish lexical resources | stacking algorithm | unsupervised polarity detection'}, {'@_fa': 'true', 'prism:url': 'https://api.elsevier.com/content/abstract/scopus_id/84904107988', 'dc:identifier': 'SCOPUS_ID:84904107988', 'affiliation': [{'@_fa': 'true', 'affiliation-country': 'United Kingdom'}], 'authkeywords': 'Collaboration | hyperlink analysis | machine learning | webometrics'}, {'@_fa': 'true', 'prism:url': 'https://api.elsevier.com/content/abstract/scopus_id/84904104448', 'dc:identifier': 'SCOPUS_ID:84904104448', 'affiliation': [{'@_fa': 'true', 'affiliation-country': 'South Korea'}], 'authkeywords': 'Affective image search | attribute-affect association | attribute-based learning | concept-affect association | image representation'}, {'@_fa': 'true', 'prism:url': 'https://api.elsevier.com/content/abstract/scopus_id/84904103834', 'dc:identifier': 'SCOPUS_ID:84904103834', 'affiliation': [{'@_fa': 'true', 'affiliation-country': 'India'}], 'authkeywords': 'Genetic fuzzy algorithm | information retrieval | pseudo relevance feedback | query expansion | semantic similarity'}, {'@_fa': 'true', 'prism:url': 'https://api.elsevier.com/content/abstract/scopus_id/84904103079', 'dc:identifier': 'SCOPUS_ID:84904103079', 'affiliation': [{'@_fa': 'true', 'affiliation-country': 'United States'}], 'authkeywords': 'Collaboration | evaluation | framework | information seeking'}, {'@_fa': 'true', 'prism:url': 'https://api.elsevier.com/content/abstract/scopus_id/84904102526', 'dc:identifier': 'SCOPUS_ID:84904102526', 'affiliation': [{'@_fa': 'true', 'affiliation-country': 'Lithuania'}], 'authkeywords': 'business rules | Business vocabulary | Knowledge Discovery Metamodel | knowledge extraction'}, {'@_fa': 'true', 'prism:url': 'https://api.elsevier.com/content/abstract/scopus_id/84904096624', 'dc:identifier': 'SCOPUS_ID:84904096624', 'affiliation': [{'@_fa': 'true', 'affiliation-country': 'Spain'}], 'authkeywords': 'Information retrieval | information theory | natural language processing | Persian language | stop words'}, {'@_fa': 'true', 'prism:url': 'https://api.elsevier.com/content/abstract/scopus_id/84902199912', 'dc:identifier': 'SCOPUS_ID:84902199912', 'affiliation': [{'@_fa': 'true', 'affiliation-country': 'Iran'}], 'authkeywords': 'Dempster-Shafer theory of evidence | Opinion mining | Sentiment analysis | Sentiment detection | The theory of negativity bias'}, {'@_fa': 'true', 'prism:url': 'https://api.elsevier.com/content/abstract/scopus_id/84902187821', 'dc:identifier': 'SCOPUS_ID:84902187821', 'affiliation': [{'@_fa': 'true', 'affiliation-country': 'United Kingdom'}], 'authkeywords': 'Databases | Search methodology | Social networking | Systematic searching | Young people'}, {'@_fa': 'true', 'prism:url': 'https://api.elsevier.com/content/abstract/scopus_id/84902180481', 'dc:identifier': 'SCOPUS_ID:84902180481', 'affiliation': [{'@_fa': 'true', 'affiliation-country': 'Jordan'}, {'@_fa': 'true', 'affiliation-country': 'Jordan'}], 'authkeywords': 'Arabic roots | Information retrieval | Search engines | Stemming'}, {'@_fa': 'true', 'prism:url': 'https://api.elsevier.com/content/abstract/scopus_id/84902177525', 'dc:identifier': 'SCOPUS_ID:84902177525', 'affiliation': [{'@_fa': 'true', 'affiliation-country': 'India'}], 'authkeywords': 'Doubly correlated topic model | Latent Dirichlet allocation model | Mixed membership model | Topic model | Word co-occurrence'}, {'@_fa': 'true', 'prism:url': 'https://api.elsevier.com/content/abstract/scopus_id/84902174351', 'dc:identifier': 'SCOPUS_ID:84902174351', 'affiliation': [{'@_fa': 'true', 'affiliation-country': 'Saudi Arabia'}], 'authkeywords': 'Arabic NLP | Colloquial Arabic | Naive Bayes | Public sentiment | Revised n-gram'}, {'@_fa': 'true', 'prism:url': 'https://api.elsevier.com/content/abstract/scopus_id/84902166859', 'dc:identifier': 'SCOPUS_ID:84902166859', 'affiliation': [{'@_fa': 'true', 'affiliation-country': 'South Korea'}], 'authkeywords': 'Clustering | Co-word analysis | Institutional repository | Intellectual structure | MDS'}, {'@_fa': 'true', 'prism:url': 'https://api.elsevier.com/content/abstract/scopus_id/84902163510', 'dc:identifier': 'SCOPUS_ID:84902163510', 'affiliation': [{'@_fa': 'true', 'affiliation-country': 'Sweden'}], 'authkeywords': 'Bibliographic databases | Multilingual retrieval | Query expansion | Thesauri'}, {'@_fa': 'true', 'prism:url': 'https://api.elsevier.com/content/abstract/scopus_id/84902154152', 'dc:identifier': 'SCOPUS_ID:84902154152', 'affiliation': [{'@_fa': 'true', 'affiliation-country': 'Finland'}], 'authkeywords': 'Access methods | Attribute grammar | Formal specification | Hierarchical queries | Path-orientation | Query language | Relational database | SQL'}, {'@_fa': 'true', 'prism:url': 'https://api.elsevier.com/content/abstract/scopus_id/84902152304', 'dc:identifier': 'SCOPUS_ID:84902152304', 'affiliation': [{'@_fa': 'true', 'affiliation-country': 'Jordan'}], 'authkeywords': '15 puzzle | A | Algorithm | Heuristic search | Performance evaluation'}, {'@_fa': 'true', 'prism:url': 'https://api.elsevier.com/content/abstract/scopus_id/84902131618', 'dc:identifier': 'SCOPUS_ID:84902131618', 'affiliation': [{'@_fa': 'true', 'affiliation-country': 'Jordan'}], 'authkeywords': 'Approximate matching algorithms | Direct matching algorithm | Edit distance algorithm | Pattern matching | String matching algorithms'}, {'@_fa': 'true', 'prism:url': 'https://api.elsevier.com/content/abstract/scopus_id/84902123560', 'dc:identifier': 'SCOPUS_ID:84902123560', 'affiliation': [{'@_fa': 'true', 'affiliation-country': 'China'}], 'authkeywords': 'Domain ontology | Life cycle division | Relation assignment | Time sensitive'}, {'@_fa': 'true', 'prism:url': 'https://api.elsevier.com/content/abstract/scopus_id/84897544435', 'dc:identifier': 'SCOPUS_ID:84897544435', 'affiliation': [{'@_fa': 'true', 'affiliation-country': 'United Kingdom'}]}, {'@_fa': 'true', 'prism:url': 'https://api.elsevier.com/content/abstract/scopus_id/84896782216', 'dc:identifier': 'SCOPUS_ID:84896782216', 'affiliation': [{'@_fa': 'true', 'affiliation-country': 'Jordan'}], 'authkeywords': 'Node splitting | R-tree | spatial database | spatial indexing'}]\n"
     ]
    }
   ],
   "source": [
    "print(dictions2[85])"
   ]
  },
  {
   "cell_type": "code",
   "execution_count": 21,
   "metadata": {},
   "outputs": [],
   "source": [
    "with open('test_3.json', 'w') as out:\n",
    "        json.dump(dictions2, out)"
   ]
  },
  {
   "cell_type": "code",
   "execution_count": 12,
   "metadata": {},
   "outputs": [],
   "source": [
    "with open('test_4.json','w') as file:\n",
    "    for i in dictions2:\n",
    "        json.dump(i,file)"
   ]
  },
  {
   "cell_type": "code",
   "execution_count": null,
   "metadata": {},
   "outputs": [],
   "source": []
  }
 ],
 "metadata": {
  "kernelspec": {
   "display_name": "Python 3",
   "language": "python",
   "name": "python3"
  },
  "language_info": {
   "codemirror_mode": {
    "name": "ipython",
    "version": 3
   },
   "file_extension": ".py",
   "mimetype": "text/x-python",
   "name": "python",
   "nbconvert_exporter": "python",
   "pygments_lexer": "ipython3",
   "version": "3.7.4"
  }
 },
 "nbformat": 4,
 "nbformat_minor": 2
}
