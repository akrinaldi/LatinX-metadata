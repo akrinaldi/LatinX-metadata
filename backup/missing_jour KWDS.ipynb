{
 "cells": [
  {
   "cell_type": "code",
   "execution_count": 27,
   "metadata": {},
   "outputs": [],
   "source": [
    "import json\n",
    "import pandas as pd"
   ]
  },
  {
   "cell_type": "code",
   "execution_count": 29,
   "metadata": {},
   "outputs": [],
   "source": [
    "full_json = pd.read_json(\"C:/Users/abbyk/Untitled Folder/missing_journ_2.json\")"
   ]
  },
  {
   "cell_type": "code",
   "execution_count": 30,
   "metadata": {},
   "outputs": [],
   "source": [
    "a_df = pd.DataFrame(full_json, columns = ['prism:doi','authkeywords','dc:title'])"
   ]
  },
  {
   "cell_type": "code",
   "execution_count": 52,
   "metadata": {},
   "outputs": [],
   "source": [
    "json_dict = a_df.to_dict()"
   ]
  },
  {
   "cell_type": "code",
   "execution_count": 5,
   "metadata": {},
   "outputs": [],
   "source": [
    "booop = []\n",
    "beeg = []\n",
    "\n",
    "for key, value in json_dict.items():\n",
    "    if type(value) != float:\n",
    "        beeg.append(key)\n",
    "        booop.append(value)"
   ]
  },
  {
   "cell_type": "code",
   "execution_count": 31,
   "metadata": {},
   "outputs": [],
   "source": [
    "value_list = []\n",
    "key_list = []\n",
    "keywords_list = []\n",
    "\n",
    "#for key in a_df[\"dc:identifier\"]:\n",
    " #   for value in a_df[\"authkeywords\"]:\n",
    "  #      if type(value) != float:\n",
    "   #         value_list.append(value.split(\" | \"))    \n",
    "        "
   ]
  },
  {
   "cell_type": "code",
   "execution_count": 32,
   "metadata": {},
   "outputs": [],
   "source": [
    "for ind in a_df.index:\n",
    "    key=a_df[\"prism:doi\"][ind]\n",
    "    value1=a_df[\"dc:title\"][ind]\n",
    "    value2=a_df[\"authkeywords\"][ind]\n",
    "    if type(value2) != float:\n",
    "        boop = value2.split(\" | \")\n",
    "        value_list.append(value1)\n",
    "        keywords_list.append(boop)\n",
    "        key_list.append(key)\n",
    "    else:\n",
    "        value_list.append(value1)\n",
    "        keywords_list.append(\"NULL\")\n",
    "        key_list.append(key)"
   ]
  },
  {
   "cell_type": "code",
   "execution_count": 23,
   "metadata": {},
   "outputs": [],
   "source": [
    "for ind in a_df.index:\n",
    "    key=a_df[\"DOI\"][ind]\n",
    "    value=a_df[\"authkeywords\"][ind]\n",
    "    \n",
    "    if type(value) != float:\n",
    "        boop = value.split(\" | \")\n",
    "        keywords_list.append(boop)\n",
    "        Keys_list.append(key)\n",
    "    else:\n",
    "        keywords_list.append(\"NULL\")\n",
    "        Keys_list.append(key)"
   ]
  },
  {
   "cell_type": "code",
   "execution_count": 33,
   "metadata": {},
   "outputs": [],
   "source": [
    "empty_df = pd.DataFrame()"
   ]
  },
  {
   "cell_type": "code",
   "execution_count": 34,
   "metadata": {},
   "outputs": [],
   "source": [
    "empty_df[\"DOI\"] = key_list"
   ]
  },
  {
   "cell_type": "code",
   "execution_count": 35,
   "metadata": {},
   "outputs": [],
   "source": [
    "empty_df[\"titles\"] = value_list"
   ]
  },
  {
   "cell_type": "code",
   "execution_count": 36,
   "metadata": {},
   "outputs": [],
   "source": [
    "empty_df[\"keywords\"] = keywords_list"
   ]
  },
  {
   "cell_type": "code",
   "execution_count": 37,
   "metadata": {},
   "outputs": [
    {
     "name": "stdout",
     "output_type": "stream",
     "text": [
      "                            DOI  \\\n",
      "0                           NaN   \n",
      "1       10.3828/archives.2011.7   \n",
      "2       10.3828/archives.2011.1   \n",
      "3       10.3828/archives.2011.2   \n",
      "4       10.3828/archives.2011.8   \n",
      "...                         ...   \n",
      "27146  10.13187/ijmil.2019.2.50   \n",
      "27147  10.13187/ijmil.2019.2.42   \n",
      "27148  10.13187/ijmil.2019.1.18   \n",
      "27149  10.13187/ijmil.2019.1.11   \n",
      "27150   10.13187/ijmil.2019.1.3   \n",
      "\n",
      "                                                  titles  \\\n",
      "0                            A message from the chairman   \n",
      "1      The earl, his daughter, her brother's housekee...   \n",
      "2                            Redating the cartas baronum   \n",
      "3                   Fair and foul in historical evidence   \n",
      "4      Captain swing on trial: A Prosecutor's perspec...   \n",
      "...                                                  ...   \n",
      "27146  Metanarratives of Identity in Web-series: A na...   \n",
      "27147  Teaching students how to analyze the impact of...   \n",
      "27148  Hermeneutic analysis of the websites of Italy ...   \n",
      "27149  Depiction of gender inequalities in animation ...   \n",
      "27150  Media literacy education in Uzbekistan, Kyrgyz...   \n",
      "\n",
      "                                                keywords  \n",
      "0                                                   NULL  \n",
      "1                                                   NULL  \n",
      "2                                                   NULL  \n",
      "3                                                   NULL  \n",
      "4                                                   NULL  \n",
      "...                                                  ...  \n",
      "27146  [Gender depiction, Identity, Metanarrative, Na...  \n",
      "27147  [Advertising, Analysis, Critical thinking, EFL...  \n",
      "27148  [France, Hermeneutic analysis, Internet sites,...  \n",
      "27149  [Child abuse, Depiction of animation movies, G...  \n",
      "27150  [Concepts, Goals, Kyrgyzstan, Media, Media lit...  \n",
      "\n",
      "[27151 rows x 3 columns]\n"
     ]
    }
   ],
   "source": [
    "print(empty_df)"
   ]
  },
  {
   "cell_type": "code",
   "execution_count": 38,
   "metadata": {},
   "outputs": [],
   "source": [
    "a_df.rename(columns={'prism:doi': 'DOI'}, inplace=True)"
   ]
  },
  {
   "cell_type": "code",
   "execution_count": 39,
   "metadata": {},
   "outputs": [],
   "source": [
    "a_df.rename(columns={'dc:title': 'titles'}, inplace=True)"
   ]
  },
  {
   "cell_type": "code",
   "execution_count": 40,
   "metadata": {},
   "outputs": [],
   "source": [
    "pairs_dict = pd.Series(empty_df.titles.values,index=a_df.DOI).to_dict()"
   ]
  },
  {
   "cell_type": "code",
   "execution_count": 41,
   "metadata": {},
   "outputs": [],
   "source": [
    "also_pairs_dict = pd.Series(empty_df.keywords.values,index=a_df.DOI).to_dict()"
   ]
  },
  {
   "cell_type": "code",
   "execution_count": null,
   "metadata": {},
   "outputs": [],
   "source": []
  },
  {
   "cell_type": "code",
   "execution_count": null,
   "metadata": {},
   "outputs": [],
   "source": []
  },
  {
   "cell_type": "code",
   "execution_count": 42,
   "metadata": {},
   "outputs": [],
   "source": [
    "keywords_data = pd.read_csv(\"C:/Users/abbyk/Downloads/keys.csv\")"
   ]
  },
  {
   "cell_type": "code",
   "execution_count": 43,
   "metadata": {},
   "outputs": [],
   "source": [
    "kw_list = []\n",
    "\n",
    "for i in keywords_data[\"Word\"]:\n",
    "    kw_list.append(i)"
   ]
  },
  {
   "cell_type": "code",
   "execution_count": 44,
   "metadata": {},
   "outputs": [
    {
     "name": "stdout",
     "output_type": "stream",
     "text": [
      "['Argentinian Americans', 'Belizean Americans', 'Chicano Americans', 'Latino Americans', 'Latine', 'Bolivian Americans', 'Boricuas', 'Brazilian Americans', 'Chilean Americans', 'Colombian Americans', 'Costa Rican Americans', 'Costarisences', 'Cuban Americans', 'Dominican Americans', 'Ecuadorian Americans', 'Afro-Hispanics', 'Afro-Latinos', 'Guatemalan Americans', 'Hispanic Americans', 'Hispanos', 'Honduran Americans', 'Mejicano', 'Mexican Americans', 'Nicaraguan Americans', 'Panamanean Americans', 'Paraguayan Americans', 'Peruvian Americans', 'Puerto Rican Americans', 'Salvadoran Americans', 'Tejano', 'Uruguayan Americans', 'Venezuelan Americans', 'Argentinians', 'Belizeans', 'Chicanos', 'Latin Americans', 'Chicanas', 'Bolivians', 'Chicanx', 'Brazilians', 'Chileans', 'Colombians', 'Costa Ricans', 'Latinos', 'Cubans', 'Dominicans', 'Ecuadorians', 'Latinas', 'Afro-Latinas', 'Guatemalans', 'Hispanics', 'Latinx', 'Hondurans', 'Mexicano', 'Mexicans', 'Nicaraguans', 'Panamaneans', 'Paraguayans', 'Peruvians', 'Puerto Ricans', 'Salvadorans', 'Texano', 'Uruguayans', 'Venezuelans', 'Argentinos', 'Belizeanos', 'Bolivianos', 'Puerto Ricans', 'Brasileños', 'Chilenos', 'Colombianos', 'Costarricences', 'Costarricences', 'Cubanos', 'Dominicanos', 'Ecuatorianos', 'Guatemaltecos', 'Mexican Americans', 'Hondureños', 'Nicaragüenses', 'Panameños', 'Paraguayos', 'Peruanos', 'Puertorriqueños', 'Salvadoreños', 'Uruguayos', 'Venezolanos', 'latinx', 'latina', 'latino', 'latine', 'hispanic', 'hispanos']\n"
     ]
    }
   ],
   "source": [
    "print(kw_list)"
   ]
  },
  {
   "cell_type": "code",
   "execution_count": 45,
   "metadata": {},
   "outputs": [],
   "source": [
    "IDs = []"
   ]
  },
  {
   "cell_type": "code",
   "execution_count": 46,
   "metadata": {},
   "outputs": [],
   "source": [
    "for key,values in pairs_dict.items():\n",
    "    for i in kw_list:\n",
    "        if i in values:\n",
    "            IDs.append(key)"
   ]
  },
  {
   "cell_type": "code",
   "execution_count": 47,
   "metadata": {},
   "outputs": [
    {
     "name": "stdout",
     "output_type": "stream",
     "text": [
      "['10.1300/J111v11n03_19', '10.7764/cdi.44.1450', '10.1016/j.lisr.2010.05.001']\n"
     ]
    }
   ],
   "source": [
    "print(IDs)"
   ]
  },
  {
   "cell_type": "code",
   "execution_count": 48,
   "metadata": {},
   "outputs": [
    {
     "name": "stdout",
     "output_type": "stream",
     "text": [
      "Library school education in retrospect: One latino graduate’s view\n",
      "latino\n",
      "10.1300/J111v11n03_19\n",
      "From digital cinema to cloud computing in the film consumption of young Ecuadorians\n",
      "Ecuadorians\n",
      "10.7764/cdi.44.1450\n",
      "Information behaviors of Latinos attending high school in East Los Angeles\n",
      "Latinos\n",
      "10.1016/j.lisr.2010.05.001\n"
     ]
    }
   ],
   "source": [
    "for key,values in pairs_dict.items():\n",
    "    for i in kw_list:\n",
    "        if i in values:\n",
    "            print(values)\n",
    "            print(i)\n",
    "            print(key)"
   ]
  },
  {
   "cell_type": "code",
   "execution_count": 20,
   "metadata": {},
   "outputs": [],
   "source": [
    "just_ID = {x.replace('SCOPUS_ID:', '') for x in IDs}"
   ]
  },
  {
   "cell_type": "code",
   "execution_count": 21,
   "metadata": {},
   "outputs": [
    {
     "name": "stdout",
     "output_type": "stream",
     "text": [
      "{'10.1300/J115v21n01_03', '10.1016/s0187-358x(14)70913-x', '10.1080/10810730.2011.585695', '10.1080/10810730.2015.1018596', '10.1080/10810730.2012.727962', '10.1080/10810730.2012.688248', '10.1080/10810730.2020.1833385', '10.1080/10810730.2016.1242670', '10.5195/biblios.2016.290', '10.1080/10810730903460526', '10.1590/S1413-99362010000300008', '10.22381/KC6220189', '10.1080/10810730.2013.811325', '10.1080/10810730.2010.522697', '10.1080/10810730.2011.561910', '10.3163/1536-5050.96.2.101', '10.1080/10810730903089606', '10.1080/10810730701807142', '10.1080/10810730.2012.712621', '10.22201/iibi.24488321xe.2020.85.58234', '10.1080/10810730.2021.1927258', '10.5195/jmla.2021.1295', '10.14195/2182-7974_34_1_3', '10.1080/10810730903032952', '10.1080/10810730.2016.1240266', '10.15388/KNYGOTYRA.2021.77.88', '10.1080/10810730.2011.635767', '10.1080/10810730.2010.546483', '10.1080/108107399127075', '10.1080/10810730701438690', '10.1080/10810730600934542', '10.3163/1536-5050.97.2.008', '10.1080/10810731003753133', '10.1080/10810730.2013.829135', '10.1080/10810730.2010.529492', '10.1080/10810730.2016.1275890', '10.1080/10810730.2013.778362', '10.1590/1981-5344/4343', '10.1177/0894439313497469', '10.1016/j.ibbai.2016.10.021', '10.1080/10810730.2011.635766', '10.1080/10810730.2015.1131777', '10.1080/10810730.2013.768723', '10.1080/10810730.2018.1500661', '10.1590/1981-5344/3900'}\n"
     ]
    }
   ],
   "source": [
    "print(just_ID)"
   ]
  },
  {
   "cell_type": "code",
   "execution_count": 51,
   "metadata": {},
   "outputs": [],
   "source": [
    "key_IDS = []\n",
    "\n",
    "for key,values in also_pairs_dict.items():\n",
    "    for i in kw_list:\n",
    "        for value in values:\n",
    "            if i in value:\n",
    "                key_IDS.append(key)"
   ]
  },
  {
   "cell_type": "code",
   "execution_count": 52,
   "metadata": {},
   "outputs": [
    {
     "name": "stdout",
     "output_type": "stream",
     "text": [
      "[]\n"
     ]
    }
   ],
   "source": [
    "print(key_IDS)"
   ]
  },
  {
   "cell_type": "code",
   "execution_count": 25,
   "metadata": {},
   "outputs": [],
   "source": [
    "full_DOI_list = key_IDS + IDs"
   ]
  },
  {
   "cell_type": "code",
   "execution_count": 26,
   "metadata": {},
   "outputs": [
    {
     "name": "stdout",
     "output_type": "stream",
     "text": [
      "['10.1300/J111v11n03_19', '10.7764/cdi.44.1450', '10.1016/j.lisr.2010.05.001']\n"
     ]
    }
   ],
   "source": [
    "print(full_DOI_list)"
   ]
  },
  {
   "cell_type": "code",
   "execution_count": null,
   "metadata": {},
   "outputs": [],
   "source": []
  }
 ],
 "metadata": {
  "kernelspec": {
   "display_name": "Python 3",
   "language": "python",
   "name": "python3"
  },
  "language_info": {
   "codemirror_mode": {
    "name": "ipython",
    "version": 3
   },
   "file_extension": ".py",
   "mimetype": "text/x-python",
   "name": "python",
   "nbconvert_exporter": "python",
   "pygments_lexer": "ipython3",
   "version": "3.7.4"
  }
 },
 "nbformat": 4,
 "nbformat_minor": 2
}
