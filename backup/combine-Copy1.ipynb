{
 "cells": [
  {
   "cell_type": "code",
   "execution_count": 39,
   "metadata": {},
   "outputs": [],
   "source": [
    "import json\n",
    "import glob\n",
    "from pandas.io.json import json_normalize as pdjsn"
   ]
  },
  {
   "cell_type": "code",
   "execution_count": 8,
   "metadata": {},
   "outputs": [],
   "source": [
    "file_path = \"C:/Users/abbyk/Untitled Folder/LatinxMeta/outputs/*/*\""
   ]
  },
  {
   "cell_type": "code",
   "execution_count": 10,
   "metadata": {},
   "outputs": [],
   "source": [
    "all_outputs = glob.glob(file_path)\n",
    "empty = []\n",
    "\n",
    "for i in all_outputs:\n",
    "    with open(i, \"rb\") as infile:\n",
    "        empty.append(json.load(infile))"
   ]
  },
  {
   "cell_type": "code",
   "execution_count": 20,
   "metadata": {},
   "outputs": [],
   "source": [
    "def merge_JsonFiles(filename):\n",
    "    result = list()\n",
    "    for f1 in filename:\n",
    "        with open(f1, 'r') as infile:\n",
    "            result.append(json.load(infile))\n",
    "    with open('merged_L_meta.json', 'w') as out:\n",
    "        json.dump(result, out)"
   ]
  },
  {
   "cell_type": "code",
   "execution_count": 21,
   "metadata": {},
   "outputs": [],
   "source": [
    "merge_JsonFiles(all_outputs)"
   ]
  },
  {
   "cell_type": "code",
   "execution_count": 22,
   "metadata": {},
   "outputs": [],
   "source": [
    "empty3 = []\n",
    "for i in all_outputs:\n",
    "    names = \"df\" + str(i) + \"_new\"\n",
    "    empty3.append(names)"
   ]
  },
  {
   "cell_type": "code",
   "execution_count": 46,
   "metadata": {},
   "outputs": [],
   "source": [
    "def convert(filename):\n",
    "    with open(filename, 'r') as file_text:\n",
    "        output = json.loads(file_text.read())\n",
    "        \n",
    "    output2 = pdjsn(output, record_path = ['search-results'])\n",
    "    print(output2)\n",
    "        \n",
    "        \n",
    "    "
   ]
  },
  {
   "cell_type": "code",
   "execution_count": 27,
   "metadata": {},
   "outputs": [],
   "source": [
    "data = pd.read_json(\"C:/Users/abbyk/Untitled Folder/LatinxMeta/outputs/1574020X/1574020X_1997.json\")"
   ]
  },
  {
   "cell_type": "code",
   "execution_count": 28,
   "metadata": {},
   "outputs": [
    {
     "name": "stdout",
     "output_type": "stream",
     "text": [
      "                                                            search-results\n",
      "entry                    [{'@_fa': 'true', 'prism:url': 'https://api.el...\n",
      "link                     [{'@_fa': 'true', '@ref': 'self', '@href': 'ht...\n",
      "opensearch:Query         {'@role': 'request', '@searchTerms': 'issn(157...\n",
      "opensearch:itemsPerPage                                                 20\n",
      "opensearch:startIndex                                                    0\n",
      "opensearch:totalResults                                                 20\n"
     ]
    }
   ],
   "source": [
    "print(data)"
   ]
  },
  {
   "cell_type": "code",
   "execution_count": 47,
   "metadata": {},
   "outputs": [
    {
     "name": "stdout",
     "output_type": "stream",
     "text": [
      "                         0\n",
      "0  opensearch:totalResults\n",
      "1    opensearch:startIndex\n",
      "2  opensearch:itemsPerPage\n",
      "3         opensearch:Query\n",
      "4                     link\n",
      "5                    entry\n"
     ]
    }
   ],
   "source": [
    "convert(\"C:/Users/abbyk/Untitled Folder/LatinxMeta/outputs/1574020X/1574020X_1997.json\")"
   ]
  },
  {
   "cell_type": "code",
   "execution_count": 48,
   "metadata": {},
   "outputs": [],
   "source": [
    "new_file_path = \"C:/Users/abbyk/Untitled Folder/LatinxMeta/outputs2/*/*\""
   ]
  },
  {
   "cell_type": "code",
   "execution_count": 49,
   "metadata": {},
   "outputs": [],
   "source": [
    "test1 = glob.glob(new_file_path)"
   ]
  },
  {
   "cell_type": "code",
   "execution_count": 52,
   "metadata": {},
   "outputs": [
    {
     "name": "stdout",
     "output_type": "stream",
     "text": [
      "['C:/Users/abbyk/Untitled Folder/LatinxMeta/outputs2\\\\13862316\\\\13862316_2018.json', 'C:/Users/abbyk/Untitled Folder/LatinxMeta/outputs2\\\\19384122\\\\19384122_2018.json']\n"
     ]
    }
   ],
   "source": [
    "print(test1)\n",
    "\n",
    "import pandas as pd"
   ]
  },
  {
   "cell_type": "code",
   "execution_count": 53,
   "metadata": {},
   "outputs": [
    {
     "name": "stdout",
     "output_type": "stream",
     "text": [
      "                                                            search-results\n",
      "entry                    [{'@_fa': 'true', 'prism:url': 'https://api.el...\n",
      "link                     [{'@_fa': 'true', '@ref': 'self', '@href': 'ht...\n",
      "opensearch:Query         {'@role': 'request', '@searchTerms': 'issn(138...\n",
      "opensearch:itemsPerPage                                                 16\n",
      "opensearch:startIndex                                                    0\n",
      "opensearch:totalResults                                                 16\n"
     ]
    }
   ],
   "source": [
    "print(pd.read_json('C:/Users/abbyk/Untitled Folder/LatinxMeta/outputs2/13862316/13862316_2018.json'))"
   ]
  },
  {
   "cell_type": "code",
   "execution_count": 81,
   "metadata": {},
   "outputs": [],
   "source": [
    "def showme(filename):\n",
    "    with open(filename, 'r') as file_text:\n",
    "        output = json.load(file_text)\n",
    "        \n",
    "    results = output.json()\n",
    "        \n",
    "    return [[str(r['dc:identifier']) + \",\" + str(r['affiliation']['affiliation-country'])] for r in results['search-results'][\"entry\"]]"
   ]
  },
  {
   "cell_type": "code",
   "execution_count": 82,
   "metadata": {},
   "outputs": [],
   "source": [
    "test_file_name = 'C:/Users/abbyk/Untitled Folder/LatinxMeta/outputs2/13862316/13862316_2018.json'"
   ]
  },
  {
   "cell_type": "code",
   "execution_count": 83,
   "metadata": {},
   "outputs": [
    {
     "ename": "AttributeError",
     "evalue": "'dict' object has no attribute 'json'",
     "output_type": "error",
     "traceback": [
      "\u001b[1;31m---------------------------------------------------------------------------\u001b[0m",
      "\u001b[1;31mAttributeError\u001b[0m                            Traceback (most recent call last)",
      "\u001b[1;32m<ipython-input-83-1356370ac205>\u001b[0m in \u001b[0;36m<module>\u001b[1;34m\u001b[0m\n\u001b[1;32m----> 1\u001b[1;33m \u001b[0mshowme\u001b[0m\u001b[1;33m(\u001b[0m\u001b[0mtest_file_name\u001b[0m\u001b[1;33m)\u001b[0m\u001b[1;33m\u001b[0m\u001b[1;33m\u001b[0m\u001b[0m\n\u001b[0m",
      "\u001b[1;32m<ipython-input-81-0fbdf34e62d7>\u001b[0m in \u001b[0;36mshowme\u001b[1;34m(filename)\u001b[0m\n\u001b[0;32m      3\u001b[0m         \u001b[0moutput\u001b[0m \u001b[1;33m=\u001b[0m \u001b[0mjson\u001b[0m\u001b[1;33m.\u001b[0m\u001b[0mload\u001b[0m\u001b[1;33m(\u001b[0m\u001b[0mfile_text\u001b[0m\u001b[1;33m)\u001b[0m\u001b[1;33m\u001b[0m\u001b[1;33m\u001b[0m\u001b[0m\n\u001b[0;32m      4\u001b[0m \u001b[1;33m\u001b[0m\u001b[0m\n\u001b[1;32m----> 5\u001b[1;33m     \u001b[0mresults\u001b[0m \u001b[1;33m=\u001b[0m \u001b[0moutput\u001b[0m\u001b[1;33m.\u001b[0m\u001b[0mjson\u001b[0m\u001b[1;33m(\u001b[0m\u001b[1;33m)\u001b[0m\u001b[1;33m\u001b[0m\u001b[1;33m\u001b[0m\u001b[0m\n\u001b[0m\u001b[0;32m      6\u001b[0m \u001b[1;33m\u001b[0m\u001b[0m\n\u001b[0;32m      7\u001b[0m     \u001b[1;32mreturn\u001b[0m \u001b[1;33m[\u001b[0m\u001b[1;33m[\u001b[0m\u001b[0mstr\u001b[0m\u001b[1;33m(\u001b[0m\u001b[0mr\u001b[0m\u001b[1;33m[\u001b[0m\u001b[1;34m'dc:identifier'\u001b[0m\u001b[1;33m]\u001b[0m\u001b[1;33m)\u001b[0m \u001b[1;33m+\u001b[0m \u001b[1;34m\",\"\u001b[0m \u001b[1;33m+\u001b[0m \u001b[0mstr\u001b[0m\u001b[1;33m(\u001b[0m\u001b[0mr\u001b[0m\u001b[1;33m[\u001b[0m\u001b[1;34m'affiliation'\u001b[0m\u001b[1;33m]\u001b[0m\u001b[1;33m[\u001b[0m\u001b[1;34m'affiliation-country'\u001b[0m\u001b[1;33m]\u001b[0m\u001b[1;33m)\u001b[0m\u001b[1;33m]\u001b[0m \u001b[1;32mfor\u001b[0m \u001b[0mr\u001b[0m \u001b[1;32min\u001b[0m \u001b[0mresults\u001b[0m\u001b[1;33m[\u001b[0m\u001b[1;34m'search-results'\u001b[0m\u001b[1;33m]\u001b[0m\u001b[1;33m[\u001b[0m\u001b[1;34m\"entry\"\u001b[0m\u001b[1;33m]\u001b[0m\u001b[1;33m]\u001b[0m\u001b[1;33m\u001b[0m\u001b[1;33m\u001b[0m\u001b[0m\n",
      "\u001b[1;31mAttributeError\u001b[0m: 'dict' object has no attribute 'json'"
     ]
    }
   ],
   "source": [
    "showme(test_file_name)"
   ]
  },
  {
   "cell_type": "code",
   "execution_count": 84,
   "metadata": {},
   "outputs": [],
   "source": [
    "#load json as dictionary\n",
    "#create sub-dictionaries\n",
    "#add those to a master list\n",
    "#combine those items"
   ]
  },
  {
   "cell_type": "code",
   "execution_count": 87,
   "metadata": {},
   "outputs": [],
   "source": [
    "file_path = \"C:/Users/abbyk/Untitled Folder/LatinxMeta/outputs2/*/*\""
   ]
  },
  {
   "cell_type": "code",
   "execution_count": 88,
   "metadata": {},
   "outputs": [],
   "source": [
    "raw_outputs = glob.glob(file_path)\n",
    "empty = []\n",
    "\n",
    "for i in raw_outputs:\n",
    "    with open(i, \"rb\") as diction1:\n",
    "        empty.append(json.load(diction1))"
   ]
  },
  {
   "cell_type": "code",
   "execution_count": 89,
   "metadata": {},
   "outputs": [
    {
     "name": "stdout",
     "output_type": "stream",
     "text": [
      "[{'search-results': {'opensearch:totalResults': '16', 'opensearch:startIndex': '0', 'opensearch:itemsPerPage': '16', 'opensearch:Query': {'@role': 'request', '@searchTerms': 'issn(13862316)', '@startPage': '0'}, 'link': [{'@_fa': 'true', '@ref': 'self', '@href': 'https://api.elsevier.com/content/search/scopus?start=0&count=200&query=issn%2813862316%29&date=2018&httpAccept=application/json&apiKey=ad4e12568b69167a2d25213b52923901&insttoken=0363e8707601cf3e7f27138d2b25f9e4', '@type': 'application/json'}, {'@_fa': 'true', '@ref': 'first', '@href': 'https://api.elsevier.com/content/search/scopus?start=0&count=200&query=issn%2813862316%29&date=2018&httpAccept=application/json&apiKey=ad4e12568b69167a2d25213b52923901&insttoken=0363e8707601cf3e7f27138d2b25f9e4', '@type': 'application/json'}], 'entry': [{'@_fa': 'true', 'prism:url': 'https://api.elsevier.com/content/abstract/scopus_id/85045478933', 'dc:identifier': 'SCOPUS_ID:85045478933', 'affiliation': [{'@_fa': 'true', 'affiliation-country': 'Russian Federation'}]}, {'@_fa': 'true', 'prism:url': 'https://api.elsevier.com/content/abstract/scopus_id/85045474544', 'dc:identifier': 'SCOPUS_ID:85045474544', 'affiliation': [{'@_fa': 'true', 'affiliation-country': 'United States'}]}, {'@_fa': 'true', 'prism:url': 'https://api.elsevier.com/content/abstract/scopus_id/85045472023', 'dc:identifier': 'SCOPUS_ID:85045472023'}, {'@_fa': 'true', 'prism:url': 'https://api.elsevier.com/content/abstract/scopus_id/85045465039', 'dc:identifier': 'SCOPUS_ID:85045465039', 'affiliation': [{'@_fa': 'true', 'affiliation-country': 'Italy'}]}, {'@_fa': 'true', 'prism:url': 'https://api.elsevier.com/content/abstract/scopus_id/85045461066', 'dc:identifier': 'SCOPUS_ID:85045461066', 'affiliation': [{'@_fa': 'true', 'affiliation-country': 'Italy'}]}, {'@_fa': 'true', 'prism:url': 'https://api.elsevier.com/content/abstract/scopus_id/85045455562', 'dc:identifier': 'SCOPUS_ID:85045455562'}, {'@_fa': 'true', 'prism:url': 'https://api.elsevier.com/content/abstract/scopus_id/85045452348', 'dc:identifier': 'SCOPUS_ID:85045452348', 'affiliation': [{'@_fa': 'true', 'affiliation-country': 'Italy'}, {'@_fa': 'true', 'affiliation-country': 'Portugal'}, {'@_fa': 'true', 'affiliation-country': 'Greece'}]}, {'@_fa': 'true', 'prism:url': 'https://api.elsevier.com/content/abstract/scopus_id/85045451367', 'dc:identifier': 'SCOPUS_ID:85045451367', 'affiliation': [{'@_fa': 'true', 'affiliation-country': 'United States'}]}, {'@_fa': 'true', 'prism:url': 'https://api.elsevier.com/content/abstract/scopus_id/85045448956', 'dc:identifier': 'SCOPUS_ID:85045448956', 'affiliation': [{'@_fa': 'true', 'affiliation-country': 'Germany'}]}, {'@_fa': 'true', 'prism:url': 'https://api.elsevier.com/content/abstract/scopus_id/85045438550', 'dc:identifier': 'SCOPUS_ID:85045438550', 'affiliation': [{'@_fa': 'true', 'affiliation-country': 'France'}]}, {'@_fa': 'true', 'prism:url': 'https://api.elsevier.com/content/abstract/scopus_id/85045432072', 'dc:identifier': 'SCOPUS_ID:85045432072', 'affiliation': [{'@_fa': 'true', 'affiliation-country': 'Czech Republic'}]}, {'@_fa': 'true', 'prism:url': 'https://api.elsevier.com/content/abstract/scopus_id/85045428552', 'dc:identifier': 'SCOPUS_ID:85045428552', 'affiliation': [{'@_fa': 'true', 'affiliation-country': 'Italy'}]}, {'@_fa': 'true', 'prism:url': 'https://api.elsevier.com/content/abstract/scopus_id/85045427810', 'dc:identifier': 'SCOPUS_ID:85045427810', 'affiliation': [{'@_fa': 'true', 'affiliation-country': 'United States'}, {'@_fa': 'true', 'affiliation-country': 'Netherlands'}, {'@_fa': 'true', 'affiliation-country': 'Netherlands'}]}, {'@_fa': 'true', 'prism:url': 'https://api.elsevier.com/content/abstract/scopus_id/85045422551', 'dc:identifier': 'SCOPUS_ID:85045422551', 'affiliation': [{'@_fa': 'true', 'affiliation-country': 'Belgium'}, {'@_fa': 'true', 'affiliation-country': 'Belgium'}, {'@_fa': 'true', 'affiliation-country': 'France'}, {'@_fa': 'true', 'affiliation-country': 'United States'}, {'@_fa': 'true', 'affiliation-country': 'Italy'}, {'@_fa': 'true', 'affiliation-country': 'Belgium'}]}, {'@_fa': 'true', 'prism:url': 'https://api.elsevier.com/content/abstract/scopus_id/85045420885', 'dc:identifier': 'SCOPUS_ID:85045420885', 'affiliation': [{'@_fa': 'true', 'affiliation-country': 'Germany'}]}, {'@_fa': 'true', 'prism:url': 'https://api.elsevier.com/content/abstract/scopus_id/85045419803', 'dc:identifier': 'SCOPUS_ID:85045419803', 'affiliation': [{'@_fa': 'true', 'affiliation-country': 'Italy'}, {'@_fa': 'true', 'affiliation-country': 'France'}]}]}}, {'search-results': {'opensearch:totalResults': '40', 'opensearch:startIndex': '0', 'opensearch:itemsPerPage': '40', 'opensearch:Query': {'@role': 'request', '@searchTerms': 'issn(19384122)', '@startPage': '0'}, 'link': [{'@_fa': 'true', '@ref': 'self', '@href': 'https://api.elsevier.com/content/search/scopus?start=0&count=200&query=issn%2819384122%29&date=2018&httpAccept=application/json&apiKey=ad4e12568b69167a2d25213b52923901&insttoken=0363e8707601cf3e7f27138d2b25f9e4', '@type': 'application/json'}, {'@_fa': 'true', '@ref': 'first', '@href': 'https://api.elsevier.com/content/search/scopus?start=0&count=200&query=issn%2819384122%29&date=2018&httpAccept=application/json&apiKey=ad4e12568b69167a2d25213b52923901&insttoken=0363e8707601cf3e7f27138d2b25f9e4', '@type': 'application/json'}], 'entry': [{'@_fa': 'true', 'prism:url': 'https://api.elsevier.com/content/abstract/scopus_id/85063806160', 'dc:identifier': 'SCOPUS_ID:85063806160', 'affiliation': [{'@_fa': 'true', 'affiliation-country': 'Canada'}, {'@_fa': 'true', 'affiliation-country': 'France'}, {'@_fa': 'true', 'affiliation-country': 'France'}, {'@_fa': 'true', 'affiliation-country': 'Switzerland'}]}, {'@_fa': 'true', 'prism:url': 'https://api.elsevier.com/content/abstract/scopus_id/85061405317', 'dc:identifier': 'SCOPUS_ID:85061405317', 'affiliation': [{'@_fa': 'true', 'affiliation-country': 'United States'}]}, {'@_fa': 'true', 'prism:url': 'https://api.elsevier.com/content/abstract/scopus_id/85061404717', 'dc:identifier': 'SCOPUS_ID:85061404717', 'affiliation': [{'@_fa': 'true', 'affiliation-country': 'Spain'}]}, {'@_fa': 'true', 'prism:url': 'https://api.elsevier.com/content/abstract/scopus_id/85061404258', 'dc:identifier': 'SCOPUS_ID:85061404258', 'affiliation': [{'@_fa': 'true', 'affiliation-country': 'United States'}, {'@_fa': 'true', 'affiliation-country': 'United States'}, {'@_fa': 'true', 'affiliation-country': None}]}, {'@_fa': 'true', 'prism:url': 'https://api.elsevier.com/content/abstract/scopus_id/85061404016', 'dc:identifier': 'SCOPUS_ID:85061404016', 'affiliation': [{'@_fa': 'true', 'affiliation-country': 'Sweden'}]}, {'@_fa': 'true', 'prism:url': 'https://api.elsevier.com/content/abstract/scopus_id/85061396231', 'dc:identifier': 'SCOPUS_ID:85061396231', 'affiliation': [{'@_fa': 'true', 'affiliation-country': 'United Kingdom'}]}, {'@_fa': 'true', 'prism:url': 'https://api.elsevier.com/content/abstract/scopus_id/85061395739', 'dc:identifier': 'SCOPUS_ID:85061395739', 'affiliation': [{'@_fa': 'true', 'affiliation-country': 'Canada'}, {'@_fa': 'true', 'affiliation-country': 'United States'}]}, {'@_fa': 'true', 'prism:url': 'https://api.elsevier.com/content/abstract/scopus_id/85061386654', 'dc:identifier': 'SCOPUS_ID:85061386654', 'affiliation': [{'@_fa': 'true', 'affiliation-country': 'Switzerland'}, {'@_fa': 'true', 'affiliation-country': 'Switzerland'}, {'@_fa': 'true', 'affiliation-country': 'Switzerland'}]}, {'@_fa': 'true', 'prism:url': 'https://api.elsevier.com/content/abstract/scopus_id/85061385584', 'dc:identifier': 'SCOPUS_ID:85061385584', 'affiliation': [{'@_fa': 'true', 'affiliation-country': 'France'}]}, {'@_fa': 'true', 'prism:url': 'https://api.elsevier.com/content/abstract/scopus_id/85061384214', 'dc:identifier': 'SCOPUS_ID:85061384214', 'affiliation': [{'@_fa': 'true', 'affiliation-country': 'United Arab Emirates'}, {'@_fa': 'true', 'affiliation-country': 'France'}]}, {'@_fa': 'true', 'prism:url': 'https://api.elsevier.com/content/abstract/scopus_id/85061384125', 'dc:identifier': 'SCOPUS_ID:85061384125', 'affiliation': [{'@_fa': 'true', 'affiliation-country': 'Australia'}, {'@_fa': 'true', 'affiliation-country': 'Australia'}]}, {'@_fa': 'true', 'prism:url': 'https://api.elsevier.com/content/abstract/scopus_id/85061382198', 'dc:identifier': 'SCOPUS_ID:85061382198', 'affiliation': [{'@_fa': 'true', 'affiliation-country': 'United States'}]}, {'@_fa': 'true', 'prism:url': 'https://api.elsevier.com/content/abstract/scopus_id/85061380481', 'dc:identifier': 'SCOPUS_ID:85061380481', 'affiliation': [{'@_fa': 'true', 'affiliation-country': 'Mexico'}, {'@_fa': 'true', 'affiliation-country': 'Spain'}]}, {'@_fa': 'true', 'prism:url': 'https://api.elsevier.com/content/abstract/scopus_id/85061377903', 'dc:identifier': 'SCOPUS_ID:85061377903', 'affiliation': [{'@_fa': 'true', 'affiliation-country': 'Spain'}, {'@_fa': 'true', 'affiliation-country': 'Germany'}]}, {'@_fa': 'true', 'prism:url': 'https://api.elsevier.com/content/abstract/scopus_id/85061377552', 'dc:identifier': 'SCOPUS_ID:85061377552', 'affiliation': [{'@_fa': 'true', 'affiliation-country': 'Canada'}]}, {'@_fa': 'true', 'prism:url': 'https://api.elsevier.com/content/abstract/scopus_id/85061376721', 'dc:identifier': 'SCOPUS_ID:85061376721', 'affiliation': [{'@_fa': 'true', 'affiliation-country': 'United States'}]}, {'@_fa': 'true', 'prism:url': 'https://api.elsevier.com/content/abstract/scopus_id/85061374595', 'dc:identifier': 'SCOPUS_ID:85061374595', 'affiliation': [{'@_fa': 'true', 'affiliation-country': 'United States'}]}, {'@_fa': 'true', 'prism:url': 'https://api.elsevier.com/content/abstract/scopus_id/85061374112', 'dc:identifier': 'SCOPUS_ID:85061374112', 'affiliation': [{'@_fa': 'true', 'affiliation-country': 'United Kingdom'}]}, {'@_fa': 'true', 'prism:url': 'https://api.elsevier.com/content/abstract/scopus_id/85061372680', 'dc:identifier': 'SCOPUS_ID:85061372680', 'affiliation': [{'@_fa': 'true', 'affiliation-country': 'United States'}]}, {'@_fa': 'true', 'prism:url': 'https://api.elsevier.com/content/abstract/scopus_id/85061372279', 'dc:identifier': 'SCOPUS_ID:85061372279', 'affiliation': [{'@_fa': 'true', 'affiliation-country': 'France'}]}, {'@_fa': 'true', 'prism:url': 'https://api.elsevier.com/content/abstract/scopus_id/85061371412', 'dc:identifier': 'SCOPUS_ID:85061371412', 'affiliation': [{'@_fa': 'true', 'affiliation-country': 'Australia'}]}, {'@_fa': 'true', 'prism:url': 'https://api.elsevier.com/content/abstract/scopus_id/85061369227', 'dc:identifier': 'SCOPUS_ID:85061369227', 'affiliation': [{'@_fa': 'true', 'affiliation-country': 'Ireland'}]}, {'@_fa': 'true', 'prism:url': 'https://api.elsevier.com/content/abstract/scopus_id/85061366976', 'dc:identifier': 'SCOPUS_ID:85061366976', 'affiliation': [{'@_fa': 'true', 'affiliation-country': 'Canada'}]}, {'@_fa': 'true', 'prism:url': 'https://api.elsevier.com/content/abstract/scopus_id/85061365952', 'dc:identifier': 'SCOPUS_ID:85061365952', 'affiliation': [{'@_fa': 'true', 'affiliation-country': 'United States'}, {'@_fa': 'true', 'affiliation-country': 'United States'}]}, {'@_fa': 'true', 'prism:url': 'https://api.elsevier.com/content/abstract/scopus_id/85061363523', 'dc:identifier': 'SCOPUS_ID:85061363523', 'affiliation': [{'@_fa': 'true', 'affiliation-country': 'United States'}]}, {'@_fa': 'true', 'prism:url': 'https://api.elsevier.com/content/abstract/scopus_id/85061363174', 'dc:identifier': 'SCOPUS_ID:85061363174', 'affiliation': [{'@_fa': 'true', 'affiliation-country': 'United States'}]}, {'@_fa': 'true', 'prism:url': 'https://api.elsevier.com/content/abstract/scopus_id/85061361492', 'dc:identifier': 'SCOPUS_ID:85061361492', 'affiliation': [{'@_fa': 'true', 'affiliation-country': 'United States'}]}, {'@_fa': 'true', 'prism:url': 'https://api.elsevier.com/content/abstract/scopus_id/85061361215', 'dc:identifier': 'SCOPUS_ID:85061361215', 'affiliation': [{'@_fa': 'true', 'affiliation-country': 'United States'}, {'@_fa': 'true', 'affiliation-country': 'Taiwan'}]}, {'@_fa': 'true', 'prism:url': 'https://api.elsevier.com/content/abstract/scopus_id/85061359714', 'dc:identifier': 'SCOPUS_ID:85061359714', 'affiliation': [{'@_fa': 'true', 'affiliation-country': 'Mexico'}]}, {'@_fa': 'true', 'prism:url': 'https://api.elsevier.com/content/abstract/scopus_id/85061357310', 'dc:identifier': 'SCOPUS_ID:85061357310', 'affiliation': [{'@_fa': 'true', 'affiliation-country': 'France'}, {'@_fa': 'true', 'affiliation-country': 'France'}, {'@_fa': 'true', 'affiliation-country': 'France'}]}, {'@_fa': 'true', 'prism:url': 'https://api.elsevier.com/content/abstract/scopus_id/85061356347', 'dc:identifier': 'SCOPUS_ID:85061356347', 'affiliation': [{'@_fa': 'true', 'affiliation-country': 'United Kingdom'}]}, {'@_fa': 'true', 'prism:url': 'https://api.elsevier.com/content/abstract/scopus_id/85061356324', 'dc:identifier': 'SCOPUS_ID:85061356324', 'affiliation': [{'@_fa': 'true', 'affiliation-country': 'France'}, {'@_fa': 'true', 'affiliation-country': 'France'}]}, {'@_fa': 'true', 'prism:url': 'https://api.elsevier.com/content/abstract/scopus_id/85061351073', 'dc:identifier': 'SCOPUS_ID:85061351073', 'affiliation': [{'@_fa': 'true', 'affiliation-country': 'United Kingdom'}, {'@_fa': 'true', 'affiliation-country': 'Sweden'}]}, {'@_fa': 'true', 'prism:url': 'https://api.elsevier.com/content/abstract/scopus_id/85061351027', 'dc:identifier': 'SCOPUS_ID:85061351027', 'affiliation': [{'@_fa': 'true', 'affiliation-country': 'United States'}]}, {'@_fa': 'true', 'prism:url': 'https://api.elsevier.com/content/abstract/scopus_id/85061350609', 'dc:identifier': 'SCOPUS_ID:85061350609', 'affiliation': [{'@_fa': 'true', 'affiliation-country': 'United States'}]}, {'@_fa': 'true', 'prism:url': 'https://api.elsevier.com/content/abstract/scopus_id/85061349829', 'dc:identifier': 'SCOPUS_ID:85061349829', 'affiliation': [{'@_fa': 'true', 'affiliation-country': 'United States'}]}, {'@_fa': 'true', 'prism:url': 'https://api.elsevier.com/content/abstract/scopus_id/85061349083', 'dc:identifier': 'SCOPUS_ID:85061349083', 'affiliation': [{'@_fa': 'true', 'affiliation-country': 'France'}]}, {'@_fa': 'true', 'prism:url': 'https://api.elsevier.com/content/abstract/scopus_id/85061348489', 'dc:identifier': 'SCOPUS_ID:85061348489', 'affiliation': [{'@_fa': 'true', 'affiliation-country': 'France'}]}, {'@_fa': 'true', 'prism:url': 'https://api.elsevier.com/content/abstract/scopus_id/85061347035', 'dc:identifier': 'SCOPUS_ID:85061347035', 'affiliation': [{'@_fa': 'true', 'affiliation-country': 'United Kingdom'}, {'@_fa': 'true', 'affiliation-country': 'France'}]}, {'@_fa': 'true', 'prism:url': 'https://api.elsevier.com/content/abstract/scopus_id/85060876146', 'dc:identifier': 'SCOPUS_ID:85060876146', 'affiliation': [{'@_fa': 'true', 'affiliation-country': 'United Kingdom'}]}]}}]\n"
     ]
    }
   ],
   "source": [
    "print(empty)"
   ]
  },
  {
   "cell_type": "code",
   "execution_count": 92,
   "metadata": {},
   "outputs": [],
   "source": [
    "value_list = []\n",
    "\n",
    "for i in empty:\n",
    "    for key, value in i.items():\n",
    "        value_list.append(value)"
   ]
  },
  {
   "cell_type": "code",
   "execution_count": 95,
   "metadata": {},
   "outputs": [],
   "source": [
    "dictions2 = []\n",
    "\n",
    "for i in value_list:\n",
    "    for key, value in i.items():\n",
    "        if key == \"entry\":\n",
    "            dictions2.append(value)"
   ]
  },
  {
   "cell_type": "code",
   "execution_count": 98,
   "metadata": {},
   "outputs": [],
   "source": [
    "for i in dictions2:\n",
    "    with open('merged_meta_test.json', 'w') as out:\n",
    "        json.dump(i, out)"
   ]
  },
  {
   "cell_type": "code",
   "execution_count": null,
   "metadata": {},
   "outputs": [],
   "source": [
    "file_path = \"C:/Users/abbyk/Untitled Folder/LatinxMeta/outputs2/*/*\""
   ]
  },
  {
   "cell_type": "markdown",
   "metadata": {},
   "source": []
  }
 ],
 "metadata": {
  "kernelspec": {
   "display_name": "Python 3",
   "language": "python",
   "name": "python3"
  },
  "language_info": {
   "codemirror_mode": {
    "name": "ipython",
    "version": 3
   },
   "file_extension": ".py",
   "mimetype": "text/x-python",
   "name": "python",
   "nbconvert_exporter": "python",
   "pygments_lexer": "ipython3",
   "version": "3.7.4"
  }
 },
 "nbformat": 4,
 "nbformat_minor": 2
}
